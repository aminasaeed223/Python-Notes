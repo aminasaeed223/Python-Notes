{
  "nbformat": 4,
  "nbformat_minor": 0,
  "metadata": {
    "colab": {
      "provenance": [],
      "toc_visible": true,
      "include_colab_link": true
    },
    "kernelspec": {
      "display_name": "Python 3",
      "name": "python3"
    },
    "language_info": {
      "name": "python"
    },
    "widgets": {
      "application/vnd.jupyter.widget-state+json": {
        "736d961677af48459236cfc4a27c47e5": {
          "model_module": "@jupyter-widgets/controls",
          "model_name": "HBoxModel",
          "model_module_version": "1.5.0",
          "state": {
            "_dom_classes": [],
            "_model_module": "@jupyter-widgets/controls",
            "_model_module_version": "1.5.0",
            "_model_name": "HBoxModel",
            "_view_count": null,
            "_view_module": "@jupyter-widgets/controls",
            "_view_module_version": "1.5.0",
            "_view_name": "HBoxView",
            "box_style": "",
            "children": [
              "IPY_MODEL_780a00ac92ac4efcbe5fb5c873c8eb97",
              "IPY_MODEL_ffaaac9c620d43139617b0dece1763d0",
              "IPY_MODEL_4336bf10c14d4c94a2bd5380bc4c9acc"
            ],
            "layout": "IPY_MODEL_419f396041754b18b4bf15fea8dc5d86"
          }
        },
        "780a00ac92ac4efcbe5fb5c873c8eb97": {
          "model_module": "@jupyter-widgets/controls",
          "model_name": "HTMLModel",
          "model_module_version": "1.5.0",
          "state": {
            "_dom_classes": [],
            "_model_module": "@jupyter-widgets/controls",
            "_model_module_version": "1.5.0",
            "_model_name": "HTMLModel",
            "_view_count": null,
            "_view_module": "@jupyter-widgets/controls",
            "_view_module_version": "1.5.0",
            "_view_name": "HTMLView",
            "description": "",
            "description_tooltip": null,
            "layout": "IPY_MODEL_e2f33375c26f4081adc660ddc87e0f44",
            "placeholder": "​",
            "style": "IPY_MODEL_aca67b6208af4e14920d1794218c49c2",
            "value": "Processing: 100%"
          }
        },
        "ffaaac9c620d43139617b0dece1763d0": {
          "model_module": "@jupyter-widgets/controls",
          "model_name": "FloatProgressModel",
          "model_module_version": "1.5.0",
          "state": {
            "_dom_classes": [],
            "_model_module": "@jupyter-widgets/controls",
            "_model_module_version": "1.5.0",
            "_model_name": "FloatProgressModel",
            "_view_count": null,
            "_view_module": "@jupyter-widgets/controls",
            "_view_module_version": "1.5.0",
            "_view_name": "ProgressView",
            "bar_style": "",
            "description": "",
            "description_tooltip": null,
            "layout": "IPY_MODEL_e6d92ceb3db24b3d9e08544e3b7a0110",
            "max": 69,
            "min": 0,
            "orientation": "horizontal",
            "style": "IPY_MODEL_b60cc5e2e49e449dbf67319bfddb2738",
            "value": 69
          }
        },
        "4336bf10c14d4c94a2bd5380bc4c9acc": {
          "model_module": "@jupyter-widgets/controls",
          "model_name": "HTMLModel",
          "model_module_version": "1.5.0",
          "state": {
            "_dom_classes": [],
            "_model_module": "@jupyter-widgets/controls",
            "_model_module_version": "1.5.0",
            "_model_name": "HTMLModel",
            "_view_count": null,
            "_view_module": "@jupyter-widgets/controls",
            "_view_module_version": "1.5.0",
            "_view_name": "HTMLView",
            "description": "",
            "description_tooltip": null,
            "layout": "IPY_MODEL_f48ac55177684624baeae207e1fc83c5",
            "placeholder": "​",
            "style": "IPY_MODEL_4b4a94b356d14d0384a74caf5db0f6de",
            "value": " 69/69 [00:41&lt;00:00,  1.71it/s]"
          }
        },
        "419f396041754b18b4bf15fea8dc5d86": {
          "model_module": "@jupyter-widgets/base",
          "model_name": "LayoutModel",
          "model_module_version": "1.2.0",
          "state": {
            "_model_module": "@jupyter-widgets/base",
            "_model_module_version": "1.2.0",
            "_model_name": "LayoutModel",
            "_view_count": null,
            "_view_module": "@jupyter-widgets/base",
            "_view_module_version": "1.2.0",
            "_view_name": "LayoutView",
            "align_content": null,
            "align_items": null,
            "align_self": null,
            "border": null,
            "bottom": null,
            "display": null,
            "flex": null,
            "flex_flow": null,
            "grid_area": null,
            "grid_auto_columns": null,
            "grid_auto_flow": null,
            "grid_auto_rows": null,
            "grid_column": null,
            "grid_gap": null,
            "grid_row": null,
            "grid_template_areas": null,
            "grid_template_columns": null,
            "grid_template_rows": null,
            "height": null,
            "justify_content": null,
            "justify_items": null,
            "left": null,
            "margin": null,
            "max_height": null,
            "max_width": null,
            "min_height": null,
            "min_width": null,
            "object_fit": null,
            "object_position": null,
            "order": null,
            "overflow": null,
            "overflow_x": null,
            "overflow_y": null,
            "padding": null,
            "right": null,
            "top": null,
            "visibility": "hidden",
            "width": null
          }
        },
        "e2f33375c26f4081adc660ddc87e0f44": {
          "model_module": "@jupyter-widgets/base",
          "model_name": "LayoutModel",
          "model_module_version": "1.2.0",
          "state": {
            "_model_module": "@jupyter-widgets/base",
            "_model_module_version": "1.2.0",
            "_model_name": "LayoutModel",
            "_view_count": null,
            "_view_module": "@jupyter-widgets/base",
            "_view_module_version": "1.2.0",
            "_view_name": "LayoutView",
            "align_content": null,
            "align_items": null,
            "align_self": null,
            "border": null,
            "bottom": null,
            "display": null,
            "flex": null,
            "flex_flow": null,
            "grid_area": null,
            "grid_auto_columns": null,
            "grid_auto_flow": null,
            "grid_auto_rows": null,
            "grid_column": null,
            "grid_gap": null,
            "grid_row": null,
            "grid_template_areas": null,
            "grid_template_columns": null,
            "grid_template_rows": null,
            "height": null,
            "justify_content": null,
            "justify_items": null,
            "left": null,
            "margin": null,
            "max_height": null,
            "max_width": null,
            "min_height": null,
            "min_width": null,
            "object_fit": null,
            "object_position": null,
            "order": null,
            "overflow": null,
            "overflow_x": null,
            "overflow_y": null,
            "padding": null,
            "right": null,
            "top": null,
            "visibility": null,
            "width": null
          }
        },
        "aca67b6208af4e14920d1794218c49c2": {
          "model_module": "@jupyter-widgets/controls",
          "model_name": "DescriptionStyleModel",
          "model_module_version": "1.5.0",
          "state": {
            "_model_module": "@jupyter-widgets/controls",
            "_model_module_version": "1.5.0",
            "_model_name": "DescriptionStyleModel",
            "_view_count": null,
            "_view_module": "@jupyter-widgets/base",
            "_view_module_version": "1.2.0",
            "_view_name": "StyleView",
            "description_width": ""
          }
        },
        "e6d92ceb3db24b3d9e08544e3b7a0110": {
          "model_module": "@jupyter-widgets/base",
          "model_name": "LayoutModel",
          "model_module_version": "1.2.0",
          "state": {
            "_model_module": "@jupyter-widgets/base",
            "_model_module_version": "1.2.0",
            "_model_name": "LayoutModel",
            "_view_count": null,
            "_view_module": "@jupyter-widgets/base",
            "_view_module_version": "1.2.0",
            "_view_name": "LayoutView",
            "align_content": null,
            "align_items": null,
            "align_self": null,
            "border": null,
            "bottom": null,
            "display": null,
            "flex": null,
            "flex_flow": null,
            "grid_area": null,
            "grid_auto_columns": null,
            "grid_auto_flow": null,
            "grid_auto_rows": null,
            "grid_column": null,
            "grid_gap": null,
            "grid_row": null,
            "grid_template_areas": null,
            "grid_template_columns": null,
            "grid_template_rows": null,
            "height": null,
            "justify_content": null,
            "justify_items": null,
            "left": null,
            "margin": null,
            "max_height": null,
            "max_width": null,
            "min_height": null,
            "min_width": null,
            "object_fit": null,
            "object_position": null,
            "order": null,
            "overflow": null,
            "overflow_x": null,
            "overflow_y": null,
            "padding": null,
            "right": null,
            "top": null,
            "visibility": null,
            "width": null
          }
        },
        "b60cc5e2e49e449dbf67319bfddb2738": {
          "model_module": "@jupyter-widgets/controls",
          "model_name": "ProgressStyleModel",
          "model_module_version": "1.5.0",
          "state": {
            "_model_module": "@jupyter-widgets/controls",
            "_model_module_version": "1.5.0",
            "_model_name": "ProgressStyleModel",
            "_view_count": null,
            "_view_module": "@jupyter-widgets/base",
            "_view_module_version": "1.2.0",
            "_view_name": "StyleView",
            "bar_color": null,
            "description_width": ""
          }
        },
        "f48ac55177684624baeae207e1fc83c5": {
          "model_module": "@jupyter-widgets/base",
          "model_name": "LayoutModel",
          "model_module_version": "1.2.0",
          "state": {
            "_model_module": "@jupyter-widgets/base",
            "_model_module_version": "1.2.0",
            "_model_name": "LayoutModel",
            "_view_count": null,
            "_view_module": "@jupyter-widgets/base",
            "_view_module_version": "1.2.0",
            "_view_name": "LayoutView",
            "align_content": null,
            "align_items": null,
            "align_self": null,
            "border": null,
            "bottom": null,
            "display": null,
            "flex": null,
            "flex_flow": null,
            "grid_area": null,
            "grid_auto_columns": null,
            "grid_auto_flow": null,
            "grid_auto_rows": null,
            "grid_column": null,
            "grid_gap": null,
            "grid_row": null,
            "grid_template_areas": null,
            "grid_template_columns": null,
            "grid_template_rows": null,
            "height": null,
            "justify_content": null,
            "justify_items": null,
            "left": null,
            "margin": null,
            "max_height": null,
            "max_width": null,
            "min_height": null,
            "min_width": null,
            "object_fit": null,
            "object_position": null,
            "order": null,
            "overflow": null,
            "overflow_x": null,
            "overflow_y": null,
            "padding": null,
            "right": null,
            "top": null,
            "visibility": null,
            "width": null
          }
        },
        "4b4a94b356d14d0384a74caf5db0f6de": {
          "model_module": "@jupyter-widgets/controls",
          "model_name": "DescriptionStyleModel",
          "model_module_version": "1.5.0",
          "state": {
            "_model_module": "@jupyter-widgets/controls",
            "_model_module_version": "1.5.0",
            "_model_name": "DescriptionStyleModel",
            "_view_count": null,
            "_view_module": "@jupyter-widgets/base",
            "_view_module_version": "1.2.0",
            "_view_name": "StyleView",
            "description_width": ""
          }
        },
        "d552ed22fa7d4bff9281e1db7186b5e7": {
          "model_module": "@jupyter-widgets/controls",
          "model_name": "HBoxModel",
          "model_module_version": "1.5.0",
          "state": {
            "_dom_classes": [],
            "_model_module": "@jupyter-widgets/controls",
            "_model_module_version": "1.5.0",
            "_model_name": "HBoxModel",
            "_view_count": null,
            "_view_module": "@jupyter-widgets/controls",
            "_view_module_version": "1.5.0",
            "_view_name": "HBoxView",
            "box_style": "",
            "children": [
              "IPY_MODEL_a9dcf9df647f4cd68a04650d7fa6e39d",
              "IPY_MODEL_e40178ae092b403980a3de17f0534594",
              "IPY_MODEL_1f1cf46fe27541e9a5952ba95afb8b23"
            ],
            "layout": "IPY_MODEL_67c8b9714fb84ae281bfb1a0b979f350"
          }
        },
        "a9dcf9df647f4cd68a04650d7fa6e39d": {
          "model_module": "@jupyter-widgets/controls",
          "model_name": "HTMLModel",
          "model_module_version": "1.5.0",
          "state": {
            "_dom_classes": [],
            "_model_module": "@jupyter-widgets/controls",
            "_model_module_version": "1.5.0",
            "_model_name": "HTMLModel",
            "_view_count": null,
            "_view_module": "@jupyter-widgets/controls",
            "_view_module_version": "1.5.0",
            "_view_name": "HTMLView",
            "description": "",
            "description_tooltip": null,
            "layout": "IPY_MODEL_1a552384c9bb4dc7bdd22298b5c9bd75",
            "placeholder": "​",
            "style": "IPY_MODEL_807c5a3bd4fb42bca02bf90531218120",
            "value": "Processing: 100%"
          }
        },
        "e40178ae092b403980a3de17f0534594": {
          "model_module": "@jupyter-widgets/controls",
          "model_name": "FloatProgressModel",
          "model_module_version": "1.5.0",
          "state": {
            "_dom_classes": [],
            "_model_module": "@jupyter-widgets/controls",
            "_model_module_version": "1.5.0",
            "_model_name": "FloatProgressModel",
            "_view_count": null,
            "_view_module": "@jupyter-widgets/controls",
            "_view_module_version": "1.5.0",
            "_view_name": "ProgressView",
            "bar_style": "",
            "description": "",
            "description_tooltip": null,
            "layout": "IPY_MODEL_199914b070b64ce2b4cf3391e3707db1",
            "max": 69,
            "min": 0,
            "orientation": "horizontal",
            "style": "IPY_MODEL_fe4cbc2bd50b4cf9ae96d48abd3b7c1a",
            "value": 69
          }
        },
        "1f1cf46fe27541e9a5952ba95afb8b23": {
          "model_module": "@jupyter-widgets/controls",
          "model_name": "HTMLModel",
          "model_module_version": "1.5.0",
          "state": {
            "_dom_classes": [],
            "_model_module": "@jupyter-widgets/controls",
            "_model_module_version": "1.5.0",
            "_model_name": "HTMLModel",
            "_view_count": null,
            "_view_module": "@jupyter-widgets/controls",
            "_view_module_version": "1.5.0",
            "_view_name": "HTMLView",
            "description": "",
            "description_tooltip": null,
            "layout": "IPY_MODEL_18eb6201e0aa4adf9832606b5ec27d68",
            "placeholder": "​",
            "style": "IPY_MODEL_4ec1aed20fce490389a06e8d23f3d109",
            "value": " 69/69 [00:19&lt;00:00,  3.29it/s]"
          }
        },
        "67c8b9714fb84ae281bfb1a0b979f350": {
          "model_module": "@jupyter-widgets/base",
          "model_name": "LayoutModel",
          "model_module_version": "1.2.0",
          "state": {
            "_model_module": "@jupyter-widgets/base",
            "_model_module_version": "1.2.0",
            "_model_name": "LayoutModel",
            "_view_count": null,
            "_view_module": "@jupyter-widgets/base",
            "_view_module_version": "1.2.0",
            "_view_name": "LayoutView",
            "align_content": null,
            "align_items": null,
            "align_self": null,
            "border": null,
            "bottom": null,
            "display": null,
            "flex": null,
            "flex_flow": null,
            "grid_area": null,
            "grid_auto_columns": null,
            "grid_auto_flow": null,
            "grid_auto_rows": null,
            "grid_column": null,
            "grid_gap": null,
            "grid_row": null,
            "grid_template_areas": null,
            "grid_template_columns": null,
            "grid_template_rows": null,
            "height": null,
            "justify_content": null,
            "justify_items": null,
            "left": null,
            "margin": null,
            "max_height": null,
            "max_width": null,
            "min_height": null,
            "min_width": null,
            "object_fit": null,
            "object_position": null,
            "order": null,
            "overflow": null,
            "overflow_x": null,
            "overflow_y": null,
            "padding": null,
            "right": null,
            "top": null,
            "visibility": "hidden",
            "width": null
          }
        },
        "1a552384c9bb4dc7bdd22298b5c9bd75": {
          "model_module": "@jupyter-widgets/base",
          "model_name": "LayoutModel",
          "model_module_version": "1.2.0",
          "state": {
            "_model_module": "@jupyter-widgets/base",
            "_model_module_version": "1.2.0",
            "_model_name": "LayoutModel",
            "_view_count": null,
            "_view_module": "@jupyter-widgets/base",
            "_view_module_version": "1.2.0",
            "_view_name": "LayoutView",
            "align_content": null,
            "align_items": null,
            "align_self": null,
            "border": null,
            "bottom": null,
            "display": null,
            "flex": null,
            "flex_flow": null,
            "grid_area": null,
            "grid_auto_columns": null,
            "grid_auto_flow": null,
            "grid_auto_rows": null,
            "grid_column": null,
            "grid_gap": null,
            "grid_row": null,
            "grid_template_areas": null,
            "grid_template_columns": null,
            "grid_template_rows": null,
            "height": null,
            "justify_content": null,
            "justify_items": null,
            "left": null,
            "margin": null,
            "max_height": null,
            "max_width": null,
            "min_height": null,
            "min_width": null,
            "object_fit": null,
            "object_position": null,
            "order": null,
            "overflow": null,
            "overflow_x": null,
            "overflow_y": null,
            "padding": null,
            "right": null,
            "top": null,
            "visibility": null,
            "width": null
          }
        },
        "807c5a3bd4fb42bca02bf90531218120": {
          "model_module": "@jupyter-widgets/controls",
          "model_name": "DescriptionStyleModel",
          "model_module_version": "1.5.0",
          "state": {
            "_model_module": "@jupyter-widgets/controls",
            "_model_module_version": "1.5.0",
            "_model_name": "DescriptionStyleModel",
            "_view_count": null,
            "_view_module": "@jupyter-widgets/base",
            "_view_module_version": "1.2.0",
            "_view_name": "StyleView",
            "description_width": ""
          }
        },
        "199914b070b64ce2b4cf3391e3707db1": {
          "model_module": "@jupyter-widgets/base",
          "model_name": "LayoutModel",
          "model_module_version": "1.2.0",
          "state": {
            "_model_module": "@jupyter-widgets/base",
            "_model_module_version": "1.2.0",
            "_model_name": "LayoutModel",
            "_view_count": null,
            "_view_module": "@jupyter-widgets/base",
            "_view_module_version": "1.2.0",
            "_view_name": "LayoutView",
            "align_content": null,
            "align_items": null,
            "align_self": null,
            "border": null,
            "bottom": null,
            "display": null,
            "flex": null,
            "flex_flow": null,
            "grid_area": null,
            "grid_auto_columns": null,
            "grid_auto_flow": null,
            "grid_auto_rows": null,
            "grid_column": null,
            "grid_gap": null,
            "grid_row": null,
            "grid_template_areas": null,
            "grid_template_columns": null,
            "grid_template_rows": null,
            "height": null,
            "justify_content": null,
            "justify_items": null,
            "left": null,
            "margin": null,
            "max_height": null,
            "max_width": null,
            "min_height": null,
            "min_width": null,
            "object_fit": null,
            "object_position": null,
            "order": null,
            "overflow": null,
            "overflow_x": null,
            "overflow_y": null,
            "padding": null,
            "right": null,
            "top": null,
            "visibility": null,
            "width": null
          }
        },
        "fe4cbc2bd50b4cf9ae96d48abd3b7c1a": {
          "model_module": "@jupyter-widgets/controls",
          "model_name": "ProgressStyleModel",
          "model_module_version": "1.5.0",
          "state": {
            "_model_module": "@jupyter-widgets/controls",
            "_model_module_version": "1.5.0",
            "_model_name": "ProgressStyleModel",
            "_view_count": null,
            "_view_module": "@jupyter-widgets/base",
            "_view_module_version": "1.2.0",
            "_view_name": "StyleView",
            "bar_color": null,
            "description_width": ""
          }
        },
        "18eb6201e0aa4adf9832606b5ec27d68": {
          "model_module": "@jupyter-widgets/base",
          "model_name": "LayoutModel",
          "model_module_version": "1.2.0",
          "state": {
            "_model_module": "@jupyter-widgets/base",
            "_model_module_version": "1.2.0",
            "_model_name": "LayoutModel",
            "_view_count": null,
            "_view_module": "@jupyter-widgets/base",
            "_view_module_version": "1.2.0",
            "_view_name": "LayoutView",
            "align_content": null,
            "align_items": null,
            "align_self": null,
            "border": null,
            "bottom": null,
            "display": null,
            "flex": null,
            "flex_flow": null,
            "grid_area": null,
            "grid_auto_columns": null,
            "grid_auto_flow": null,
            "grid_auto_rows": null,
            "grid_column": null,
            "grid_gap": null,
            "grid_row": null,
            "grid_template_areas": null,
            "grid_template_columns": null,
            "grid_template_rows": null,
            "height": null,
            "justify_content": null,
            "justify_items": null,
            "left": null,
            "margin": null,
            "max_height": null,
            "max_width": null,
            "min_height": null,
            "min_width": null,
            "object_fit": null,
            "object_position": null,
            "order": null,
            "overflow": null,
            "overflow_x": null,
            "overflow_y": null,
            "padding": null,
            "right": null,
            "top": null,
            "visibility": null,
            "width": null
          }
        },
        "4ec1aed20fce490389a06e8d23f3d109": {
          "model_module": "@jupyter-widgets/controls",
          "model_name": "DescriptionStyleModel",
          "model_module_version": "1.5.0",
          "state": {
            "_model_module": "@jupyter-widgets/controls",
            "_model_module_version": "1.5.0",
            "_model_name": "DescriptionStyleModel",
            "_view_count": null,
            "_view_module": "@jupyter-widgets/base",
            "_view_module_version": "1.2.0",
            "_view_name": "StyleView",
            "description_width": ""
          }
        },
        "fe12c58a8d8b4334a69555bd5f8f9b22": {
          "model_module": "@jupyter-widgets/controls",
          "model_name": "HBoxModel",
          "model_module_version": "1.5.0",
          "state": {
            "_dom_classes": [],
            "_model_module": "@jupyter-widgets/controls",
            "_model_module_version": "1.5.0",
            "_model_name": "HBoxModel",
            "_view_count": null,
            "_view_module": "@jupyter-widgets/controls",
            "_view_module_version": "1.5.0",
            "_view_name": "HBoxView",
            "box_style": "",
            "children": [
              "IPY_MODEL_e3bde63d11f946acad4867b85b24dbfe",
              "IPY_MODEL_d0d39b88563c404e88bc0fdde4395610",
              "IPY_MODEL_351c3aa064ec4c9395a6bf9d8b565dab"
            ],
            "layout": "IPY_MODEL_9b1657c5c0f743a8bcb7353d055721ba"
          }
        },
        "e3bde63d11f946acad4867b85b24dbfe": {
          "model_module": "@jupyter-widgets/controls",
          "model_name": "HTMLModel",
          "model_module_version": "1.5.0",
          "state": {
            "_dom_classes": [],
            "_model_module": "@jupyter-widgets/controls",
            "_model_module_version": "1.5.0",
            "_model_name": "HTMLModel",
            "_view_count": null,
            "_view_module": "@jupyter-widgets/controls",
            "_view_module_version": "1.5.0",
            "_view_name": "HTMLView",
            "description": "",
            "description_tooltip": null,
            "layout": "IPY_MODEL_bbe09e543ebb4cb2a50f22b199c5796d",
            "placeholder": "​",
            "style": "IPY_MODEL_bb3b1caa5e06445590cbfa1479cb0155",
            "value": "Processing: 100%"
          }
        },
        "d0d39b88563c404e88bc0fdde4395610": {
          "model_module": "@jupyter-widgets/controls",
          "model_name": "FloatProgressModel",
          "model_module_version": "1.5.0",
          "state": {
            "_dom_classes": [],
            "_model_module": "@jupyter-widgets/controls",
            "_model_module_version": "1.5.0",
            "_model_name": "FloatProgressModel",
            "_view_count": null,
            "_view_module": "@jupyter-widgets/controls",
            "_view_module_version": "1.5.0",
            "_view_name": "ProgressView",
            "bar_style": "",
            "description": "",
            "description_tooltip": null,
            "layout": "IPY_MODEL_4c5c5ba1e5734a13bec4dd4c57dc9681",
            "max": 69,
            "min": 0,
            "orientation": "horizontal",
            "style": "IPY_MODEL_8859fb0160a44cc28655789d7a478f8f",
            "value": 69
          }
        },
        "351c3aa064ec4c9395a6bf9d8b565dab": {
          "model_module": "@jupyter-widgets/controls",
          "model_name": "HTMLModel",
          "model_module_version": "1.5.0",
          "state": {
            "_dom_classes": [],
            "_model_module": "@jupyter-widgets/controls",
            "_model_module_version": "1.5.0",
            "_model_name": "HTMLModel",
            "_view_count": null,
            "_view_module": "@jupyter-widgets/controls",
            "_view_module_version": "1.5.0",
            "_view_name": "HTMLView",
            "description": "",
            "description_tooltip": null,
            "layout": "IPY_MODEL_7dd20595731c41a89338bbb775a41636",
            "placeholder": "​",
            "style": "IPY_MODEL_80a2059d0fcf4565ab4b05656c8999db",
            "value": " 69/69 [00:41&lt;00:00,  1.71it/s]"
          }
        },
        "9b1657c5c0f743a8bcb7353d055721ba": {
          "model_module": "@jupyter-widgets/base",
          "model_name": "LayoutModel",
          "model_module_version": "1.2.0",
          "state": {
            "_model_module": "@jupyter-widgets/base",
            "_model_module_version": "1.2.0",
            "_model_name": "LayoutModel",
            "_view_count": null,
            "_view_module": "@jupyter-widgets/base",
            "_view_module_version": "1.2.0",
            "_view_name": "LayoutView",
            "align_content": null,
            "align_items": null,
            "align_self": null,
            "border": null,
            "bottom": null,
            "display": null,
            "flex": null,
            "flex_flow": null,
            "grid_area": null,
            "grid_auto_columns": null,
            "grid_auto_flow": null,
            "grid_auto_rows": null,
            "grid_column": null,
            "grid_gap": null,
            "grid_row": null,
            "grid_template_areas": null,
            "grid_template_columns": null,
            "grid_template_rows": null,
            "height": null,
            "justify_content": null,
            "justify_items": null,
            "left": null,
            "margin": null,
            "max_height": null,
            "max_width": null,
            "min_height": null,
            "min_width": null,
            "object_fit": null,
            "object_position": null,
            "order": null,
            "overflow": null,
            "overflow_x": null,
            "overflow_y": null,
            "padding": null,
            "right": null,
            "top": null,
            "visibility": "hidden",
            "width": null
          }
        },
        "bbe09e543ebb4cb2a50f22b199c5796d": {
          "model_module": "@jupyter-widgets/base",
          "model_name": "LayoutModel",
          "model_module_version": "1.2.0",
          "state": {
            "_model_module": "@jupyter-widgets/base",
            "_model_module_version": "1.2.0",
            "_model_name": "LayoutModel",
            "_view_count": null,
            "_view_module": "@jupyter-widgets/base",
            "_view_module_version": "1.2.0",
            "_view_name": "LayoutView",
            "align_content": null,
            "align_items": null,
            "align_self": null,
            "border": null,
            "bottom": null,
            "display": null,
            "flex": null,
            "flex_flow": null,
            "grid_area": null,
            "grid_auto_columns": null,
            "grid_auto_flow": null,
            "grid_auto_rows": null,
            "grid_column": null,
            "grid_gap": null,
            "grid_row": null,
            "grid_template_areas": null,
            "grid_template_columns": null,
            "grid_template_rows": null,
            "height": null,
            "justify_content": null,
            "justify_items": null,
            "left": null,
            "margin": null,
            "max_height": null,
            "max_width": null,
            "min_height": null,
            "min_width": null,
            "object_fit": null,
            "object_position": null,
            "order": null,
            "overflow": null,
            "overflow_x": null,
            "overflow_y": null,
            "padding": null,
            "right": null,
            "top": null,
            "visibility": null,
            "width": null
          }
        },
        "bb3b1caa5e06445590cbfa1479cb0155": {
          "model_module": "@jupyter-widgets/controls",
          "model_name": "DescriptionStyleModel",
          "model_module_version": "1.5.0",
          "state": {
            "_model_module": "@jupyter-widgets/controls",
            "_model_module_version": "1.5.0",
            "_model_name": "DescriptionStyleModel",
            "_view_count": null,
            "_view_module": "@jupyter-widgets/base",
            "_view_module_version": "1.2.0",
            "_view_name": "StyleView",
            "description_width": ""
          }
        },
        "4c5c5ba1e5734a13bec4dd4c57dc9681": {
          "model_module": "@jupyter-widgets/base",
          "model_name": "LayoutModel",
          "model_module_version": "1.2.0",
          "state": {
            "_model_module": "@jupyter-widgets/base",
            "_model_module_version": "1.2.0",
            "_model_name": "LayoutModel",
            "_view_count": null,
            "_view_module": "@jupyter-widgets/base",
            "_view_module_version": "1.2.0",
            "_view_name": "LayoutView",
            "align_content": null,
            "align_items": null,
            "align_self": null,
            "border": null,
            "bottom": null,
            "display": null,
            "flex": null,
            "flex_flow": null,
            "grid_area": null,
            "grid_auto_columns": null,
            "grid_auto_flow": null,
            "grid_auto_rows": null,
            "grid_column": null,
            "grid_gap": null,
            "grid_row": null,
            "grid_template_areas": null,
            "grid_template_columns": null,
            "grid_template_rows": null,
            "height": null,
            "justify_content": null,
            "justify_items": null,
            "left": null,
            "margin": null,
            "max_height": null,
            "max_width": null,
            "min_height": null,
            "min_width": null,
            "object_fit": null,
            "object_position": null,
            "order": null,
            "overflow": null,
            "overflow_x": null,
            "overflow_y": null,
            "padding": null,
            "right": null,
            "top": null,
            "visibility": null,
            "width": null
          }
        },
        "8859fb0160a44cc28655789d7a478f8f": {
          "model_module": "@jupyter-widgets/controls",
          "model_name": "ProgressStyleModel",
          "model_module_version": "1.5.0",
          "state": {
            "_model_module": "@jupyter-widgets/controls",
            "_model_module_version": "1.5.0",
            "_model_name": "ProgressStyleModel",
            "_view_count": null,
            "_view_module": "@jupyter-widgets/base",
            "_view_module_version": "1.2.0",
            "_view_name": "StyleView",
            "bar_color": null,
            "description_width": ""
          }
        },
        "7dd20595731c41a89338bbb775a41636": {
          "model_module": "@jupyter-widgets/base",
          "model_name": "LayoutModel",
          "model_module_version": "1.2.0",
          "state": {
            "_model_module": "@jupyter-widgets/base",
            "_model_module_version": "1.2.0",
            "_model_name": "LayoutModel",
            "_view_count": null,
            "_view_module": "@jupyter-widgets/base",
            "_view_module_version": "1.2.0",
            "_view_name": "LayoutView",
            "align_content": null,
            "align_items": null,
            "align_self": null,
            "border": null,
            "bottom": null,
            "display": null,
            "flex": null,
            "flex_flow": null,
            "grid_area": null,
            "grid_auto_columns": null,
            "grid_auto_flow": null,
            "grid_auto_rows": null,
            "grid_column": null,
            "grid_gap": null,
            "grid_row": null,
            "grid_template_areas": null,
            "grid_template_columns": null,
            "grid_template_rows": null,
            "height": null,
            "justify_content": null,
            "justify_items": null,
            "left": null,
            "margin": null,
            "max_height": null,
            "max_width": null,
            "min_height": null,
            "min_width": null,
            "object_fit": null,
            "object_position": null,
            "order": null,
            "overflow": null,
            "overflow_x": null,
            "overflow_y": null,
            "padding": null,
            "right": null,
            "top": null,
            "visibility": null,
            "width": null
          }
        },
        "80a2059d0fcf4565ab4b05656c8999db": {
          "model_module": "@jupyter-widgets/controls",
          "model_name": "DescriptionStyleModel",
          "model_module_version": "1.5.0",
          "state": {
            "_model_module": "@jupyter-widgets/controls",
            "_model_module_version": "1.5.0",
            "_model_name": "DescriptionStyleModel",
            "_view_count": null,
            "_view_module": "@jupyter-widgets/base",
            "_view_module_version": "1.2.0",
            "_view_name": "StyleView",
            "description_width": ""
          }
        },
        "b5060a53419c4af3b8e9e29f264382d1": {
          "model_module": "@jupyter-widgets/controls",
          "model_name": "HBoxModel",
          "model_module_version": "1.5.0",
          "state": {
            "_dom_classes": [],
            "_model_module": "@jupyter-widgets/controls",
            "_model_module_version": "1.5.0",
            "_model_name": "HBoxModel",
            "_view_count": null,
            "_view_module": "@jupyter-widgets/controls",
            "_view_module_version": "1.5.0",
            "_view_name": "HBoxView",
            "box_style": "",
            "children": [
              "IPY_MODEL_95214e15316349498e233119a96078c9",
              "IPY_MODEL_7fceae272a634494b1abf17fa2ecc530",
              "IPY_MODEL_f086b10a652d40559104c508c71b0548"
            ],
            "layout": "IPY_MODEL_236ebdabe666429cb2d238266bffa5ab"
          }
        },
        "95214e15316349498e233119a96078c9": {
          "model_module": "@jupyter-widgets/controls",
          "model_name": "HTMLModel",
          "model_module_version": "1.5.0",
          "state": {
            "_dom_classes": [],
            "_model_module": "@jupyter-widgets/controls",
            "_model_module_version": "1.5.0",
            "_model_name": "HTMLModel",
            "_view_count": null,
            "_view_module": "@jupyter-widgets/controls",
            "_view_module_version": "1.5.0",
            "_view_name": "HTMLView",
            "description": "",
            "description_tooltip": null,
            "layout": "IPY_MODEL_e25079bea25a452ca447696a91b230d2",
            "placeholder": "​",
            "style": "IPY_MODEL_cfde94bcf49b4a22ae83795d5e206d3b",
            "value": "Processing: 100%"
          }
        },
        "7fceae272a634494b1abf17fa2ecc530": {
          "model_module": "@jupyter-widgets/controls",
          "model_name": "FloatProgressModel",
          "model_module_version": "1.5.0",
          "state": {
            "_dom_classes": [],
            "_model_module": "@jupyter-widgets/controls",
            "_model_module_version": "1.5.0",
            "_model_name": "FloatProgressModel",
            "_view_count": null,
            "_view_module": "@jupyter-widgets/controls",
            "_view_module_version": "1.5.0",
            "_view_name": "ProgressView",
            "bar_style": "",
            "description": "",
            "description_tooltip": null,
            "layout": "IPY_MODEL_3cb5942890ef456fb14f113f5395248d",
            "max": 70,
            "min": 0,
            "orientation": "horizontal",
            "style": "IPY_MODEL_f0558c812cc14ea4b30dec2048ad516e",
            "value": 70
          }
        },
        "f086b10a652d40559104c508c71b0548": {
          "model_module": "@jupyter-widgets/controls",
          "model_name": "HTMLModel",
          "model_module_version": "1.5.0",
          "state": {
            "_dom_classes": [],
            "_model_module": "@jupyter-widgets/controls",
            "_model_module_version": "1.5.0",
            "_model_name": "HTMLModel",
            "_view_count": null,
            "_view_module": "@jupyter-widgets/controls",
            "_view_module_version": "1.5.0",
            "_view_name": "HTMLView",
            "description": "",
            "description_tooltip": null,
            "layout": "IPY_MODEL_1559bb6df224465f858dca4f1117609b",
            "placeholder": "​",
            "style": "IPY_MODEL_7d9d7d0028714e85a78b0936ad9df162",
            "value": " 70/70 [00:34&lt;00:00,  1.59it/s]"
          }
        },
        "236ebdabe666429cb2d238266bffa5ab": {
          "model_module": "@jupyter-widgets/base",
          "model_name": "LayoutModel",
          "model_module_version": "1.2.0",
          "state": {
            "_model_module": "@jupyter-widgets/base",
            "_model_module_version": "1.2.0",
            "_model_name": "LayoutModel",
            "_view_count": null,
            "_view_module": "@jupyter-widgets/base",
            "_view_module_version": "1.2.0",
            "_view_name": "LayoutView",
            "align_content": null,
            "align_items": null,
            "align_self": null,
            "border": null,
            "bottom": null,
            "display": null,
            "flex": null,
            "flex_flow": null,
            "grid_area": null,
            "grid_auto_columns": null,
            "grid_auto_flow": null,
            "grid_auto_rows": null,
            "grid_column": null,
            "grid_gap": null,
            "grid_row": null,
            "grid_template_areas": null,
            "grid_template_columns": null,
            "grid_template_rows": null,
            "height": null,
            "justify_content": null,
            "justify_items": null,
            "left": null,
            "margin": null,
            "max_height": null,
            "max_width": null,
            "min_height": null,
            "min_width": null,
            "object_fit": null,
            "object_position": null,
            "order": null,
            "overflow": null,
            "overflow_x": null,
            "overflow_y": null,
            "padding": null,
            "right": null,
            "top": null,
            "visibility": "hidden",
            "width": null
          }
        },
        "e25079bea25a452ca447696a91b230d2": {
          "model_module": "@jupyter-widgets/base",
          "model_name": "LayoutModel",
          "model_module_version": "1.2.0",
          "state": {
            "_model_module": "@jupyter-widgets/base",
            "_model_module_version": "1.2.0",
            "_model_name": "LayoutModel",
            "_view_count": null,
            "_view_module": "@jupyter-widgets/base",
            "_view_module_version": "1.2.0",
            "_view_name": "LayoutView",
            "align_content": null,
            "align_items": null,
            "align_self": null,
            "border": null,
            "bottom": null,
            "display": null,
            "flex": null,
            "flex_flow": null,
            "grid_area": null,
            "grid_auto_columns": null,
            "grid_auto_flow": null,
            "grid_auto_rows": null,
            "grid_column": null,
            "grid_gap": null,
            "grid_row": null,
            "grid_template_areas": null,
            "grid_template_columns": null,
            "grid_template_rows": null,
            "height": null,
            "justify_content": null,
            "justify_items": null,
            "left": null,
            "margin": null,
            "max_height": null,
            "max_width": null,
            "min_height": null,
            "min_width": null,
            "object_fit": null,
            "object_position": null,
            "order": null,
            "overflow": null,
            "overflow_x": null,
            "overflow_y": null,
            "padding": null,
            "right": null,
            "top": null,
            "visibility": null,
            "width": null
          }
        },
        "cfde94bcf49b4a22ae83795d5e206d3b": {
          "model_module": "@jupyter-widgets/controls",
          "model_name": "DescriptionStyleModel",
          "model_module_version": "1.5.0",
          "state": {
            "_model_module": "@jupyter-widgets/controls",
            "_model_module_version": "1.5.0",
            "_model_name": "DescriptionStyleModel",
            "_view_count": null,
            "_view_module": "@jupyter-widgets/base",
            "_view_module_version": "1.2.0",
            "_view_name": "StyleView",
            "description_width": ""
          }
        },
        "3cb5942890ef456fb14f113f5395248d": {
          "model_module": "@jupyter-widgets/base",
          "model_name": "LayoutModel",
          "model_module_version": "1.2.0",
          "state": {
            "_model_module": "@jupyter-widgets/base",
            "_model_module_version": "1.2.0",
            "_model_name": "LayoutModel",
            "_view_count": null,
            "_view_module": "@jupyter-widgets/base",
            "_view_module_version": "1.2.0",
            "_view_name": "LayoutView",
            "align_content": null,
            "align_items": null,
            "align_self": null,
            "border": null,
            "bottom": null,
            "display": null,
            "flex": null,
            "flex_flow": null,
            "grid_area": null,
            "grid_auto_columns": null,
            "grid_auto_flow": null,
            "grid_auto_rows": null,
            "grid_column": null,
            "grid_gap": null,
            "grid_row": null,
            "grid_template_areas": null,
            "grid_template_columns": null,
            "grid_template_rows": null,
            "height": null,
            "justify_content": null,
            "justify_items": null,
            "left": null,
            "margin": null,
            "max_height": null,
            "max_width": null,
            "min_height": null,
            "min_width": null,
            "object_fit": null,
            "object_position": null,
            "order": null,
            "overflow": null,
            "overflow_x": null,
            "overflow_y": null,
            "padding": null,
            "right": null,
            "top": null,
            "visibility": null,
            "width": null
          }
        },
        "f0558c812cc14ea4b30dec2048ad516e": {
          "model_module": "@jupyter-widgets/controls",
          "model_name": "ProgressStyleModel",
          "model_module_version": "1.5.0",
          "state": {
            "_model_module": "@jupyter-widgets/controls",
            "_model_module_version": "1.5.0",
            "_model_name": "ProgressStyleModel",
            "_view_count": null,
            "_view_module": "@jupyter-widgets/base",
            "_view_module_version": "1.2.0",
            "_view_name": "StyleView",
            "bar_color": null,
            "description_width": ""
          }
        },
        "1559bb6df224465f858dca4f1117609b": {
          "model_module": "@jupyter-widgets/base",
          "model_name": "LayoutModel",
          "model_module_version": "1.2.0",
          "state": {
            "_model_module": "@jupyter-widgets/base",
            "_model_module_version": "1.2.0",
            "_model_name": "LayoutModel",
            "_view_count": null,
            "_view_module": "@jupyter-widgets/base",
            "_view_module_version": "1.2.0",
            "_view_name": "LayoutView",
            "align_content": null,
            "align_items": null,
            "align_self": null,
            "border": null,
            "bottom": null,
            "display": null,
            "flex": null,
            "flex_flow": null,
            "grid_area": null,
            "grid_auto_columns": null,
            "grid_auto_flow": null,
            "grid_auto_rows": null,
            "grid_column": null,
            "grid_gap": null,
            "grid_row": null,
            "grid_template_areas": null,
            "grid_template_columns": null,
            "grid_template_rows": null,
            "height": null,
            "justify_content": null,
            "justify_items": null,
            "left": null,
            "margin": null,
            "max_height": null,
            "max_width": null,
            "min_height": null,
            "min_width": null,
            "object_fit": null,
            "object_position": null,
            "order": null,
            "overflow": null,
            "overflow_x": null,
            "overflow_y": null,
            "padding": null,
            "right": null,
            "top": null,
            "visibility": null,
            "width": null
          }
        },
        "7d9d7d0028714e85a78b0936ad9df162": {
          "model_module": "@jupyter-widgets/controls",
          "model_name": "DescriptionStyleModel",
          "model_module_version": "1.5.0",
          "state": {
            "_model_module": "@jupyter-widgets/controls",
            "_model_module_version": "1.5.0",
            "_model_name": "DescriptionStyleModel",
            "_view_count": null,
            "_view_module": "@jupyter-widgets/base",
            "_view_module_version": "1.2.0",
            "_view_name": "StyleView",
            "description_width": ""
          }
        },
        "5eddcf2ca6694774a0d590220dc6cf02": {
          "model_module": "@jupyter-widgets/controls",
          "model_name": "HBoxModel",
          "model_module_version": "1.5.0",
          "state": {
            "_dom_classes": [],
            "_model_module": "@jupyter-widgets/controls",
            "_model_module_version": "1.5.0",
            "_model_name": "HBoxModel",
            "_view_count": null,
            "_view_module": "@jupyter-widgets/controls",
            "_view_module_version": "1.5.0",
            "_view_name": "HBoxView",
            "box_style": "",
            "children": [
              "IPY_MODEL_1905609a80544e579941712f6420761e",
              "IPY_MODEL_cc8d80d570a541e6ad0211721f5a5c3c",
              "IPY_MODEL_560a9df2bfba4176819bfce61d475cae"
            ],
            "layout": "IPY_MODEL_60f9dd8ba7e84cccb6dd9f010e9a0059"
          }
        },
        "1905609a80544e579941712f6420761e": {
          "model_module": "@jupyter-widgets/controls",
          "model_name": "HTMLModel",
          "model_module_version": "1.5.0",
          "state": {
            "_dom_classes": [],
            "_model_module": "@jupyter-widgets/controls",
            "_model_module_version": "1.5.0",
            "_model_name": "HTMLModel",
            "_view_count": null,
            "_view_module": "@jupyter-widgets/controls",
            "_view_module_version": "1.5.0",
            "_view_name": "HTMLView",
            "description": "",
            "description_tooltip": null,
            "layout": "IPY_MODEL_c7ff12f5968a4feebdffd07dc23cd063",
            "placeholder": "​",
            "style": "IPY_MODEL_f739af95a6e040ea9f24d9cdd9a43b37",
            "value": "Processing:   0%"
          }
        },
        "cc8d80d570a541e6ad0211721f5a5c3c": {
          "model_module": "@jupyter-widgets/controls",
          "model_name": "FloatProgressModel",
          "model_module_version": "1.5.0",
          "state": {
            "_dom_classes": [],
            "_model_module": "@jupyter-widgets/controls",
            "_model_module_version": "1.5.0",
            "_model_name": "FloatProgressModel",
            "_view_count": null,
            "_view_module": "@jupyter-widgets/controls",
            "_view_module_version": "1.5.0",
            "_view_name": "ProgressView",
            "bar_style": "",
            "description": "",
            "description_tooltip": null,
            "layout": "IPY_MODEL_2e89b948f0d34ac48d0989b35f17ec20",
            "max": 4,
            "min": 0,
            "orientation": "horizontal",
            "style": "IPY_MODEL_8c3d830d01ad4e6584ac9222fcc9cd45",
            "value": 4
          }
        },
        "560a9df2bfba4176819bfce61d475cae": {
          "model_module": "@jupyter-widgets/controls",
          "model_name": "HTMLModel",
          "model_module_version": "1.5.0",
          "state": {
            "_dom_classes": [],
            "_model_module": "@jupyter-widgets/controls",
            "_model_module_version": "1.5.0",
            "_model_name": "HTMLModel",
            "_view_count": null,
            "_view_module": "@jupyter-widgets/controls",
            "_view_module_version": "1.5.0",
            "_view_name": "HTMLView",
            "description": "",
            "description_tooltip": null,
            "layout": "IPY_MODEL_0a9afc85966a474e8badf65716db37cf",
            "placeholder": "​",
            "style": "IPY_MODEL_e17ef2b06265473d8f7e6a3474ae5a48",
            "value": " 0/4 [00:00&lt;?, ?it/s]"
          }
        },
        "60f9dd8ba7e84cccb6dd9f010e9a0059": {
          "model_module": "@jupyter-widgets/base",
          "model_name": "LayoutModel",
          "model_module_version": "1.2.0",
          "state": {
            "_model_module": "@jupyter-widgets/base",
            "_model_module_version": "1.2.0",
            "_model_name": "LayoutModel",
            "_view_count": null,
            "_view_module": "@jupyter-widgets/base",
            "_view_module_version": "1.2.0",
            "_view_name": "LayoutView",
            "align_content": null,
            "align_items": null,
            "align_self": null,
            "border": null,
            "bottom": null,
            "display": null,
            "flex": null,
            "flex_flow": null,
            "grid_area": null,
            "grid_auto_columns": null,
            "grid_auto_flow": null,
            "grid_auto_rows": null,
            "grid_column": null,
            "grid_gap": null,
            "grid_row": null,
            "grid_template_areas": null,
            "grid_template_columns": null,
            "grid_template_rows": null,
            "height": null,
            "justify_content": null,
            "justify_items": null,
            "left": null,
            "margin": null,
            "max_height": null,
            "max_width": null,
            "min_height": null,
            "min_width": null,
            "object_fit": null,
            "object_position": null,
            "order": null,
            "overflow": null,
            "overflow_x": null,
            "overflow_y": null,
            "padding": null,
            "right": null,
            "top": null,
            "visibility": "hidden",
            "width": null
          }
        },
        "c7ff12f5968a4feebdffd07dc23cd063": {
          "model_module": "@jupyter-widgets/base",
          "model_name": "LayoutModel",
          "model_module_version": "1.2.0",
          "state": {
            "_model_module": "@jupyter-widgets/base",
            "_model_module_version": "1.2.0",
            "_model_name": "LayoutModel",
            "_view_count": null,
            "_view_module": "@jupyter-widgets/base",
            "_view_module_version": "1.2.0",
            "_view_name": "LayoutView",
            "align_content": null,
            "align_items": null,
            "align_self": null,
            "border": null,
            "bottom": null,
            "display": null,
            "flex": null,
            "flex_flow": null,
            "grid_area": null,
            "grid_auto_columns": null,
            "grid_auto_flow": null,
            "grid_auto_rows": null,
            "grid_column": null,
            "grid_gap": null,
            "grid_row": null,
            "grid_template_areas": null,
            "grid_template_columns": null,
            "grid_template_rows": null,
            "height": null,
            "justify_content": null,
            "justify_items": null,
            "left": null,
            "margin": null,
            "max_height": null,
            "max_width": null,
            "min_height": null,
            "min_width": null,
            "object_fit": null,
            "object_position": null,
            "order": null,
            "overflow": null,
            "overflow_x": null,
            "overflow_y": null,
            "padding": null,
            "right": null,
            "top": null,
            "visibility": null,
            "width": null
          }
        },
        "f739af95a6e040ea9f24d9cdd9a43b37": {
          "model_module": "@jupyter-widgets/controls",
          "model_name": "DescriptionStyleModel",
          "model_module_version": "1.5.0",
          "state": {
            "_model_module": "@jupyter-widgets/controls",
            "_model_module_version": "1.5.0",
            "_model_name": "DescriptionStyleModel",
            "_view_count": null,
            "_view_module": "@jupyter-widgets/base",
            "_view_module_version": "1.2.0",
            "_view_name": "StyleView",
            "description_width": ""
          }
        },
        "2e89b948f0d34ac48d0989b35f17ec20": {
          "model_module": "@jupyter-widgets/base",
          "model_name": "LayoutModel",
          "model_module_version": "1.2.0",
          "state": {
            "_model_module": "@jupyter-widgets/base",
            "_model_module_version": "1.2.0",
            "_model_name": "LayoutModel",
            "_view_count": null,
            "_view_module": "@jupyter-widgets/base",
            "_view_module_version": "1.2.0",
            "_view_name": "LayoutView",
            "align_content": null,
            "align_items": null,
            "align_self": null,
            "border": null,
            "bottom": null,
            "display": null,
            "flex": null,
            "flex_flow": null,
            "grid_area": null,
            "grid_auto_columns": null,
            "grid_auto_flow": null,
            "grid_auto_rows": null,
            "grid_column": null,
            "grid_gap": null,
            "grid_row": null,
            "grid_template_areas": null,
            "grid_template_columns": null,
            "grid_template_rows": null,
            "height": null,
            "justify_content": null,
            "justify_items": null,
            "left": null,
            "margin": null,
            "max_height": null,
            "max_width": null,
            "min_height": null,
            "min_width": null,
            "object_fit": null,
            "object_position": null,
            "order": null,
            "overflow": null,
            "overflow_x": null,
            "overflow_y": null,
            "padding": null,
            "right": null,
            "top": null,
            "visibility": null,
            "width": null
          }
        },
        "8c3d830d01ad4e6584ac9222fcc9cd45": {
          "model_module": "@jupyter-widgets/controls",
          "model_name": "ProgressStyleModel",
          "model_module_version": "1.5.0",
          "state": {
            "_model_module": "@jupyter-widgets/controls",
            "_model_module_version": "1.5.0",
            "_model_name": "ProgressStyleModel",
            "_view_count": null,
            "_view_module": "@jupyter-widgets/base",
            "_view_module_version": "1.2.0",
            "_view_name": "StyleView",
            "bar_color": null,
            "description_width": ""
          }
        },
        "0a9afc85966a474e8badf65716db37cf": {
          "model_module": "@jupyter-widgets/base",
          "model_name": "LayoutModel",
          "model_module_version": "1.2.0",
          "state": {
            "_model_module": "@jupyter-widgets/base",
            "_model_module_version": "1.2.0",
            "_model_name": "LayoutModel",
            "_view_count": null,
            "_view_module": "@jupyter-widgets/base",
            "_view_module_version": "1.2.0",
            "_view_name": "LayoutView",
            "align_content": null,
            "align_items": null,
            "align_self": null,
            "border": null,
            "bottom": null,
            "display": null,
            "flex": null,
            "flex_flow": null,
            "grid_area": null,
            "grid_auto_columns": null,
            "grid_auto_flow": null,
            "grid_auto_rows": null,
            "grid_column": null,
            "grid_gap": null,
            "grid_row": null,
            "grid_template_areas": null,
            "grid_template_columns": null,
            "grid_template_rows": null,
            "height": null,
            "justify_content": null,
            "justify_items": null,
            "left": null,
            "margin": null,
            "max_height": null,
            "max_width": null,
            "min_height": null,
            "min_width": null,
            "object_fit": null,
            "object_position": null,
            "order": null,
            "overflow": null,
            "overflow_x": null,
            "overflow_y": null,
            "padding": null,
            "right": null,
            "top": null,
            "visibility": null,
            "width": null
          }
        },
        "e17ef2b06265473d8f7e6a3474ae5a48": {
          "model_module": "@jupyter-widgets/controls",
          "model_name": "DescriptionStyleModel",
          "model_module_version": "1.5.0",
          "state": {
            "_model_module": "@jupyter-widgets/controls",
            "_model_module_version": "1.5.0",
            "_model_name": "DescriptionStyleModel",
            "_view_count": null,
            "_view_module": "@jupyter-widgets/base",
            "_view_module_version": "1.2.0",
            "_view_name": "StyleView",
            "description_width": ""
          }
        },
        "bfa59bdea60e416b8afd543fb54376a0": {
          "model_module": "@jupyter-widgets/controls",
          "model_name": "HBoxModel",
          "model_module_version": "1.5.0",
          "state": {
            "_dom_classes": [],
            "_model_module": "@jupyter-widgets/controls",
            "_model_module_version": "1.5.0",
            "_model_name": "HBoxModel",
            "_view_count": null,
            "_view_module": "@jupyter-widgets/controls",
            "_view_module_version": "1.5.0",
            "_view_name": "HBoxView",
            "box_style": "",
            "children": [
              "IPY_MODEL_0cc2080657bc42f6802ade5eebc54715",
              "IPY_MODEL_96f2f713b5ae4494b1a181743003b9de",
              "IPY_MODEL_4e96dbbe73c54a6f86af1104c9c51195"
            ],
            "layout": "IPY_MODEL_530ca4060154410891d7c26f5d6c919a"
          }
        },
        "0cc2080657bc42f6802ade5eebc54715": {
          "model_module": "@jupyter-widgets/controls",
          "model_name": "HTMLModel",
          "model_module_version": "1.5.0",
          "state": {
            "_dom_classes": [],
            "_model_module": "@jupyter-widgets/controls",
            "_model_module_version": "1.5.0",
            "_model_name": "HTMLModel",
            "_view_count": null,
            "_view_module": "@jupyter-widgets/controls",
            "_view_module_version": "1.5.0",
            "_view_name": "HTMLView",
            "description": "",
            "description_tooltip": null,
            "layout": "IPY_MODEL_e240c2a0817e4a10b8220a1fbbe46cdc",
            "placeholder": "​",
            "style": "IPY_MODEL_581d880bbddd4c048db9c0b7d3dc3ecc",
            "value": "Processing:  86%"
          }
        },
        "96f2f713b5ae4494b1a181743003b9de": {
          "model_module": "@jupyter-widgets/controls",
          "model_name": "FloatProgressModel",
          "model_module_version": "1.5.0",
          "state": {
            "_dom_classes": [],
            "_model_module": "@jupyter-widgets/controls",
            "_model_module_version": "1.5.0",
            "_model_name": "FloatProgressModel",
            "_view_count": null,
            "_view_module": "@jupyter-widgets/controls",
            "_view_module_version": "1.5.0",
            "_view_name": "ProgressView",
            "bar_style": "",
            "description": "",
            "description_tooltip": null,
            "layout": "IPY_MODEL_f4e3267e86f04ffa9dacdf35c0ba0335",
            "max": 7,
            "min": 0,
            "orientation": "horizontal",
            "style": "IPY_MODEL_0a7241334c314ecd9b66fd1620b7587e",
            "value": 7
          }
        },
        "4e96dbbe73c54a6f86af1104c9c51195": {
          "model_module": "@jupyter-widgets/controls",
          "model_name": "HTMLModel",
          "model_module_version": "1.5.0",
          "state": {
            "_dom_classes": [],
            "_model_module": "@jupyter-widgets/controls",
            "_model_module_version": "1.5.0",
            "_model_name": "HTMLModel",
            "_view_count": null,
            "_view_module": "@jupyter-widgets/controls",
            "_view_module_version": "1.5.0",
            "_view_name": "HTMLView",
            "description": "",
            "description_tooltip": null,
            "layout": "IPY_MODEL_a197de60da7b4988894b6e282f63fbc1",
            "placeholder": "​",
            "style": "IPY_MODEL_1b078964b6b94be4b12476a5eba44725",
            "value": " 6/7 [00:03&lt;00:00,  1.83it/s]"
          }
        },
        "530ca4060154410891d7c26f5d6c919a": {
          "model_module": "@jupyter-widgets/base",
          "model_name": "LayoutModel",
          "model_module_version": "1.2.0",
          "state": {
            "_model_module": "@jupyter-widgets/base",
            "_model_module_version": "1.2.0",
            "_model_name": "LayoutModel",
            "_view_count": null,
            "_view_module": "@jupyter-widgets/base",
            "_view_module_version": "1.2.0",
            "_view_name": "LayoutView",
            "align_content": null,
            "align_items": null,
            "align_self": null,
            "border": null,
            "bottom": null,
            "display": null,
            "flex": null,
            "flex_flow": null,
            "grid_area": null,
            "grid_auto_columns": null,
            "grid_auto_flow": null,
            "grid_auto_rows": null,
            "grid_column": null,
            "grid_gap": null,
            "grid_row": null,
            "grid_template_areas": null,
            "grid_template_columns": null,
            "grid_template_rows": null,
            "height": null,
            "justify_content": null,
            "justify_items": null,
            "left": null,
            "margin": null,
            "max_height": null,
            "max_width": null,
            "min_height": null,
            "min_width": null,
            "object_fit": null,
            "object_position": null,
            "order": null,
            "overflow": null,
            "overflow_x": null,
            "overflow_y": null,
            "padding": null,
            "right": null,
            "top": null,
            "visibility": "hidden",
            "width": null
          }
        },
        "e240c2a0817e4a10b8220a1fbbe46cdc": {
          "model_module": "@jupyter-widgets/base",
          "model_name": "LayoutModel",
          "model_module_version": "1.2.0",
          "state": {
            "_model_module": "@jupyter-widgets/base",
            "_model_module_version": "1.2.0",
            "_model_name": "LayoutModel",
            "_view_count": null,
            "_view_module": "@jupyter-widgets/base",
            "_view_module_version": "1.2.0",
            "_view_name": "LayoutView",
            "align_content": null,
            "align_items": null,
            "align_self": null,
            "border": null,
            "bottom": null,
            "display": null,
            "flex": null,
            "flex_flow": null,
            "grid_area": null,
            "grid_auto_columns": null,
            "grid_auto_flow": null,
            "grid_auto_rows": null,
            "grid_column": null,
            "grid_gap": null,
            "grid_row": null,
            "grid_template_areas": null,
            "grid_template_columns": null,
            "grid_template_rows": null,
            "height": null,
            "justify_content": null,
            "justify_items": null,
            "left": null,
            "margin": null,
            "max_height": null,
            "max_width": null,
            "min_height": null,
            "min_width": null,
            "object_fit": null,
            "object_position": null,
            "order": null,
            "overflow": null,
            "overflow_x": null,
            "overflow_y": null,
            "padding": null,
            "right": null,
            "top": null,
            "visibility": null,
            "width": null
          }
        },
        "581d880bbddd4c048db9c0b7d3dc3ecc": {
          "model_module": "@jupyter-widgets/controls",
          "model_name": "DescriptionStyleModel",
          "model_module_version": "1.5.0",
          "state": {
            "_model_module": "@jupyter-widgets/controls",
            "_model_module_version": "1.5.0",
            "_model_name": "DescriptionStyleModel",
            "_view_count": null,
            "_view_module": "@jupyter-widgets/base",
            "_view_module_version": "1.2.0",
            "_view_name": "StyleView",
            "description_width": ""
          }
        },
        "f4e3267e86f04ffa9dacdf35c0ba0335": {
          "model_module": "@jupyter-widgets/base",
          "model_name": "LayoutModel",
          "model_module_version": "1.2.0",
          "state": {
            "_model_module": "@jupyter-widgets/base",
            "_model_module_version": "1.2.0",
            "_model_name": "LayoutModel",
            "_view_count": null,
            "_view_module": "@jupyter-widgets/base",
            "_view_module_version": "1.2.0",
            "_view_name": "LayoutView",
            "align_content": null,
            "align_items": null,
            "align_self": null,
            "border": null,
            "bottom": null,
            "display": null,
            "flex": null,
            "flex_flow": null,
            "grid_area": null,
            "grid_auto_columns": null,
            "grid_auto_flow": null,
            "grid_auto_rows": null,
            "grid_column": null,
            "grid_gap": null,
            "grid_row": null,
            "grid_template_areas": null,
            "grid_template_columns": null,
            "grid_template_rows": null,
            "height": null,
            "justify_content": null,
            "justify_items": null,
            "left": null,
            "margin": null,
            "max_height": null,
            "max_width": null,
            "min_height": null,
            "min_width": null,
            "object_fit": null,
            "object_position": null,
            "order": null,
            "overflow": null,
            "overflow_x": null,
            "overflow_y": null,
            "padding": null,
            "right": null,
            "top": null,
            "visibility": null,
            "width": null
          }
        },
        "0a7241334c314ecd9b66fd1620b7587e": {
          "model_module": "@jupyter-widgets/controls",
          "model_name": "ProgressStyleModel",
          "model_module_version": "1.5.0",
          "state": {
            "_model_module": "@jupyter-widgets/controls",
            "_model_module_version": "1.5.0",
            "_model_name": "ProgressStyleModel",
            "_view_count": null,
            "_view_module": "@jupyter-widgets/base",
            "_view_module_version": "1.2.0",
            "_view_name": "StyleView",
            "bar_color": null,
            "description_width": ""
          }
        },
        "a197de60da7b4988894b6e282f63fbc1": {
          "model_module": "@jupyter-widgets/base",
          "model_name": "LayoutModel",
          "model_module_version": "1.2.0",
          "state": {
            "_model_module": "@jupyter-widgets/base",
            "_model_module_version": "1.2.0",
            "_model_name": "LayoutModel",
            "_view_count": null,
            "_view_module": "@jupyter-widgets/base",
            "_view_module_version": "1.2.0",
            "_view_name": "LayoutView",
            "align_content": null,
            "align_items": null,
            "align_self": null,
            "border": null,
            "bottom": null,
            "display": null,
            "flex": null,
            "flex_flow": null,
            "grid_area": null,
            "grid_auto_columns": null,
            "grid_auto_flow": null,
            "grid_auto_rows": null,
            "grid_column": null,
            "grid_gap": null,
            "grid_row": null,
            "grid_template_areas": null,
            "grid_template_columns": null,
            "grid_template_rows": null,
            "height": null,
            "justify_content": null,
            "justify_items": null,
            "left": null,
            "margin": null,
            "max_height": null,
            "max_width": null,
            "min_height": null,
            "min_width": null,
            "object_fit": null,
            "object_position": null,
            "order": null,
            "overflow": null,
            "overflow_x": null,
            "overflow_y": null,
            "padding": null,
            "right": null,
            "top": null,
            "visibility": null,
            "width": null
          }
        },
        "1b078964b6b94be4b12476a5eba44725": {
          "model_module": "@jupyter-widgets/controls",
          "model_name": "DescriptionStyleModel",
          "model_module_version": "1.5.0",
          "state": {
            "_model_module": "@jupyter-widgets/controls",
            "_model_module_version": "1.5.0",
            "_model_name": "DescriptionStyleModel",
            "_view_count": null,
            "_view_module": "@jupyter-widgets/base",
            "_view_module_version": "1.2.0",
            "_view_name": "StyleView",
            "description_width": ""
          }
        },
        "f98d15710a314fd488fe926f7eff6c42": {
          "model_module": "@jupyter-widgets/controls",
          "model_name": "VBoxModel",
          "model_module_version": "1.5.0",
          "state": {
            "_dom_classes": [
              "widget-interact"
            ],
            "_model_module": "@jupyter-widgets/controls",
            "_model_module_version": "1.5.0",
            "_model_name": "VBoxModel",
            "_view_count": null,
            "_view_module": "@jupyter-widgets/controls",
            "_view_module_version": "1.5.0",
            "_view_name": "VBoxView",
            "box_style": "",
            "children": [
              "IPY_MODEL_a58f5466f5fa4765b39b0b802a41fb0c",
              "IPY_MODEL_e4c02345ba44410f95c506bf17eb5198"
            ],
            "layout": "IPY_MODEL_e35ee408320f40018d56d2971883f2d4"
          }
        },
        "a58f5466f5fa4765b39b0b802a41fb0c": {
          "model_module": "@jupyter-widgets/controls",
          "model_name": "ToggleButtonsModel",
          "model_module_version": "1.5.0",
          "state": {
            "_dom_classes": [],
            "_model_module": "@jupyter-widgets/controls",
            "_model_module_version": "1.5.0",
            "_model_name": "ToggleButtonsModel",
            "_options_labels": [
              "Pipeline Plot",
              "Hyperparameters",
              "AUC",
              "Confusion Matrix",
              "Threshold",
              "Precision Recall",
              "Prediction Error",
              "Class Report",
              "Feature Selection",
              "Learning Curve",
              "Manifold Learning",
              "Calibration Curve",
              "Validation Curve",
              "Dimensions",
              "Feature Importance",
              "Feature Importance (All)",
              "Decision Boundary",
              "Lift Chart",
              "Gain Chart",
              "Decision Tree",
              "KS Statistic Plot"
            ],
            "_view_count": null,
            "_view_module": "@jupyter-widgets/controls",
            "_view_module_version": "1.5.0",
            "_view_name": "ToggleButtonsView",
            "button_style": "",
            "description": "Plot Type:",
            "description_tooltip": null,
            "disabled": false,
            "icons": [
              ""
            ],
            "index": 13,
            "layout": "IPY_MODEL_9aede8dbf11a4c62a24c09a71d4a85aa",
            "style": "IPY_MODEL_2d7e559b3b4c4d96b415c2e84930f551",
            "tooltips": []
          }
        },
        "e4c02345ba44410f95c506bf17eb5198": {
          "model_module": "@jupyter-widgets/output",
          "model_name": "OutputModel",
          "model_module_version": "1.0.0",
          "state": {
            "_dom_classes": [],
            "_model_module": "@jupyter-widgets/output",
            "_model_module_version": "1.0.0",
            "_model_name": "OutputModel",
            "_view_count": null,
            "_view_module": "@jupyter-widgets/output",
            "_view_module_version": "1.0.0",
            "_view_name": "OutputView",
            "layout": "IPY_MODEL_ab91a7e928d149d69eb90b6a86bedec8",
            "msg_id": "",
            "outputs": [
              {
                "output_type": "display_data",
                "data": {
                  "text/plain": "<Figure size 800x550 with 1 Axes>",
                  "image/png": "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\n"
                },
                "metadata": {}
              }
            ]
          }
        },
        "e35ee408320f40018d56d2971883f2d4": {
          "model_module": "@jupyter-widgets/base",
          "model_name": "LayoutModel",
          "model_module_version": "1.2.0",
          "state": {
            "_model_module": "@jupyter-widgets/base",
            "_model_module_version": "1.2.0",
            "_model_name": "LayoutModel",
            "_view_count": null,
            "_view_module": "@jupyter-widgets/base",
            "_view_module_version": "1.2.0",
            "_view_name": "LayoutView",
            "align_content": null,
            "align_items": null,
            "align_self": null,
            "border": null,
            "bottom": null,
            "display": null,
            "flex": null,
            "flex_flow": null,
            "grid_area": null,
            "grid_auto_columns": null,
            "grid_auto_flow": null,
            "grid_auto_rows": null,
            "grid_column": null,
            "grid_gap": null,
            "grid_row": null,
            "grid_template_areas": null,
            "grid_template_columns": null,
            "grid_template_rows": null,
            "height": null,
            "justify_content": null,
            "justify_items": null,
            "left": null,
            "margin": null,
            "max_height": null,
            "max_width": null,
            "min_height": null,
            "min_width": null,
            "object_fit": null,
            "object_position": null,
            "order": null,
            "overflow": null,
            "overflow_x": null,
            "overflow_y": null,
            "padding": null,
            "right": null,
            "top": null,
            "visibility": null,
            "width": null
          }
        },
        "9aede8dbf11a4c62a24c09a71d4a85aa": {
          "model_module": "@jupyter-widgets/base",
          "model_name": "LayoutModel",
          "model_module_version": "1.2.0",
          "state": {
            "_model_module": "@jupyter-widgets/base",
            "_model_module_version": "1.2.0",
            "_model_name": "LayoutModel",
            "_view_count": null,
            "_view_module": "@jupyter-widgets/base",
            "_view_module_version": "1.2.0",
            "_view_name": "LayoutView",
            "align_content": null,
            "align_items": null,
            "align_self": null,
            "border": null,
            "bottom": null,
            "display": null,
            "flex": null,
            "flex_flow": null,
            "grid_area": null,
            "grid_auto_columns": null,
            "grid_auto_flow": null,
            "grid_auto_rows": null,
            "grid_column": null,
            "grid_gap": null,
            "grid_row": null,
            "grid_template_areas": null,
            "grid_template_columns": null,
            "grid_template_rows": null,
            "height": null,
            "justify_content": null,
            "justify_items": null,
            "left": null,
            "margin": null,
            "max_height": null,
            "max_width": null,
            "min_height": null,
            "min_width": null,
            "object_fit": null,
            "object_position": null,
            "order": null,
            "overflow": null,
            "overflow_x": null,
            "overflow_y": null,
            "padding": null,
            "right": null,
            "top": null,
            "visibility": null,
            "width": null
          }
        },
        "2d7e559b3b4c4d96b415c2e84930f551": {
          "model_module": "@jupyter-widgets/controls",
          "model_name": "ToggleButtonsStyleModel",
          "model_module_version": "1.5.0",
          "state": {
            "_model_module": "@jupyter-widgets/controls",
            "_model_module_version": "1.5.0",
            "_model_name": "ToggleButtonsStyleModel",
            "_view_count": null,
            "_view_module": "@jupyter-widgets/base",
            "_view_module_version": "1.2.0",
            "_view_name": "StyleView",
            "button_width": "",
            "description_width": "",
            "font_weight": ""
          }
        },
        "ab91a7e928d149d69eb90b6a86bedec8": {
          "model_module": "@jupyter-widgets/base",
          "model_name": "LayoutModel",
          "model_module_version": "1.2.0",
          "state": {
            "_model_module": "@jupyter-widgets/base",
            "_model_module_version": "1.2.0",
            "_model_name": "LayoutModel",
            "_view_count": null,
            "_view_module": "@jupyter-widgets/base",
            "_view_module_version": "1.2.0",
            "_view_name": "LayoutView",
            "align_content": null,
            "align_items": null,
            "align_self": null,
            "border": null,
            "bottom": null,
            "display": null,
            "flex": null,
            "flex_flow": null,
            "grid_area": null,
            "grid_auto_columns": null,
            "grid_auto_flow": null,
            "grid_auto_rows": null,
            "grid_column": null,
            "grid_gap": null,
            "grid_row": null,
            "grid_template_areas": null,
            "grid_template_columns": null,
            "grid_template_rows": null,
            "height": null,
            "justify_content": null,
            "justify_items": null,
            "left": null,
            "margin": null,
            "max_height": null,
            "max_width": null,
            "min_height": null,
            "min_width": null,
            "object_fit": null,
            "object_position": null,
            "order": null,
            "overflow": null,
            "overflow_x": null,
            "overflow_y": null,
            "padding": null,
            "right": null,
            "top": null,
            "visibility": null,
            "width": null
          }
        }
      }
    }
  },
  "cells": [
    {
      "cell_type": "markdown",
      "metadata": {
        "id": "view-in-github",
        "colab_type": "text"
      },
      "source": [
        "<a href=\"https://colab.research.google.com/github/dr-mushtaq/Python-Notes/blob/master/PyCaret_.ipynb\" target=\"_parent\"><img src=\"https://colab.research.google.com/assets/colab-badge.svg\" alt=\"Open In Colab\"/></a>"
      ]
    },
    {
      "cell_type": "markdown",
      "source": [
        "#<p style=\"font-family:JetBrains Mono; font-weight:normal; letter-spacing: 1px; color:#207d06; font-size:100%; text-align:left;padding: 0px; border-bottom: 3px solid #207d06;\">**Introduction**</p>"
      ],
      "metadata": {
        "id": "9d3sIjNFNkA8"
      }
    },
    {
      "cell_type": "markdown",
      "source": [
        "Automated machine learning (AutoML) enables you to automate machine learning processes. There is a wide range of automation tools, created for different purposes. In general, machine learning tools are typically categorized into three categories of benefits—improving productivity, enforcing standardization, and promoting democratization.\n",
        "\n",
        "This article explains what is AutoML, key advantages of AutoML, and what you can actually automate in machine learning. Including a review of seven top AutoML tools [12]"
      ],
      "metadata": {
        "id": "q7AUygoDNsfC"
      }
    },
    {
      "cell_type": "markdown",
      "source": [
        "Automated machine learning (AutoML) is the use of automation, machine learning, and best practices to make ML accessible to a wider range of users. It is designed to help organizations speed up their training and use of ML models despite limited or a lack of access to ML experts, such as data scientists.\n",
        "\n",
        "AutoML enables organizations to build and deploy models using templates, frameworks, and predefined processes. This speeds time to completion and helps ensure that models are as functional as possible[12]"
      ],
      "metadata": {
        "id": "xP4-8aHlN6Nq"
      }
    },
    {
      "cell_type": "markdown",
      "source": [
        "**Advantages of AutoML**"
      ],
      "metadata": {
        "id": "fSzeHb64OJ_B"
      }
    },
    {
      "cell_type": "markdown",
      "source": [
        "There are three main advantages to incorporating AutoML. These are:\n",
        "\n",
        "- Productivity—automation reduces the manual resources needed to monitor and perform repetitive ML tasks. This frees teams to focus on model refinement and packaging.\n",
        "- Standardization—automated pipelines help reduce the chance of configuration errors and ensure that training and tests are performed uniformly.\n",
        "- Democratization—AutoML lowers the barrier to entry for organizations with little to no ML expertise. This increases competitiveness and can increase innovation."
      ],
      "metadata": {
        "id": "1Hya33KoQ-AX"
      }
    },
    {
      "cell_type": "markdown",
      "source": [
        "**What Can We Automate in Machine Learning?**"
      ],
      "metadata": {
        "id": "lctIO_HjRH25"
      }
    },
    {
      "cell_type": "markdown",
      "source": [
        "Although it might be nice to fully automate ML processes, that is not what AutoML does. Rather, it focuses on a few areas with high repetition. These areas include the following."
      ],
      "metadata": {
        "id": "8c5eX3EZRMPW"
      }
    },
    {
      "cell_type": "markdown",
      "source": [
        "**Hyperparameter optimization**\n",
        "\n",
        "Hyperparameters are values that define how a model is trained and directly impact the accuracy of training. For example, the rate of learning, number of hidden units or layers, activations functions, or the number of epochs.\n",
        "\n",
        "Hyperparameter optimization is a process of running your algorithm with different combinations of hyperparameters. This is done to determine which set produces the most accurate result. This process is performed with search algorithms, such as grid search, random search, or Bayesian methods.[12]"
      ],
      "metadata": {
        "id": "8WFkHnk4ROD-"
      }
    },
    {
      "cell_type": "markdown",
      "source": [
        "**Model selection**\n",
        "\n",
        "Model selection is a process of narrowing down candidate models for your training. It applies models to data to determine which model produces the optimum combination of performance, maintainability, and complexity. It is impacted by what resources are available to you and determines how your ML pipeline is structured.\n",
        "\n",
        "Model selection is automated similarly to hyperparameter optimization, by running through multiple models and comparing the results. It often involves the same sort of search methods as hyperparameter optimization as well. However, it may also include the use of more extensive filters, including Bayesian Information Criterion (BIC) or Akaike Information Criterion (AIC).[12]"
      ],
      "metadata": {
        "id": "44ZNgoSjRWj2"
      }
    },
    {
      "cell_type": "markdown",
      "source": [
        "**Feature selection**\n",
        "\n",
        "Features are the data points used by your model to classify datasets. Feature selection involves defining how many features are going to be used, which features, and how defined those features are. The features you select directly impact the complexity of your model and its performance.\n",
        "\n",
        "Feature selection is automated through the application of algorithms during testing. For example, by using wrapper, filter, or embedded algorithms. During testing, features and combinations of features are evaluated to determine how accurate classifications or predictions are based on those features."
      ],
      "metadata": {
        "id": "5YjopMD_Rd7t"
      }
    },
    {
      "cell_type": "markdown",
      "source": [
        "**Top AutoML Tools**"
      ],
      "metadata": {
        "id": "JNCfzaPVRlJA"
      }
    },
    {
      "cell_type": "markdown",
      "source": [
        "**Run:AI** is a proprietary platform for automating machine learning infrastructure. In terms of AutoML the platform offers controls for automating resource management, as well as workload orchestration for your entire machine learning infrastructure.\n",
        "\n",
        "You can use Run:AI to pool GPU compute resources, set up GPU quotas, and continuously change resource allocation. These features enable you to actually optimize your compute resources, and ensure even highly intensive deep learning models consume resources at scale.[12]"
      ],
      "metadata": {
        "id": "JUH4y5dXRtUF"
      }
    },
    {
      "cell_type": "markdown",
      "source": [
        "**2. AutoKeras**\n",
        "\n",
        "AutoKeras is an open source library based on Keras that you can use for classification and regression of images, text, and structured data. It enables you to use pre-built blocks to construct a model, leaving you to focus on high-level architecture. AutoKeras supports use with Python 3.5 and up and TensorFlow 2.1.0 and up.[12]"
      ],
      "metadata": {
        "id": "K2XtOW87Xw5L"
      }
    },
    {
      "cell_type": "markdown",
      "source": [
        "**3. Auto-WEKA**\n",
        "\n",
        "Auto-WEKA is an open source library that you can use to optimize your hyperparameter selection. It uses Bayesian optimization to select a learning algorithm and hyperparameters from those available in the WEKA package. Auto-WEKA has the same requirements as WEKA and includes a graphical user interface (GUI) for ease of use.[12]"
      ],
      "metadata": {
        "id": "qGUfbgPQX6-5"
      }
    },
    {
      "cell_type": "markdown",
      "source": [
        "**4. DataRobot Automated Machine Learning**\n",
        "\n",
        "DataRobot is a proprietary platform that you can use to automate and optimize model creation. It is designed for end-to-end support of model development, training, and deployment.\n",
        "\n",
        "DataRobot provides a range of features, including for data formatting, feature engineering, model selection, hyperparameter tuning, and monitoring. It also offers pretrained models, a data catalog, and a user friendly GUI with visualizations of the entire training and deployment process.[12]"
      ],
      "metadata": {
        "id": "n1y4nf9YYDj_"
      }
    },
    {
      "cell_type": "markdown",
      "source": [
        "**5. H20 AutoML**\n",
        "\n",
        "H2O is an open source platform for ML that is distributed and runs in-memory. It supports a wide range of ML and statistical algorithms, including deep learning, generalized linear models, and gradient boosted machines. While H2O is not automated, it includes a paid add-on, called H2O AutoML.\n",
        "\n",
        "H20 AutoML enables you to train and tune models with automatic feature selection and extraction, hyperparameter optimization, and use of ensembles (multiple models for greater performance). You can use H20 AutoML from a web GUI. It integrates with Hadoop, Spark, and Kubernetes."
      ],
      "metadata": {
        "id": "2zCAvYLRYPZO"
      }
    },
    {
      "cell_type": "markdown",
      "source": [
        "**6. MLBox**\n",
        "\n",
        "MLBox is an open source Python library that you can use to automate many aspects of model training. These aspects include data preprocessing, feature selection, and hyperparameter optimization. It also includes predictive models for regression and classification, such as LightGBM, Stacking, and Deep Learning."
      ],
      "metadata": {
        "id": "4fL8WAYLYU9u"
      }
    },
    {
      "cell_type": "markdown",
      "source": [
        "**7. auto-sklearn**\n",
        "\n",
        "auto-sklearn is an open source toolkit based on scikit-learn that you can use to perform model selection, feature engineering, and hyperparameter tuning. It includes features that enable you to leverage Bayesian optimization, ensembles, and meta-learning for more accurate models and training.\n",
        "\n",
        "When using auto-sklearn, you can restrict the time and memory limits of scikit-learn, restrict your searchspace, and control preprocessing. You also have the ability to inspect training statistics and results and perform parallel computations."
      ],
      "metadata": {
        "id": "PT4NnnAaYafT"
      }
    },
    {
      "cell_type": "markdown",
      "metadata": {
        "id": "YX1XA2lOe_hC"
      },
      "source": [
        "#<p style=\"font-family:JetBrains Mono; font-weight:normal; letter-spacing: 1px; color:#207d06; font-size:100%; text-align:left;padding: 0px; border-bottom: 3px solid #207d06;\">**Table of Content**</p>"
      ]
    },
    {
      "cell_type": "markdown",
      "metadata": {
        "id": "iRvGGuOwfGui"
      },
      "source": [
        "\n",
        "\n",
        "\n",
        " 1. Import Library\n",
        " 2. Installing Pycaret\n",
        " 3. Import necessary packages\n",
        " 4. Dataset\n",
        " 5. Classification\n",
        "\n"
      ]
    },
    {
      "cell_type": "markdown",
      "metadata": {
        "id": "o2tTizNTf7o3"
      },
      "source": [
        "Data preprocessing is an integral step in Machine Learning as the quality of data and the useful information that can be derived from it directly affects the ability of our model to learn; therefore, it is extremely important that we preprocess our data before feeding it into our model."
      ]
    },
    {
      "cell_type": "markdown",
      "metadata": {
        "id": "WZ0HWWxbvs86"
      },
      "source": [
        "#<p style=\"font-family:JetBrains Mono; font-weight:normal; letter-spacing: 1px; color:#207d06; font-size:100%; text-align:left;padding: 0px; border-bottom: 3px solid #207d06;\">**Import libaray**</p>"
      ]
    },
    {
      "cell_type": "code",
      "metadata": {
        "id": "LOHSx5sKvwti"
      },
      "source": [
        "import numpy as np\n",
        "import pandas as pd\n",
        "import seaborn as sns\n",
        "import matplotlib.pyplot as plt\n",
        "from prettytable import PrettyTable\n",
        "from sklearn.metrics import roc_curve, auc\n",
        "from mlxtend.plotting import plot_confusion_matrix\n",
        "from sklearn.model_selection import train_test_split\n",
        "from sklearn.metrics import classification_report, confusion_matrix\n",
        "from sklearn.tree import DecisionTreeClassifier\n",
        "from sklearn.ensemble import RandomForestClassifier\n",
        "from sklearn.svm import LinearSVC\n",
        "from sklearn.linear_model import LogisticRegression\n",
        "from sklearn.neighbors import KNeighborsClassifier\n",
        "import warnings\n",
        "warnings.filterwarnings(\"ignore\")\n",
        "#from pycaret.utils import enable_colab\n",
        "#enable_colab()"
      ],
      "execution_count": 1,
      "outputs": []
    },
    {
      "cell_type": "markdown",
      "metadata": {
        "id": "cvDMiUrcxdQz"
      },
      "source": [
        "# **PyCaret**"
      ]
    },
    {
      "cell_type": "markdown",
      "metadata": {
        "id": "MQizT2BkkvfW"
      },
      "source": [
        "PyCaret is an open-source, low-code machine learning library and end-to-end model management tool built-in Python for automating machine learning workflows. It is incredibly popular for its ease of use, simplicity, and ability to build and deploy end-to-end ML prototypes quickly and efficiently.PyCaret is an alternate low-code library that can be used to replace hundreds of lines of code with few lines only. This makes the experiment cycle exponentially fast and efficient [1]"
      ]
    },
    {
      "cell_type": "markdown",
      "metadata": {
        "id": "NbPQUl3Tk-y3"
      },
      "source": [
        "PyCaret is simple and easy to use. All the operations performed in PyCaret are sequentially stored in a Pipeline that is fully automated for deployment. Whether it’s imputing missing values, one-hot-encoding, transforming categorical data, feature engineering, or even hyperparameter tuning, PyCaret automates all of it."
      ]
    },
    {
      "cell_type": "markdown",
      "metadata": {
        "id": "q_JOM0_SsocA"
      },
      "source": [
        "PyCaret is an open-source, low-code machine learning library and end-to-end model management tool built-in Python for automating machine learning workflows. It is known for its ease of use, simplicity, and ability to quickly and efficiently build and deploy end-to-end ML prototypes.\n",
        "PyCaret is an alternate low-code library that can replace hundreds of code lines with few lines only. This makes the experiment cycle exponentially fast and efficient[4]"
      ]
    },
    {
      "cell_type": "markdown",
      "metadata": {
        "id": "Chq5x0vRtHVH"
      },
      "source": [
        "![](https://drive.google.com/uc?export=view&id=1qj-WAAtNj7hDl6-o0Jg3gGS4jR1IaCGz)"
      ]
    },
    {
      "cell_type": "markdown",
      "metadata": {
        "id": "AQ-H819ny8GQ"
      },
      "source": [
        "#<p style=\"font-family:JetBrains Mono; font-weight:normal; letter-spacing: 1px; color:#207d06; font-size:100%; text-align:left;padding: 0px; border-bottom: 3px solid #207d06;\">**Installing Pycaret**</p>"
      ]
    },
    {
      "cell_type": "code",
      "metadata": {
        "id": "n4d68BKRx1Tu",
        "colab": {
          "base_uri": "https://localhost:8080/",
          "height": 1000
        },
        "outputId": "8234a1f6-5d4a-468e-e509-8992f5bc560e"
      },
      "source": [
        "#capture #suppresses the displays\n",
        "# install the full version\n",
        "!pip install pycaret[full]"
      ],
      "execution_count": 2,
      "outputs": [
        {
          "output_type": "stream",
          "name": "stdout",
          "text": [
            "Collecting pycaret[full]\n",
            "  Downloading pycaret-3.3.2-py3-none-any.whl.metadata (17 kB)\n",
            "Requirement already satisfied: ipython>=5.5.0 in /usr/local/lib/python3.11/dist-packages (from pycaret[full]) (7.34.0)\n",
            "Requirement already satisfied: ipywidgets>=7.6.5 in /usr/local/lib/python3.11/dist-packages (from pycaret[full]) (7.7.1)\n",
            "Requirement already satisfied: tqdm>=4.62.0 in /usr/local/lib/python3.11/dist-packages (from pycaret[full]) (4.67.1)\n",
            "Collecting numpy<1.27,>=1.21 (from pycaret[full])\n",
            "  Downloading numpy-1.26.4-cp311-cp311-manylinux_2_17_x86_64.manylinux2014_x86_64.whl.metadata (61 kB)\n",
            "\u001b[2K     \u001b[90m━━━━━━━━━━━━━━━━━━━━━━━━━━━━━━━━━━━━━━━━\u001b[0m \u001b[32m61.0/61.0 kB\u001b[0m \u001b[31m2.2 MB/s\u001b[0m eta \u001b[36m0:00:00\u001b[0m\n",
            "\u001b[?25hCollecting pandas<2.2.0 (from pycaret[full])\n",
            "  Downloading pandas-2.1.4-cp311-cp311-manylinux_2_17_x86_64.manylinux2014_x86_64.whl.metadata (18 kB)\n",
            "Requirement already satisfied: jinja2>=3 in /usr/local/lib/python3.11/dist-packages (from pycaret[full]) (3.1.6)\n",
            "Collecting scipy<=1.11.4,>=1.6.1 (from pycaret[full])\n",
            "  Downloading scipy-1.11.4-cp311-cp311-manylinux_2_17_x86_64.manylinux2014_x86_64.whl.metadata (60 kB)\n",
            "\u001b[2K     \u001b[90m━━━━━━━━━━━━━━━━━━━━━━━━━━━━━━━━━━━━━━━━\u001b[0m \u001b[32m60.4/60.4 kB\u001b[0m \u001b[31m3.6 MB/s\u001b[0m eta \u001b[36m0:00:00\u001b[0m\n",
            "\u001b[?25hCollecting joblib<1.4,>=1.2.0 (from pycaret[full])\n",
            "  Downloading joblib-1.3.2-py3-none-any.whl.metadata (5.4 kB)\n",
            "Requirement already satisfied: scikit-learn>1.4.0 in /usr/local/lib/python3.11/dist-packages (from pycaret[full]) (1.6.1)\n",
            "Collecting pyod>=1.1.3 (from pycaret[full])\n",
            "  Downloading pyod-2.0.3.tar.gz (169 kB)\n",
            "\u001b[2K     \u001b[90m━━━━━━━━━━━━━━━━━━━━━━━━━━━━━━━━━━━━━━━━\u001b[0m \u001b[32m169.6/169.6 kB\u001b[0m \u001b[31m6.5 MB/s\u001b[0m eta \u001b[36m0:00:00\u001b[0m\n",
            "\u001b[?25h  Preparing metadata (setup.py) ... \u001b[?25l\u001b[?25hdone\n",
            "Requirement already satisfied: imbalanced-learn>=0.12.0 in /usr/local/lib/python3.11/dist-packages (from pycaret[full]) (0.13.0)\n",
            "Collecting category-encoders>=2.4.0 (from pycaret[full])\n",
            "  Downloading category_encoders-2.8.1-py3-none-any.whl.metadata (7.9 kB)\n",
            "Requirement already satisfied: lightgbm>=3.0.0 in /usr/local/lib/python3.11/dist-packages (from pycaret[full]) (4.5.0)\n",
            "Requirement already satisfied: numba>=0.55.0 in /usr/local/lib/python3.11/dist-packages (from pycaret[full]) (0.60.0)\n",
            "Requirement already satisfied: requests>=2.27.1 in /usr/local/lib/python3.11/dist-packages (from pycaret[full]) (2.32.3)\n",
            "Requirement already satisfied: psutil>=5.9.0 in /usr/local/lib/python3.11/dist-packages (from pycaret[full]) (5.9.5)\n",
            "Requirement already satisfied: markupsafe>=2.0.1 in /usr/local/lib/python3.11/dist-packages (from pycaret[full]) (3.0.2)\n",
            "Requirement already satisfied: importlib-metadata>=4.12.0 in /usr/local/lib/python3.11/dist-packages (from pycaret[full]) (8.6.1)\n",
            "Requirement already satisfied: nbformat>=4.2.0 in /usr/local/lib/python3.11/dist-packages (from pycaret[full]) (5.10.4)\n",
            "Requirement already satisfied: cloudpickle in /usr/local/lib/python3.11/dist-packages (from pycaret[full]) (3.1.1)\n",
            "Collecting deprecation>=2.1.0 (from pycaret[full])\n",
            "  Downloading deprecation-2.1.0-py2.py3-none-any.whl.metadata (4.6 kB)\n",
            "Collecting xxhash (from pycaret[full])\n",
            "  Downloading xxhash-3.5.0-cp311-cp311-manylinux_2_17_x86_64.manylinux2014_x86_64.whl.metadata (12 kB)\n",
            "Collecting matplotlib<3.8.0 (from pycaret[full])\n",
            "  Downloading matplotlib-3.7.5-cp311-cp311-manylinux_2_17_x86_64.manylinux2014_x86_64.whl.metadata (5.7 kB)\n",
            "Collecting scikit-plot>=0.3.7 (from pycaret[full])\n",
            "  Downloading scikit_plot-0.3.7-py3-none-any.whl.metadata (7.1 kB)\n",
            "Requirement already satisfied: yellowbrick>=1.4 in /usr/local/lib/python3.11/dist-packages (from pycaret[full]) (1.5)\n",
            "Requirement already satisfied: plotly>=5.14.0 in /usr/local/lib/python3.11/dist-packages (from pycaret[full]) (5.24.1)\n",
            "Collecting kaleido>=0.2.1 (from pycaret[full])\n",
            "  Downloading kaleido-0.2.1-py2.py3-none-manylinux1_x86_64.whl.metadata (15 kB)\n",
            "Collecting schemdraw==0.15 (from pycaret[full])\n",
            "  Downloading schemdraw-0.15-py3-none-any.whl.metadata (2.2 kB)\n",
            "Collecting plotly-resampler>=0.8.3.1 (from pycaret[full])\n",
            "  Downloading plotly_resampler-0.10.0-py3-none-any.whl.metadata (13 kB)\n",
            "Requirement already satisfied: statsmodels>=0.12.1 in /usr/local/lib/python3.11/dist-packages (from pycaret[full]) (0.14.4)\n",
            "Collecting sktime==0.26.0 (from pycaret[full])\n",
            "  Downloading sktime-0.26.0-py3-none-any.whl.metadata (29 kB)\n",
            "Collecting tbats>=1.1.3 (from pycaret[full])\n",
            "  Downloading tbats-1.1.3-py3-none-any.whl.metadata (3.8 kB)\n",
            "Collecting pmdarima>=2.0.4 (from pycaret[full])\n",
            "  Downloading pmdarima-2.0.4-cp311-cp311-manylinux_2_17_x86_64.manylinux2014_x86_64.manylinux_2_28_x86_64.whl.metadata (7.8 kB)\n",
            "Collecting wurlitzer (from pycaret[full])\n",
            "  Downloading wurlitzer-3.1.1-py3-none-any.whl.metadata (2.5 kB)\n",
            "Collecting shap~=0.44.0 (from pycaret[full])\n",
            "  Downloading shap-0.44.1-cp311-cp311-manylinux_2_12_x86_64.manylinux2010_x86_64.manylinux_2_17_x86_64.manylinux2014_x86_64.whl.metadata (24 kB)\n",
            "Collecting interpret>=0.2.7 (from pycaret[full])\n",
            "  Downloading interpret-0.6.9-py3-none-any.whl.metadata (1.0 kB)\n",
            "Requirement already satisfied: umap-learn>=0.5.2 in /usr/local/lib/python3.11/dist-packages (from pycaret[full]) (0.5.7)\n",
            "Requirement already satisfied: pyyaml in /usr/local/lib/python3.11/dist-packages (from pycaret[full]) (6.0.2)\n",
            "Collecting ydata-profiling>=4.3.1 (from pycaret[full])\n",
            "  Downloading ydata_profiling-4.15.0-py2.py3-none-any.whl.metadata (22 kB)\n",
            "Collecting explainerdashboard>=0.3.8 (from pycaret[full])\n",
            "  Downloading explainerdashboard-0.4.8-py3-none-any.whl.metadata (3.8 kB)\n",
            "Collecting fairlearn==0.7.0 (from pycaret[full])\n",
            "  Downloading fairlearn-0.7.0-py3-none-any.whl.metadata (7.3 kB)\n",
            "Collecting kmodes>=0.11.1 (from pycaret[full])\n",
            "  Downloading kmodes-0.12.2-py2.py3-none-any.whl.metadata (8.1 kB)\n",
            "Requirement already satisfied: mlxtend>=0.19.0 in /usr/local/lib/python3.11/dist-packages (from pycaret[full]) (0.23.4)\n",
            "Collecting statsforecast<1.6.0,>=0.5.5 (from pycaret[full])\n",
            "  Downloading statsforecast-1.5.0-py3-none-any.whl.metadata (23 kB)\n",
            "Requirement already satisfied: hyperopt>=0.2.7 in /usr/local/lib/python3.11/dist-packages (from pycaret[full]) (0.2.7)\n",
            "Collecting optuna>=3.0.0 (from pycaret[full])\n",
            "  Downloading optuna-4.2.1-py3-none-any.whl.metadata (17 kB)\n",
            "Collecting optuna-integration (from pycaret[full])\n",
            "  Downloading optuna_integration-4.2.1-py3-none-any.whl.metadata (12 kB)\n",
            "Collecting scikit-optimize>=0.9.0 (from pycaret[full])\n",
            "  Downloading scikit_optimize-0.10.2-py2.py3-none-any.whl.metadata (9.7 kB)\n",
            "Collecting mlflow>=2.0.0 (from pycaret[full])\n",
            "  Downloading mlflow-2.21.0-py3-none-any.whl.metadata (30 kB)\n",
            "Collecting gradio>=3.50.2 (from pycaret[full])\n",
            "  Downloading gradio-5.22.0-py3-none-any.whl.metadata (16 kB)\n",
            "Collecting boto3>=1.24.56 (from pycaret[full])\n",
            "  Downloading boto3-1.37.16-py3-none-any.whl.metadata (6.7 kB)\n",
            "Collecting fastapi (from pycaret[full])\n",
            "  Downloading fastapi-0.115.11-py3-none-any.whl.metadata (27 kB)\n",
            "Collecting uvicorn>=0.17.6 (from pycaret[full])\n",
            "  Downloading uvicorn-0.34.0-py3-none-any.whl.metadata (6.5 kB)\n",
            "Collecting m2cgen>=0.9.0 (from pycaret[full])\n",
            "  Downloading m2cgen-0.10.0-py3-none-any.whl.metadata (9.9 kB)\n",
            "Collecting evidently~=0.4.16 (from pycaret[full])\n",
            "  Downloading evidently-0.4.40-py3-none-any.whl.metadata (11 kB)\n",
            "Requirement already satisfied: dask>=2024.4.1 in /usr/local/lib/python3.11/dist-packages (from pycaret[full]) (2024.12.1)\n",
            "Requirement already satisfied: distributed>=2024.4.1 in /usr/local/lib/python3.11/dist-packages (from pycaret[full]) (2024.12.1)\n",
            "Collecting fugue~=0.8.0 (from pycaret[full])\n",
            "  Downloading fugue-0.8.7-py3-none-any.whl.metadata (17 kB)\n",
            "Requirement already satisfied: flask in /usr/local/lib/python3.11/dist-packages (from pycaret[full]) (3.1.0)\n",
            "Collecting Werkzeug<3.0,>=2.2 (from pycaret[full])\n",
            "  Downloading werkzeug-2.3.8-py3-none-any.whl.metadata (4.1 kB)\n",
            "Collecting pytest<8.0.0 (from pycaret[full])\n",
            "  Downloading pytest-7.4.4-py3-none-any.whl.metadata (7.9 kB)\n",
            "Collecting moto<5.0.0 (from pycaret[full])\n",
            "  Downloading moto-4.2.14-py2.py3-none-any.whl.metadata (12 kB)\n",
            "Collecting dash[testing] (from pycaret[full])\n",
            "  Downloading dash-3.0.0-py3-none-any.whl.metadata (10 kB)\n",
            "Collecting scikit-learn-intelex>=2023.0.1 (from pycaret[full])\n",
            "  Downloading scikit_learn_intelex-2025.2.0-py311-none-manylinux_2_28_x86_64.whl.metadata (12 kB)\n",
            "Collecting catboost>=0.23.2 (from pycaret[full])\n",
            "  Downloading catboost-1.2.7-cp311-cp311-manylinux2014_x86_64.whl.metadata (1.2 kB)\n",
            "Requirement already satisfied: xgboost>=1.1.0 in /usr/local/lib/python3.11/dist-packages (from pycaret[full]) (2.1.4)\n",
            "Requirement already satisfied: packaging in /usr/local/lib/python3.11/dist-packages (from sktime==0.26.0->pycaret[full]) (24.2)\n",
            "Collecting scikit-base<0.8.0 (from sktime==0.26.0->pycaret[full])\n",
            "  Downloading scikit_base-0.7.8-py3-none-any.whl.metadata (8.8 kB)\n",
            "Collecting scikit-learn>1.4.0 (from pycaret[full])\n",
            "  Downloading scikit_learn-1.4.2-cp311-cp311-manylinux_2_17_x86_64.manylinux2014_x86_64.whl.metadata (11 kB)\n",
            "Collecting botocore<1.38.0,>=1.37.16 (from boto3>=1.24.56->pycaret[full])\n",
            "  Downloading botocore-1.37.16-py3-none-any.whl.metadata (5.7 kB)\n",
            "Collecting jmespath<2.0.0,>=0.7.1 (from boto3>=1.24.56->pycaret[full])\n",
            "  Downloading jmespath-1.0.1-py3-none-any.whl.metadata (7.6 kB)\n",
            "Collecting s3transfer<0.12.0,>=0.11.0 (from boto3>=1.24.56->pycaret[full])\n",
            "  Downloading s3transfer-0.11.4-py3-none-any.whl.metadata (1.7 kB)\n",
            "Requirement already satisfied: graphviz in /usr/local/lib/python3.11/dist-packages (from catboost>=0.23.2->pycaret[full]) (0.20.3)\n",
            "Requirement already satisfied: six in /usr/local/lib/python3.11/dist-packages (from catboost>=0.23.2->pycaret[full]) (1.17.0)\n",
            "Requirement already satisfied: patsy>=0.5.1 in /usr/local/lib/python3.11/dist-packages (from category-encoders>=2.4.0->pycaret[full]) (1.0.1)\n",
            "INFO: pip is looking at multiple versions of category-encoders to determine which version is compatible with other requirements. This could take a while.\n",
            "Collecting category-encoders>=2.4.0 (from pycaret[full])\n",
            "  Downloading category_encoders-2.8.0-py3-none-any.whl.metadata (7.9 kB)\n",
            "  Downloading category_encoders-2.7.0-py3-none-any.whl.metadata (7.9 kB)\n",
            "Requirement already satisfied: click>=8.1 in /usr/local/lib/python3.11/dist-packages (from dask>=2024.4.1->pycaret[full]) (8.1.8)\n",
            "Requirement already satisfied: fsspec>=2021.09.0 in /usr/local/lib/python3.11/dist-packages (from dask>=2024.4.1->pycaret[full]) (2024.10.0)\n",
            "Requirement already satisfied: partd>=1.4.0 in /usr/local/lib/python3.11/dist-packages (from dask>=2024.4.1->pycaret[full]) (1.4.2)\n",
            "Requirement already satisfied: toolz>=0.10.0 in /usr/local/lib/python3.11/dist-packages (from dask>=2024.4.1->pycaret[full]) (0.12.1)\n",
            "Requirement already satisfied: locket>=1.0.0 in /usr/local/lib/python3.11/dist-packages (from distributed>=2024.4.1->pycaret[full]) (1.0.0)\n",
            "Requirement already satisfied: msgpack>=1.0.2 in /usr/local/lib/python3.11/dist-packages (from distributed>=2024.4.1->pycaret[full]) (1.1.0)\n",
            "Requirement already satisfied: sortedcontainers>=2.0.5 in /usr/local/lib/python3.11/dist-packages (from distributed>=2024.4.1->pycaret[full]) (2.4.0)\n",
            "Requirement already satisfied: tblib>=1.6.0 in /usr/local/lib/python3.11/dist-packages (from distributed>=2024.4.1->pycaret[full]) (3.0.0)\n",
            "Requirement already satisfied: tornado>=6.2.0 in /usr/local/lib/python3.11/dist-packages (from distributed>=2024.4.1->pycaret[full]) (6.4.2)\n",
            "Requirement already satisfied: urllib3>=1.26.5 in /usr/local/lib/python3.11/dist-packages (from distributed>=2024.4.1->pycaret[full]) (2.3.0)\n",
            "Requirement already satisfied: zict>=3.0.0 in /usr/local/lib/python3.11/dist-packages (from distributed>=2024.4.1->pycaret[full]) (3.0.0)\n",
            "Requirement already satisfied: nltk>=3.6.7 in /usr/local/lib/python3.11/dist-packages (from evidently~=0.4.16->pycaret[full]) (3.9.1)\n",
            "Requirement already satisfied: pydantic>=1.10.13 in /usr/local/lib/python3.11/dist-packages (from evidently~=0.4.16->pycaret[full]) (2.10.6)\n",
            "Collecting litestar>=2.8.3 (from evidently~=0.4.16->pycaret[full])\n",
            "  Downloading litestar-2.15.1-py3-none-any.whl.metadata (109 kB)\n",
            "\u001b[2K     \u001b[90m━━━━━━━━━━━━━━━━━━━━━━━━━━━━━━━━━━━━━━━━\u001b[0m \u001b[32m109.9/109.9 kB\u001b[0m \u001b[31m8.5 MB/s\u001b[0m eta \u001b[36m0:00:00\u001b[0m\n",
            "\u001b[?25hCollecting typing-inspect>=0.9.0 (from evidently~=0.4.16->pycaret[full])\n",
            "  Downloading typing_inspect-0.9.0-py3-none-any.whl.metadata (1.5 kB)\n",
            "Collecting watchdog>=3.0.0 (from evidently~=0.4.16->pycaret[full])\n",
            "  Downloading watchdog-6.0.0-py3-none-manylinux2014_x86_64.whl.metadata (44 kB)\n",
            "\u001b[2K     \u001b[90m━━━━━━━━━━━━━━━━━━━━━━━━━━━━━━━━━━━━━━━━\u001b[0m \u001b[32m44.3/44.3 kB\u001b[0m \u001b[31m2.5 MB/s\u001b[0m eta \u001b[36m0:00:00\u001b[0m\n",
            "\u001b[?25hRequirement already satisfied: typer>=0.3 in /usr/local/lib/python3.11/dist-packages (from evidently~=0.4.16->pycaret[full]) (0.15.2)\n",
            "Requirement already satisfied: rich>=13 in /usr/local/lib/python3.11/dist-packages (from evidently~=0.4.16->pycaret[full]) (13.9.4)\n",
            "Collecting iterative-telemetry>=0.0.5 (from evidently~=0.4.16->pycaret[full])\n",
            "  Downloading iterative_telemetry-0.0.10-py3-none-any.whl.metadata (4.1 kB)\n",
            "Collecting dynaconf>=3.2.4 (from evidently~=0.4.16->pycaret[full])\n",
            "  Downloading dynaconf-3.2.10-py2.py3-none-any.whl.metadata (9.1 kB)\n",
            "Requirement already satisfied: certifi>=2024.7.4 in /usr/local/lib/python3.11/dist-packages (from evidently~=0.4.16->pycaret[full]) (2025.1.31)\n",
            "Collecting ujson>=5.4.0 (from evidently~=0.4.16->pycaret[full])\n",
            "  Downloading ujson-5.10.0-cp311-cp311-manylinux_2_17_x86_64.manylinux2014_x86_64.whl.metadata (9.3 kB)\n",
            "Collecting uuid6>=2024.7.10 (from evidently~=0.4.16->pycaret[full])\n",
            "  Downloading uuid6-2024.7.10-py3-none-any.whl.metadata (8.6 kB)\n",
            "Requirement already satisfied: cryptography>=43.0.1 in /usr/local/lib/python3.11/dist-packages (from evidently~=0.4.16->pycaret[full]) (43.0.3)\n",
            "Collecting dash-auth (from explainerdashboard>=0.3.8->pycaret[full])\n",
            "  Downloading dash_auth-2.3.0-py3-none-any.whl.metadata (10 kB)\n",
            "Collecting dash-bootstrap-components>=1 (from explainerdashboard>=0.3.8->pycaret[full])\n",
            "  Downloading dash_bootstrap_components-2.0.0-py3-none-any.whl.metadata (18 kB)\n",
            "Collecting dtreeviz>=2.1 (from explainerdashboard>=0.3.8->pycaret[full])\n",
            "  Downloading dtreeviz-2.2.2-py3-none-any.whl.metadata (2.4 kB)\n",
            "Collecting flask_simplelogin (from explainerdashboard>=0.3.8->pycaret[full])\n",
            "  Downloading flask_simplelogin-0.2.0-py3-none-any.whl.metadata (3.3 kB)\n",
            "Collecting Flask-WTF>=1.1 (from explainerdashboard>=0.3.8->pycaret[full])\n",
            "  Downloading flask_wtf-1.2.2-py3-none-any.whl.metadata (3.4 kB)\n",
            "Collecting jupyter_dash>=0.4.1 (from explainerdashboard>=0.3.8->pycaret[full])\n",
            "  Downloading jupyter_dash-0.4.2-py3-none-any.whl.metadata (3.6 kB)\n",
            "Collecting oyaml (from explainerdashboard>=0.3.8->pycaret[full])\n",
            "  Downloading oyaml-1.0-py2.py3-none-any.whl.metadata (1.2 kB)\n",
            "Collecting waitress (from explainerdashboard>=0.3.8->pycaret[full])\n",
            "  Downloading waitress-3.0.2-py3-none-any.whl.metadata (5.8 kB)\n",
            "Collecting triad>=0.9.3 (from fugue~=0.8.0->pycaret[full])\n",
            "  Downloading triad-0.9.8-py3-none-any.whl.metadata (6.3 kB)\n",
            "Collecting adagio>=0.2.4 (from fugue~=0.8.0->pycaret[full])\n",
            "  Downloading adagio-0.2.6-py3-none-any.whl.metadata (1.8 kB)\n",
            "Collecting qpd>=0.4.4 (from fugue~=0.8.0->pycaret[full])\n",
            "  Downloading qpd-0.4.4-py3-none-any.whl.metadata (6.4 kB)\n",
            "Collecting fugue-sql-antlr>=0.1.6 (from fugue~=0.8.0->pycaret[full])\n",
            "  Downloading fugue-sql-antlr-0.2.2.tar.gz (154 kB)\n",
            "\u001b[2K     \u001b[90m━━━━━━━━━━━━━━━━━━━━━━━━━━━━━━━━━━━━━━━━\u001b[0m \u001b[32m154.7/154.7 kB\u001b[0m \u001b[31m9.7 MB/s\u001b[0m eta \u001b[36m0:00:00\u001b[0m\n",
            "\u001b[?25h  Preparing metadata (setup.py) ... \u001b[?25l\u001b[?25hdone\n",
            "Requirement already satisfied: sqlglot in /usr/local/lib/python3.11/dist-packages (from fugue~=0.8.0->pycaret[full]) (25.6.1)\n",
            "Collecting aiofiles<24.0,>=22.0 (from gradio>=3.50.2->pycaret[full])\n",
            "  Downloading aiofiles-23.2.1-py3-none-any.whl.metadata (9.7 kB)\n",
            "Requirement already satisfied: anyio<5.0,>=3.0 in /usr/local/lib/python3.11/dist-packages (from gradio>=3.50.2->pycaret[full]) (3.7.1)\n",
            "Collecting ffmpy (from gradio>=3.50.2->pycaret[full])\n",
            "  Downloading ffmpy-0.5.0-py3-none-any.whl.metadata (3.0 kB)\n",
            "Collecting gradio-client==1.8.0 (from gradio>=3.50.2->pycaret[full])\n",
            "  Downloading gradio_client-1.8.0-py3-none-any.whl.metadata (7.1 kB)\n",
            "Collecting groovy~=0.1 (from gradio>=3.50.2->pycaret[full])\n",
            "  Downloading groovy-0.1.2-py3-none-any.whl.metadata (6.1 kB)\n",
            "Requirement already satisfied: httpx>=0.24.1 in /usr/local/lib/python3.11/dist-packages (from gradio>=3.50.2->pycaret[full]) (0.28.1)\n",
            "Requirement already satisfied: huggingface-hub>=0.28.1 in /usr/local/lib/python3.11/dist-packages (from gradio>=3.50.2->pycaret[full]) (0.28.1)\n",
            "Requirement already satisfied: orjson~=3.0 in /usr/local/lib/python3.11/dist-packages (from gradio>=3.50.2->pycaret[full]) (3.10.15)\n",
            "Requirement already satisfied: pillow<12.0,>=8.0 in /usr/local/lib/python3.11/dist-packages (from gradio>=3.50.2->pycaret[full]) (11.1.0)\n",
            "Collecting pydub (from gradio>=3.50.2->pycaret[full])\n",
            "  Downloading pydub-0.25.1-py2.py3-none-any.whl.metadata (1.4 kB)\n",
            "Collecting python-multipart>=0.0.18 (from gradio>=3.50.2->pycaret[full])\n",
            "  Downloading python_multipart-0.0.20-py3-none-any.whl.metadata (1.8 kB)\n",
            "Collecting ruff>=0.9.3 (from gradio>=3.50.2->pycaret[full])\n",
            "  Downloading ruff-0.11.0-py3-none-manylinux_2_17_x86_64.manylinux2014_x86_64.whl.metadata (25 kB)\n",
            "Collecting safehttpx<0.2.0,>=0.1.6 (from gradio>=3.50.2->pycaret[full])\n",
            "  Downloading safehttpx-0.1.6-py3-none-any.whl.metadata (4.2 kB)\n",
            "Collecting semantic-version~=2.0 (from gradio>=3.50.2->pycaret[full])\n",
            "  Downloading semantic_version-2.10.0-py2.py3-none-any.whl.metadata (9.7 kB)\n",
            "Collecting starlette<1.0,>=0.40.0 (from gradio>=3.50.2->pycaret[full])\n",
            "  Downloading starlette-0.46.1-py3-none-any.whl.metadata (6.2 kB)\n",
            "Collecting tomlkit<0.14.0,>=0.12.0 (from gradio>=3.50.2->pycaret[full])\n",
            "  Downloading tomlkit-0.13.2-py3-none-any.whl.metadata (2.7 kB)\n",
            "Requirement already satisfied: typing-extensions~=4.0 in /usr/local/lib/python3.11/dist-packages (from gradio>=3.50.2->pycaret[full]) (4.12.2)\n",
            "Requirement already satisfied: websockets<16.0,>=10.0 in /usr/local/lib/python3.11/dist-packages (from gradio-client==1.8.0->gradio>=3.50.2->pycaret[full]) (14.2)\n",
            "Requirement already satisfied: networkx>=2.2 in /usr/local/lib/python3.11/dist-packages (from hyperopt>=0.2.7->pycaret[full]) (3.4.2)\n",
            "Requirement already satisfied: future in /usr/local/lib/python3.11/dist-packages (from hyperopt>=0.2.7->pycaret[full]) (1.0.0)\n",
            "Requirement already satisfied: py4j in /usr/local/lib/python3.11/dist-packages (from hyperopt>=0.2.7->pycaret[full]) (0.10.9.7)\n",
            "Requirement already satisfied: sklearn-compat<1,>=0.1 in /usr/local/lib/python3.11/dist-packages (from imbalanced-learn>=0.12.0->pycaret[full]) (0.1.3)\n",
            "Requirement already satisfied: threadpoolctl<4,>=2.0.0 in /usr/local/lib/python3.11/dist-packages (from imbalanced-learn>=0.12.0->pycaret[full]) (3.6.0)\n",
            "Requirement already satisfied: zipp>=3.20 in /usr/local/lib/python3.11/dist-packages (from importlib-metadata>=4.12.0->pycaret[full]) (3.21.0)\n",
            "Collecting interpret-core==0.6.9 (from interpret-core[aplr,dash,debug,linear,notebook,plotly,sensitivity,shap]==0.6.9->interpret>=0.2.7->pycaret[full])\n",
            "  Downloading interpret_core-0.6.9-py3-none-any.whl.metadata (2.8 kB)\n",
            "Requirement already satisfied: ipykernel>=4.10.0 in /usr/local/lib/python3.11/dist-packages (from interpret-core[aplr,dash,debug,linear,notebook,plotly,sensitivity,shap]==0.6.9->interpret>=0.2.7->pycaret[full]) (6.17.1)\n",
            "Collecting SALib>=1.3.3 (from interpret-core[aplr,dash,debug,linear,notebook,plotly,sensitivity,shap]==0.6.9->interpret>=0.2.7->pycaret[full])\n",
            "  Downloading salib-1.5.1-py3-none-any.whl.metadata (11 kB)\n",
            "Collecting dill>=0.2.5 (from interpret-core[aplr,dash,debug,linear,notebook,plotly,sensitivity,shap]==0.6.9->interpret>=0.2.7->pycaret[full])\n",
            "  Downloading dill-0.3.9-py3-none-any.whl.metadata (10 kB)\n",
            "Collecting aplr>=10.6.1 (from interpret-core[aplr,dash,debug,linear,notebook,plotly,sensitivity,shap]==0.6.9->interpret>=0.2.7->pycaret[full])\n",
            "  Downloading aplr-10.8.0-cp311-cp311-manylinux_2_17_x86_64.manylinux2014_x86_64.whl.metadata (2.1 kB)\n",
            "Collecting dash-core-components>=1.0.0 (from interpret-core[aplr,dash,debug,linear,notebook,plotly,sensitivity,shap]==0.6.9->interpret>=0.2.7->pycaret[full])\n",
            "  Downloading dash_core_components-2.0.0-py3-none-any.whl.metadata (2.9 kB)\n",
            "Collecting dash-html-components>=1.0.0 (from interpret-core[aplr,dash,debug,linear,notebook,plotly,sensitivity,shap]==0.6.9->interpret>=0.2.7->pycaret[full])\n",
            "  Downloading dash_html_components-2.0.0-py3-none-any.whl.metadata (3.8 kB)\n",
            "Collecting dash-table>=4.1.0 (from interpret-core[aplr,dash,debug,linear,notebook,plotly,sensitivity,shap]==0.6.9->interpret>=0.2.7->pycaret[full])\n",
            "  Downloading dash_table-5.0.0-py3-none-any.whl.metadata (2.4 kB)\n",
            "Collecting dash-cytoscape>=0.1.1 (from interpret-core[aplr,dash,debug,linear,notebook,plotly,sensitivity,shap]==0.6.9->interpret>=0.2.7->pycaret[full])\n",
            "  Downloading dash_cytoscape-1.0.2.tar.gz (4.0 MB)\n",
            "\u001b[2K     \u001b[90m━━━━━━━━━━━━━━━━━━━━━━━━━━━━━━━━━━━━━━━━\u001b[0m \u001b[32m4.0/4.0 MB\u001b[0m \u001b[31m48.2 MB/s\u001b[0m eta \u001b[36m0:00:00\u001b[0m\n",
            "\u001b[?25h  Preparing metadata (setup.py) ... \u001b[?25l\u001b[?25hdone\n",
            "Collecting gevent>=1.3.6 (from interpret-core[aplr,dash,debug,linear,notebook,plotly,sensitivity,shap]==0.6.9->interpret>=0.2.7->pycaret[full])\n",
            "  Downloading gevent-24.11.1-cp311-cp311-manylinux_2_17_x86_64.manylinux2014_x86_64.whl.metadata (13 kB)\n",
            "Requirement already satisfied: setuptools>=18.5 in /usr/local/lib/python3.11/dist-packages (from ipython>=5.5.0->pycaret[full]) (75.1.0)\n",
            "Collecting jedi>=0.16 (from ipython>=5.5.0->pycaret[full])\n",
            "  Downloading jedi-0.19.2-py2.py3-none-any.whl.metadata (22 kB)\n",
            "Requirement already satisfied: decorator in /usr/local/lib/python3.11/dist-packages (from ipython>=5.5.0->pycaret[full]) (4.4.2)\n",
            "Requirement already satisfied: pickleshare in /usr/local/lib/python3.11/dist-packages (from ipython>=5.5.0->pycaret[full]) (0.7.5)\n",
            "Requirement already satisfied: traitlets>=4.2 in /usr/local/lib/python3.11/dist-packages (from ipython>=5.5.0->pycaret[full]) (5.7.1)\n",
            "Requirement already satisfied: prompt-toolkit!=3.0.0,!=3.0.1,<3.1.0,>=2.0.0 in /usr/local/lib/python3.11/dist-packages (from ipython>=5.5.0->pycaret[full]) (3.0.50)\n",
            "Requirement already satisfied: pygments in /usr/local/lib/python3.11/dist-packages (from ipython>=5.5.0->pycaret[full]) (2.18.0)\n",
            "Requirement already satisfied: backcall in /usr/local/lib/python3.11/dist-packages (from ipython>=5.5.0->pycaret[full]) (0.2.0)\n",
            "Requirement already satisfied: matplotlib-inline in /usr/local/lib/python3.11/dist-packages (from ipython>=5.5.0->pycaret[full]) (0.1.7)\n",
            "Requirement already satisfied: pexpect>4.3 in /usr/local/lib/python3.11/dist-packages (from ipython>=5.5.0->pycaret[full]) (4.9.0)\n",
            "Requirement already satisfied: ipython-genutils~=0.2.0 in /usr/local/lib/python3.11/dist-packages (from ipywidgets>=7.6.5->pycaret[full]) (0.2.0)\n",
            "Requirement already satisfied: widgetsnbextension~=3.6.0 in /usr/local/lib/python3.11/dist-packages (from ipywidgets>=7.6.5->pycaret[full]) (3.6.10)\n",
            "Requirement already satisfied: jupyterlab-widgets>=1.0.0 in /usr/local/lib/python3.11/dist-packages (from ipywidgets>=7.6.5->pycaret[full]) (3.0.13)\n",
            "Requirement already satisfied: contourpy>=1.0.1 in /usr/local/lib/python3.11/dist-packages (from matplotlib<3.8.0->pycaret[full]) (1.3.1)\n",
            "Requirement already satisfied: cycler>=0.10 in /usr/local/lib/python3.11/dist-packages (from matplotlib<3.8.0->pycaret[full]) (0.12.1)\n",
            "Requirement already satisfied: fonttools>=4.22.0 in /usr/local/lib/python3.11/dist-packages (from matplotlib<3.8.0->pycaret[full]) (4.56.0)\n",
            "Requirement already satisfied: kiwisolver>=1.0.1 in /usr/local/lib/python3.11/dist-packages (from matplotlib<3.8.0->pycaret[full]) (1.4.8)\n",
            "Requirement already satisfied: pyparsing>=2.3.1 in /usr/local/lib/python3.11/dist-packages (from matplotlib<3.8.0->pycaret[full]) (3.2.1)\n",
            "Requirement already satisfied: python-dateutil>=2.7 in /usr/local/lib/python3.11/dist-packages (from matplotlib<3.8.0->pycaret[full]) (2.8.2)\n",
            "Collecting mlflow-skinny==2.21.0 (from mlflow>=2.0.0->pycaret[full])\n",
            "  Downloading mlflow_skinny-2.21.0-py3-none-any.whl.metadata (31 kB)\n",
            "Collecting alembic!=1.10.0,<2 (from mlflow>=2.0.0->pycaret[full])\n",
            "  Downloading alembic-1.15.1-py3-none-any.whl.metadata (7.2 kB)\n",
            "Collecting docker<8,>=4.0.0 (from mlflow>=2.0.0->pycaret[full])\n",
            "  Downloading docker-7.1.0-py3-none-any.whl.metadata (3.8 kB)\n",
            "Collecting graphene<4 (from mlflow>=2.0.0->pycaret[full])\n",
            "  Downloading graphene-3.4.3-py2.py3-none-any.whl.metadata (6.9 kB)\n",
            "Collecting gunicorn<24 (from mlflow>=2.0.0->pycaret[full])\n",
            "  Downloading gunicorn-23.0.0-py3-none-any.whl.metadata (4.4 kB)\n",
            "Requirement already satisfied: markdown<4,>=3.3 in /usr/local/lib/python3.11/dist-packages (from mlflow>=2.0.0->pycaret[full]) (3.7)\n",
            "Requirement already satisfied: pyarrow<20,>=4.0.0 in /usr/local/lib/python3.11/dist-packages (from mlflow>=2.0.0->pycaret[full]) (18.1.0)\n",
            "Requirement already satisfied: sqlalchemy<3,>=1.4.0 in /usr/local/lib/python3.11/dist-packages (from mlflow>=2.0.0->pycaret[full]) (2.0.39)\n",
            "Requirement already satisfied: cachetools<6,>=5.0.0 in /usr/local/lib/python3.11/dist-packages (from mlflow-skinny==2.21.0->mlflow>=2.0.0->pycaret[full]) (5.5.2)\n",
            "Collecting databricks-sdk<1,>=0.20.0 (from mlflow-skinny==2.21.0->mlflow>=2.0.0->pycaret[full])\n",
            "  Downloading databricks_sdk-0.46.0-py3-none-any.whl.metadata (38 kB)\n",
            "Requirement already satisfied: gitpython<4,>=3.1.9 in /usr/local/lib/python3.11/dist-packages (from mlflow-skinny==2.21.0->mlflow>=2.0.0->pycaret[full]) (3.1.44)\n",
            "Requirement already satisfied: opentelemetry-api<3,>=1.9.0 in /usr/local/lib/python3.11/dist-packages (from mlflow-skinny==2.21.0->mlflow>=2.0.0->pycaret[full]) (1.31.0)\n",
            "Requirement already satisfied: opentelemetry-sdk<3,>=1.9.0 in /usr/local/lib/python3.11/dist-packages (from mlflow-skinny==2.21.0->mlflow>=2.0.0->pycaret[full]) (1.31.0)\n",
            "Requirement already satisfied: protobuf<6,>=3.12.0 in /usr/local/lib/python3.11/dist-packages (from mlflow-skinny==2.21.0->mlflow>=2.0.0->pycaret[full]) (4.25.6)\n",
            "Requirement already satisfied: sqlparse<1,>=0.4.0 in /usr/local/lib/python3.11/dist-packages (from mlflow-skinny==2.21.0->mlflow>=2.0.0->pycaret[full]) (0.5.3)\n",
            "INFO: pip is looking at multiple versions of flask to determine which version is compatible with other requirements. This could take a while.\n",
            "Collecting flask (from pycaret[full])\n",
            "  Downloading flask-3.0.3-py3-none-any.whl.metadata (3.2 kB)\n",
            "  Downloading flask-3.0.2-py3-none-any.whl.metadata (3.6 kB)\n",
            "  Downloading flask-3.0.1-py3-none-any.whl.metadata (3.6 kB)\n",
            "  Downloading flask-3.0.0-py3-none-any.whl.metadata (3.6 kB)\n",
            "  Downloading flask-2.3.3-py3-none-any.whl.metadata (3.6 kB)\n",
            "Requirement already satisfied: itsdangerous>=2.1.2 in /usr/local/lib/python3.11/dist-packages (from flask->pycaret[full]) (2.2.0)\n",
            "Requirement already satisfied: blinker>=1.6.2 in /usr/local/lib/python3.11/dist-packages (from flask->pycaret[full]) (1.9.0)\n",
            "Collecting xmltodict (from moto<5.0.0->pycaret[full])\n",
            "  Downloading xmltodict-0.14.2-py2.py3-none-any.whl.metadata (8.0 kB)\n",
            "Collecting responses>=0.13.0 (from moto<5.0.0->pycaret[full])\n",
            "  Downloading responses-0.25.7-py3-none-any.whl.metadata (47 kB)\n",
            "\u001b[2K     \u001b[90m━━━━━━━━━━━━━━━━━━━━━━━━━━━━━━━━━━━━━━━━\u001b[0m \u001b[32m47.2/47.2 kB\u001b[0m \u001b[31m2.8 MB/s\u001b[0m eta \u001b[36m0:00:00\u001b[0m\n",
            "\u001b[?25hRequirement already satisfied: fastjsonschema>=2.15 in /usr/local/lib/python3.11/dist-packages (from nbformat>=4.2.0->pycaret[full]) (2.21.1)\n",
            "Requirement already satisfied: jsonschema>=2.6 in /usr/local/lib/python3.11/dist-packages (from nbformat>=4.2.0->pycaret[full]) (4.23.0)\n",
            "Requirement already satisfied: jupyter-core!=5.0.*,>=4.12 in /usr/local/lib/python3.11/dist-packages (from nbformat>=4.2.0->pycaret[full]) (5.7.2)\n",
            "Requirement already satisfied: llvmlite<0.44,>=0.43.0dev0 in /usr/local/lib/python3.11/dist-packages (from numba>=0.55.0->pycaret[full]) (0.43.0)\n",
            "Collecting colorlog (from optuna>=3.0.0->pycaret[full])\n",
            "  Downloading colorlog-6.9.0-py3-none-any.whl.metadata (10 kB)\n",
            "Requirement already satisfied: pytz>=2020.1 in /usr/local/lib/python3.11/dist-packages (from pandas<2.2.0->pycaret[full]) (2025.1)\n",
            "Requirement already satisfied: tzdata>=2022.1 in /usr/local/lib/python3.11/dist-packages (from pandas<2.2.0->pycaret[full]) (2025.1)\n",
            "Requirement already satisfied: tenacity>=6.2.0 in /usr/local/lib/python3.11/dist-packages (from plotly>=5.14.0->pycaret[full]) (9.0.0)\n",
            "Collecting tsdownsample>=0.1.3 (from plotly-resampler>=0.8.3.1->pycaret[full])\n",
            "  Downloading tsdownsample-0.1.4.1-cp311-cp311-manylinux_2_17_x86_64.manylinux2014_x86_64.whl.metadata (8.0 kB)\n",
            "Requirement already satisfied: Cython!=0.29.18,!=0.29.31,>=0.29 in /usr/local/lib/python3.11/dist-packages (from pmdarima>=2.0.4->pycaret[full]) (3.0.12)\n",
            "Requirement already satisfied: iniconfig in /usr/local/lib/python3.11/dist-packages (from pytest<8.0.0->pycaret[full]) (2.0.0)\n",
            "Requirement already satisfied: pluggy<2.0,>=0.12 in /usr/local/lib/python3.11/dist-packages (from pytest<8.0.0->pycaret[full]) (1.5.0)\n",
            "Requirement already satisfied: charset-normalizer<4,>=2 in /usr/local/lib/python3.11/dist-packages (from requests>=2.27.1->pycaret[full]) (3.4.1)\n",
            "Requirement already satisfied: idna<4,>=2.5 in /usr/local/lib/python3.11/dist-packages (from requests>=2.27.1->pycaret[full]) (3.10)\n",
            "Collecting daal==2025.2.0 (from scikit-learn-intelex>=2023.0.1->pycaret[full])\n",
            "  Downloading daal-2025.2.0-py2.py3-none-manylinux_2_28_x86_64.whl.metadata (1.1 kB)\n",
            "Requirement already satisfied: tbb==2022.* in /usr/local/lib/python3.11/dist-packages (from daal==2025.2.0->scikit-learn-intelex>=2023.0.1->pycaret[full]) (2022.0.0)\n",
            "Requirement already satisfied: tcmlib==1.* in /usr/local/lib/python3.11/dist-packages (from tbb==2022.*->daal==2025.2.0->scikit-learn-intelex>=2023.0.1->pycaret[full]) (1.2.0)\n",
            "Collecting pyaml>=16.9 (from scikit-optimize>=0.9.0->pycaret[full])\n",
            "  Downloading pyaml-25.1.0-py3-none-any.whl.metadata (12 kB)\n",
            "Collecting slicer==0.0.7 (from shap~=0.44.0->pycaret[full])\n",
            "  Downloading slicer-0.0.7-py3-none-any.whl.metadata (3.7 kB)\n",
            "Requirement already satisfied: pynndescent>=0.5 in /usr/local/lib/python3.11/dist-packages (from umap-learn>=0.5.2->pycaret[full]) (0.5.13)\n",
            "Requirement already satisfied: h11>=0.8 in /usr/local/lib/python3.11/dist-packages (from uvicorn>=0.17.6->pycaret[full]) (0.14.0)\n",
            "Requirement already satisfied: nvidia-nccl-cu12 in /usr/local/lib/python3.11/dist-packages (from xgboost>=1.1.0->pycaret[full]) (2.21.5)\n",
            "Collecting visions<0.8.2,>=0.7.5 (from visions[type_image_path]<0.8.2,>=0.7.5->ydata-profiling>=4.3.1->pycaret[full])\n",
            "  Downloading visions-0.8.1-py3-none-any.whl.metadata (11 kB)\n",
            "Collecting htmlmin==0.1.12 (from ydata-profiling>=4.3.1->pycaret[full])\n",
            "  Downloading htmlmin-0.1.12.tar.gz (19 kB)\n",
            "  Preparing metadata (setup.py) ... \u001b[?25l\u001b[?25hdone\n",
            "Collecting phik<0.13,>=0.11.1 (from ydata-profiling>=4.3.1->pycaret[full])\n",
            "  Downloading phik-0.12.4-cp311-cp311-manylinux_2_17_x86_64.manylinux2014_x86_64.whl.metadata (5.6 kB)\n",
            "Requirement already satisfied: seaborn<0.14,>=0.10.1 in /usr/local/lib/python3.11/dist-packages (from ydata-profiling>=4.3.1->pycaret[full]) (0.13.2)\n",
            "Collecting multimethod<2,>=1.4 (from ydata-profiling>=4.3.1->pycaret[full])\n",
            "  Downloading multimethod-1.12-py3-none-any.whl.metadata (9.6 kB)\n",
            "Requirement already satisfied: typeguard<5,>=3 in /usr/local/lib/python3.11/dist-packages (from ydata-profiling>=4.3.1->pycaret[full]) (4.4.2)\n",
            "Collecting imagehash==4.3.1 (from ydata-profiling>=4.3.1->pycaret[full])\n",
            "  Downloading ImageHash-4.3.1-py2.py3-none-any.whl.metadata (8.0 kB)\n",
            "Requirement already satisfied: wordcloud>=1.9.3 in /usr/local/lib/python3.11/dist-packages (from ydata-profiling>=4.3.1->pycaret[full]) (1.9.4)\n",
            "Collecting dacite>=1.8 (from ydata-profiling>=4.3.1->pycaret[full])\n",
            "  Downloading dacite-1.9.2-py3-none-any.whl.metadata (17 kB)\n",
            "Collecting PyWavelets (from imagehash==4.3.1->ydata-profiling>=4.3.1->pycaret[full])\n",
            "  Downloading pywavelets-1.8.0-cp311-cp311-manylinux_2_17_x86_64.manylinux2014_x86_64.whl.metadata (9.0 kB)\n",
            "Collecting retrying (from dash[testing]; extra == \"full\"->pycaret[full])\n",
            "  Downloading retrying-1.3.4-py3-none-any.whl.metadata (6.9 kB)\n",
            "Requirement already satisfied: nest-asyncio in /usr/local/lib/python3.11/dist-packages (from dash[testing]; extra == \"full\"->pycaret[full]) (1.6.0)\n",
            "Collecting stringcase>=1.2.0 (from dash[testing]; extra == \"full\"->pycaret[full])\n",
            "  Downloading stringcase-1.2.0.tar.gz (3.0 kB)\n",
            "  Preparing metadata (setup.py) ... \u001b[?25l\u001b[?25hdone\n",
            "Requirement already satisfied: beautifulsoup4>=4.8.2 in /usr/local/lib/python3.11/dist-packages (from dash[testing]; extra == \"full\"->pycaret[full]) (4.13.3)\n",
            "Requirement already satisfied: lxml>=4.6.2 in /usr/local/lib/python3.11/dist-packages (from dash[testing]; extra == \"full\"->pycaret[full]) (5.3.1)\n",
            "Collecting percy>=2.0.2 (from dash[testing]; extra == \"full\"->pycaret[full])\n",
            "  Downloading percy-2.0.2-py2.py3-none-any.whl.metadata (821 bytes)\n",
            "Collecting selenium<=4.2.0,>=3.141.0 (from dash[testing]; extra == \"full\"->pycaret[full])\n",
            "  Downloading selenium-4.2.0-py3-none-any.whl.metadata (6.5 kB)\n",
            "Collecting multiprocess>=0.70.12 (from dash[testing]; extra == \"full\"->pycaret[full])\n",
            "  Downloading multiprocess-0.70.17-py311-none-any.whl.metadata (7.2 kB)\n",
            "Collecting dash-testing-stub>=0.0.2 (from dash[testing]; extra == \"full\"->pycaret[full])\n",
            "  Downloading dash_testing_stub-0.0.2-py3-none-any.whl.metadata (587 bytes)\n",
            "Collecting Mako (from alembic!=1.10.0,<2->mlflow>=2.0.0->pycaret[full])\n",
            "  Downloading Mako-1.3.9-py3-none-any.whl.metadata (2.9 kB)\n",
            "Requirement already satisfied: sniffio>=1.1 in /usr/local/lib/python3.11/dist-packages (from anyio<5.0,>=3.0->gradio>=3.50.2->pycaret[full]) (1.3.1)\n",
            "Requirement already satisfied: soupsieve>1.2 in /usr/local/lib/python3.11/dist-packages (from beautifulsoup4>=4.8.2->dash[testing]; extra == \"full\"->pycaret[full]) (2.6)\n",
            "Requirement already satisfied: cffi>=1.12 in /usr/local/lib/python3.11/dist-packages (from cryptography>=43.0.1->evidently~=0.4.16->pycaret[full]) (1.17.1)\n",
            "Requirement already satisfied: dask-expr<1.2,>=1.1 in /usr/local/lib/python3.11/dist-packages (from dask[dataframe,distributed]>=2023.5.0; extra == \"dask\"->fugue[dask]; extra == \"full\"->pycaret[full]) (1.1.21)\n",
            "Requirement already satisfied: colour in /usr/local/lib/python3.11/dist-packages (from dtreeviz>=2.1->explainerdashboard>=0.3.8->pycaret[full]) (0.1.5)\n",
            "Collecting wtforms (from Flask-WTF>=1.1->explainerdashboard>=0.3.8->pycaret[full])\n",
            "  Downloading wtforms-3.2.1-py3-none-any.whl.metadata (5.3 kB)\n",
            "Collecting antlr4-python3-runtime<4.12 (from fugue-sql-antlr>=0.1.6->fugue~=0.8.0->pycaret[full])\n",
            "  Downloading antlr4_python3_runtime-4.11.1-py3-none-any.whl.metadata (291 bytes)\n",
            "Collecting graphql-core<3.3,>=3.1 (from graphene<4->mlflow>=2.0.0->pycaret[full])\n",
            "  Downloading graphql_core-3.2.6-py3-none-any.whl.metadata (11 kB)\n",
            "Collecting graphql-relay<3.3,>=3.1 (from graphene<4->mlflow>=2.0.0->pycaret[full])\n",
            "  Downloading graphql_relay-3.2.0-py3-none-any.whl.metadata (12 kB)\n",
            "Requirement already satisfied: httpcore==1.* in /usr/local/lib/python3.11/dist-packages (from httpx>=0.24.1->gradio>=3.50.2->pycaret[full]) (1.0.7)\n",
            "Requirement already satisfied: filelock in /usr/local/lib/python3.11/dist-packages (from huggingface-hub>=0.28.1->gradio>=3.50.2->pycaret[full]) (3.17.0)\n",
            "Requirement already satisfied: debugpy>=1.0 in /usr/local/lib/python3.11/dist-packages (from ipykernel>=4.10.0->interpret-core[aplr,dash,debug,linear,notebook,plotly,sensitivity,shap]==0.6.9->interpret>=0.2.7->pycaret[full]) (1.8.0)\n",
            "Requirement already satisfied: jupyter-client>=6.1.12 in /usr/local/lib/python3.11/dist-packages (from ipykernel>=4.10.0->interpret-core[aplr,dash,debug,linear,notebook,plotly,sensitivity,shap]==0.6.9->interpret>=0.2.7->pycaret[full]) (6.1.12)\n",
            "Requirement already satisfied: pyzmq>=17 in /usr/local/lib/python3.11/dist-packages (from ipykernel>=4.10.0->interpret-core[aplr,dash,debug,linear,notebook,plotly,sensitivity,shap]==0.6.9->interpret>=0.2.7->pycaret[full]) (24.0.1)\n",
            "Collecting appdirs (from iterative-telemetry>=0.0.5->evidently~=0.4.16->pycaret[full])\n",
            "  Downloading appdirs-1.4.4-py2.py3-none-any.whl.metadata (9.0 kB)\n",
            "Requirement already satisfied: distro in /usr/local/lib/python3.11/dist-packages (from iterative-telemetry>=0.0.5->evidently~=0.4.16->pycaret[full]) (1.9.0)\n",
            "Requirement already satisfied: parso<0.9.0,>=0.8.4 in /usr/local/lib/python3.11/dist-packages (from jedi>=0.16->ipython>=5.5.0->pycaret[full]) (0.8.4)\n",
            "Requirement already satisfied: attrs>=22.2.0 in /usr/local/lib/python3.11/dist-packages (from jsonschema>=2.6->nbformat>=4.2.0->pycaret[full]) (25.3.0)\n",
            "Requirement already satisfied: jsonschema-specifications>=2023.03.6 in /usr/local/lib/python3.11/dist-packages (from jsonschema>=2.6->nbformat>=4.2.0->pycaret[full]) (2024.10.1)\n",
            "Requirement already satisfied: referencing>=0.28.4 in /usr/local/lib/python3.11/dist-packages (from jsonschema>=2.6->nbformat>=4.2.0->pycaret[full]) (0.36.2)\n",
            "Requirement already satisfied: rpds-py>=0.7.1 in /usr/local/lib/python3.11/dist-packages (from jsonschema>=2.6->nbformat>=4.2.0->pycaret[full]) (0.23.1)\n",
            "Requirement already satisfied: platformdirs>=2.5 in /usr/local/lib/python3.11/dist-packages (from jupyter-core!=5.0.*,>=4.12->nbformat>=4.2.0->pycaret[full]) (4.3.6)\n",
            "Collecting ansi2html (from jupyter_dash>=0.4.1->explainerdashboard>=0.3.8->pycaret[full])\n",
            "  Downloading ansi2html-1.9.2-py3-none-any.whl.metadata (3.7 kB)\n",
            "Collecting litestar-htmx>=0.4.0 (from litestar>=2.8.3->evidently~=0.4.16->pycaret[full])\n",
            "  Downloading litestar_htmx-0.4.1-py3-none-any.whl.metadata (2.0 kB)\n",
            "Collecting msgspec>=0.18.2 (from litestar>=2.8.3->evidently~=0.4.16->pycaret[full])\n",
            "  Downloading msgspec-0.19.0-cp311-cp311-manylinux_2_17_x86_64.manylinux2014_x86_64.whl.metadata (6.9 kB)\n",
            "Requirement already satisfied: multidict>=6.0.2 in /usr/local/lib/python3.11/dist-packages (from litestar>=2.8.3->evidently~=0.4.16->pycaret[full]) (6.1.0)\n",
            "Collecting multipart>=1.2.0 (from litestar>=2.8.3->evidently~=0.4.16->pycaret[full])\n",
            "  Downloading multipart-1.2.1-py3-none-any.whl.metadata (4.4 kB)\n",
            "Collecting polyfactory>=2.6.3 (from litestar>=2.8.3->evidently~=0.4.16->pycaret[full])\n",
            "  Downloading polyfactory-2.19.0-py3-none-any.whl.metadata (27 kB)\n",
            "Collecting rich-click (from litestar>=2.8.3->evidently~=0.4.16->pycaret[full])\n",
            "  Downloading rich_click-1.8.8-py3-none-any.whl.metadata (7.9 kB)\n",
            "Requirement already satisfied: regex>=2021.8.3 in /usr/local/lib/python3.11/dist-packages (from nltk>=3.6.7->evidently~=0.4.16->pycaret[full]) (2024.11.6)\n",
            "Requirement already satisfied: ptyprocess>=0.5 in /usr/local/lib/python3.11/dist-packages (from pexpect>4.3->ipython>=5.5.0->pycaret[full]) (0.7.0)\n",
            "Requirement already satisfied: wcwidth in /usr/local/lib/python3.11/dist-packages (from prompt-toolkit!=3.0.0,!=3.0.1,<3.1.0,>=2.0.0->ipython>=5.5.0->pycaret[full]) (0.2.13)\n",
            "Requirement already satisfied: annotated-types>=0.6.0 in /usr/local/lib/python3.11/dist-packages (from pydantic>=1.10.13->evidently~=0.4.16->pycaret[full]) (0.7.0)\n",
            "Requirement already satisfied: pydantic-core==2.27.2 in /usr/local/lib/python3.11/dist-packages (from pydantic>=1.10.13->evidently~=0.4.16->pycaret[full]) (2.27.2)\n",
            "Requirement already satisfied: markdown-it-py>=2.2.0 in /usr/local/lib/python3.11/dist-packages (from rich>=13->evidently~=0.4.16->pycaret[full]) (3.0.0)\n",
            "Collecting urllib3>=1.26.5 (from distributed>=2024.4.1->pycaret[full])\n",
            "  Downloading urllib3-1.26.20-py2.py3-none-any.whl.metadata (50 kB)\n",
            "\u001b[2K     \u001b[90m━━━━━━━━━━━━━━━━━━━━━━━━━━━━━━━━━━━━━━━━\u001b[0m \u001b[32m50.1/50.1 kB\u001b[0m \u001b[31m3.2 MB/s\u001b[0m eta \u001b[36m0:00:00\u001b[0m\n",
            "\u001b[?25hCollecting trio~=0.17 (from selenium<=4.2.0,>=3.141.0->dash[testing]; extra == \"full\"->pycaret[full])\n",
            "  Downloading trio-0.29.0-py3-none-any.whl.metadata (8.5 kB)\n",
            "Collecting trio-websocket~=0.9 (from selenium<=4.2.0,>=3.141.0->dash[testing]; extra == \"full\"->pycaret[full])\n",
            "  Downloading trio_websocket-0.12.2-py3-none-any.whl.metadata (5.1 kB)\n",
            "Requirement already satisfied: greenlet!=0.4.17 in /usr/local/lib/python3.11/dist-packages (from sqlalchemy<3,>=1.4.0->mlflow>=2.0.0->pycaret[full]) (3.1.1)\n",
            "Collecting fs (from triad>=0.9.3->fugue~=0.8.0->pycaret[full])\n",
            "  Downloading fs-2.4.16-py2.py3-none-any.whl.metadata (6.3 kB)\n",
            "Requirement already satisfied: shellingham>=1.3.0 in /usr/local/lib/python3.11/dist-packages (from typer>=0.3->evidently~=0.4.16->pycaret[full]) (1.5.4)\n",
            "Collecting mypy-extensions>=0.3.0 (from typing-inspect>=0.9.0->evidently~=0.4.16->pycaret[full])\n",
            "  Downloading mypy_extensions-1.0.0-py3-none-any.whl.metadata (1.1 kB)\n",
            "Collecting httptools>=0.6.3 (from uvicorn[standard]>=0.22.0->evidently~=0.4.16->pycaret[full])\n",
            "  Downloading httptools-0.6.4-cp311-cp311-manylinux_2_5_x86_64.manylinux1_x86_64.manylinux_2_17_x86_64.manylinux2014_x86_64.whl.metadata (3.6 kB)\n",
            "Collecting python-dotenv>=0.13 (from uvicorn[standard]>=0.22.0->evidently~=0.4.16->pycaret[full])\n",
            "  Downloading python_dotenv-1.0.1-py3-none-any.whl.metadata (23 kB)\n",
            "Collecting uvloop!=0.15.0,!=0.15.1,>=0.14.0 (from uvicorn[standard]>=0.22.0->evidently~=0.4.16->pycaret[full])\n",
            "  Downloading uvloop-0.21.0-cp311-cp311-manylinux_2_17_x86_64.manylinux2014_x86_64.whl.metadata (4.9 kB)\n",
            "Collecting watchfiles>=0.13 (from uvicorn[standard]>=0.22.0->evidently~=0.4.16->pycaret[full])\n",
            "  Downloading watchfiles-1.0.4-cp311-cp311-manylinux_2_17_x86_64.manylinux2014_x86_64.whl.metadata (4.9 kB)\n",
            "Collecting puremagic (from visions<0.8.2,>=0.7.5->visions[type_image_path]<0.8.2,>=0.7.5->ydata-profiling>=4.3.1->pycaret[full])\n",
            "  Downloading puremagic-1.28-py3-none-any.whl.metadata (5.8 kB)\n",
            "Requirement already satisfied: notebook>=4.4.1 in /usr/local/lib/python3.11/dist-packages (from widgetsnbextension~=3.6.0->ipywidgets>=7.6.5->pycaret[full]) (6.5.5)\n",
            "Requirement already satisfied: pycparser in /usr/local/lib/python3.11/dist-packages (from cffi>=1.12->cryptography>=43.0.1->evidently~=0.4.16->pycaret[full]) (2.22)\n",
            "Requirement already satisfied: google-auth~=2.0 in /usr/local/lib/python3.11/dist-packages (from databricks-sdk<1,>=0.20.0->mlflow-skinny==2.21.0->mlflow>=2.0.0->pycaret[full]) (2.38.0)\n",
            "Collecting zope.event (from gevent>=1.3.6->interpret-core[aplr,dash,debug,linear,notebook,plotly,sensitivity,shap]==0.6.9->interpret>=0.2.7->pycaret[full])\n",
            "  Downloading zope.event-5.0-py3-none-any.whl.metadata (4.4 kB)\n",
            "Collecting zope.interface (from gevent>=1.3.6->interpret-core[aplr,dash,debug,linear,notebook,plotly,sensitivity,shap]==0.6.9->interpret>=0.2.7->pycaret[full])\n",
            "  Downloading zope.interface-7.2-cp311-cp311-manylinux_2_5_x86_64.manylinux1_x86_64.manylinux_2_17_x86_64.manylinux2014_x86_64.whl.metadata (44 kB)\n",
            "\u001b[2K     \u001b[90m━━━━━━━━━━━━━━━━━━━━━━━━━━━━━━━━━━━━━━━━\u001b[0m \u001b[32m44.4/44.4 kB\u001b[0m \u001b[31m2.8 MB/s\u001b[0m eta \u001b[36m0:00:00\u001b[0m\n",
            "\u001b[?25hRequirement already satisfied: gitdb<5,>=4.0.1 in /usr/local/lib/python3.11/dist-packages (from gitpython<4,>=3.1.9->mlflow-skinny==2.21.0->mlflow>=2.0.0->pycaret[full]) (4.0.12)\n",
            "Requirement already satisfied: mdurl~=0.1 in /usr/local/lib/python3.11/dist-packages (from markdown-it-py>=2.2.0->rich>=13->evidently~=0.4.16->pycaret[full]) (0.1.2)\n",
            "Requirement already satisfied: argon2-cffi in /usr/local/lib/python3.11/dist-packages (from notebook>=4.4.1->widgetsnbextension~=3.6.0->ipywidgets>=7.6.5->pycaret[full]) (23.1.0)\n",
            "Requirement already satisfied: nbconvert>=5 in /usr/local/lib/python3.11/dist-packages (from notebook>=4.4.1->widgetsnbextension~=3.6.0->ipywidgets>=7.6.5->pycaret[full]) (7.16.6)\n",
            "Requirement already satisfied: Send2Trash>=1.8.0 in /usr/local/lib/python3.11/dist-packages (from notebook>=4.4.1->widgetsnbextension~=3.6.0->ipywidgets>=7.6.5->pycaret[full]) (1.8.3)\n",
            "Requirement already satisfied: terminado>=0.8.3 in /usr/local/lib/python3.11/dist-packages (from notebook>=4.4.1->widgetsnbextension~=3.6.0->ipywidgets>=7.6.5->pycaret[full]) (0.18.1)\n",
            "Requirement already satisfied: prometheus-client in /usr/local/lib/python3.11/dist-packages (from notebook>=4.4.1->widgetsnbextension~=3.6.0->ipywidgets>=7.6.5->pycaret[full]) (0.21.1)\n",
            "Requirement already satisfied: nbclassic>=0.4.7 in /usr/local/lib/python3.11/dist-packages (from notebook>=4.4.1->widgetsnbextension~=3.6.0->ipywidgets>=7.6.5->pycaret[full]) (1.2.0)\n",
            "Requirement already satisfied: deprecated>=1.2.6 in /usr/local/lib/python3.11/dist-packages (from opentelemetry-api<3,>=1.9.0->mlflow-skinny==2.21.0->mlflow>=2.0.0->pycaret[full]) (1.2.18)\n",
            "Requirement already satisfied: opentelemetry-semantic-conventions==0.52b0 in /usr/local/lib/python3.11/dist-packages (from opentelemetry-sdk<3,>=1.9.0->mlflow-skinny==2.21.0->mlflow>=2.0.0->pycaret[full]) (0.52b0)\n",
            "Collecting faker (from polyfactory>=2.6.3->litestar>=2.8.3->evidently~=0.4.16->pycaret[full])\n",
            "  Downloading faker-37.0.2-py3-none-any.whl.metadata (15 kB)\n",
            "Collecting outcome (from trio~=0.17->selenium<=4.2.0,>=3.141.0->dash[testing]; extra == \"full\"->pycaret[full])\n",
            "  Downloading outcome-1.3.0.post0-py2.py3-none-any.whl.metadata (2.6 kB)\n",
            "Collecting wsproto>=0.14 (from trio-websocket~=0.9->selenium<=4.2.0,>=3.141.0->dash[testing]; extra == \"full\"->pycaret[full])\n",
            "  Downloading wsproto-1.2.0-py3-none-any.whl.metadata (5.6 kB)\n",
            "Requirement already satisfied: pyOpenSSL>=0.14 in /usr/local/lib/python3.11/dist-packages (from urllib3[secure,socks]~=1.26->selenium<=4.2.0,>=3.141.0->dash[testing]; extra == \"full\"->pycaret[full]) (24.2.1)\n",
            "Collecting urllib3-secure-extra (from urllib3[secure,socks]~=1.26->selenium<=4.2.0,>=3.141.0->dash[testing]; extra == \"full\"->pycaret[full])\n",
            "  Downloading urllib3_secure_extra-0.1.0-py2.py3-none-any.whl.metadata (828 bytes)\n",
            "Requirement already satisfied: PySocks!=1.5.7,<2.0,>=1.5.6 in /usr/local/lib/python3.11/dist-packages (from urllib3[secure,socks]~=1.26->selenium<=4.2.0,>=3.141.0->dash[testing]; extra == \"full\"->pycaret[full]) (1.7.1)\n",
            "Requirement already satisfied: wrapt<2,>=1.10 in /usr/local/lib/python3.11/dist-packages (from deprecated>=1.2.6->opentelemetry-api<3,>=1.9.0->mlflow-skinny==2.21.0->mlflow>=2.0.0->pycaret[full]) (1.17.2)\n",
            "Requirement already satisfied: smmap<6,>=3.0.1 in /usr/local/lib/python3.11/dist-packages (from gitdb<5,>=4.0.1->gitpython<4,>=3.1.9->mlflow-skinny==2.21.0->mlflow>=2.0.0->pycaret[full]) (5.0.2)\n",
            "Requirement already satisfied: pyasn1-modules>=0.2.1 in /usr/local/lib/python3.11/dist-packages (from google-auth~=2.0->databricks-sdk<1,>=0.20.0->mlflow-skinny==2.21.0->mlflow>=2.0.0->pycaret[full]) (0.4.1)\n",
            "Requirement already satisfied: rsa<5,>=3.1.4 in /usr/local/lib/python3.11/dist-packages (from google-auth~=2.0->databricks-sdk<1,>=0.20.0->mlflow-skinny==2.21.0->mlflow>=2.0.0->pycaret[full]) (4.9)\n",
            "Requirement already satisfied: notebook-shim>=0.2.3 in /usr/local/lib/python3.11/dist-packages (from nbclassic>=0.4.7->notebook>=4.4.1->widgetsnbextension~=3.6.0->ipywidgets>=7.6.5->pycaret[full]) (0.2.4)\n",
            "Requirement already satisfied: bleach!=5.0.0 in /usr/local/lib/python3.11/dist-packages (from bleach[css]!=5.0.0->nbconvert>=5->notebook>=4.4.1->widgetsnbextension~=3.6.0->ipywidgets>=7.6.5->pycaret[full]) (6.2.0)\n",
            "Requirement already satisfied: defusedxml in /usr/local/lib/python3.11/dist-packages (from nbconvert>=5->notebook>=4.4.1->widgetsnbextension~=3.6.0->ipywidgets>=7.6.5->pycaret[full]) (0.7.1)\n",
            "Requirement already satisfied: jupyterlab-pygments in /usr/local/lib/python3.11/dist-packages (from nbconvert>=5->notebook>=4.4.1->widgetsnbextension~=3.6.0->ipywidgets>=7.6.5->pycaret[full]) (0.3.0)\n",
            "Requirement already satisfied: mistune<4,>=2.0.3 in /usr/local/lib/python3.11/dist-packages (from nbconvert>=5->notebook>=4.4.1->widgetsnbextension~=3.6.0->ipywidgets>=7.6.5->pycaret[full]) (3.1.2)\n",
            "Requirement already satisfied: nbclient>=0.5.0 in /usr/local/lib/python3.11/dist-packages (from nbconvert>=5->notebook>=4.4.1->widgetsnbextension~=3.6.0->ipywidgets>=7.6.5->pycaret[full]) (0.10.2)\n",
            "Requirement already satisfied: pandocfilters>=1.4.1 in /usr/local/lib/python3.11/dist-packages (from nbconvert>=5->notebook>=4.4.1->widgetsnbextension~=3.6.0->ipywidgets>=7.6.5->pycaret[full]) (1.5.1)\n",
            "Requirement already satisfied: argon2-cffi-bindings in /usr/local/lib/python3.11/dist-packages (from argon2-cffi->notebook>=4.4.1->widgetsnbextension~=3.6.0->ipywidgets>=7.6.5->pycaret[full]) (21.2.0)\n",
            "Requirement already satisfied: webencodings in /usr/local/lib/python3.11/dist-packages (from bleach!=5.0.0->bleach[css]!=5.0.0->nbconvert>=5->notebook>=4.4.1->widgetsnbextension~=3.6.0->ipywidgets>=7.6.5->pycaret[full]) (0.5.1)\n",
            "Requirement already satisfied: tinycss2<1.5,>=1.1.0 in /usr/local/lib/python3.11/dist-packages (from bleach[css]!=5.0.0->nbconvert>=5->notebook>=4.4.1->widgetsnbextension~=3.6.0->ipywidgets>=7.6.5->pycaret[full]) (1.4.0)\n",
            "Requirement already satisfied: jupyter-server<3,>=1.8 in /usr/local/lib/python3.11/dist-packages (from notebook-shim>=0.2.3->nbclassic>=0.4.7->notebook>=4.4.1->widgetsnbextension~=3.6.0->ipywidgets>=7.6.5->pycaret[full]) (1.24.0)\n",
            "Requirement already satisfied: pyasn1<0.7.0,>=0.4.6 in /usr/local/lib/python3.11/dist-packages (from pyasn1-modules>=0.2.1->google-auth~=2.0->databricks-sdk<1,>=0.20.0->mlflow-skinny==2.21.0->mlflow>=2.0.0->pycaret[full]) (0.6.1)\n",
            "Requirement already satisfied: websocket-client in /usr/local/lib/python3.11/dist-packages (from jupyter-server<3,>=1.8->notebook-shim>=0.2.3->nbclassic>=0.4.7->notebook>=4.4.1->widgetsnbextension~=3.6.0->ipywidgets>=7.6.5->pycaret[full]) (1.8.0)\n",
            "Downloading fairlearn-0.7.0-py3-none-any.whl (177 kB)\n",
            "\u001b[2K   \u001b[90m━━━━━━━━━━━━━━━━━━━━━━━━━━━━━━━━━━━━━━━━\u001b[0m \u001b[32m177.5/177.5 kB\u001b[0m \u001b[31m9.3 MB/s\u001b[0m eta \u001b[36m0:00:00\u001b[0m\n",
            "\u001b[?25hDownloading schemdraw-0.15-py3-none-any.whl (106 kB)\n",
            "\u001b[2K   \u001b[90m━━━━━━━━━━━━━━━━━━━━━━━━━━━━━━━━━━━━━━━━\u001b[0m \u001b[32m106.8/106.8 kB\u001b[0m \u001b[31m6.8 MB/s\u001b[0m eta \u001b[36m0:00:00\u001b[0m\n",
            "\u001b[?25hDownloading sktime-0.26.0-py3-none-any.whl (21.8 MB)\n",
            "\u001b[2K   \u001b[90m━━━━━━━━━━━━━━━━━━━━━━━━━━━━━━━━━━━━━━━━\u001b[0m \u001b[32m21.8/21.8 MB\u001b[0m \u001b[31m65.9 MB/s\u001b[0m eta \u001b[36m0:00:00\u001b[0m\n",
            "\u001b[?25hDownloading boto3-1.37.16-py3-none-any.whl (139 kB)\n",
            "\u001b[2K   \u001b[90m━━━━━━━━━━━━━━━━━━━━━━━━━━━━━━━━━━━━━━━━\u001b[0m \u001b[32m139.6/139.6 kB\u001b[0m \u001b[31m9.1 MB/s\u001b[0m eta \u001b[36m0:00:00\u001b[0m\n",
            "\u001b[?25hDownloading catboost-1.2.7-cp311-cp311-manylinux2014_x86_64.whl (98.7 MB)\n",
            "\u001b[2K   \u001b[90m━━━━━━━━━━━━━━━━━━━━━━━━━━━━━━━━━━━━━━━━\u001b[0m \u001b[32m98.7/98.7 MB\u001b[0m \u001b[31m6.9 MB/s\u001b[0m eta \u001b[36m0:00:00\u001b[0m\n",
            "\u001b[?25hDownloading category_encoders-2.7.0-py3-none-any.whl (85 kB)\n",
            "\u001b[2K   \u001b[90m━━━━━━━━━━━━━━━━━━━━━━━━━━━━━━━━━━━━━━━━\u001b[0m \u001b[32m85.4/85.4 kB\u001b[0m \u001b[31m5.6 MB/s\u001b[0m eta \u001b[36m0:00:00\u001b[0m\n",
            "\u001b[?25hDownloading deprecation-2.1.0-py2.py3-none-any.whl (11 kB)\n",
            "Downloading evidently-0.4.40-py3-none-any.whl (3.5 MB)\n",
            "\u001b[2K   \u001b[90m━━━━━━━━━━━━━━━━━━━━━━━━━━━━━━━━━━━━━━━━\u001b[0m \u001b[32m3.5/3.5 MB\u001b[0m \u001b[31m78.3 MB/s\u001b[0m eta \u001b[36m0:00:00\u001b[0m\n",
            "\u001b[?25hDownloading explainerdashboard-0.4.8-py3-none-any.whl (287 kB)\n",
            "\u001b[2K   \u001b[90m━━━━━━━━━━━━━━━━━━━━━━━━━━━━━━━━━━━━━━━━\u001b[0m \u001b[32m287.9/287.9 kB\u001b[0m \u001b[31m17.3 MB/s\u001b[0m eta \u001b[36m0:00:00\u001b[0m\n",
            "\u001b[?25hDownloading fugue-0.8.7-py3-none-any.whl (279 kB)\n",
            "\u001b[2K   \u001b[90m━━━━━━━━━━━━━━━━━━━━━━━━━━━━━━━━━━━━━━━━\u001b[0m \u001b[32m279.8/279.8 kB\u001b[0m \u001b[31m17.2 MB/s\u001b[0m eta \u001b[36m0:00:00\u001b[0m\n",
            "\u001b[?25hDownloading gradio-5.22.0-py3-none-any.whl (46.2 MB)\n",
            "\u001b[2K   \u001b[90m━━━━━━━━━━━━━━━━━━━━━━━━━━━━━━━━━━━━━━━━\u001b[0m \u001b[32m46.2/46.2 MB\u001b[0m \u001b[31m14.4 MB/s\u001b[0m eta \u001b[36m0:00:00\u001b[0m\n",
            "\u001b[?25hDownloading gradio_client-1.8.0-py3-none-any.whl (322 kB)\n",
            "\u001b[2K   \u001b[90m━━━━━━━━━━━━━━━━━━━━━━━━━━━━━━━━━━━━━━━━\u001b[0m \u001b[32m322.2/322.2 kB\u001b[0m \u001b[31m19.9 MB/s\u001b[0m eta \u001b[36m0:00:00\u001b[0m\n",
            "\u001b[?25hDownloading fastapi-0.115.11-py3-none-any.whl (94 kB)\n",
            "\u001b[2K   \u001b[90m━━━━━━━━━━━━━━━━━━━━━━━━━━━━━━━━━━━━━━━━\u001b[0m \u001b[32m94.9/94.9 kB\u001b[0m \u001b[31m6.5 MB/s\u001b[0m eta \u001b[36m0:00:00\u001b[0m\n",
            "\u001b[?25hDownloading interpret-0.6.9-py3-none-any.whl (1.4 kB)\n",
            "Downloading interpret_core-0.6.9-py3-none-any.whl (15.0 MB)\n",
            "\u001b[2K   \u001b[90m━━━━━━━━━━━━━━━━━━━━━━━━━━━━━━━━━━━━━━━━\u001b[0m \u001b[32m15.0/15.0 MB\u001b[0m \u001b[31m90.1 MB/s\u001b[0m eta \u001b[36m0:00:00\u001b[0m\n",
            "\u001b[?25hDownloading joblib-1.3.2-py3-none-any.whl (302 kB)\n",
            "\u001b[2K   \u001b[90m━━━━━━━━━━━━━━━━━━━━━━━━━━━━━━━━━━━━━━━━\u001b[0m \u001b[32m302.2/302.2 kB\u001b[0m \u001b[31m18.6 MB/s\u001b[0m eta \u001b[36m0:00:00\u001b[0m\n",
            "\u001b[?25hDownloading kaleido-0.2.1-py2.py3-none-manylinux1_x86_64.whl (79.9 MB)\n",
            "\u001b[2K   \u001b[90m━━━━━━━━━━━━━━━━━━━━━━━━━━━━━━━━━━━━━━━━\u001b[0m \u001b[32m79.9/79.9 MB\u001b[0m \u001b[31m9.3 MB/s\u001b[0m eta \u001b[36m0:00:00\u001b[0m\n",
            "\u001b[?25hDownloading kmodes-0.12.2-py2.py3-none-any.whl (20 kB)\n",
            "Downloading m2cgen-0.10.0-py3-none-any.whl (92 kB)\n",
            "\u001b[2K   \u001b[90m━━━━━━━━━━━━━━━━━━━━━━━━━━━━━━━━━━━━━━━━\u001b[0m \u001b[32m92.2/92.2 kB\u001b[0m \u001b[31m6.2 MB/s\u001b[0m eta \u001b[36m0:00:00\u001b[0m\n",
            "\u001b[?25hDownloading matplotlib-3.7.5-cp311-cp311-manylinux_2_17_x86_64.manylinux2014_x86_64.whl (11.6 MB)\n",
            "\u001b[2K   \u001b[90m━━━━━━━━━━━━━━━━━━━━━━━━━━━━━━━━━━━━━━━━\u001b[0m \u001b[32m11.6/11.6 MB\u001b[0m \u001b[31m97.5 MB/s\u001b[0m eta \u001b[36m0:00:00\u001b[0m\n",
            "\u001b[?25hDownloading mlflow-2.21.0-py3-none-any.whl (28.2 MB)\n",
            "\u001b[2K   \u001b[90m━━━━━━━━━━━━━━━━━━━━━━━━━━━━━━━━━━━━━━━━\u001b[0m \u001b[32m28.2/28.2 MB\u001b[0m \u001b[31m56.4 MB/s\u001b[0m eta \u001b[36m0:00:00\u001b[0m\n",
            "\u001b[?25hDownloading mlflow_skinny-2.21.0-py3-none-any.whl (6.1 MB)\n",
            "\u001b[2K   \u001b[90m━━━━━━━━━━━━━━━━━━━━━━━━━━━━━━━━━━━━━━━━\u001b[0m \u001b[32m6.1/6.1 MB\u001b[0m \u001b[31m86.3 MB/s\u001b[0m eta \u001b[36m0:00:00\u001b[0m\n",
            "\u001b[?25hDownloading flask-2.3.3-py3-none-any.whl (96 kB)\n",
            "\u001b[2K   \u001b[90m━━━━━━━━━━━━━━━━━━━━━━━━━━━━━━━━━━━━━━━━\u001b[0m \u001b[32m96.1/96.1 kB\u001b[0m \u001b[31m5.7 MB/s\u001b[0m eta \u001b[36m0:00:00\u001b[0m\n",
            "\u001b[?25hDownloading moto-4.2.14-py2.py3-none-any.whl (3.3 MB)\n",
            "\u001b[2K   \u001b[90m━━━━━━━━━━━━━━━━━━━━━━━━━━━━━━━━━━━━━━━━\u001b[0m \u001b[32m3.3/3.3 MB\u001b[0m \u001b[31m77.5 MB/s\u001b[0m eta \u001b[36m0:00:00\u001b[0m\n",
            "\u001b[?25hDownloading numpy-1.26.4-cp311-cp311-manylinux_2_17_x86_64.manylinux2014_x86_64.whl (18.3 MB)\n",
            "\u001b[2K   \u001b[90m━━━━━━━━━━━━━━━━━━━━━━━━━━━━━━━━━━━━━━━━\u001b[0m \u001b[32m18.3/18.3 MB\u001b[0m \u001b[31m74.7 MB/s\u001b[0m eta \u001b[36m0:00:00\u001b[0m\n",
            "\u001b[?25hDownloading optuna-4.2.1-py3-none-any.whl (383 kB)\n",
            "\u001b[2K   \u001b[90m━━━━━━━━━━━━━━━━━━━━━━━━━━━━━━━━━━━━━━━━\u001b[0m \u001b[32m383.6/383.6 kB\u001b[0m \u001b[31m23.1 MB/s\u001b[0m eta \u001b[36m0:00:00\u001b[0m\n",
            "\u001b[?25hDownloading pandas-2.1.4-cp311-cp311-manylinux_2_17_x86_64.manylinux2014_x86_64.whl (12.2 MB)\n",
            "\u001b[2K   \u001b[90m━━━━━━━━━━━━━━━━━━━━━━━━━━━━━━━━━━━━━━━━\u001b[0m \u001b[32m12.2/12.2 MB\u001b[0m \u001b[31m84.0 MB/s\u001b[0m eta \u001b[36m0:00:00\u001b[0m\n",
            "\u001b[?25hDownloading plotly_resampler-0.10.0-py3-none-any.whl (80 kB)\n",
            "\u001b[2K   \u001b[90m━━━━━━━━━━━━━━━━━━━━━━━━━━━━━━━━━━━━━━━━\u001b[0m \u001b[32m80.7/80.7 kB\u001b[0m \u001b[31m4.7 MB/s\u001b[0m eta \u001b[36m0:00:00\u001b[0m\n",
            "\u001b[?25hDownloading pmdarima-2.0.4-cp311-cp311-manylinux_2_17_x86_64.manylinux2014_x86_64.manylinux_2_28_x86_64.whl (2.2 MB)\n",
            "\u001b[2K   \u001b[90m━━━━━━━━━━━━━━━━━━━━━━━━━━━━━━━━━━━━━━━━\u001b[0m \u001b[32m2.2/2.2 MB\u001b[0m \u001b[31m62.1 MB/s\u001b[0m eta \u001b[36m0:00:00\u001b[0m\n",
            "\u001b[?25hDownloading pytest-7.4.4-py3-none-any.whl (325 kB)\n",
            "\u001b[2K   \u001b[90m━━━━━━━━━━━━━━━━━━━━━━━━━━━━━━━━━━━━━━━━\u001b[0m \u001b[32m325.3/325.3 kB\u001b[0m \u001b[31m20.3 MB/s\u001b[0m eta \u001b[36m0:00:00\u001b[0m\n",
            "\u001b[?25hDownloading scikit_learn-1.4.2-cp311-cp311-manylinux_2_17_x86_64.manylinux2014_x86_64.whl (12.1 MB)\n",
            "\u001b[2K   \u001b[90m━━━━━━━━━━━━━━━━━━━━━━━━━━━━━━━━━━━━━━━━\u001b[0m \u001b[32m12.1/12.1 MB\u001b[0m \u001b[31m25.2 MB/s\u001b[0m eta \u001b[36m0:00:00\u001b[0m\n",
            "\u001b[?25hDownloading scikit_learn_intelex-2025.2.0-py311-none-manylinux_2_28_x86_64.whl (4.5 MB)\n",
            "\u001b[2K   \u001b[90m━━━━━━━━━━━━━━━━━━━━━━━━━━━━━━━━━━━━━━━━\u001b[0m \u001b[32m4.5/4.5 MB\u001b[0m \u001b[31m79.8 MB/s\u001b[0m eta \u001b[36m0:00:00\u001b[0m\n",
            "\u001b[?25hDownloading daal-2025.2.0-py2.py3-none-manylinux_2_28_x86_64.whl (91.4 MB)\n",
            "\u001b[2K   \u001b[90m━━━━━━━━━━━━━━━━━━━━━━━━━━━━━━━━━━━━━━━━\u001b[0m \u001b[32m91.4/91.4 MB\u001b[0m \u001b[31m7.7 MB/s\u001b[0m eta \u001b[36m0:00:00\u001b[0m\n",
            "\u001b[?25hDownloading scikit_optimize-0.10.2-py2.py3-none-any.whl (107 kB)\n",
            "\u001b[2K   \u001b[90m━━━━━━━━━━━━━━━━━━━━━━━━━━━━━━━━━━━━━━━━\u001b[0m \u001b[32m107.8/107.8 kB\u001b[0m \u001b[31m7.4 MB/s\u001b[0m eta \u001b[36m0:00:00\u001b[0m\n",
            "\u001b[?25hDownloading scikit_plot-0.3.7-py3-none-any.whl (33 kB)\n",
            "Downloading scipy-1.11.4-cp311-cp311-manylinux_2_17_x86_64.manylinux2014_x86_64.whl (36.4 MB)\n",
            "\u001b[2K   \u001b[90m━━━━━━━━━━━━━━━━━━━━━━━━━━━━━━━━━━━━━━━━\u001b[0m \u001b[32m36.4/36.4 MB\u001b[0m \u001b[31m33.2 MB/s\u001b[0m eta \u001b[36m0:00:00\u001b[0m\n",
            "\u001b[?25hDownloading shap-0.44.1-cp311-cp311-manylinux_2_12_x86_64.manylinux2010_x86_64.manylinux_2_17_x86_64.manylinux2014_x86_64.whl (535 kB)\n",
            "\u001b[2K   \u001b[90m━━━━━━━━━━━━━━━━━━━━━━━━━━━━━━━━━━━━━━━━\u001b[0m \u001b[32m535.8/535.8 kB\u001b[0m \u001b[31m25.9 MB/s\u001b[0m eta \u001b[36m0:00:00\u001b[0m\n",
            "\u001b[?25hDownloading slicer-0.0.7-py3-none-any.whl (14 kB)\n",
            "Downloading statsforecast-1.5.0-py3-none-any.whl (99 kB)\n",
            "\u001b[2K   \u001b[90m━━━━━━━━━━━━━━━━━━━━━━━━━━━━━━━━━━━━━━━━\u001b[0m \u001b[32m100.0/100.0 kB\u001b[0m \u001b[31m6.3 MB/s\u001b[0m eta \u001b[36m0:00:00\u001b[0m\n",
            "\u001b[?25hDownloading tbats-1.1.3-py3-none-any.whl (44 kB)\n",
            "\u001b[2K   \u001b[90m━━━━━━━━━━━━━━━━━━━━━━━━━━━━━━━━━━━━━━━━\u001b[0m \u001b[32m44.0/44.0 kB\u001b[0m \u001b[31m2.5 MB/s\u001b[0m eta \u001b[36m0:00:00\u001b[0m\n",
            "\u001b[?25hDownloading uvicorn-0.34.0-py3-none-any.whl (62 kB)\n",
            "\u001b[2K   \u001b[90m━━━━━━━━━━━━━━━━━━━━━━━━━━━━━━━━━━━━━━━━\u001b[0m \u001b[32m62.3/62.3 kB\u001b[0m \u001b[31m4.3 MB/s\u001b[0m eta \u001b[36m0:00:00\u001b[0m\n",
            "\u001b[?25hDownloading werkzeug-2.3.8-py3-none-any.whl (242 kB)\n",
            "\u001b[2K   \u001b[90m━━━━━━━━━━━━━━━━━━━━━━━━━━━━━━━━━━━━━━━━\u001b[0m \u001b[32m242.3/242.3 kB\u001b[0m \u001b[31m15.1 MB/s\u001b[0m eta \u001b[36m0:00:00\u001b[0m\n",
            "\u001b[?25hDownloading ydata_profiling-4.15.0-py2.py3-none-any.whl (395 kB)\n",
            "\u001b[2K   \u001b[90m━━━━━━━━━━━━━━━━━━━━━━━━━━━━━━━━━━━━━━━━\u001b[0m \u001b[32m395.7/395.7 kB\u001b[0m \u001b[31m20.8 MB/s\u001b[0m eta \u001b[36m0:00:00\u001b[0m\n",
            "\u001b[?25hDownloading ImageHash-4.3.1-py2.py3-none-any.whl (296 kB)\n",
            "\u001b[2K   \u001b[90m━━━━━━━━━━━━━━━━━━━━━━━━━━━━━━━━━━━━━━━━\u001b[0m \u001b[32m296.5/296.5 kB\u001b[0m \u001b[31m13.5 MB/s\u001b[0m eta \u001b[36m0:00:00\u001b[0m\n",
            "\u001b[?25hDownloading optuna_integration-4.2.1-py3-none-any.whl (97 kB)\n",
            "\u001b[2K   \u001b[90m━━━━━━━━━━━━━━━━━━━━━━━━━━━━━━━━━━━━━━━━\u001b[0m \u001b[32m97.6/97.6 kB\u001b[0m \u001b[31m5.7 MB/s\u001b[0m eta \u001b[36m0:00:00\u001b[0m\n",
            "\u001b[?25hDownloading pycaret-3.3.2-py3-none-any.whl (486 kB)\n",
            "\u001b[2K   \u001b[90m━━━━━━━━━━━━━━━━━━━━━━━━━━━━━━━━━━━━━━━━\u001b[0m \u001b[32m486.1/486.1 kB\u001b[0m \u001b[31m27.5 MB/s\u001b[0m eta \u001b[36m0:00:00\u001b[0m\n",
            "\u001b[?25hDownloading wurlitzer-3.1.1-py3-none-any.whl (8.6 kB)\n",
            "Downloading xxhash-3.5.0-cp311-cp311-manylinux_2_17_x86_64.manylinux2014_x86_64.whl (194 kB)\n",
            "\u001b[2K   \u001b[90m━━━━━━━━━━━━━━━━━━━━━━━━━━━━━━━━━━━━━━━━\u001b[0m \u001b[32m194.8/194.8 kB\u001b[0m \u001b[31m13.1 MB/s\u001b[0m eta \u001b[36m0:00:00\u001b[0m\n",
            "\u001b[?25hDownloading adagio-0.2.6-py3-none-any.whl (19 kB)\n",
            "Downloading aiofiles-23.2.1-py3-none-any.whl (15 kB)\n",
            "Downloading alembic-1.15.1-py3-none-any.whl (231 kB)\n",
            "\u001b[2K   \u001b[90m━━━━━━━━━━━━━━━━━━━━━━━━━━━━━━━━━━━━━━━━\u001b[0m \u001b[32m231.8/231.8 kB\u001b[0m \u001b[31m14.2 MB/s\u001b[0m eta \u001b[36m0:00:00\u001b[0m\n",
            "\u001b[?25hDownloading botocore-1.37.16-py3-none-any.whl (13.4 MB)\n",
            "\u001b[2K   \u001b[90m━━━━━━━━━━━━━━━━━━━━━━━━━━━━━━━━━━━━━━━━\u001b[0m \u001b[32m13.4/13.4 MB\u001b[0m \u001b[31m85.2 MB/s\u001b[0m eta \u001b[36m0:00:00\u001b[0m\n",
            "\u001b[?25hDownloading dacite-1.9.2-py3-none-any.whl (16 kB)\n",
            "Downloading dash-3.0.0-py3-none-any.whl (8.0 MB)\n",
            "\u001b[2K   \u001b[90m━━━━━━━━━━━━━━━━━━━━━━━━━━━━━━━━━━━━━━━━\u001b[0m \u001b[32m8.0/8.0 MB\u001b[0m \u001b[31m89.5 MB/s\u001b[0m eta \u001b[36m0:00:00\u001b[0m\n",
            "\u001b[?25hDownloading dash_bootstrap_components-2.0.0-py3-none-any.whl (202 kB)\n",
            "\u001b[2K   \u001b[90m━━━━━━━━━━━━━━━━━━━━━━━━━━━━━━━━━━━━━━━━\u001b[0m \u001b[32m202.4/202.4 kB\u001b[0m \u001b[31m14.1 MB/s\u001b[0m eta \u001b[36m0:00:00\u001b[0m\n",
            "\u001b[?25hDownloading dash_testing_stub-0.0.2-py3-none-any.whl (2.6 kB)\n",
            "Downloading docker-7.1.0-py3-none-any.whl (147 kB)\n",
            "\u001b[2K   \u001b[90m━━━━━━━━━━━━━━━━━━━━━━━━━━━━━━━━━━━━━━━━\u001b[0m \u001b[32m147.8/147.8 kB\u001b[0m \u001b[31m8.8 MB/s\u001b[0m eta \u001b[36m0:00:00\u001b[0m\n",
            "\u001b[?25hDownloading dtreeviz-2.2.2-py3-none-any.whl (91 kB)\n",
            "\u001b[2K   \u001b[90m━━━━━━━━━━━━━━━━━━━━━━━━━━━━━━━━━━━━━━━━\u001b[0m \u001b[32m91.8/91.8 kB\u001b[0m \u001b[31m6.2 MB/s\u001b[0m eta \u001b[36m0:00:00\u001b[0m\n",
            "\u001b[?25hDownloading dynaconf-3.2.10-py2.py3-none-any.whl (236 kB)\n",
            "\u001b[2K   \u001b[90m━━━━━━━━━━━━━━━━━━━━━━━━━━━━━━━━━━━━━━━━\u001b[0m \u001b[32m236.2/236.2 kB\u001b[0m \u001b[31m15.4 MB/s\u001b[0m eta \u001b[36m0:00:00\u001b[0m\n",
            "\u001b[?25hDownloading flask_wtf-1.2.2-py3-none-any.whl (12 kB)\n",
            "Downloading graphene-3.4.3-py2.py3-none-any.whl (114 kB)\n",
            "\u001b[2K   \u001b[90m━━━━━━━━━━━━━━━━━━━━━━━━━━━━━━━━━━━━━━━━\u001b[0m \u001b[32m114.9/114.9 kB\u001b[0m \u001b[31m7.5 MB/s\u001b[0m eta \u001b[36m0:00:00\u001b[0m\n",
            "\u001b[?25hDownloading groovy-0.1.2-py3-none-any.whl (14 kB)\n",
            "Downloading gunicorn-23.0.0-py3-none-any.whl (85 kB)\n",
            "\u001b[2K   \u001b[90m━━━━━━━━━━━━━━━━━━━━━━━━━━━━━━━━━━━━━━━━\u001b[0m \u001b[32m85.0/85.0 kB\u001b[0m \u001b[31m4.9 MB/s\u001b[0m eta \u001b[36m0:00:00\u001b[0m\n",
            "\u001b[?25hDownloading iterative_telemetry-0.0.10-py3-none-any.whl (10 kB)\n",
            "Downloading jedi-0.19.2-py2.py3-none-any.whl (1.6 MB)\n",
            "\u001b[2K   \u001b[90m━━━━━━━━━━━━━━━━━━━━━━━━━━━━━━━━━━━━━━━━\u001b[0m \u001b[32m1.6/1.6 MB\u001b[0m \u001b[31m55.8 MB/s\u001b[0m eta \u001b[36m0:00:00\u001b[0m\n",
            "\u001b[?25hDownloading jmespath-1.0.1-py3-none-any.whl (20 kB)\n",
            "Downloading jupyter_dash-0.4.2-py3-none-any.whl (23 kB)\n",
            "Downloading litestar-2.15.1-py3-none-any.whl (571 kB)\n",
            "\u001b[2K   \u001b[90m━━━━━━━━━━━━━━━━━━━━━━━━━━━━━━━━━━━━━━━━\u001b[0m \u001b[32m571.0/571.0 kB\u001b[0m \u001b[31m27.5 MB/s\u001b[0m eta \u001b[36m0:00:00\u001b[0m\n",
            "\u001b[?25hDownloading multimethod-1.12-py3-none-any.whl (10 kB)\n",
            "Downloading multiprocess-0.70.17-py311-none-any.whl (144 kB)\n",
            "\u001b[2K   \u001b[90m━━━━━━━━━━━━━━━━━━━━━━━━━━━━━━━━━━━━━━━━\u001b[0m \u001b[32m144.3/144.3 kB\u001b[0m \u001b[31m9.4 MB/s\u001b[0m eta \u001b[36m0:00:00\u001b[0m\n",
            "\u001b[?25hDownloading percy-2.0.2-py2.py3-none-any.whl (12 kB)\n",
            "Downloading phik-0.12.4-cp311-cp311-manylinux_2_17_x86_64.manylinux2014_x86_64.whl (687 kB)\n",
            "\u001b[2K   \u001b[90m━━━━━━━━━━━━━━━━━━━━━━━━━━━━━━━━━━━━━━━━\u001b[0m \u001b[32m687.8/687.8 kB\u001b[0m \u001b[31m33.7 MB/s\u001b[0m eta \u001b[36m0:00:00\u001b[0m\n",
            "\u001b[?25hDownloading pyaml-25.1.0-py3-none-any.whl (26 kB)\n",
            "Downloading python_multipart-0.0.20-py3-none-any.whl (24 kB)\n",
            "Downloading qpd-0.4.4-py3-none-any.whl (169 kB)\n",
            "\u001b[2K   \u001b[90m━━━━━━━━━━━━━━━━━━━━━━━━━━━━━━━━━━━━━━━━\u001b[0m \u001b[32m169.2/169.2 kB\u001b[0m \u001b[31m11.2 MB/s\u001b[0m eta \u001b[36m0:00:00\u001b[0m\n",
            "\u001b[?25hDownloading responses-0.25.7-py3-none-any.whl (34 kB)\n",
            "Downloading ruff-0.11.0-py3-none-manylinux_2_17_x86_64.manylinux2014_x86_64.whl (11.3 MB)\n",
            "\u001b[2K   \u001b[90m━━━━━━━━━━━━━━━━━━━━━━━━━━━━━━━━━━━━━━━━\u001b[0m \u001b[32m11.3/11.3 MB\u001b[0m \u001b[31m92.9 MB/s\u001b[0m eta \u001b[36m0:00:00\u001b[0m\n",
            "\u001b[?25hDownloading s3transfer-0.11.4-py3-none-any.whl (84 kB)\n",
            "\u001b[2K   \u001b[90m━━━━━━━━━━━━━━━━━━━━━━━━━━━━━━━━━━━━━━━━\u001b[0m \u001b[32m84.4/84.4 kB\u001b[0m \u001b[31m5.3 MB/s\u001b[0m eta \u001b[36m0:00:00\u001b[0m\n",
            "\u001b[?25hDownloading safehttpx-0.1.6-py3-none-any.whl (8.7 kB)\n",
            "Downloading scikit_base-0.7.8-py3-none-any.whl (130 kB)\n",
            "\u001b[2K   \u001b[90m━━━━━━━━━━━━━━━━━━━━━━━━━━━━━━━━━━━━━━━━\u001b[0m \u001b[32m130.1/130.1 kB\u001b[0m \u001b[31m8.6 MB/s\u001b[0m eta \u001b[36m0:00:00\u001b[0m\n",
            "\u001b[?25hDownloading selenium-4.2.0-py3-none-any.whl (983 kB)\n",
            "\u001b[2K   \u001b[90m━━━━━━━━━━━━━━━━━━━━━━━━━━━━━━━━━━━━━━━━\u001b[0m \u001b[32m983.2/983.2 kB\u001b[0m \u001b[31m34.1 MB/s\u001b[0m eta \u001b[36m0:00:00\u001b[0m\n",
            "\u001b[?25hDownloading semantic_version-2.10.0-py2.py3-none-any.whl (15 kB)\n",
            "Downloading starlette-0.46.1-py3-none-any.whl (71 kB)\n",
            "\u001b[2K   \u001b[90m━━━━━━━━━━━━━━━━━━━━━━━━━━━━━━━━━━━━━━━━\u001b[0m \u001b[32m72.0/72.0 kB\u001b[0m \u001b[31m4.9 MB/s\u001b[0m eta \u001b[36m0:00:00\u001b[0m\n",
            "\u001b[?25hDownloading tomlkit-0.13.2-py3-none-any.whl (37 kB)\n",
            "Downloading triad-0.9.8-py3-none-any.whl (62 kB)\n",
            "\u001b[2K   \u001b[90m━━━━━━━━━━━━━━━━━━━━━━━━━━━━━━━━━━━━━━━━\u001b[0m \u001b[32m62.3/62.3 kB\u001b[0m \u001b[31m4.0 MB/s\u001b[0m eta \u001b[36m0:00:00\u001b[0m\n",
            "\u001b[?25hDownloading tsdownsample-0.1.4.1-cp311-cp311-manylinux_2_17_x86_64.manylinux2014_x86_64.whl (1.3 MB)\n",
            "\u001b[2K   \u001b[90m━━━━━━━━━━━━━━━━━━━━━━━━━━━━━━━━━━━━━━━━\u001b[0m \u001b[32m1.3/1.3 MB\u001b[0m \u001b[31m49.5 MB/s\u001b[0m eta \u001b[36m0:00:00\u001b[0m\n",
            "\u001b[?25hDownloading typing_inspect-0.9.0-py3-none-any.whl (8.8 kB)\n",
            "Downloading ujson-5.10.0-cp311-cp311-manylinux_2_17_x86_64.manylinux2014_x86_64.whl (53 kB)\n",
            "\u001b[2K   \u001b[90m━━━━━━━━━━━━━━━━━━━━━━━━━━━━━━━━━━━━━━━━\u001b[0m \u001b[32m53.6/53.6 kB\u001b[0m \u001b[31m3.1 MB/s\u001b[0m eta \u001b[36m0:00:00\u001b[0m\n",
            "\u001b[?25hDownloading urllib3-1.26.20-py2.py3-none-any.whl (144 kB)\n",
            "\u001b[2K   \u001b[90m━━━━━━━━━━━━━━━━━━━━━━━━━━━━━━━━━━━━━━━━\u001b[0m \u001b[32m144.2/144.2 kB\u001b[0m \u001b[31m10.3 MB/s\u001b[0m eta \u001b[36m0:00:00\u001b[0m\n",
            "\u001b[?25hDownloading uuid6-2024.7.10-py3-none-any.whl (6.4 kB)\n",
            "Downloading visions-0.8.1-py3-none-any.whl (105 kB)\n",
            "\u001b[2K   \u001b[90m━━━━━━━━━━━━━━━━━━━━━━━━━━━━━━━━━━━━━━━━\u001b[0m \u001b[32m105.4/105.4 kB\u001b[0m \u001b[31m6.8 MB/s\u001b[0m eta \u001b[36m0:00:00\u001b[0m\n",
            "\u001b[?25hDownloading waitress-3.0.2-py3-none-any.whl (56 kB)\n",
            "\u001b[2K   \u001b[90m━━━━━━━━━━━━━━━━━━━━━━━━━━━━━━━━━━━━━━━━\u001b[0m \u001b[32m56.2/56.2 kB\u001b[0m \u001b[31m3.4 MB/s\u001b[0m eta \u001b[36m0:00:00\u001b[0m\n",
            "\u001b[?25hDownloading watchdog-6.0.0-py3-none-manylinux2014_x86_64.whl (79 kB)\n",
            "\u001b[2K   \u001b[90m━━━━━━━━━━━━━━━━━━━━━━━━━━━━━━━━━━━━━━━━\u001b[0m \u001b[32m79.1/79.1 kB\u001b[0m \u001b[31m4.9 MB/s\u001b[0m eta \u001b[36m0:00:00\u001b[0m\n",
            "\u001b[?25hDownloading colorlog-6.9.0-py3-none-any.whl (11 kB)\n",
            "Downloading dash_auth-2.3.0-py3-none-any.whl (14 kB)\n",
            "Downloading ffmpy-0.5.0-py3-none-any.whl (6.0 kB)\n",
            "Downloading flask_simplelogin-0.2.0-py3-none-any.whl (7.3 kB)\n",
            "Downloading oyaml-1.0-py2.py3-none-any.whl (3.0 kB)\n",
            "Downloading pydub-0.25.1-py2.py3-none-any.whl (32 kB)\n",
            "Downloading retrying-1.3.4-py3-none-any.whl (11 kB)\n",
            "Downloading xmltodict-0.14.2-py2.py3-none-any.whl (10.0 kB)\n",
            "Downloading antlr4_python3_runtime-4.11.1-py3-none-any.whl (144 kB)\n",
            "\u001b[2K   \u001b[90m━━━━━━━━━━━━━━━━━━━━━━━━━━━━━━━━━━━━━━━━\u001b[0m \u001b[32m144.2/144.2 kB\u001b[0m \u001b[31m8.8 MB/s\u001b[0m eta \u001b[36m0:00:00\u001b[0m\n",
            "\u001b[?25hDownloading aplr-10.8.0-cp311-cp311-manylinux_2_17_x86_64.manylinux2014_x86_64.whl (6.7 MB)\n",
            "\u001b[2K   \u001b[90m━━━━━━━━━━━━━━━━━━━━━━━━━━━━━━━━━━━━━━━━\u001b[0m \u001b[32m6.7/6.7 MB\u001b[0m \u001b[31m81.7 MB/s\u001b[0m eta \u001b[36m0:00:00\u001b[0m\n",
            "\u001b[?25hDownloading dash_core_components-2.0.0-py3-none-any.whl (3.8 kB)\n",
            "Downloading dash_html_components-2.0.0-py3-none-any.whl (4.1 kB)\n",
            "Downloading dash_table-5.0.0-py3-none-any.whl (3.9 kB)\n",
            "Downloading databricks_sdk-0.46.0-py3-none-any.whl (677 kB)\n",
            "\u001b[2K   \u001b[90m━━━━━━━━━━━━━━━━━━━━━━━━━━━━━━━━━━━━━━━━\u001b[0m \u001b[32m677.5/677.5 kB\u001b[0m \u001b[31m30.7 MB/s\u001b[0m eta \u001b[36m0:00:00\u001b[0m\n",
            "\u001b[?25hDownloading dill-0.3.9-py3-none-any.whl (119 kB)\n",
            "\u001b[2K   \u001b[90m━━━━━━━━━━━━━━━━━━━━━━━━━━━━━━━━━━━━━━━━\u001b[0m \u001b[32m119.4/119.4 kB\u001b[0m \u001b[31m7.7 MB/s\u001b[0m eta \u001b[36m0:00:00\u001b[0m\n",
            "\u001b[?25hDownloading gevent-24.11.1-cp311-cp311-manylinux_2_17_x86_64.manylinux2014_x86_64.whl (6.8 MB)\n",
            "\u001b[2K   \u001b[90m━━━━━━━━━━━━━━━━━━━━━━━━━━━━━━━━━━━━━━━━\u001b[0m \u001b[32m6.8/6.8 MB\u001b[0m \u001b[31m82.8 MB/s\u001b[0m eta \u001b[36m0:00:00\u001b[0m\n",
            "\u001b[?25hDownloading graphql_core-3.2.6-py3-none-any.whl (203 kB)\n",
            "\u001b[2K   \u001b[90m━━━━━━━━━━━━━━━━━━━━━━━━━━━━━━━━━━━━━━━━\u001b[0m \u001b[32m203.4/203.4 kB\u001b[0m \u001b[31m13.4 MB/s\u001b[0m eta \u001b[36m0:00:00\u001b[0m\n",
            "\u001b[?25hDownloading graphql_relay-3.2.0-py3-none-any.whl (16 kB)\n",
            "Downloading httptools-0.6.4-cp311-cp311-manylinux_2_5_x86_64.manylinux1_x86_64.manylinux_2_17_x86_64.manylinux2014_x86_64.whl (459 kB)\n",
            "\u001b[2K   \u001b[90m━━━━━━━━━━━━━━━━━━━━━━━━━━━━━━━━━━━━━━━━\u001b[0m \u001b[32m459.8/459.8 kB\u001b[0m \u001b[31m25.2 MB/s\u001b[0m eta \u001b[36m0:00:00\u001b[0m\n",
            "\u001b[?25hDownloading litestar_htmx-0.4.1-py3-none-any.whl (10.0 kB)\n",
            "Downloading msgspec-0.19.0-cp311-cp311-manylinux_2_17_x86_64.manylinux2014_x86_64.whl (210 kB)\n",
            "\u001b[2K   \u001b[90m━━━━━━━━━━━━━━━━━━━━━━━━━━━━━━━━━━━━━━━━\u001b[0m \u001b[32m210.7/210.7 kB\u001b[0m \u001b[31m14.0 MB/s\u001b[0m eta \u001b[36m0:00:00\u001b[0m\n",
            "\u001b[?25hDownloading multipart-1.2.1-py3-none-any.whl (13 kB)\n",
            "Downloading mypy_extensions-1.0.0-py3-none-any.whl (4.7 kB)\n",
            "Downloading polyfactory-2.19.0-py3-none-any.whl (59 kB)\n",
            "\u001b[2K   \u001b[90m━━━━━━━━━━━━━━━━━━━━━━━━━━━━━━━━━━━━━━━━\u001b[0m \u001b[32m59.8/59.8 kB\u001b[0m \u001b[31m4.2 MB/s\u001b[0m eta \u001b[36m0:00:00\u001b[0m\n",
            "\u001b[?25hDownloading python_dotenv-1.0.1-py3-none-any.whl (19 kB)\n",
            "Downloading salib-1.5.1-py3-none-any.whl (778 kB)\n",
            "\u001b[2K   \u001b[90m━━━━━━━━━━━━━━━━━━━━━━━━━━━━━━━━━━━━━━━━\u001b[0m \u001b[32m778.9/778.9 kB\u001b[0m \u001b[31m2.3 MB/s\u001b[0m eta \u001b[36m0:00:00\u001b[0m\n",
            "\u001b[?25hDownloading trio-0.29.0-py3-none-any.whl (492 kB)\n",
            "\u001b[2K   \u001b[90m━━━━━━━━━━━━━━━━━━━━━━━━━━━━━━━━━━━━━━━━\u001b[0m \u001b[32m492.9/492.9 kB\u001b[0m \u001b[31m25.0 MB/s\u001b[0m eta \u001b[36m0:00:00\u001b[0m\n",
            "\u001b[?25hDownloading trio_websocket-0.12.2-py3-none-any.whl (21 kB)\n",
            "Downloading uvloop-0.21.0-cp311-cp311-manylinux_2_17_x86_64.manylinux2014_x86_64.whl (4.0 MB)\n",
            "\u001b[2K   \u001b[90m━━━━━━━━━━━━━━━━━━━━━━━━━━━━━━━━━━━━━━━━\u001b[0m \u001b[32m4.0/4.0 MB\u001b[0m \u001b[31m69.0 MB/s\u001b[0m eta \u001b[36m0:00:00\u001b[0m\n",
            "\u001b[?25hDownloading watchfiles-1.0.4-cp311-cp311-manylinux_2_17_x86_64.manylinux2014_x86_64.whl (452 kB)\n",
            "\u001b[2K   \u001b[90m━━━━━━━━━━━━━━━━━━━━━━━━━━━━━━━━━━━━━━━━\u001b[0m \u001b[32m452.6/452.6 kB\u001b[0m \u001b[31m21.3 MB/s\u001b[0m eta \u001b[36m0:00:00\u001b[0m\n",
            "\u001b[?25hDownloading wtforms-3.2.1-py3-none-any.whl (152 kB)\n",
            "\u001b[2K   \u001b[90m━━━━━━━━━━━━━━━━━━━━━━━━━━━━━━━━━━━━━━━━\u001b[0m \u001b[32m152.5/152.5 kB\u001b[0m \u001b[31m8.5 MB/s\u001b[0m eta \u001b[36m0:00:00\u001b[0m\n",
            "\u001b[?25hDownloading ansi2html-1.9.2-py3-none-any.whl (17 kB)\n",
            "Downloading appdirs-1.4.4-py2.py3-none-any.whl (9.6 kB)\n",
            "Downloading fs-2.4.16-py2.py3-none-any.whl (135 kB)\n",
            "\u001b[2K   \u001b[90m━━━━━━━━━━━━━━━━━━━━━━━━━━━━━━━━━━━━━━━━\u001b[0m \u001b[32m135.3/135.3 kB\u001b[0m \u001b[31m7.9 MB/s\u001b[0m eta \u001b[36m0:00:00\u001b[0m\n",
            "\u001b[?25hDownloading Mako-1.3.9-py3-none-any.whl (78 kB)\n",
            "\u001b[2K   \u001b[90m━━━━━━━━━━━━━━━━━━━━━━━━━━━━━━━━━━━━━━━━\u001b[0m \u001b[32m78.5/78.5 kB\u001b[0m \u001b[31m4.7 MB/s\u001b[0m eta \u001b[36m0:00:00\u001b[0m\n",
            "\u001b[?25hDownloading puremagic-1.28-py3-none-any.whl (43 kB)\n",
            "\u001b[2K   \u001b[90m━━━━━━━━━━━━━━━━━━━━━━━━━━━━━━━━━━━━━━━━\u001b[0m \u001b[32m43.2/43.2 kB\u001b[0m \u001b[31m2.6 MB/s\u001b[0m eta \u001b[36m0:00:00\u001b[0m\n",
            "\u001b[?25hDownloading pywavelets-1.8.0-cp311-cp311-manylinux_2_17_x86_64.manylinux2014_x86_64.whl (4.5 MB)\n",
            "\u001b[2K   \u001b[90m━━━━━━━━━━━━━━━━━━━━━━━━━━━━━━━━━━━━━━━━\u001b[0m \u001b[32m4.5/4.5 MB\u001b[0m \u001b[31m79.4 MB/s\u001b[0m eta \u001b[36m0:00:00\u001b[0m\n",
            "\u001b[?25hDownloading rich_click-1.8.8-py3-none-any.whl (35 kB)\n",
            "Downloading outcome-1.3.0.post0-py2.py3-none-any.whl (10 kB)\n",
            "Downloading wsproto-1.2.0-py3-none-any.whl (24 kB)\n",
            "Downloading faker-37.0.2-py3-none-any.whl (1.9 MB)\n",
            "\u001b[2K   \u001b[90m━━━━━━━━━━━━━━━━━━━━━━━━━━━━━━━━━━━━━━━━\u001b[0m \u001b[32m1.9/1.9 MB\u001b[0m \u001b[31m54.1 MB/s\u001b[0m eta \u001b[36m0:00:00\u001b[0m\n",
            "\u001b[?25hDownloading urllib3_secure_extra-0.1.0-py2.py3-none-any.whl (1.4 kB)\n",
            "Downloading zope.event-5.0-py3-none-any.whl (6.8 kB)\n",
            "Downloading zope.interface-7.2-cp311-cp311-manylinux_2_5_x86_64.manylinux1_x86_64.manylinux_2_17_x86_64.manylinux2014_x86_64.whl (259 kB)\n",
            "\u001b[2K   \u001b[90m━━━━━━━━━━━━━━━━━━━━━━━━━━━━━━━━━━━━━━━━\u001b[0m \u001b[32m259.8/259.8 kB\u001b[0m \u001b[31m13.3 MB/s\u001b[0m eta \u001b[36m0:00:00\u001b[0m\n",
            "\u001b[?25hBuilding wheels for collected packages: pyod, htmlmin, fugue-sql-antlr, stringcase, dash-cytoscape\n",
            "  Building wheel for pyod (setup.py) ... \u001b[?25l\u001b[?25hdone\n",
            "  Created wheel for pyod: filename=pyod-2.0.3-py3-none-any.whl size=200466 sha256=b3121cd34ee93d78b1d08130f7d2f6c9d9e778f378f3eea86ae4440b0fae9629\n",
            "  Stored in directory: /root/.cache/pip/wheels/2d/60/5b/f74eccd2c9c892a2c298202ca510f10995f9940647fcc2d97f\n",
            "  Building wheel for htmlmin (setup.py) ... \u001b[?25l\u001b[?25hdone\n",
            "  Created wheel for htmlmin: filename=htmlmin-0.1.12-py3-none-any.whl size=27081 sha256=0f020479eedc583aefe5952652ce9296700add2d59ac6922def4dd52491e8fc6\n",
            "  Stored in directory: /root/.cache/pip/wheels/8d/55/1a/19cd535375ed1ede0c996405ebffe34b196d78e2d9545723a2\n",
            "  Building wheel for fugue-sql-antlr (setup.py) ... \u001b[?25l\u001b[?25hdone\n",
            "  Created wheel for fugue-sql-antlr: filename=fugue_sql_antlr-0.2.2-py3-none-any.whl size=158200 sha256=22cf50733c68f39be2c70331c24309ba40f763f28af8b2f2255973e3bdc0ff80\n",
            "  Stored in directory: /root/.cache/pip/wheels/a0/18/b5/191b8df81519a2fb4b4a61aa0105a10d7121cd945bed15bb50\n",
            "  Building wheel for stringcase (setup.py) ... \u001b[?25l\u001b[?25hdone\n",
            "  Created wheel for stringcase: filename=stringcase-1.2.0-py3-none-any.whl size=3568 sha256=9e36aadf2a453fc74a71a03e6f10b1bd46cfb56ebea1ba1ee98404685309d418\n",
            "  Stored in directory: /root/.cache/pip/wheels/b4/33/6d/d0820be98063da218c3206fbad2381cd2db3fbb1a0f0d254b5\n",
            "  Building wheel for dash-cytoscape (setup.py) ... \u001b[?25l\u001b[?25hdone\n",
            "  Created wheel for dash-cytoscape: filename=dash_cytoscape-1.0.2-py3-none-any.whl size=4010716 sha256=129cd2fcf7d07823be5fbdedfbf70271a0a78c6d356a33fdee2dab2495dfd205\n",
            "  Stored in directory: /root/.cache/pip/wheels/99/b1/ab/6c999ab288b4849d372e23c0a8f6ece7edb7ffeb8c97959ab0\n",
            "Successfully built pyod htmlmin fugue-sql-antlr stringcase dash-cytoscape\n",
            "Installing collected packages: urllib3-secure-extra, stringcase, pydub, puremagic, kaleido, htmlmin, dash-testing-stub, dash-table, dash-html-components, dash-core-components, appdirs, antlr4-python3-runtime, zope.interface, zope.event, xxhash, xmltodict, wurlitzer, wtforms, wsproto, Werkzeug, watchdog, waitress, uvloop, uvicorn, uuid6, urllib3, ujson, tomlkit, slicer, semantic-version, scikit-base, schemdraw, ruff, retrying, python-multipart, python-dotenv, pytest, pyaml, oyaml, outcome, numpy, mypy-extensions, multipart, multimethod, msgspec, Mako, litestar-htmx, joblib, jmespath, jedi, httptools, gunicorn, groovy, graphql-core, fs, ffmpy, faker, dynaconf, dill, deprecation, dacite, colorlog, ansi2html, aiofiles, watchfiles, typing-inspect, tsdownsample, trio, starlette, scipy, PyWavelets, polyfactory, pandas, multiprocess, m2cgen, graphql-relay, gevent, flask, daal, botocore, aplr, alembic, visions, trio-websocket, triad, scikit-learn, safehttpx, s3transfer, rich-click, responses, percy, optuna, matplotlib, iterative-telemetry, imagehash, graphene, Flask-WTF, fastapi, docker, databricks-sdk, dash, sktime, shap, scikit-plot, scikit-optimize, scikit-learn-intelex, SALib, pyod, pmdarima, plotly-resampler, phik, optuna-integration, litestar, kmodes, jupyter_dash, interpret-core, gradio-client, fugue-sql-antlr, flask_simplelogin, fairlearn, dtreeviz, dash-cytoscape, dash-bootstrap-components, dash-auth, category-encoders, catboost, boto3, adagio, ydata-profiling, tbats, selenium, qpd, moto, mlflow-skinny, gradio, explainerdashboard, evidently, mlflow, interpret, fugue, statsforecast, pycaret\n",
            "  Attempting uninstall: Werkzeug\n",
            "    Found existing installation: Werkzeug 3.1.3\n",
            "    Uninstalling Werkzeug-3.1.3:\n",
            "      Successfully uninstalled Werkzeug-3.1.3\n",
            "  Attempting uninstall: urllib3\n",
            "    Found existing installation: urllib3 2.3.0\n",
            "    Uninstalling urllib3-2.3.0:\n",
            "      Successfully uninstalled urllib3-2.3.0\n",
            "  Attempting uninstall: slicer\n",
            "    Found existing installation: slicer 0.0.8\n",
            "    Uninstalling slicer-0.0.8:\n",
            "      Successfully uninstalled slicer-0.0.8\n",
            "  Attempting uninstall: pytest\n",
            "    Found existing installation: pytest 8.3.5\n",
            "    Uninstalling pytest-8.3.5:\n",
            "      Successfully uninstalled pytest-8.3.5\n",
            "  Attempting uninstall: numpy\n",
            "    Found existing installation: numpy 2.0.2\n",
            "    Uninstalling numpy-2.0.2:\n",
            "      Successfully uninstalled numpy-2.0.2\n",
            "  Attempting uninstall: joblib\n",
            "    Found existing installation: joblib 1.4.2\n",
            "    Uninstalling joblib-1.4.2:\n",
            "      Successfully uninstalled joblib-1.4.2\n",
            "  Attempting uninstall: scipy\n",
            "    Found existing installation: scipy 1.14.1\n",
            "    Uninstalling scipy-1.14.1:\n",
            "      Successfully uninstalled scipy-1.14.1\n",
            "  Attempting uninstall: pandas\n",
            "    Found existing installation: pandas 2.2.2\n",
            "    Uninstalling pandas-2.2.2:\n",
            "      Successfully uninstalled pandas-2.2.2\n",
            "  Attempting uninstall: flask\n",
            "    Found existing installation: Flask 3.1.0\n",
            "    Uninstalling Flask-3.1.0:\n",
            "      Successfully uninstalled Flask-3.1.0\n",
            "  Attempting uninstall: scikit-learn\n",
            "    Found existing installation: scikit-learn 1.6.1\n",
            "    Uninstalling scikit-learn-1.6.1:\n",
            "      Successfully uninstalled scikit-learn-1.6.1\n",
            "  Attempting uninstall: matplotlib\n",
            "    Found existing installation: matplotlib 3.10.0\n",
            "    Uninstalling matplotlib-3.10.0:\n",
            "      Successfully uninstalled matplotlib-3.10.0\n",
            "  Attempting uninstall: shap\n",
            "    Found existing installation: shap 0.46.0\n",
            "    Uninstalling shap-0.46.0:\n",
            "      Successfully uninstalled shap-0.46.0\n",
            "\u001b[31mERROR: pip's dependency resolver does not currently take into account all the packages that are installed. This behaviour is the source of the following dependency conflicts.\n",
            "google-colab 1.0.0 requires pandas==2.2.2, but you have pandas 2.1.4 which is incompatible.\n",
            "mizani 0.13.1 requires pandas>=2.2.0, but you have pandas 2.1.4 which is incompatible.\n",
            "plotnine 0.14.5 requires matplotlib>=3.8.0, but you have matplotlib 3.7.5 which is incompatible.\n",
            "plotnine 0.14.5 requires pandas>=2.2.0, but you have pandas 2.1.4 which is incompatible.\u001b[0m\u001b[31m\n",
            "\u001b[0mSuccessfully installed Flask-WTF-1.2.2 Mako-1.3.9 PyWavelets-1.8.0 SALib-1.5.1 Werkzeug-2.3.8 adagio-0.2.6 aiofiles-23.2.1 alembic-1.15.1 ansi2html-1.9.2 antlr4-python3-runtime-4.11.1 aplr-10.8.0 appdirs-1.4.4 boto3-1.37.16 botocore-1.37.16 catboost-1.2.7 category-encoders-2.7.0 colorlog-6.9.0 daal-2025.2.0 dacite-1.9.2 dash-3.0.0 dash-auth-2.3.0 dash-bootstrap-components-2.0.0 dash-core-components-2.0.0 dash-cytoscape-1.0.2 dash-html-components-2.0.0 dash-table-5.0.0 dash-testing-stub-0.0.2 databricks-sdk-0.46.0 deprecation-2.1.0 dill-0.3.9 docker-7.1.0 dtreeviz-2.2.2 dynaconf-3.2.10 evidently-0.4.40 explainerdashboard-0.4.8 fairlearn-0.7.0 faker-37.0.2 fastapi-0.115.11 ffmpy-0.5.0 flask-2.3.3 flask_simplelogin-0.2.0 fs-2.4.16 fugue-0.8.7 fugue-sql-antlr-0.2.2 gevent-24.11.1 gradio-5.22.0 gradio-client-1.8.0 graphene-3.4.3 graphql-core-3.2.6 graphql-relay-3.2.0 groovy-0.1.2 gunicorn-23.0.0 htmlmin-0.1.12 httptools-0.6.4 imagehash-4.3.1 interpret-0.6.9 interpret-core-0.6.9 iterative-telemetry-0.0.10 jedi-0.19.2 jmespath-1.0.1 joblib-1.3.2 jupyter_dash-0.4.2 kaleido-0.2.1 kmodes-0.12.2 litestar-2.15.1 litestar-htmx-0.4.1 m2cgen-0.10.0 matplotlib-3.7.5 mlflow-2.21.0 mlflow-skinny-2.21.0 moto-4.2.14 msgspec-0.19.0 multimethod-1.12 multipart-1.2.1 multiprocess-0.70.17 mypy-extensions-1.0.0 numpy-1.26.4 optuna-4.2.1 optuna-integration-4.2.1 outcome-1.3.0.post0 oyaml-1.0 pandas-2.1.4 percy-2.0.2 phik-0.12.4 plotly-resampler-0.10.0 pmdarima-2.0.4 polyfactory-2.19.0 puremagic-1.28 pyaml-25.1.0 pycaret-3.3.2 pydub-0.25.1 pyod-2.0.3 pytest-7.4.4 python-dotenv-1.0.1 python-multipart-0.0.20 qpd-0.4.4 responses-0.25.7 retrying-1.3.4 rich-click-1.8.8 ruff-0.11.0 s3transfer-0.11.4 safehttpx-0.1.6 schemdraw-0.15 scikit-base-0.7.8 scikit-learn-1.4.2 scikit-learn-intelex-2025.2.0 scikit-optimize-0.10.2 scikit-plot-0.3.7 scipy-1.11.4 selenium-4.2.0 semantic-version-2.10.0 shap-0.44.1 sktime-0.26.0 slicer-0.0.7 starlette-0.46.1 statsforecast-1.5.0 stringcase-1.2.0 tbats-1.1.3 tomlkit-0.13.2 triad-0.9.8 trio-0.29.0 trio-websocket-0.12.2 tsdownsample-0.1.4.1 typing-inspect-0.9.0 ujson-5.10.0 urllib3-1.26.20 urllib3-secure-extra-0.1.0 uuid6-2024.7.10 uvicorn-0.34.0 uvloop-0.21.0 visions-0.8.1 waitress-3.0.2 watchdog-6.0.0 watchfiles-1.0.4 wsproto-1.2.0 wtforms-3.2.1 wurlitzer-3.1.1 xmltodict-0.14.2 xxhash-3.5.0 ydata-profiling-4.15.0 zope.event-5.0 zope.interface-7.2\n"
          ]
        },
        {
          "output_type": "display_data",
          "data": {
            "application/vnd.colab-display-data+json": {
              "pip_warning": {
                "packages": [
                  "joblib",
                  "matplotlib",
                  "mpl_toolkits",
                  "sklearn"
                ]
              },
              "id": "5e6713a028b24b259b2d07f91cc30073"
            }
          },
          "metadata": {}
        }
      ]
    },
    {
      "cell_type": "code",
      "metadata": {
        "id": "zwClIIrqnX-L",
        "outputId": "36869519-b866-458d-d654-ffebbd87e77f",
        "colab": {
          "base_uri": "https://localhost:8080/"
        }
      },
      "source": [
        "!pip install pyyaml==5.4.1\n"
      ],
      "execution_count": null,
      "outputs": [
        {
          "output_type": "stream",
          "name": "stdout",
          "text": [
            "Looking in indexes: https://pypi.org/simple, https://us-python.pkg.dev/colab-wheels/public/simple/\n",
            "Requirement already satisfied: pyyaml==5.4.1 in /usr/local/lib/python3.7/dist-packages (5.4.1)\n"
          ]
        }
      ]
    },
    {
      "cell_type": "markdown",
      "metadata": {
        "id": "2VKGDPlBlpaI"
      },
      "source": [
        "By installing the full version of pycaret, all the optional dependencies as listed here are also installed."
      ]
    },
    {
      "cell_type": "markdown",
      "metadata": {
        "id": "hh4GSJw-1Y5a"
      },
      "source": [
        "#<p style=\"font-family:JetBrains Mono; font-weight:normal; letter-spacing: 1px; color:#207d06; font-size:100%; text-align:left;padding: 0px; border-bottom: 3px solid #207d06;\">**Import the necessary packages**</p>"
      ]
    },
    {
      "cell_type": "code",
      "source": [
        "!pip install markupsafe==2.0.1\n"
      ],
      "metadata": {
        "id": "RK3KHprB0smS",
        "colab": {
          "base_uri": "https://localhost:8080/"
        },
        "outputId": "5eccdc0e-c476-4206-dcf7-f5ef45c855ea"
      },
      "execution_count": null,
      "outputs": [
        {
          "output_type": "stream",
          "name": "stdout",
          "text": [
            "Looking in indexes: https://pypi.org/simple, https://us-python.pkg.dev/colab-wheels/public/simple/\n",
            "Collecting markupsafe==2.0.1\n",
            "  Downloading MarkupSafe-2.0.1-cp37-cp37m-manylinux_2_5_x86_64.manylinux1_x86_64.manylinux_2_12_x86_64.manylinux2010_x86_64.whl (31 kB)\n",
            "Installing collected packages: markupsafe\n",
            "  Attempting uninstall: markupsafe\n",
            "    Found existing installation: MarkupSafe 2.1.1\n",
            "    Uninstalling MarkupSafe-2.1.1:\n",
            "      Successfully uninstalled MarkupSafe-2.1.1\n",
            "\u001b[31mERROR: pip's dependency resolver does not currently take into account all the packages that are installed. This behaviour is the source of the following dependency conflicts.\n",
            "pandas-profiling 3.2.0 requires markupsafe~=2.1.1, but you have markupsafe 2.0.1 which is incompatible.\n",
            "datascience 0.10.6 requires folium==0.2.1, but you have folium 0.8.3 which is incompatible.\u001b[0m\n",
            "Successfully installed markupsafe-2.0.1\n"
          ]
        }
      ]
    },
    {
      "cell_type": "markdown",
      "source": [
        "Runtime> Restart Runtime"
      ],
      "metadata": {
        "id": "6LPVVcETrlFq"
      }
    },
    {
      "cell_type": "code",
      "metadata": {
        "id": "dQ2lwtepnpJw"
      },
      "source": [
        "import pandas as pd\n",
        "import numpy as np\n",
        "import matplotlib.pyplot as plt\n",
        "import seaborn as sns\n",
        "import pycaret\n",
        "import jinja2\n",
        "#from pycaret.regression import*\n",
        "from pycaret.classification import*\n",
        "#pycaret.classification import *\n",
        "\n"
      ],
      "execution_count": 2,
      "outputs": []
    },
    {
      "cell_type": "markdown",
      "source": [
        "#<p style=\"font-family:JetBrains Mono; font-weight:normal; letter-spacing: 1px; color:#207d06; font-size:100%; text-align:left;padding: 0px; border-bottom: 3px solid #207d06;\">**Dataset**</p>"
      ],
      "metadata": {
        "id": "7qKvhCCSXctf"
      }
    },
    {
      "cell_type": "code",
      "source": [
        "from pycaret.datasets import get_data\n",
        "all_datasets = get_data()"
      ],
      "metadata": {
        "id": "56uS89neX3Qm",
        "colab": {
          "base_uri": "https://localhost:8080/",
          "height": 1000
        },
        "outputId": "1950ebbf-9e66-4efe-ba79-31395b4b72b2"
      },
      "execution_count": 1,
      "outputs": [
        {
          "output_type": "display_data",
          "data": {
            "text/plain": [
              "                             Dataset    Data Types  \\\n",
              "0                            anomaly  Multivariate   \n",
              "1                             france  Multivariate   \n",
              "2                            germany  Multivariate   \n",
              "3                               bank  Multivariate   \n",
              "4                              blood  Multivariate   \n",
              "5                             cancer  Multivariate   \n",
              "6                             credit  Multivariate   \n",
              "7                           diabetes  Multivariate   \n",
              "8                    electrical_grid  Multivariate   \n",
              "9                           employee  Multivariate   \n",
              "10                             heart  Multivariate   \n",
              "11                     heart_disease  Multivariate   \n",
              "12                         hepatitis  Multivariate   \n",
              "13                            income  Multivariate   \n",
              "14                             juice  Multivariate   \n",
              "15                               nba  Multivariate   \n",
              "16                              wine  Multivariate   \n",
              "17                         telescope  Multivariate   \n",
              "18                           titanic  Multivariate   \n",
              "19  us_presidential_election_results  Multivariate   \n",
              "20                             glass  Multivariate   \n",
              "21                              iris  Multivariate   \n",
              "22                             poker  Multivariate   \n",
              "23                         questions  Multivariate   \n",
              "24                         satellite  Multivariate   \n",
              "25                               CTG  Multivariate   \n",
              "26                          asia_gdp  Multivariate   \n",
              "27                         elections  Multivariate   \n",
              "28                          facebook  Multivariate   \n",
              "29                               ipl  Multivariate   \n",
              "30                         jewellery  Multivariate   \n",
              "31                              mice  Multivariate   \n",
              "32                         migration  Multivariate   \n",
              "33                           perfume  Multivariate   \n",
              "34                           pokemon  Multivariate   \n",
              "35                        population  Multivariate   \n",
              "36                     public_health  Multivariate   \n",
              "37                             seeds  Multivariate   \n",
              "38                         wholesale  Multivariate   \n",
              "39                            tweets          Text   \n",
              "40                            amazon          Text   \n",
              "41                              kiva          Text   \n",
              "42                               spx          Text   \n",
              "43                         wikipedia          Text   \n",
              "44                        automobile  Multivariate   \n",
              "45                              bike  Multivariate   \n",
              "46                            boston  Multivariate   \n",
              "47                          concrete  Multivariate   \n",
              "48                           diamond  Multivariate   \n",
              "49                            energy  Multivariate   \n",
              "50                            forest  Multivariate   \n",
              "51                              gold  Multivariate   \n",
              "52                             house  Multivariate   \n",
              "53                         insurance  Multivariate   \n",
              "54                        parkinsons  Multivariate   \n",
              "55                           traffic  Multivariate   \n",
              "\n",
              "                   Default Task Target Variable 1 Target Variable 2  \\\n",
              "0             Anomaly Detection               NaN               NaN   \n",
              "1       Association Rule Mining         InvoiceNo       Description   \n",
              "2       Association Rule Mining         InvoiceNo       Description   \n",
              "3       Classification (Binary)           deposit               NaN   \n",
              "4       Classification (Binary)             Class               NaN   \n",
              "5       Classification (Binary)             Class               NaN   \n",
              "6       Classification (Binary)           default               NaN   \n",
              "7       Classification (Binary)    Class variable               NaN   \n",
              "8       Classification (Binary)             stabf               NaN   \n",
              "9       Classification (Binary)              left               NaN   \n",
              "10      Classification (Binary)             DEATH               NaN   \n",
              "11      Classification (Binary)           Disease               NaN   \n",
              "12      Classification (Binary)             Class               NaN   \n",
              "13      Classification (Binary)       income >50K               NaN   \n",
              "14      Classification (Binary)          Purchase               NaN   \n",
              "15      Classification (Binary)       TARGET_5Yrs               NaN   \n",
              "16      Classification (Binary)              type               NaN   \n",
              "17      Classification (Binary)             Class               NaN   \n",
              "18      Classification (Binary)          Survived               NaN   \n",
              "19      Classification (Binary)      party_winner               NaN   \n",
              "20  Classification (Multiclass)              Type               NaN   \n",
              "21  Classification (Multiclass)           species               NaN   \n",
              "22  Classification (Multiclass)             CLASS               NaN   \n",
              "23  Classification (Multiclass)     Next_Question               NaN   \n",
              "24  Classification (Multiclass)             Class               NaN   \n",
              "25  Classification (Multiclass)               NSP               NaN   \n",
              "26                   Clustering               NaN               NaN   \n",
              "27                   Clustering               NaN               NaN   \n",
              "28                   Clustering               NaN               NaN   \n",
              "29                   Clustering               NaN               NaN   \n",
              "30                   Clustering               NaN               NaN   \n",
              "31                   Clustering               NaN               NaN   \n",
              "32                   Clustering               NaN               NaN   \n",
              "33                   Clustering               NaN               NaN   \n",
              "34                   Clustering               NaN               NaN   \n",
              "35                   Clustering               NaN               NaN   \n",
              "36                   Clustering               NaN               NaN   \n",
              "37                   Clustering               NaN               NaN   \n",
              "38                   Clustering               NaN               NaN   \n",
              "39                          NLP             tweet               NaN   \n",
              "40         NLP / Classification        reviewText               NaN   \n",
              "41         NLP / Classification                en               NaN   \n",
              "42             NLP / Regression              text               NaN   \n",
              "43         NLP / Classification              Text               NaN   \n",
              "44                   Regression             price               NaN   \n",
              "45                   Regression               cnt               NaN   \n",
              "46                   Regression              medv               NaN   \n",
              "47                   Regression          strength               NaN   \n",
              "48                   Regression             Price               NaN   \n",
              "49                   Regression      Heating Load      Cooling Load   \n",
              "50                   Regression              area               NaN   \n",
              "51                   Regression         Gold_T+22               NaN   \n",
              "52                   Regression         SalePrice               NaN   \n",
              "53                   Regression           charges               NaN   \n",
              "54                   Regression               PPE               NaN   \n",
              "55                   Regression    traffic_volume               NaN   \n",
              "\n",
              "    # Instances  # Attributes Missing Values  \n",
              "0          1000            10              N  \n",
              "1          8557             8              N  \n",
              "2          9495             8              N  \n",
              "3         45211            17              N  \n",
              "4           748             5              N  \n",
              "5           683            10              N  \n",
              "6         24000            24              N  \n",
              "7           768             9              N  \n",
              "8         10000            14              N  \n",
              "9         14999            10              N  \n",
              "10          200            16              N  \n",
              "11          270            14              N  \n",
              "12          154            32              Y  \n",
              "13        32561            14              Y  \n",
              "14         1070            15              N  \n",
              "15         1340            21              N  \n",
              "16         6498            13              N  \n",
              "17        19020            11              N  \n",
              "18          891            11              Y  \n",
              "19          497             7              N  \n",
              "20          214            10              N  \n",
              "21          150             5              N  \n",
              "22       100000            11              N  \n",
              "23          499             4              N  \n",
              "24         6435            37              N  \n",
              "25         2129            40              Y  \n",
              "26           40            11              N  \n",
              "27         3195            54              Y  \n",
              "28         7050            12              N  \n",
              "29          153            25              N  \n",
              "30          505             4              N  \n",
              "31         1080            82              Y  \n",
              "32          233            12              N  \n",
              "33           20            29              N  \n",
              "34          800            13              Y  \n",
              "35          255            56              Y  \n",
              "36          224            21              N  \n",
              "37          210             7              N  \n",
              "38          440             8              N  \n",
              "39         8594             2              N  \n",
              "40        20000             2              N  \n",
              "41         6818             7              N  \n",
              "42          874             4              N  \n",
              "43          500             3              N  \n",
              "44          202            26              Y  \n",
              "45        17379            15              N  \n",
              "46          506            14              N  \n",
              "47         1030             9              N  \n",
              "48         6000             8              N  \n",
              "49          768            10              N  \n",
              "50          517            13              N  \n",
              "51         2558           121              N  \n",
              "52         1461            81              Y  \n",
              "53         1338             7              N  \n",
              "54         5875            22              N  \n",
              "55        48204             8              N  "
            ],
            "text/html": [
              "\n",
              "  <div id=\"df-1bac05c9-5583-458c-9074-05dc71f20173\" class=\"colab-df-container\">\n",
              "    <div>\n",
              "<style scoped>\n",
              "    .dataframe tbody tr th:only-of-type {\n",
              "        vertical-align: middle;\n",
              "    }\n",
              "\n",
              "    .dataframe tbody tr th {\n",
              "        vertical-align: top;\n",
              "    }\n",
              "\n",
              "    .dataframe thead th {\n",
              "        text-align: right;\n",
              "    }\n",
              "</style>\n",
              "<table border=\"1\" class=\"dataframe\">\n",
              "  <thead>\n",
              "    <tr style=\"text-align: right;\">\n",
              "      <th></th>\n",
              "      <th>Dataset</th>\n",
              "      <th>Data Types</th>\n",
              "      <th>Default Task</th>\n",
              "      <th>Target Variable 1</th>\n",
              "      <th>Target Variable 2</th>\n",
              "      <th># Instances</th>\n",
              "      <th># Attributes</th>\n",
              "      <th>Missing Values</th>\n",
              "    </tr>\n",
              "  </thead>\n",
              "  <tbody>\n",
              "    <tr>\n",
              "      <th>0</th>\n",
              "      <td>anomaly</td>\n",
              "      <td>Multivariate</td>\n",
              "      <td>Anomaly Detection</td>\n",
              "      <td>NaN</td>\n",
              "      <td>NaN</td>\n",
              "      <td>1000</td>\n",
              "      <td>10</td>\n",
              "      <td>N</td>\n",
              "    </tr>\n",
              "    <tr>\n",
              "      <th>1</th>\n",
              "      <td>france</td>\n",
              "      <td>Multivariate</td>\n",
              "      <td>Association Rule Mining</td>\n",
              "      <td>InvoiceNo</td>\n",
              "      <td>Description</td>\n",
              "      <td>8557</td>\n",
              "      <td>8</td>\n",
              "      <td>N</td>\n",
              "    </tr>\n",
              "    <tr>\n",
              "      <th>2</th>\n",
              "      <td>germany</td>\n",
              "      <td>Multivariate</td>\n",
              "      <td>Association Rule Mining</td>\n",
              "      <td>InvoiceNo</td>\n",
              "      <td>Description</td>\n",
              "      <td>9495</td>\n",
              "      <td>8</td>\n",
              "      <td>N</td>\n",
              "    </tr>\n",
              "    <tr>\n",
              "      <th>3</th>\n",
              "      <td>bank</td>\n",
              "      <td>Multivariate</td>\n",
              "      <td>Classification (Binary)</td>\n",
              "      <td>deposit</td>\n",
              "      <td>NaN</td>\n",
              "      <td>45211</td>\n",
              "      <td>17</td>\n",
              "      <td>N</td>\n",
              "    </tr>\n",
              "    <tr>\n",
              "      <th>4</th>\n",
              "      <td>blood</td>\n",
              "      <td>Multivariate</td>\n",
              "      <td>Classification (Binary)</td>\n",
              "      <td>Class</td>\n",
              "      <td>NaN</td>\n",
              "      <td>748</td>\n",
              "      <td>5</td>\n",
              "      <td>N</td>\n",
              "    </tr>\n",
              "    <tr>\n",
              "      <th>5</th>\n",
              "      <td>cancer</td>\n",
              "      <td>Multivariate</td>\n",
              "      <td>Classification (Binary)</td>\n",
              "      <td>Class</td>\n",
              "      <td>NaN</td>\n",
              "      <td>683</td>\n",
              "      <td>10</td>\n",
              "      <td>N</td>\n",
              "    </tr>\n",
              "    <tr>\n",
              "      <th>6</th>\n",
              "      <td>credit</td>\n",
              "      <td>Multivariate</td>\n",
              "      <td>Classification (Binary)</td>\n",
              "      <td>default</td>\n",
              "      <td>NaN</td>\n",
              "      <td>24000</td>\n",
              "      <td>24</td>\n",
              "      <td>N</td>\n",
              "    </tr>\n",
              "    <tr>\n",
              "      <th>7</th>\n",
              "      <td>diabetes</td>\n",
              "      <td>Multivariate</td>\n",
              "      <td>Classification (Binary)</td>\n",
              "      <td>Class variable</td>\n",
              "      <td>NaN</td>\n",
              "      <td>768</td>\n",
              "      <td>9</td>\n",
              "      <td>N</td>\n",
              "    </tr>\n",
              "    <tr>\n",
              "      <th>8</th>\n",
              "      <td>electrical_grid</td>\n",
              "      <td>Multivariate</td>\n",
              "      <td>Classification (Binary)</td>\n",
              "      <td>stabf</td>\n",
              "      <td>NaN</td>\n",
              "      <td>10000</td>\n",
              "      <td>14</td>\n",
              "      <td>N</td>\n",
              "    </tr>\n",
              "    <tr>\n",
              "      <th>9</th>\n",
              "      <td>employee</td>\n",
              "      <td>Multivariate</td>\n",
              "      <td>Classification (Binary)</td>\n",
              "      <td>left</td>\n",
              "      <td>NaN</td>\n",
              "      <td>14999</td>\n",
              "      <td>10</td>\n",
              "      <td>N</td>\n",
              "    </tr>\n",
              "    <tr>\n",
              "      <th>10</th>\n",
              "      <td>heart</td>\n",
              "      <td>Multivariate</td>\n",
              "      <td>Classification (Binary)</td>\n",
              "      <td>DEATH</td>\n",
              "      <td>NaN</td>\n",
              "      <td>200</td>\n",
              "      <td>16</td>\n",
              "      <td>N</td>\n",
              "    </tr>\n",
              "    <tr>\n",
              "      <th>11</th>\n",
              "      <td>heart_disease</td>\n",
              "      <td>Multivariate</td>\n",
              "      <td>Classification (Binary)</td>\n",
              "      <td>Disease</td>\n",
              "      <td>NaN</td>\n",
              "      <td>270</td>\n",
              "      <td>14</td>\n",
              "      <td>N</td>\n",
              "    </tr>\n",
              "    <tr>\n",
              "      <th>12</th>\n",
              "      <td>hepatitis</td>\n",
              "      <td>Multivariate</td>\n",
              "      <td>Classification (Binary)</td>\n",
              "      <td>Class</td>\n",
              "      <td>NaN</td>\n",
              "      <td>154</td>\n",
              "      <td>32</td>\n",
              "      <td>Y</td>\n",
              "    </tr>\n",
              "    <tr>\n",
              "      <th>13</th>\n",
              "      <td>income</td>\n",
              "      <td>Multivariate</td>\n",
              "      <td>Classification (Binary)</td>\n",
              "      <td>income &gt;50K</td>\n",
              "      <td>NaN</td>\n",
              "      <td>32561</td>\n",
              "      <td>14</td>\n",
              "      <td>Y</td>\n",
              "    </tr>\n",
              "    <tr>\n",
              "      <th>14</th>\n",
              "      <td>juice</td>\n",
              "      <td>Multivariate</td>\n",
              "      <td>Classification (Binary)</td>\n",
              "      <td>Purchase</td>\n",
              "      <td>NaN</td>\n",
              "      <td>1070</td>\n",
              "      <td>15</td>\n",
              "      <td>N</td>\n",
              "    </tr>\n",
              "    <tr>\n",
              "      <th>15</th>\n",
              "      <td>nba</td>\n",
              "      <td>Multivariate</td>\n",
              "      <td>Classification (Binary)</td>\n",
              "      <td>TARGET_5Yrs</td>\n",
              "      <td>NaN</td>\n",
              "      <td>1340</td>\n",
              "      <td>21</td>\n",
              "      <td>N</td>\n",
              "    </tr>\n",
              "    <tr>\n",
              "      <th>16</th>\n",
              "      <td>wine</td>\n",
              "      <td>Multivariate</td>\n",
              "      <td>Classification (Binary)</td>\n",
              "      <td>type</td>\n",
              "      <td>NaN</td>\n",
              "      <td>6498</td>\n",
              "      <td>13</td>\n",
              "      <td>N</td>\n",
              "    </tr>\n",
              "    <tr>\n",
              "      <th>17</th>\n",
              "      <td>telescope</td>\n",
              "      <td>Multivariate</td>\n",
              "      <td>Classification (Binary)</td>\n",
              "      <td>Class</td>\n",
              "      <td>NaN</td>\n",
              "      <td>19020</td>\n",
              "      <td>11</td>\n",
              "      <td>N</td>\n",
              "    </tr>\n",
              "    <tr>\n",
              "      <th>18</th>\n",
              "      <td>titanic</td>\n",
              "      <td>Multivariate</td>\n",
              "      <td>Classification (Binary)</td>\n",
              "      <td>Survived</td>\n",
              "      <td>NaN</td>\n",
              "      <td>891</td>\n",
              "      <td>11</td>\n",
              "      <td>Y</td>\n",
              "    </tr>\n",
              "    <tr>\n",
              "      <th>19</th>\n",
              "      <td>us_presidential_election_results</td>\n",
              "      <td>Multivariate</td>\n",
              "      <td>Classification (Binary)</td>\n",
              "      <td>party_winner</td>\n",
              "      <td>NaN</td>\n",
              "      <td>497</td>\n",
              "      <td>7</td>\n",
              "      <td>N</td>\n",
              "    </tr>\n",
              "    <tr>\n",
              "      <th>20</th>\n",
              "      <td>glass</td>\n",
              "      <td>Multivariate</td>\n",
              "      <td>Classification (Multiclass)</td>\n",
              "      <td>Type</td>\n",
              "      <td>NaN</td>\n",
              "      <td>214</td>\n",
              "      <td>10</td>\n",
              "      <td>N</td>\n",
              "    </tr>\n",
              "    <tr>\n",
              "      <th>21</th>\n",
              "      <td>iris</td>\n",
              "      <td>Multivariate</td>\n",
              "      <td>Classification (Multiclass)</td>\n",
              "      <td>species</td>\n",
              "      <td>NaN</td>\n",
              "      <td>150</td>\n",
              "      <td>5</td>\n",
              "      <td>N</td>\n",
              "    </tr>\n",
              "    <tr>\n",
              "      <th>22</th>\n",
              "      <td>poker</td>\n",
              "      <td>Multivariate</td>\n",
              "      <td>Classification (Multiclass)</td>\n",
              "      <td>CLASS</td>\n",
              "      <td>NaN</td>\n",
              "      <td>100000</td>\n",
              "      <td>11</td>\n",
              "      <td>N</td>\n",
              "    </tr>\n",
              "    <tr>\n",
              "      <th>23</th>\n",
              "      <td>questions</td>\n",
              "      <td>Multivariate</td>\n",
              "      <td>Classification (Multiclass)</td>\n",
              "      <td>Next_Question</td>\n",
              "      <td>NaN</td>\n",
              "      <td>499</td>\n",
              "      <td>4</td>\n",
              "      <td>N</td>\n",
              "    </tr>\n",
              "    <tr>\n",
              "      <th>24</th>\n",
              "      <td>satellite</td>\n",
              "      <td>Multivariate</td>\n",
              "      <td>Classification (Multiclass)</td>\n",
              "      <td>Class</td>\n",
              "      <td>NaN</td>\n",
              "      <td>6435</td>\n",
              "      <td>37</td>\n",
              "      <td>N</td>\n",
              "    </tr>\n",
              "    <tr>\n",
              "      <th>25</th>\n",
              "      <td>CTG</td>\n",
              "      <td>Multivariate</td>\n",
              "      <td>Classification (Multiclass)</td>\n",
              "      <td>NSP</td>\n",
              "      <td>NaN</td>\n",
              "      <td>2129</td>\n",
              "      <td>40</td>\n",
              "      <td>Y</td>\n",
              "    </tr>\n",
              "    <tr>\n",
              "      <th>26</th>\n",
              "      <td>asia_gdp</td>\n",
              "      <td>Multivariate</td>\n",
              "      <td>Clustering</td>\n",
              "      <td>NaN</td>\n",
              "      <td>NaN</td>\n",
              "      <td>40</td>\n",
              "      <td>11</td>\n",
              "      <td>N</td>\n",
              "    </tr>\n",
              "    <tr>\n",
              "      <th>27</th>\n",
              "      <td>elections</td>\n",
              "      <td>Multivariate</td>\n",
              "      <td>Clustering</td>\n",
              "      <td>NaN</td>\n",
              "      <td>NaN</td>\n",
              "      <td>3195</td>\n",
              "      <td>54</td>\n",
              "      <td>Y</td>\n",
              "    </tr>\n",
              "    <tr>\n",
              "      <th>28</th>\n",
              "      <td>facebook</td>\n",
              "      <td>Multivariate</td>\n",
              "      <td>Clustering</td>\n",
              "      <td>NaN</td>\n",
              "      <td>NaN</td>\n",
              "      <td>7050</td>\n",
              "      <td>12</td>\n",
              "      <td>N</td>\n",
              "    </tr>\n",
              "    <tr>\n",
              "      <th>29</th>\n",
              "      <td>ipl</td>\n",
              "      <td>Multivariate</td>\n",
              "      <td>Clustering</td>\n",
              "      <td>NaN</td>\n",
              "      <td>NaN</td>\n",
              "      <td>153</td>\n",
              "      <td>25</td>\n",
              "      <td>N</td>\n",
              "    </tr>\n",
              "    <tr>\n",
              "      <th>30</th>\n",
              "      <td>jewellery</td>\n",
              "      <td>Multivariate</td>\n",
              "      <td>Clustering</td>\n",
              "      <td>NaN</td>\n",
              "      <td>NaN</td>\n",
              "      <td>505</td>\n",
              "      <td>4</td>\n",
              "      <td>N</td>\n",
              "    </tr>\n",
              "    <tr>\n",
              "      <th>31</th>\n",
              "      <td>mice</td>\n",
              "      <td>Multivariate</td>\n",
              "      <td>Clustering</td>\n",
              "      <td>NaN</td>\n",
              "      <td>NaN</td>\n",
              "      <td>1080</td>\n",
              "      <td>82</td>\n",
              "      <td>Y</td>\n",
              "    </tr>\n",
              "    <tr>\n",
              "      <th>32</th>\n",
              "      <td>migration</td>\n",
              "      <td>Multivariate</td>\n",
              "      <td>Clustering</td>\n",
              "      <td>NaN</td>\n",
              "      <td>NaN</td>\n",
              "      <td>233</td>\n",
              "      <td>12</td>\n",
              "      <td>N</td>\n",
              "    </tr>\n",
              "    <tr>\n",
              "      <th>33</th>\n",
              "      <td>perfume</td>\n",
              "      <td>Multivariate</td>\n",
              "      <td>Clustering</td>\n",
              "      <td>NaN</td>\n",
              "      <td>NaN</td>\n",
              "      <td>20</td>\n",
              "      <td>29</td>\n",
              "      <td>N</td>\n",
              "    </tr>\n",
              "    <tr>\n",
              "      <th>34</th>\n",
              "      <td>pokemon</td>\n",
              "      <td>Multivariate</td>\n",
              "      <td>Clustering</td>\n",
              "      <td>NaN</td>\n",
              "      <td>NaN</td>\n",
              "      <td>800</td>\n",
              "      <td>13</td>\n",
              "      <td>Y</td>\n",
              "    </tr>\n",
              "    <tr>\n",
              "      <th>35</th>\n",
              "      <td>population</td>\n",
              "      <td>Multivariate</td>\n",
              "      <td>Clustering</td>\n",
              "      <td>NaN</td>\n",
              "      <td>NaN</td>\n",
              "      <td>255</td>\n",
              "      <td>56</td>\n",
              "      <td>Y</td>\n",
              "    </tr>\n",
              "    <tr>\n",
              "      <th>36</th>\n",
              "      <td>public_health</td>\n",
              "      <td>Multivariate</td>\n",
              "      <td>Clustering</td>\n",
              "      <td>NaN</td>\n",
              "      <td>NaN</td>\n",
              "      <td>224</td>\n",
              "      <td>21</td>\n",
              "      <td>N</td>\n",
              "    </tr>\n",
              "    <tr>\n",
              "      <th>37</th>\n",
              "      <td>seeds</td>\n",
              "      <td>Multivariate</td>\n",
              "      <td>Clustering</td>\n",
              "      <td>NaN</td>\n",
              "      <td>NaN</td>\n",
              "      <td>210</td>\n",
              "      <td>7</td>\n",
              "      <td>N</td>\n",
              "    </tr>\n",
              "    <tr>\n",
              "      <th>38</th>\n",
              "      <td>wholesale</td>\n",
              "      <td>Multivariate</td>\n",
              "      <td>Clustering</td>\n",
              "      <td>NaN</td>\n",
              "      <td>NaN</td>\n",
              "      <td>440</td>\n",
              "      <td>8</td>\n",
              "      <td>N</td>\n",
              "    </tr>\n",
              "    <tr>\n",
              "      <th>39</th>\n",
              "      <td>tweets</td>\n",
              "      <td>Text</td>\n",
              "      <td>NLP</td>\n",
              "      <td>tweet</td>\n",
              "      <td>NaN</td>\n",
              "      <td>8594</td>\n",
              "      <td>2</td>\n",
              "      <td>N</td>\n",
              "    </tr>\n",
              "    <tr>\n",
              "      <th>40</th>\n",
              "      <td>amazon</td>\n",
              "      <td>Text</td>\n",
              "      <td>NLP / Classification</td>\n",
              "      <td>reviewText</td>\n",
              "      <td>NaN</td>\n",
              "      <td>20000</td>\n",
              "      <td>2</td>\n",
              "      <td>N</td>\n",
              "    </tr>\n",
              "    <tr>\n",
              "      <th>41</th>\n",
              "      <td>kiva</td>\n",
              "      <td>Text</td>\n",
              "      <td>NLP / Classification</td>\n",
              "      <td>en</td>\n",
              "      <td>NaN</td>\n",
              "      <td>6818</td>\n",
              "      <td>7</td>\n",
              "      <td>N</td>\n",
              "    </tr>\n",
              "    <tr>\n",
              "      <th>42</th>\n",
              "      <td>spx</td>\n",
              "      <td>Text</td>\n",
              "      <td>NLP / Regression</td>\n",
              "      <td>text</td>\n",
              "      <td>NaN</td>\n",
              "      <td>874</td>\n",
              "      <td>4</td>\n",
              "      <td>N</td>\n",
              "    </tr>\n",
              "    <tr>\n",
              "      <th>43</th>\n",
              "      <td>wikipedia</td>\n",
              "      <td>Text</td>\n",
              "      <td>NLP / Classification</td>\n",
              "      <td>Text</td>\n",
              "      <td>NaN</td>\n",
              "      <td>500</td>\n",
              "      <td>3</td>\n",
              "      <td>N</td>\n",
              "    </tr>\n",
              "    <tr>\n",
              "      <th>44</th>\n",
              "      <td>automobile</td>\n",
              "      <td>Multivariate</td>\n",
              "      <td>Regression</td>\n",
              "      <td>price</td>\n",
              "      <td>NaN</td>\n",
              "      <td>202</td>\n",
              "      <td>26</td>\n",
              "      <td>Y</td>\n",
              "    </tr>\n",
              "    <tr>\n",
              "      <th>45</th>\n",
              "      <td>bike</td>\n",
              "      <td>Multivariate</td>\n",
              "      <td>Regression</td>\n",
              "      <td>cnt</td>\n",
              "      <td>NaN</td>\n",
              "      <td>17379</td>\n",
              "      <td>15</td>\n",
              "      <td>N</td>\n",
              "    </tr>\n",
              "    <tr>\n",
              "      <th>46</th>\n",
              "      <td>boston</td>\n",
              "      <td>Multivariate</td>\n",
              "      <td>Regression</td>\n",
              "      <td>medv</td>\n",
              "      <td>NaN</td>\n",
              "      <td>506</td>\n",
              "      <td>14</td>\n",
              "      <td>N</td>\n",
              "    </tr>\n",
              "    <tr>\n",
              "      <th>47</th>\n",
              "      <td>concrete</td>\n",
              "      <td>Multivariate</td>\n",
              "      <td>Regression</td>\n",
              "      <td>strength</td>\n",
              "      <td>NaN</td>\n",
              "      <td>1030</td>\n",
              "      <td>9</td>\n",
              "      <td>N</td>\n",
              "    </tr>\n",
              "    <tr>\n",
              "      <th>48</th>\n",
              "      <td>diamond</td>\n",
              "      <td>Multivariate</td>\n",
              "      <td>Regression</td>\n",
              "      <td>Price</td>\n",
              "      <td>NaN</td>\n",
              "      <td>6000</td>\n",
              "      <td>8</td>\n",
              "      <td>N</td>\n",
              "    </tr>\n",
              "    <tr>\n",
              "      <th>49</th>\n",
              "      <td>energy</td>\n",
              "      <td>Multivariate</td>\n",
              "      <td>Regression</td>\n",
              "      <td>Heating Load</td>\n",
              "      <td>Cooling Load</td>\n",
              "      <td>768</td>\n",
              "      <td>10</td>\n",
              "      <td>N</td>\n",
              "    </tr>\n",
              "    <tr>\n",
              "      <th>50</th>\n",
              "      <td>forest</td>\n",
              "      <td>Multivariate</td>\n",
              "      <td>Regression</td>\n",
              "      <td>area</td>\n",
              "      <td>NaN</td>\n",
              "      <td>517</td>\n",
              "      <td>13</td>\n",
              "      <td>N</td>\n",
              "    </tr>\n",
              "    <tr>\n",
              "      <th>51</th>\n",
              "      <td>gold</td>\n",
              "      <td>Multivariate</td>\n",
              "      <td>Regression</td>\n",
              "      <td>Gold_T+22</td>\n",
              "      <td>NaN</td>\n",
              "      <td>2558</td>\n",
              "      <td>121</td>\n",
              "      <td>N</td>\n",
              "    </tr>\n",
              "    <tr>\n",
              "      <th>52</th>\n",
              "      <td>house</td>\n",
              "      <td>Multivariate</td>\n",
              "      <td>Regression</td>\n",
              "      <td>SalePrice</td>\n",
              "      <td>NaN</td>\n",
              "      <td>1461</td>\n",
              "      <td>81</td>\n",
              "      <td>Y</td>\n",
              "    </tr>\n",
              "    <tr>\n",
              "      <th>53</th>\n",
              "      <td>insurance</td>\n",
              "      <td>Multivariate</td>\n",
              "      <td>Regression</td>\n",
              "      <td>charges</td>\n",
              "      <td>NaN</td>\n",
              "      <td>1338</td>\n",
              "      <td>7</td>\n",
              "      <td>N</td>\n",
              "    </tr>\n",
              "    <tr>\n",
              "      <th>54</th>\n",
              "      <td>parkinsons</td>\n",
              "      <td>Multivariate</td>\n",
              "      <td>Regression</td>\n",
              "      <td>PPE</td>\n",
              "      <td>NaN</td>\n",
              "      <td>5875</td>\n",
              "      <td>22</td>\n",
              "      <td>N</td>\n",
              "    </tr>\n",
              "    <tr>\n",
              "      <th>55</th>\n",
              "      <td>traffic</td>\n",
              "      <td>Multivariate</td>\n",
              "      <td>Regression</td>\n",
              "      <td>traffic_volume</td>\n",
              "      <td>NaN</td>\n",
              "      <td>48204</td>\n",
              "      <td>8</td>\n",
              "      <td>N</td>\n",
              "    </tr>\n",
              "  </tbody>\n",
              "</table>\n",
              "</div>\n",
              "    <div class=\"colab-df-buttons\">\n",
              "\n",
              "  <div class=\"colab-df-container\">\n",
              "    <button class=\"colab-df-convert\" onclick=\"convertToInteractive('df-1bac05c9-5583-458c-9074-05dc71f20173')\"\n",
              "            title=\"Convert this dataframe to an interactive table.\"\n",
              "            style=\"display:none;\">\n",
              "\n",
              "  <svg xmlns=\"http://www.w3.org/2000/svg\" height=\"24px\" viewBox=\"0 -960 960 960\">\n",
              "    <path d=\"M120-120v-720h720v720H120Zm60-500h600v-160H180v160Zm220 220h160v-160H400v160Zm0 220h160v-160H400v160ZM180-400h160v-160H180v160Zm440 0h160v-160H620v160ZM180-180h160v-160H180v160Zm440 0h160v-160H620v160Z\"/>\n",
              "  </svg>\n",
              "    </button>\n",
              "\n",
              "  <style>\n",
              "    .colab-df-container {\n",
              "      display:flex;\n",
              "      gap: 12px;\n",
              "    }\n",
              "\n",
              "    .colab-df-convert {\n",
              "      background-color: #E8F0FE;\n",
              "      border: none;\n",
              "      border-radius: 50%;\n",
              "      cursor: pointer;\n",
              "      display: none;\n",
              "      fill: #1967D2;\n",
              "      height: 32px;\n",
              "      padding: 0 0 0 0;\n",
              "      width: 32px;\n",
              "    }\n",
              "\n",
              "    .colab-df-convert:hover {\n",
              "      background-color: #E2EBFA;\n",
              "      box-shadow: 0px 1px 2px rgba(60, 64, 67, 0.3), 0px 1px 3px 1px rgba(60, 64, 67, 0.15);\n",
              "      fill: #174EA6;\n",
              "    }\n",
              "\n",
              "    .colab-df-buttons div {\n",
              "      margin-bottom: 4px;\n",
              "    }\n",
              "\n",
              "    [theme=dark] .colab-df-convert {\n",
              "      background-color: #3B4455;\n",
              "      fill: #D2E3FC;\n",
              "    }\n",
              "\n",
              "    [theme=dark] .colab-df-convert:hover {\n",
              "      background-color: #434B5C;\n",
              "      box-shadow: 0px 1px 3px 1px rgba(0, 0, 0, 0.15);\n",
              "      filter: drop-shadow(0px 1px 2px rgba(0, 0, 0, 0.3));\n",
              "      fill: #FFFFFF;\n",
              "    }\n",
              "  </style>\n",
              "\n",
              "    <script>\n",
              "      const buttonEl =\n",
              "        document.querySelector('#df-1bac05c9-5583-458c-9074-05dc71f20173 button.colab-df-convert');\n",
              "      buttonEl.style.display =\n",
              "        google.colab.kernel.accessAllowed ? 'block' : 'none';\n",
              "\n",
              "      async function convertToInteractive(key) {\n",
              "        const element = document.querySelector('#df-1bac05c9-5583-458c-9074-05dc71f20173');\n",
              "        const dataTable =\n",
              "          await google.colab.kernel.invokeFunction('convertToInteractive',\n",
              "                                                    [key], {});\n",
              "        if (!dataTable) return;\n",
              "\n",
              "        const docLinkHtml = 'Like what you see? Visit the ' +\n",
              "          '<a target=\"_blank\" href=https://colab.research.google.com/notebooks/data_table.ipynb>data table notebook</a>'\n",
              "          + ' to learn more about interactive tables.';\n",
              "        element.innerHTML = '';\n",
              "        dataTable['output_type'] = 'display_data';\n",
              "        await google.colab.output.renderOutput(dataTable, element);\n",
              "        const docLink = document.createElement('div');\n",
              "        docLink.innerHTML = docLinkHtml;\n",
              "        element.appendChild(docLink);\n",
              "      }\n",
              "    </script>\n",
              "  </div>\n",
              "\n",
              "\n",
              "<div id=\"df-5d4998fe-b230-47b7-a5f9-c19b533f2cba\">\n",
              "  <button class=\"colab-df-quickchart\" onclick=\"quickchart('df-5d4998fe-b230-47b7-a5f9-c19b533f2cba')\"\n",
              "            title=\"Suggest charts\"\n",
              "            style=\"display:none;\">\n",
              "\n",
              "<svg xmlns=\"http://www.w3.org/2000/svg\" height=\"24px\"viewBox=\"0 0 24 24\"\n",
              "     width=\"24px\">\n",
              "    <g>\n",
              "        <path d=\"M19 3H5c-1.1 0-2 .9-2 2v14c0 1.1.9 2 2 2h14c1.1 0 2-.9 2-2V5c0-1.1-.9-2-2-2zM9 17H7v-7h2v7zm4 0h-2V7h2v10zm4 0h-2v-4h2v4z\"/>\n",
              "    </g>\n",
              "</svg>\n",
              "  </button>\n",
              "\n",
              "<style>\n",
              "  .colab-df-quickchart {\n",
              "      --bg-color: #E8F0FE;\n",
              "      --fill-color: #1967D2;\n",
              "      --hover-bg-color: #E2EBFA;\n",
              "      --hover-fill-color: #174EA6;\n",
              "      --disabled-fill-color: #AAA;\n",
              "      --disabled-bg-color: #DDD;\n",
              "  }\n",
              "\n",
              "  [theme=dark] .colab-df-quickchart {\n",
              "      --bg-color: #3B4455;\n",
              "      --fill-color: #D2E3FC;\n",
              "      --hover-bg-color: #434B5C;\n",
              "      --hover-fill-color: #FFFFFF;\n",
              "      --disabled-bg-color: #3B4455;\n",
              "      --disabled-fill-color: #666;\n",
              "  }\n",
              "\n",
              "  .colab-df-quickchart {\n",
              "    background-color: var(--bg-color);\n",
              "    border: none;\n",
              "    border-radius: 50%;\n",
              "    cursor: pointer;\n",
              "    display: none;\n",
              "    fill: var(--fill-color);\n",
              "    height: 32px;\n",
              "    padding: 0;\n",
              "    width: 32px;\n",
              "  }\n",
              "\n",
              "  .colab-df-quickchart:hover {\n",
              "    background-color: var(--hover-bg-color);\n",
              "    box-shadow: 0 1px 2px rgba(60, 64, 67, 0.3), 0 1px 3px 1px rgba(60, 64, 67, 0.15);\n",
              "    fill: var(--button-hover-fill-color);\n",
              "  }\n",
              "\n",
              "  .colab-df-quickchart-complete:disabled,\n",
              "  .colab-df-quickchart-complete:disabled:hover {\n",
              "    background-color: var(--disabled-bg-color);\n",
              "    fill: var(--disabled-fill-color);\n",
              "    box-shadow: none;\n",
              "  }\n",
              "\n",
              "  .colab-df-spinner {\n",
              "    border: 2px solid var(--fill-color);\n",
              "    border-color: transparent;\n",
              "    border-bottom-color: var(--fill-color);\n",
              "    animation:\n",
              "      spin 1s steps(1) infinite;\n",
              "  }\n",
              "\n",
              "  @keyframes spin {\n",
              "    0% {\n",
              "      border-color: transparent;\n",
              "      border-bottom-color: var(--fill-color);\n",
              "      border-left-color: var(--fill-color);\n",
              "    }\n",
              "    20% {\n",
              "      border-color: transparent;\n",
              "      border-left-color: var(--fill-color);\n",
              "      border-top-color: var(--fill-color);\n",
              "    }\n",
              "    30% {\n",
              "      border-color: transparent;\n",
              "      border-left-color: var(--fill-color);\n",
              "      border-top-color: var(--fill-color);\n",
              "      border-right-color: var(--fill-color);\n",
              "    }\n",
              "    40% {\n",
              "      border-color: transparent;\n",
              "      border-right-color: var(--fill-color);\n",
              "      border-top-color: var(--fill-color);\n",
              "    }\n",
              "    60% {\n",
              "      border-color: transparent;\n",
              "      border-right-color: var(--fill-color);\n",
              "    }\n",
              "    80% {\n",
              "      border-color: transparent;\n",
              "      border-right-color: var(--fill-color);\n",
              "      border-bottom-color: var(--fill-color);\n",
              "    }\n",
              "    90% {\n",
              "      border-color: transparent;\n",
              "      border-bottom-color: var(--fill-color);\n",
              "    }\n",
              "  }\n",
              "</style>\n",
              "\n",
              "  <script>\n",
              "    async function quickchart(key) {\n",
              "      const quickchartButtonEl =\n",
              "        document.querySelector('#' + key + ' button');\n",
              "      quickchartButtonEl.disabled = true;  // To prevent multiple clicks.\n",
              "      quickchartButtonEl.classList.add('colab-df-spinner');\n",
              "      try {\n",
              "        const charts = await google.colab.kernel.invokeFunction(\n",
              "            'suggestCharts', [key], {});\n",
              "      } catch (error) {\n",
              "        console.error('Error during call to suggestCharts:', error);\n",
              "      }\n",
              "      quickchartButtonEl.classList.remove('colab-df-spinner');\n",
              "      quickchartButtonEl.classList.add('colab-df-quickchart-complete');\n",
              "    }\n",
              "    (() => {\n",
              "      let quickchartButtonEl =\n",
              "        document.querySelector('#df-5d4998fe-b230-47b7-a5f9-c19b533f2cba button');\n",
              "      quickchartButtonEl.style.display =\n",
              "        google.colab.kernel.accessAllowed ? 'block' : 'none';\n",
              "    })();\n",
              "  </script>\n",
              "</div>\n",
              "\n",
              "    </div>\n",
              "  </div>\n"
            ],
            "application/vnd.google.colaboratory.intrinsic+json": {
              "type": "dataframe",
              "summary": "{\n  \"name\": \"all_datasets = get_data()\",\n  \"rows\": 56,\n  \"fields\": [\n    {\n      \"column\": \"Dataset\",\n      \"properties\": {\n        \"dtype\": \"string\",\n        \"num_unique_values\": 56,\n        \"samples\": [\n          \"anomaly\",\n          \"cancer\",\n          \"perfume\"\n        ],\n        \"semantic_type\": \"\",\n        \"description\": \"\"\n      }\n    },\n    {\n      \"column\": \"Data Types\",\n      \"properties\": {\n        \"dtype\": \"category\",\n        \"num_unique_values\": 2,\n        \"samples\": [\n          \"Text\",\n          \"Multivariate\"\n        ],\n        \"semantic_type\": \"\",\n        \"description\": \"\"\n      }\n    },\n    {\n      \"column\": \"Default Task\",\n      \"properties\": {\n        \"dtype\": \"category\",\n        \"num_unique_values\": 9,\n        \"samples\": [\n          \"NLP / Regression\",\n          \"Association Rule Mining\"\n        ],\n        \"semantic_type\": \"\",\n        \"description\": \"\"\n      }\n    },\n    {\n      \"column\": \"Target Variable 1\",\n      \"properties\": {\n        \"dtype\": \"string\",\n        \"num_unique_values\": 37,\n        \"samples\": [\n          \"CLASS\",\n          \"Survived\"\n        ],\n        \"semantic_type\": \"\",\n        \"description\": \"\"\n      }\n    },\n    {\n      \"column\": \"Target Variable 2\",\n      \"properties\": {\n        \"dtype\": \"category\",\n        \"num_unique_values\": 2,\n        \"samples\": [\n          \"Cooling Load\",\n          \"Description\"\n        ],\n        \"semantic_type\": \"\",\n        \"description\": \"\"\n      }\n    },\n    {\n      \"column\": \"# Instances\",\n      \"properties\": {\n        \"dtype\": \"number\",\n        \"std\": 16351,\n        \"min\": 20,\n        \"max\": 100000,\n        \"num_unique_values\": 55,\n        \"samples\": [\n          1080,\n          683\n        ],\n        \"semantic_type\": \"\",\n        \"description\": \"\"\n      }\n    },\n    {\n      \"column\": \"# Attributes\",\n      \"properties\": {\n        \"dtype\": \"number\",\n        \"std\": 21,\n        \"min\": 2,\n        \"max\": 121,\n        \"num_unique_values\": 29,\n        \"samples\": [\n          81,\n          40\n        ],\n        \"semantic_type\": \"\",\n        \"description\": \"\"\n      }\n    },\n    {\n      \"column\": \"Missing Values\",\n      \"properties\": {\n        \"dtype\": \"category\",\n        \"num_unique_values\": 2,\n        \"samples\": [\n          \"Y\",\n          \"N\"\n        ],\n        \"semantic_type\": \"\",\n        \"description\": \"\"\n      }\n    }\n  ]\n}"
            }
          },
          "metadata": {}
        }
      ]
    },
    {
      "cell_type": "code",
      "source": [
        "from pycaret.datasets import get_data\n",
        "dataset = get_data('iris')"
      ],
      "metadata": {
        "id": "ip2XVa5LX-rp",
        "colab": {
          "base_uri": "https://localhost:8080/",
          "height": 206
        },
        "outputId": "46d8e975-85e2-4eb9-b727-381002d1532d"
      },
      "execution_count": 3,
      "outputs": [
        {
          "output_type": "display_data",
          "data": {
            "text/plain": [
              "   sepal_length  sepal_width  petal_length  petal_width      species\n",
              "0           5.1          3.5           1.4          0.2  Iris-setosa\n",
              "1           4.9          3.0           1.4          0.2  Iris-setosa\n",
              "2           4.7          3.2           1.3          0.2  Iris-setosa\n",
              "3           4.6          3.1           1.5          0.2  Iris-setosa\n",
              "4           5.0          3.6           1.4          0.2  Iris-setosa"
            ],
            "text/html": [
              "\n",
              "  <div id=\"df-0d173ba3-22b6-406f-ae0d-e77f35d3df97\" class=\"colab-df-container\">\n",
              "    <div>\n",
              "<style scoped>\n",
              "    .dataframe tbody tr th:only-of-type {\n",
              "        vertical-align: middle;\n",
              "    }\n",
              "\n",
              "    .dataframe tbody tr th {\n",
              "        vertical-align: top;\n",
              "    }\n",
              "\n",
              "    .dataframe thead th {\n",
              "        text-align: right;\n",
              "    }\n",
              "</style>\n",
              "<table border=\"1\" class=\"dataframe\">\n",
              "  <thead>\n",
              "    <tr style=\"text-align: right;\">\n",
              "      <th></th>\n",
              "      <th>sepal_length</th>\n",
              "      <th>sepal_width</th>\n",
              "      <th>petal_length</th>\n",
              "      <th>petal_width</th>\n",
              "      <th>species</th>\n",
              "    </tr>\n",
              "  </thead>\n",
              "  <tbody>\n",
              "    <tr>\n",
              "      <th>0</th>\n",
              "      <td>5.1</td>\n",
              "      <td>3.5</td>\n",
              "      <td>1.4</td>\n",
              "      <td>0.2</td>\n",
              "      <td>Iris-setosa</td>\n",
              "    </tr>\n",
              "    <tr>\n",
              "      <th>1</th>\n",
              "      <td>4.9</td>\n",
              "      <td>3.0</td>\n",
              "      <td>1.4</td>\n",
              "      <td>0.2</td>\n",
              "      <td>Iris-setosa</td>\n",
              "    </tr>\n",
              "    <tr>\n",
              "      <th>2</th>\n",
              "      <td>4.7</td>\n",
              "      <td>3.2</td>\n",
              "      <td>1.3</td>\n",
              "      <td>0.2</td>\n",
              "      <td>Iris-setosa</td>\n",
              "    </tr>\n",
              "    <tr>\n",
              "      <th>3</th>\n",
              "      <td>4.6</td>\n",
              "      <td>3.1</td>\n",
              "      <td>1.5</td>\n",
              "      <td>0.2</td>\n",
              "      <td>Iris-setosa</td>\n",
              "    </tr>\n",
              "    <tr>\n",
              "      <th>4</th>\n",
              "      <td>5.0</td>\n",
              "      <td>3.6</td>\n",
              "      <td>1.4</td>\n",
              "      <td>0.2</td>\n",
              "      <td>Iris-setosa</td>\n",
              "    </tr>\n",
              "  </tbody>\n",
              "</table>\n",
              "</div>\n",
              "    <div class=\"colab-df-buttons\">\n",
              "\n",
              "  <div class=\"colab-df-container\">\n",
              "    <button class=\"colab-df-convert\" onclick=\"convertToInteractive('df-0d173ba3-22b6-406f-ae0d-e77f35d3df97')\"\n",
              "            title=\"Convert this dataframe to an interactive table.\"\n",
              "            style=\"display:none;\">\n",
              "\n",
              "  <svg xmlns=\"http://www.w3.org/2000/svg\" height=\"24px\" viewBox=\"0 -960 960 960\">\n",
              "    <path d=\"M120-120v-720h720v720H120Zm60-500h600v-160H180v160Zm220 220h160v-160H400v160Zm0 220h160v-160H400v160ZM180-400h160v-160H180v160Zm440 0h160v-160H620v160ZM180-180h160v-160H180v160Zm440 0h160v-160H620v160Z\"/>\n",
              "  </svg>\n",
              "    </button>\n",
              "\n",
              "  <style>\n",
              "    .colab-df-container {\n",
              "      display:flex;\n",
              "      gap: 12px;\n",
              "    }\n",
              "\n",
              "    .colab-df-convert {\n",
              "      background-color: #E8F0FE;\n",
              "      border: none;\n",
              "      border-radius: 50%;\n",
              "      cursor: pointer;\n",
              "      display: none;\n",
              "      fill: #1967D2;\n",
              "      height: 32px;\n",
              "      padding: 0 0 0 0;\n",
              "      width: 32px;\n",
              "    }\n",
              "\n",
              "    .colab-df-convert:hover {\n",
              "      background-color: #E2EBFA;\n",
              "      box-shadow: 0px 1px 2px rgba(60, 64, 67, 0.3), 0px 1px 3px 1px rgba(60, 64, 67, 0.15);\n",
              "      fill: #174EA6;\n",
              "    }\n",
              "\n",
              "    .colab-df-buttons div {\n",
              "      margin-bottom: 4px;\n",
              "    }\n",
              "\n",
              "    [theme=dark] .colab-df-convert {\n",
              "      background-color: #3B4455;\n",
              "      fill: #D2E3FC;\n",
              "    }\n",
              "\n",
              "    [theme=dark] .colab-df-convert:hover {\n",
              "      background-color: #434B5C;\n",
              "      box-shadow: 0px 1px 3px 1px rgba(0, 0, 0, 0.15);\n",
              "      filter: drop-shadow(0px 1px 2px rgba(0, 0, 0, 0.3));\n",
              "      fill: #FFFFFF;\n",
              "    }\n",
              "  </style>\n",
              "\n",
              "    <script>\n",
              "      const buttonEl =\n",
              "        document.querySelector('#df-0d173ba3-22b6-406f-ae0d-e77f35d3df97 button.colab-df-convert');\n",
              "      buttonEl.style.display =\n",
              "        google.colab.kernel.accessAllowed ? 'block' : 'none';\n",
              "\n",
              "      async function convertToInteractive(key) {\n",
              "        const element = document.querySelector('#df-0d173ba3-22b6-406f-ae0d-e77f35d3df97');\n",
              "        const dataTable =\n",
              "          await google.colab.kernel.invokeFunction('convertToInteractive',\n",
              "                                                    [key], {});\n",
              "        if (!dataTable) return;\n",
              "\n",
              "        const docLinkHtml = 'Like what you see? Visit the ' +\n",
              "          '<a target=\"_blank\" href=https://colab.research.google.com/notebooks/data_table.ipynb>data table notebook</a>'\n",
              "          + ' to learn more about interactive tables.';\n",
              "        element.innerHTML = '';\n",
              "        dataTable['output_type'] = 'display_data';\n",
              "        await google.colab.output.renderOutput(dataTable, element);\n",
              "        const docLink = document.createElement('div');\n",
              "        docLink.innerHTML = docLinkHtml;\n",
              "        element.appendChild(docLink);\n",
              "      }\n",
              "    </script>\n",
              "  </div>\n",
              "\n",
              "\n",
              "<div id=\"df-e927380c-44fc-46f8-be3d-9c6eab496209\">\n",
              "  <button class=\"colab-df-quickchart\" onclick=\"quickchart('df-e927380c-44fc-46f8-be3d-9c6eab496209')\"\n",
              "            title=\"Suggest charts\"\n",
              "            style=\"display:none;\">\n",
              "\n",
              "<svg xmlns=\"http://www.w3.org/2000/svg\" height=\"24px\"viewBox=\"0 0 24 24\"\n",
              "     width=\"24px\">\n",
              "    <g>\n",
              "        <path d=\"M19 3H5c-1.1 0-2 .9-2 2v14c0 1.1.9 2 2 2h14c1.1 0 2-.9 2-2V5c0-1.1-.9-2-2-2zM9 17H7v-7h2v7zm4 0h-2V7h2v10zm4 0h-2v-4h2v4z\"/>\n",
              "    </g>\n",
              "</svg>\n",
              "  </button>\n",
              "\n",
              "<style>\n",
              "  .colab-df-quickchart {\n",
              "      --bg-color: #E8F0FE;\n",
              "      --fill-color: #1967D2;\n",
              "      --hover-bg-color: #E2EBFA;\n",
              "      --hover-fill-color: #174EA6;\n",
              "      --disabled-fill-color: #AAA;\n",
              "      --disabled-bg-color: #DDD;\n",
              "  }\n",
              "\n",
              "  [theme=dark] .colab-df-quickchart {\n",
              "      --bg-color: #3B4455;\n",
              "      --fill-color: #D2E3FC;\n",
              "      --hover-bg-color: #434B5C;\n",
              "      --hover-fill-color: #FFFFFF;\n",
              "      --disabled-bg-color: #3B4455;\n",
              "      --disabled-fill-color: #666;\n",
              "  }\n",
              "\n",
              "  .colab-df-quickchart {\n",
              "    background-color: var(--bg-color);\n",
              "    border: none;\n",
              "    border-radius: 50%;\n",
              "    cursor: pointer;\n",
              "    display: none;\n",
              "    fill: var(--fill-color);\n",
              "    height: 32px;\n",
              "    padding: 0;\n",
              "    width: 32px;\n",
              "  }\n",
              "\n",
              "  .colab-df-quickchart:hover {\n",
              "    background-color: var(--hover-bg-color);\n",
              "    box-shadow: 0 1px 2px rgba(60, 64, 67, 0.3), 0 1px 3px 1px rgba(60, 64, 67, 0.15);\n",
              "    fill: var(--button-hover-fill-color);\n",
              "  }\n",
              "\n",
              "  .colab-df-quickchart-complete:disabled,\n",
              "  .colab-df-quickchart-complete:disabled:hover {\n",
              "    background-color: var(--disabled-bg-color);\n",
              "    fill: var(--disabled-fill-color);\n",
              "    box-shadow: none;\n",
              "  }\n",
              "\n",
              "  .colab-df-spinner {\n",
              "    border: 2px solid var(--fill-color);\n",
              "    border-color: transparent;\n",
              "    border-bottom-color: var(--fill-color);\n",
              "    animation:\n",
              "      spin 1s steps(1) infinite;\n",
              "  }\n",
              "\n",
              "  @keyframes spin {\n",
              "    0% {\n",
              "      border-color: transparent;\n",
              "      border-bottom-color: var(--fill-color);\n",
              "      border-left-color: var(--fill-color);\n",
              "    }\n",
              "    20% {\n",
              "      border-color: transparent;\n",
              "      border-left-color: var(--fill-color);\n",
              "      border-top-color: var(--fill-color);\n",
              "    }\n",
              "    30% {\n",
              "      border-color: transparent;\n",
              "      border-left-color: var(--fill-color);\n",
              "      border-top-color: var(--fill-color);\n",
              "      border-right-color: var(--fill-color);\n",
              "    }\n",
              "    40% {\n",
              "      border-color: transparent;\n",
              "      border-right-color: var(--fill-color);\n",
              "      border-top-color: var(--fill-color);\n",
              "    }\n",
              "    60% {\n",
              "      border-color: transparent;\n",
              "      border-right-color: var(--fill-color);\n",
              "    }\n",
              "    80% {\n",
              "      border-color: transparent;\n",
              "      border-right-color: var(--fill-color);\n",
              "      border-bottom-color: var(--fill-color);\n",
              "    }\n",
              "    90% {\n",
              "      border-color: transparent;\n",
              "      border-bottom-color: var(--fill-color);\n",
              "    }\n",
              "  }\n",
              "</style>\n",
              "\n",
              "  <script>\n",
              "    async function quickchart(key) {\n",
              "      const quickchartButtonEl =\n",
              "        document.querySelector('#' + key + ' button');\n",
              "      quickchartButtonEl.disabled = true;  // To prevent multiple clicks.\n",
              "      quickchartButtonEl.classList.add('colab-df-spinner');\n",
              "      try {\n",
              "        const charts = await google.colab.kernel.invokeFunction(\n",
              "            'suggestCharts', [key], {});\n",
              "      } catch (error) {\n",
              "        console.error('Error during call to suggestCharts:', error);\n",
              "      }\n",
              "      quickchartButtonEl.classList.remove('colab-df-spinner');\n",
              "      quickchartButtonEl.classList.add('colab-df-quickchart-complete');\n",
              "    }\n",
              "    (() => {\n",
              "      let quickchartButtonEl =\n",
              "        document.querySelector('#df-e927380c-44fc-46f8-be3d-9c6eab496209 button');\n",
              "      quickchartButtonEl.style.display =\n",
              "        google.colab.kernel.accessAllowed ? 'block' : 'none';\n",
              "    })();\n",
              "  </script>\n",
              "</div>\n",
              "\n",
              "    </div>\n",
              "  </div>\n"
            ],
            "application/vnd.google.colaboratory.intrinsic+json": {
              "type": "dataframe",
              "summary": "{\n  \"name\": \"dataset = get_data('iris')\",\n  \"rows\": 5,\n  \"fields\": [\n    {\n      \"column\": \"sepal_length\",\n      \"properties\": {\n        \"dtype\": \"number\",\n        \"std\": 0.2073644135332772,\n        \"min\": 4.6,\n        \"max\": 5.1,\n        \"num_unique_values\": 5,\n        \"samples\": [\n          4.9,\n          5.0,\n          4.7\n        ],\n        \"semantic_type\": \"\",\n        \"description\": \"\"\n      }\n    },\n    {\n      \"column\": \"sepal_width\",\n      \"properties\": {\n        \"dtype\": \"number\",\n        \"std\": 0.2588435821108957,\n        \"min\": 3.0,\n        \"max\": 3.6,\n        \"num_unique_values\": 5,\n        \"samples\": [\n          3.0,\n          3.6,\n          3.2\n        ],\n        \"semantic_type\": \"\",\n        \"description\": \"\"\n      }\n    },\n    {\n      \"column\": \"petal_length\",\n      \"properties\": {\n        \"dtype\": \"number\",\n        \"std\": 0.07071067811865474,\n        \"min\": 1.3,\n        \"max\": 1.5,\n        \"num_unique_values\": 3,\n        \"samples\": [\n          1.4,\n          1.3,\n          1.5\n        ],\n        \"semantic_type\": \"\",\n        \"description\": \"\"\n      }\n    },\n    {\n      \"column\": \"petal_width\",\n      \"properties\": {\n        \"dtype\": \"number\",\n        \"std\": 0.0,\n        \"min\": 0.2,\n        \"max\": 0.2,\n        \"num_unique_values\": 1,\n        \"samples\": [\n          0.2\n        ],\n        \"semantic_type\": \"\",\n        \"description\": \"\"\n      }\n    },\n    {\n      \"column\": \"species\",\n      \"properties\": {\n        \"dtype\": \"category\",\n        \"num_unique_values\": 1,\n        \"samples\": [\n          \"Iris-setosa\"\n        ],\n        \"semantic_type\": \"\",\n        \"description\": \"\"\n      }\n    }\n  ]\n}"
            }
          },
          "metadata": {}
        }
      ]
    },
    {
      "cell_type": "code",
      "source": [
        "data = dataset.sample(frac=0.95, random_state=786).reset_index(drop=True)\n",
        "data_unseen = dataset.drop(data.index).reset_index(drop=True)\n",
        "\n",
        "print('Data for Modeling: ' + str(data.shape))\n",
        "print('Unseen Data For Predictions: ' + str(data_unseen.shape))"
      ],
      "metadata": {
        "colab": {
          "base_uri": "https://localhost:8080/"
        },
        "id": "bBnbw0uNMBbL",
        "outputId": "a687b559-f357-41ac-9c30-0250b77cdc6a"
      },
      "execution_count": 4,
      "outputs": [
        {
          "output_type": "stream",
          "name": "stdout",
          "text": [
            "Data for Modeling: (142, 5)\n",
            "Unseen Data For Predictions: (8, 5)\n"
          ]
        }
      ]
    },
    {
      "cell_type": "markdown",
      "source": [
        "#<p style=\"font-family:JetBrains Mono; font-weight:normal; letter-spacing: 1px; color:#207d06; font-size:100%; text-align:left;padding: 0px; border-bottom: 3px solid #207d06;\">**Classification**</p>"
      ],
      "metadata": {
        "id": "mdmt3jUofJOb"
      }
    },
    {
      "cell_type": "markdown",
      "metadata": {
        "id": "LmV8y9BlfDpF"
      },
      "source": [
        "\n",
        "##<p style=\"font-family:JetBrains Mono; font-weight:normal; letter-spacing: 1px; color:#207d06; font-size:100%; text-align:left;padding: 0px; border-bottom: 3px solid #207d06;\">**Setting up Environment for Classification**</p>\n",
        "\n",
        "Common to all modules in PyCaret, the setup is the first and the only mandatory step in any machine learning experiment using PyCaret. This function takes care of all the data preparation required prior to training models. Besides performing some basic default processing tasks, PyCaret also offers a wide array of pre-processing features. To learn more about all the preprocessing functionalities in PyCaret, you can see this link. We use ‘pycaret.classification’ to set up with original dataset, target, and session_id. After we do it, we compare any models.\n",
        "\n",
        "setup function in PyCaret, profiles the dataset and infers the data types for all input features. It is the first and the only mandatory step to start any machine learning experiment in PyCaret."
      ]
    },
    {
      "cell_type": "code",
      "metadata": {
        "id": "kiHZL2E-fpkr",
        "colab": {
          "base_uri": "https://localhost:8080/",
          "height": 677
        },
        "outputId": "365317b0-1113-4acf-d5e7-f575ef5167be"
      },
      "source": [
        "from pycaret.classification import *\n",
        "exp_mclf101 = setup(data = dataset, target = 'species', session_id=123, experiment_name = 'diamond')"
      ],
      "execution_count": 5,
      "outputs": [
        {
          "output_type": "display_data",
          "data": {
            "text/plain": [
              "<pandas.io.formats.style.Styler at 0x7e0ea269c510>"
            ],
            "text/html": [
              "<style type=\"text/css\">\n",
              "#T_b9ed1_row9_col1 {\n",
              "  background-color: lightgreen;\n",
              "}\n",
              "</style>\n",
              "<table id=\"T_b9ed1\" class=\"dataframe\">\n",
              "  <thead>\n",
              "    <tr>\n",
              "      <th class=\"blank level0\" >&nbsp;</th>\n",
              "      <th id=\"T_b9ed1_level0_col0\" class=\"col_heading level0 col0\" >Description</th>\n",
              "      <th id=\"T_b9ed1_level0_col1\" class=\"col_heading level0 col1\" >Value</th>\n",
              "    </tr>\n",
              "  </thead>\n",
              "  <tbody>\n",
              "    <tr>\n",
              "      <th id=\"T_b9ed1_level0_row0\" class=\"row_heading level0 row0\" >0</th>\n",
              "      <td id=\"T_b9ed1_row0_col0\" class=\"data row0 col0\" >Session id</td>\n",
              "      <td id=\"T_b9ed1_row0_col1\" class=\"data row0 col1\" >123</td>\n",
              "    </tr>\n",
              "    <tr>\n",
              "      <th id=\"T_b9ed1_level0_row1\" class=\"row_heading level0 row1\" >1</th>\n",
              "      <td id=\"T_b9ed1_row1_col0\" class=\"data row1 col0\" >Target</td>\n",
              "      <td id=\"T_b9ed1_row1_col1\" class=\"data row1 col1\" >species</td>\n",
              "    </tr>\n",
              "    <tr>\n",
              "      <th id=\"T_b9ed1_level0_row2\" class=\"row_heading level0 row2\" >2</th>\n",
              "      <td id=\"T_b9ed1_row2_col0\" class=\"data row2 col0\" >Target type</td>\n",
              "      <td id=\"T_b9ed1_row2_col1\" class=\"data row2 col1\" >Multiclass</td>\n",
              "    </tr>\n",
              "    <tr>\n",
              "      <th id=\"T_b9ed1_level0_row3\" class=\"row_heading level0 row3\" >3</th>\n",
              "      <td id=\"T_b9ed1_row3_col0\" class=\"data row3 col0\" >Target mapping</td>\n",
              "      <td id=\"T_b9ed1_row3_col1\" class=\"data row3 col1\" >Iris-setosa: 0, Iris-versicolor: 1, Iris-virginica: 2</td>\n",
              "    </tr>\n",
              "    <tr>\n",
              "      <th id=\"T_b9ed1_level0_row4\" class=\"row_heading level0 row4\" >4</th>\n",
              "      <td id=\"T_b9ed1_row4_col0\" class=\"data row4 col0\" >Original data shape</td>\n",
              "      <td id=\"T_b9ed1_row4_col1\" class=\"data row4 col1\" >(150, 5)</td>\n",
              "    </tr>\n",
              "    <tr>\n",
              "      <th id=\"T_b9ed1_level0_row5\" class=\"row_heading level0 row5\" >5</th>\n",
              "      <td id=\"T_b9ed1_row5_col0\" class=\"data row5 col0\" >Transformed data shape</td>\n",
              "      <td id=\"T_b9ed1_row5_col1\" class=\"data row5 col1\" >(150, 5)</td>\n",
              "    </tr>\n",
              "    <tr>\n",
              "      <th id=\"T_b9ed1_level0_row6\" class=\"row_heading level0 row6\" >6</th>\n",
              "      <td id=\"T_b9ed1_row6_col0\" class=\"data row6 col0\" >Transformed train set shape</td>\n",
              "      <td id=\"T_b9ed1_row6_col1\" class=\"data row6 col1\" >(105, 5)</td>\n",
              "    </tr>\n",
              "    <tr>\n",
              "      <th id=\"T_b9ed1_level0_row7\" class=\"row_heading level0 row7\" >7</th>\n",
              "      <td id=\"T_b9ed1_row7_col0\" class=\"data row7 col0\" >Transformed test set shape</td>\n",
              "      <td id=\"T_b9ed1_row7_col1\" class=\"data row7 col1\" >(45, 5)</td>\n",
              "    </tr>\n",
              "    <tr>\n",
              "      <th id=\"T_b9ed1_level0_row8\" class=\"row_heading level0 row8\" >8</th>\n",
              "      <td id=\"T_b9ed1_row8_col0\" class=\"data row8 col0\" >Numeric features</td>\n",
              "      <td id=\"T_b9ed1_row8_col1\" class=\"data row8 col1\" >4</td>\n",
              "    </tr>\n",
              "    <tr>\n",
              "      <th id=\"T_b9ed1_level0_row9\" class=\"row_heading level0 row9\" >9</th>\n",
              "      <td id=\"T_b9ed1_row9_col0\" class=\"data row9 col0\" >Preprocess</td>\n",
              "      <td id=\"T_b9ed1_row9_col1\" class=\"data row9 col1\" >True</td>\n",
              "    </tr>\n",
              "    <tr>\n",
              "      <th id=\"T_b9ed1_level0_row10\" class=\"row_heading level0 row10\" >10</th>\n",
              "      <td id=\"T_b9ed1_row10_col0\" class=\"data row10 col0\" >Imputation type</td>\n",
              "      <td id=\"T_b9ed1_row10_col1\" class=\"data row10 col1\" >simple</td>\n",
              "    </tr>\n",
              "    <tr>\n",
              "      <th id=\"T_b9ed1_level0_row11\" class=\"row_heading level0 row11\" >11</th>\n",
              "      <td id=\"T_b9ed1_row11_col0\" class=\"data row11 col0\" >Numeric imputation</td>\n",
              "      <td id=\"T_b9ed1_row11_col1\" class=\"data row11 col1\" >mean</td>\n",
              "    </tr>\n",
              "    <tr>\n",
              "      <th id=\"T_b9ed1_level0_row12\" class=\"row_heading level0 row12\" >12</th>\n",
              "      <td id=\"T_b9ed1_row12_col0\" class=\"data row12 col0\" >Categorical imputation</td>\n",
              "      <td id=\"T_b9ed1_row12_col1\" class=\"data row12 col1\" >mode</td>\n",
              "    </tr>\n",
              "    <tr>\n",
              "      <th id=\"T_b9ed1_level0_row13\" class=\"row_heading level0 row13\" >13</th>\n",
              "      <td id=\"T_b9ed1_row13_col0\" class=\"data row13 col0\" >Fold Generator</td>\n",
              "      <td id=\"T_b9ed1_row13_col1\" class=\"data row13 col1\" >StratifiedKFold</td>\n",
              "    </tr>\n",
              "    <tr>\n",
              "      <th id=\"T_b9ed1_level0_row14\" class=\"row_heading level0 row14\" >14</th>\n",
              "      <td id=\"T_b9ed1_row14_col0\" class=\"data row14 col0\" >Fold Number</td>\n",
              "      <td id=\"T_b9ed1_row14_col1\" class=\"data row14 col1\" >10</td>\n",
              "    </tr>\n",
              "    <tr>\n",
              "      <th id=\"T_b9ed1_level0_row15\" class=\"row_heading level0 row15\" >15</th>\n",
              "      <td id=\"T_b9ed1_row15_col0\" class=\"data row15 col0\" >CPU Jobs</td>\n",
              "      <td id=\"T_b9ed1_row15_col1\" class=\"data row15 col1\" >-1</td>\n",
              "    </tr>\n",
              "    <tr>\n",
              "      <th id=\"T_b9ed1_level0_row16\" class=\"row_heading level0 row16\" >16</th>\n",
              "      <td id=\"T_b9ed1_row16_col0\" class=\"data row16 col0\" >Use GPU</td>\n",
              "      <td id=\"T_b9ed1_row16_col1\" class=\"data row16 col1\" >False</td>\n",
              "    </tr>\n",
              "    <tr>\n",
              "      <th id=\"T_b9ed1_level0_row17\" class=\"row_heading level0 row17\" >17</th>\n",
              "      <td id=\"T_b9ed1_row17_col0\" class=\"data row17 col0\" >Log Experiment</td>\n",
              "      <td id=\"T_b9ed1_row17_col1\" class=\"data row17 col1\" >False</td>\n",
              "    </tr>\n",
              "    <tr>\n",
              "      <th id=\"T_b9ed1_level0_row18\" class=\"row_heading level0 row18\" >18</th>\n",
              "      <td id=\"T_b9ed1_row18_col0\" class=\"data row18 col0\" >Experiment Name</td>\n",
              "      <td id=\"T_b9ed1_row18_col1\" class=\"data row18 col1\" >diamond</td>\n",
              "    </tr>\n",
              "    <tr>\n",
              "      <th id=\"T_b9ed1_level0_row19\" class=\"row_heading level0 row19\" >19</th>\n",
              "      <td id=\"T_b9ed1_row19_col0\" class=\"data row19 col0\" >USI</td>\n",
              "      <td id=\"T_b9ed1_row19_col1\" class=\"data row19 col1\" >d897</td>\n",
              "    </tr>\n",
              "  </tbody>\n",
              "</table>\n"
            ]
          },
          "metadata": {}
        }
      ]
    },
    {
      "cell_type": "markdown",
      "metadata": {
        "id": "mpPVpLlEwC6w"
      },
      "source": [
        "When you initialize the setup function in PyCaret, it profiles the dataset and infers the data types for all input features. If all data types are correctly inferred, you can press enter to continue.[4]"
      ]
    },
    {
      "cell_type": "markdown",
      "metadata": {
        "id": "ovUHsgDmwJBO"
      },
      "source": [
        "Notice that:[4]\n",
        "\n",
        "- I have passed log_experiment = True and experiment_name = 'diamond' , this will tell PyCaret to automatically log all the metrics, hyperparameters, and model artifacts behind the scene as you progress through the modeling phase. This is possible due to integration with MLflow.\n",
        "\n",
        "- Also, I have used transform_target = True inside the setup. PyCaret will transform the Price variable behind the scene using box-cox transformation. It affects the distribution of data in a similar way as log transformation (technically different). If you would like to learn more about box-cox transformations, you can refer to this link."
      ]
    },
    {
      "cell_type": "markdown",
      "source": [
        "\n",
        "##<p style=\"font-family:JetBrains Mono; font-weight:normal; letter-spacing: 1px; color:#207d06; font-size:100%; text-align:left;padding: 0px; border-bottom: 3px solid #207d06;\">**1- Comparing all models**</p>"
      ],
      "metadata": {
        "id": "hZhwazLhr2Px"
      }
    },
    {
      "cell_type": "markdown",
      "metadata": {
        "id": "-vHop60ms9n7"
      },
      "source": [
        "This function trains all the available models in the model library using default hyperparameters and evaluates performance metrics using cross-validation. The number of folds can be defined using the foldparameter (default = 10 folds). The table is sorted (highest to lowest) by the metric of choice which can be defined using the sortparameter(in this case we have sorted it on RMSE)\n",
        "n_select parameter in the setup function controls the return of trained models. In this case, I am setting it to 15, meaning return the top 15 models as a list. pull function in the second line stores the output of compare_models as pd.DataFrame .\n",
        "\n",
        "Now that data is ready for modeling, let’s start the training process by using compare_models function. It will train all the algorithms available in the model library and evaluates multiple performance metrics using k-fold cross-validation.italicized text"
      ]
    },
    {
      "cell_type": "code",
      "metadata": {
        "id": "qZGSbzfZyG0s",
        "colab": {
          "base_uri": "https://localhost:8080/",
          "height": 684,
          "referenced_widgets": [
            "fe12c58a8d8b4334a69555bd5f8f9b22",
            "e3bde63d11f946acad4867b85b24dbfe",
            "d0d39b88563c404e88bc0fdde4395610",
            "351c3aa064ec4c9395a6bf9d8b565dab",
            "9b1657c5c0f743a8bcb7353d055721ba",
            "bbe09e543ebb4cb2a50f22b199c5796d",
            "bb3b1caa5e06445590cbfa1479cb0155",
            "4c5c5ba1e5734a13bec4dd4c57dc9681",
            "8859fb0160a44cc28655789d7a478f8f",
            "7dd20595731c41a89338bbb775a41636",
            "80a2059d0fcf4565ab4b05656c8999db"
          ]
        },
        "outputId": "a591b2bf-a445-493e-9ace-5287ec4e1fb7"
      },
      "source": [
        "compare_models()"
      ],
      "execution_count": 6,
      "outputs": [
        {
          "output_type": "display_data",
          "data": {
            "text/plain": [
              "<IPython.core.display.HTML object>"
            ],
            "text/html": []
          },
          "metadata": {}
        },
        {
          "output_type": "display_data",
          "data": {
            "text/plain": [
              "<pandas.io.formats.style.Styler at 0x7e0ea24057d0>"
            ],
            "text/html": [
              "<style type=\"text/css\">\n",
              "#T_9933b th {\n",
              "  text-align: left;\n",
              "}\n",
              "#T_9933b_row0_col0, #T_9933b_row0_col2, #T_9933b_row1_col0, #T_9933b_row1_col2, #T_9933b_row2_col0, #T_9933b_row2_col2, #T_9933b_row3_col0, #T_9933b_row3_col2, #T_9933b_row4_col0, #T_9933b_row4_col1, #T_9933b_row4_col3, #T_9933b_row4_col4, #T_9933b_row4_col5, #T_9933b_row4_col6, #T_9933b_row4_col7, #T_9933b_row5_col0, #T_9933b_row5_col1, #T_9933b_row5_col2, #T_9933b_row5_col3, #T_9933b_row5_col4, #T_9933b_row5_col5, #T_9933b_row5_col6, #T_9933b_row5_col7, #T_9933b_row6_col0, #T_9933b_row6_col1, #T_9933b_row6_col3, #T_9933b_row6_col4, #T_9933b_row6_col5, #T_9933b_row6_col6, #T_9933b_row6_col7, #T_9933b_row7_col0, #T_9933b_row7_col1, #T_9933b_row7_col2, #T_9933b_row7_col3, #T_9933b_row7_col4, #T_9933b_row7_col5, #T_9933b_row7_col6, #T_9933b_row7_col7, #T_9933b_row8_col0, #T_9933b_row8_col1, #T_9933b_row8_col2, #T_9933b_row8_col3, #T_9933b_row8_col4, #T_9933b_row8_col5, #T_9933b_row8_col6, #T_9933b_row8_col7, #T_9933b_row9_col0, #T_9933b_row9_col1, #T_9933b_row9_col2, #T_9933b_row9_col3, #T_9933b_row9_col4, #T_9933b_row9_col5, #T_9933b_row9_col6, #T_9933b_row9_col7, #T_9933b_row10_col0, #T_9933b_row10_col1, #T_9933b_row10_col2, #T_9933b_row10_col3, #T_9933b_row10_col4, #T_9933b_row10_col5, #T_9933b_row10_col6, #T_9933b_row10_col7, #T_9933b_row11_col0, #T_9933b_row11_col1, #T_9933b_row11_col2, #T_9933b_row11_col3, #T_9933b_row11_col4, #T_9933b_row11_col5, #T_9933b_row11_col6, #T_9933b_row11_col7, #T_9933b_row12_col0, #T_9933b_row12_col1, #T_9933b_row12_col2, #T_9933b_row12_col3, #T_9933b_row12_col4, #T_9933b_row12_col5, #T_9933b_row12_col6, #T_9933b_row12_col7, #T_9933b_row13_col0, #T_9933b_row13_col1, #T_9933b_row13_col2, #T_9933b_row13_col3, #T_9933b_row13_col4, #T_9933b_row13_col5, #T_9933b_row13_col6, #T_9933b_row13_col7, #T_9933b_row14_col0, #T_9933b_row14_col1, #T_9933b_row14_col2, #T_9933b_row14_col3, #T_9933b_row14_col4, #T_9933b_row14_col5, #T_9933b_row14_col6, #T_9933b_row14_col7, #T_9933b_row15_col0, #T_9933b_row15_col1, #T_9933b_row15_col2, #T_9933b_row15_col3, #T_9933b_row15_col4, #T_9933b_row15_col5, #T_9933b_row15_col6, #T_9933b_row15_col7 {\n",
              "  text-align: left;\n",
              "}\n",
              "#T_9933b_row0_col1, #T_9933b_row0_col3, #T_9933b_row0_col4, #T_9933b_row0_col5, #T_9933b_row0_col6, #T_9933b_row0_col7, #T_9933b_row1_col1, #T_9933b_row1_col3, #T_9933b_row1_col4, #T_9933b_row1_col5, #T_9933b_row1_col6, #T_9933b_row1_col7, #T_9933b_row2_col1, #T_9933b_row2_col3, #T_9933b_row2_col4, #T_9933b_row2_col5, #T_9933b_row2_col6, #T_9933b_row2_col7, #T_9933b_row3_col1, #T_9933b_row3_col3, #T_9933b_row3_col4, #T_9933b_row3_col5, #T_9933b_row3_col6, #T_9933b_row3_col7, #T_9933b_row4_col2, #T_9933b_row6_col2 {\n",
              "  text-align: left;\n",
              "  background-color: yellow;\n",
              "}\n",
              "#T_9933b_row0_col8, #T_9933b_row1_col8, #T_9933b_row2_col8, #T_9933b_row3_col8, #T_9933b_row4_col8, #T_9933b_row5_col8, #T_9933b_row6_col8, #T_9933b_row7_col8, #T_9933b_row8_col8, #T_9933b_row9_col8, #T_9933b_row10_col8, #T_9933b_row11_col8, #T_9933b_row12_col8, #T_9933b_row13_col8, #T_9933b_row14_col8 {\n",
              "  text-align: left;\n",
              "  background-color: lightgrey;\n",
              "}\n",
              "#T_9933b_row15_col8 {\n",
              "  text-align: left;\n",
              "  background-color: yellow;\n",
              "  background-color: lightgrey;\n",
              "}\n",
              "</style>\n",
              "<table id=\"T_9933b\" class=\"dataframe\">\n",
              "  <thead>\n",
              "    <tr>\n",
              "      <th class=\"blank level0\" >&nbsp;</th>\n",
              "      <th id=\"T_9933b_level0_col0\" class=\"col_heading level0 col0\" >Model</th>\n",
              "      <th id=\"T_9933b_level0_col1\" class=\"col_heading level0 col1\" >Accuracy</th>\n",
              "      <th id=\"T_9933b_level0_col2\" class=\"col_heading level0 col2\" >AUC</th>\n",
              "      <th id=\"T_9933b_level0_col3\" class=\"col_heading level0 col3\" >Recall</th>\n",
              "      <th id=\"T_9933b_level0_col4\" class=\"col_heading level0 col4\" >Prec.</th>\n",
              "      <th id=\"T_9933b_level0_col5\" class=\"col_heading level0 col5\" >F1</th>\n",
              "      <th id=\"T_9933b_level0_col6\" class=\"col_heading level0 col6\" >Kappa</th>\n",
              "      <th id=\"T_9933b_level0_col7\" class=\"col_heading level0 col7\" >MCC</th>\n",
              "      <th id=\"T_9933b_level0_col8\" class=\"col_heading level0 col8\" >TT (Sec)</th>\n",
              "    </tr>\n",
              "  </thead>\n",
              "  <tbody>\n",
              "    <tr>\n",
              "      <th id=\"T_9933b_level0_row0\" class=\"row_heading level0 row0\" >lr</th>\n",
              "      <td id=\"T_9933b_row0_col0\" class=\"data row0 col0\" >Logistic Regression</td>\n",
              "      <td id=\"T_9933b_row0_col1\" class=\"data row0 col1\" >0.9718</td>\n",
              "      <td id=\"T_9933b_row0_col2\" class=\"data row0 col2\" >0.0000</td>\n",
              "      <td id=\"T_9933b_row0_col3\" class=\"data row0 col3\" >0.9718</td>\n",
              "      <td id=\"T_9933b_row0_col4\" class=\"data row0 col4\" >0.9780</td>\n",
              "      <td id=\"T_9933b_row0_col5\" class=\"data row0 col5\" >0.9712</td>\n",
              "      <td id=\"T_9933b_row0_col6\" class=\"data row0 col6\" >0.9573</td>\n",
              "      <td id=\"T_9933b_row0_col7\" class=\"data row0 col7\" >0.9609</td>\n",
              "      <td id=\"T_9933b_row0_col8\" class=\"data row0 col8\" >0.8860</td>\n",
              "    </tr>\n",
              "    <tr>\n",
              "      <th id=\"T_9933b_level0_row1\" class=\"row_heading level0 row1\" >knn</th>\n",
              "      <td id=\"T_9933b_row1_col0\" class=\"data row1 col0\" >K Neighbors Classifier</td>\n",
              "      <td id=\"T_9933b_row1_col1\" class=\"data row1 col1\" >0.9718</td>\n",
              "      <td id=\"T_9933b_row1_col2\" class=\"data row1 col2\" >0.9830</td>\n",
              "      <td id=\"T_9933b_row1_col3\" class=\"data row1 col3\" >0.9718</td>\n",
              "      <td id=\"T_9933b_row1_col4\" class=\"data row1 col4\" >0.9780</td>\n",
              "      <td id=\"T_9933b_row1_col5\" class=\"data row1 col5\" >0.9712</td>\n",
              "      <td id=\"T_9933b_row1_col6\" class=\"data row1 col6\" >0.9573</td>\n",
              "      <td id=\"T_9933b_row1_col7\" class=\"data row1 col7\" >0.9609</td>\n",
              "      <td id=\"T_9933b_row1_col8\" class=\"data row1 col8\" >0.0460</td>\n",
              "    </tr>\n",
              "    <tr>\n",
              "      <th id=\"T_9933b_level0_row2\" class=\"row_heading level0 row2\" >qda</th>\n",
              "      <td id=\"T_9933b_row2_col0\" class=\"data row2 col0\" >Quadratic Discriminant Analysis</td>\n",
              "      <td id=\"T_9933b_row2_col1\" class=\"data row2 col1\" >0.9718</td>\n",
              "      <td id=\"T_9933b_row2_col2\" class=\"data row2 col2\" >0.0000</td>\n",
              "      <td id=\"T_9933b_row2_col3\" class=\"data row2 col3\" >0.9718</td>\n",
              "      <td id=\"T_9933b_row2_col4\" class=\"data row2 col4\" >0.9780</td>\n",
              "      <td id=\"T_9933b_row2_col5\" class=\"data row2 col5\" >0.9712</td>\n",
              "      <td id=\"T_9933b_row2_col6\" class=\"data row2 col6\" >0.9573</td>\n",
              "      <td id=\"T_9933b_row2_col7\" class=\"data row2 col7\" >0.9609</td>\n",
              "      <td id=\"T_9933b_row2_col8\" class=\"data row2 col8\" >0.0310</td>\n",
              "    </tr>\n",
              "    <tr>\n",
              "      <th id=\"T_9933b_level0_row3\" class=\"row_heading level0 row3\" >lda</th>\n",
              "      <td id=\"T_9933b_row3_col0\" class=\"data row3 col0\" >Linear Discriminant Analysis</td>\n",
              "      <td id=\"T_9933b_row3_col1\" class=\"data row3 col1\" >0.9718</td>\n",
              "      <td id=\"T_9933b_row3_col2\" class=\"data row3 col2\" >0.0000</td>\n",
              "      <td id=\"T_9933b_row3_col3\" class=\"data row3 col3\" >0.9718</td>\n",
              "      <td id=\"T_9933b_row3_col4\" class=\"data row3 col4\" >0.9780</td>\n",
              "      <td id=\"T_9933b_row3_col5\" class=\"data row3 col5\" >0.9712</td>\n",
              "      <td id=\"T_9933b_row3_col6\" class=\"data row3 col6\" >0.9573</td>\n",
              "      <td id=\"T_9933b_row3_col7\" class=\"data row3 col7\" >0.9609</td>\n",
              "      <td id=\"T_9933b_row3_col8\" class=\"data row3 col8\" >0.0300</td>\n",
              "    </tr>\n",
              "    <tr>\n",
              "      <th id=\"T_9933b_level0_row4\" class=\"row_heading level0 row4\" >lightgbm</th>\n",
              "      <td id=\"T_9933b_row4_col0\" class=\"data row4 col0\" >Light Gradient Boosting Machine</td>\n",
              "      <td id=\"T_9933b_row4_col1\" class=\"data row4 col1\" >0.9536</td>\n",
              "      <td id=\"T_9933b_row4_col2\" class=\"data row4 col2\" >0.9935</td>\n",
              "      <td id=\"T_9933b_row4_col3\" class=\"data row4 col3\" >0.9536</td>\n",
              "      <td id=\"T_9933b_row4_col4\" class=\"data row4 col4\" >0.9634</td>\n",
              "      <td id=\"T_9933b_row4_col5\" class=\"data row4 col5\" >0.9528</td>\n",
              "      <td id=\"T_9933b_row4_col6\" class=\"data row4 col6\" >0.9298</td>\n",
              "      <td id=\"T_9933b_row4_col7\" class=\"data row4 col7\" >0.9356</td>\n",
              "      <td id=\"T_9933b_row4_col8\" class=\"data row4 col8\" >0.2690</td>\n",
              "    </tr>\n",
              "    <tr>\n",
              "      <th id=\"T_9933b_level0_row5\" class=\"row_heading level0 row5\" >nb</th>\n",
              "      <td id=\"T_9933b_row5_col0\" class=\"data row5 col0\" >Naive Bayes</td>\n",
              "      <td id=\"T_9933b_row5_col1\" class=\"data row5 col1\" >0.9445</td>\n",
              "      <td id=\"T_9933b_row5_col2\" class=\"data row5 col2\" >0.9868</td>\n",
              "      <td id=\"T_9933b_row5_col3\" class=\"data row5 col3\" >0.9445</td>\n",
              "      <td id=\"T_9933b_row5_col4\" class=\"data row5 col4\" >0.9525</td>\n",
              "      <td id=\"T_9933b_row5_col5\" class=\"data row5 col5\" >0.9438</td>\n",
              "      <td id=\"T_9933b_row5_col6\" class=\"data row5 col6\" >0.9161</td>\n",
              "      <td id=\"T_9933b_row5_col7\" class=\"data row5 col7\" >0.9207</td>\n",
              "      <td id=\"T_9933b_row5_col8\" class=\"data row5 col8\" >0.0550</td>\n",
              "    </tr>\n",
              "    <tr>\n",
              "      <th id=\"T_9933b_level0_row6\" class=\"row_heading level0 row6\" >et</th>\n",
              "      <td id=\"T_9933b_row6_col0\" class=\"data row6 col0\" >Extra Trees Classifier</td>\n",
              "      <td id=\"T_9933b_row6_col1\" class=\"data row6 col1\" >0.9445</td>\n",
              "      <td id=\"T_9933b_row6_col2\" class=\"data row6 col2\" >0.9935</td>\n",
              "      <td id=\"T_9933b_row6_col3\" class=\"data row6 col3\" >0.9445</td>\n",
              "      <td id=\"T_9933b_row6_col4\" class=\"data row6 col4\" >0.9586</td>\n",
              "      <td id=\"T_9933b_row6_col5\" class=\"data row6 col5\" >0.9426</td>\n",
              "      <td id=\"T_9933b_row6_col6\" class=\"data row6 col6\" >0.9161</td>\n",
              "      <td id=\"T_9933b_row6_col7\" class=\"data row6 col7\" >0.9246</td>\n",
              "      <td id=\"T_9933b_row6_col8\" class=\"data row6 col8\" >0.2420</td>\n",
              "    </tr>\n",
              "    <tr>\n",
              "      <th id=\"T_9933b_level0_row7\" class=\"row_heading level0 row7\" >catboost</th>\n",
              "      <td id=\"T_9933b_row7_col0\" class=\"data row7 col0\" >CatBoost Classifier</td>\n",
              "      <td id=\"T_9933b_row7_col1\" class=\"data row7 col1\" >0.9445</td>\n",
              "      <td id=\"T_9933b_row7_col2\" class=\"data row7 col2\" >0.9922</td>\n",
              "      <td id=\"T_9933b_row7_col3\" class=\"data row7 col3\" >0.9445</td>\n",
              "      <td id=\"T_9933b_row7_col4\" class=\"data row7 col4\" >0.9586</td>\n",
              "      <td id=\"T_9933b_row7_col5\" class=\"data row7 col5\" >0.9426</td>\n",
              "      <td id=\"T_9933b_row7_col6\" class=\"data row7 col6\" >0.9161</td>\n",
              "      <td id=\"T_9933b_row7_col7\" class=\"data row7 col7\" >0.9246</td>\n",
              "      <td id=\"T_9933b_row7_col8\" class=\"data row7 col8\" >0.9620</td>\n",
              "    </tr>\n",
              "    <tr>\n",
              "      <th id=\"T_9933b_level0_row8\" class=\"row_heading level0 row8\" >gbc</th>\n",
              "      <td id=\"T_9933b_row8_col0\" class=\"data row8 col0\" >Gradient Boosting Classifier</td>\n",
              "      <td id=\"T_9933b_row8_col1\" class=\"data row8 col1\" >0.9355</td>\n",
              "      <td id=\"T_9933b_row8_col2\" class=\"data row8 col2\" >0.0000</td>\n",
              "      <td id=\"T_9933b_row8_col3\" class=\"data row8 col3\" >0.9355</td>\n",
              "      <td id=\"T_9933b_row8_col4\" class=\"data row8 col4\" >0.9416</td>\n",
              "      <td id=\"T_9933b_row8_col5\" class=\"data row8 col5\" >0.9325</td>\n",
              "      <td id=\"T_9933b_row8_col6\" class=\"data row8 col6\" >0.9023</td>\n",
              "      <td id=\"T_9933b_row8_col7\" class=\"data row8 col7\" >0.9083</td>\n",
              "      <td id=\"T_9933b_row8_col8\" class=\"data row8 col8\" >0.2600</td>\n",
              "    </tr>\n",
              "    <tr>\n",
              "      <th id=\"T_9933b_level0_row9\" class=\"row_heading level0 row9\" >dt</th>\n",
              "      <td id=\"T_9933b_row9_col0\" class=\"data row9 col0\" >Decision Tree Classifier</td>\n",
              "      <td id=\"T_9933b_row9_col1\" class=\"data row9 col1\" >0.9264</td>\n",
              "      <td id=\"T_9933b_row9_col2\" class=\"data row9 col2\" >0.9429</td>\n",
              "      <td id=\"T_9933b_row9_col3\" class=\"data row9 col3\" >0.9264</td>\n",
              "      <td id=\"T_9933b_row9_col4\" class=\"data row9 col4\" >0.9502</td>\n",
              "      <td id=\"T_9933b_row9_col5\" class=\"data row9 col5\" >0.9201</td>\n",
              "      <td id=\"T_9933b_row9_col6\" class=\"data row9 col6\" >0.8886</td>\n",
              "      <td id=\"T_9933b_row9_col7\" class=\"data row9 col7\" >0.9040</td>\n",
              "      <td id=\"T_9933b_row9_col8\" class=\"data row9 col8\" >0.0540</td>\n",
              "    </tr>\n",
              "    <tr>\n",
              "      <th id=\"T_9933b_level0_row10\" class=\"row_heading level0 row10\" >rf</th>\n",
              "      <td id=\"T_9933b_row10_col0\" class=\"data row10 col0\" >Random Forest Classifier</td>\n",
              "      <td id=\"T_9933b_row10_col1\" class=\"data row10 col1\" >0.9264</td>\n",
              "      <td id=\"T_9933b_row10_col2\" class=\"data row10 col2\" >0.9909</td>\n",
              "      <td id=\"T_9933b_row10_col3\" class=\"data row10 col3\" >0.9264</td>\n",
              "      <td id=\"T_9933b_row10_col4\" class=\"data row10 col4\" >0.9343</td>\n",
              "      <td id=\"T_9933b_row10_col5\" class=\"data row10 col5\" >0.9232</td>\n",
              "      <td id=\"T_9933b_row10_col6\" class=\"data row10 col6\" >0.8886</td>\n",
              "      <td id=\"T_9933b_row10_col7\" class=\"data row10 col7\" >0.8956</td>\n",
              "      <td id=\"T_9933b_row10_col8\" class=\"data row10 col8\" >0.1790</td>\n",
              "    </tr>\n",
              "    <tr>\n",
              "      <th id=\"T_9933b_level0_row11\" class=\"row_heading level0 row11\" >xgboost</th>\n",
              "      <td id=\"T_9933b_row11_col0\" class=\"data row11 col0\" >Extreme Gradient Boosting</td>\n",
              "      <td id=\"T_9933b_row11_col1\" class=\"data row11 col1\" >0.9255</td>\n",
              "      <td id=\"T_9933b_row11_col2\" class=\"data row11 col2\" >0.9710</td>\n",
              "      <td id=\"T_9933b_row11_col3\" class=\"data row11 col3\" >0.9255</td>\n",
              "      <td id=\"T_9933b_row11_col4\" class=\"data row11 col4\" >0.9360</td>\n",
              "      <td id=\"T_9933b_row11_col5\" class=\"data row11 col5\" >0.9239</td>\n",
              "      <td id=\"T_9933b_row11_col6\" class=\"data row11 col6\" >0.8870</td>\n",
              "      <td id=\"T_9933b_row11_col7\" class=\"data row11 col7\" >0.8937</td>\n",
              "      <td id=\"T_9933b_row11_col8\" class=\"data row11 col8\" >0.0910</td>\n",
              "    </tr>\n",
              "    <tr>\n",
              "      <th id=\"T_9933b_level0_row12\" class=\"row_heading level0 row12\" >ada</th>\n",
              "      <td id=\"T_9933b_row12_col0\" class=\"data row12 col0\" >Ada Boost Classifier</td>\n",
              "      <td id=\"T_9933b_row12_col1\" class=\"data row12 col1\" >0.9155</td>\n",
              "      <td id=\"T_9933b_row12_col2\" class=\"data row12 col2\" >0.0000</td>\n",
              "      <td id=\"T_9933b_row12_col3\" class=\"data row12 col3\" >0.9155</td>\n",
              "      <td id=\"T_9933b_row12_col4\" class=\"data row12 col4\" >0.9401</td>\n",
              "      <td id=\"T_9933b_row12_col5\" class=\"data row12 col5\" >0.9097</td>\n",
              "      <td id=\"T_9933b_row12_col6\" class=\"data row12 col6\" >0.8720</td>\n",
              "      <td id=\"T_9933b_row12_col7\" class=\"data row12 col7\" >0.8873</td>\n",
              "      <td id=\"T_9933b_row12_col8\" class=\"data row12 col8\" >0.1040</td>\n",
              "    </tr>\n",
              "    <tr>\n",
              "      <th id=\"T_9933b_level0_row13\" class=\"row_heading level0 row13\" >ridge</th>\n",
              "      <td id=\"T_9933b_row13_col0\" class=\"data row13 col0\" >Ridge Classifier</td>\n",
              "      <td id=\"T_9933b_row13_col1\" class=\"data row13 col1\" >0.8227</td>\n",
              "      <td id=\"T_9933b_row13_col2\" class=\"data row13 col2\" >0.0000</td>\n",
              "      <td id=\"T_9933b_row13_col3\" class=\"data row13 col3\" >0.8227</td>\n",
              "      <td id=\"T_9933b_row13_col4\" class=\"data row13 col4\" >0.8437</td>\n",
              "      <td id=\"T_9933b_row13_col5\" class=\"data row13 col5\" >0.8186</td>\n",
              "      <td id=\"T_9933b_row13_col6\" class=\"data row13 col6\" >0.7320</td>\n",
              "      <td id=\"T_9933b_row13_col7\" class=\"data row13 col7\" >0.7454</td>\n",
              "      <td id=\"T_9933b_row13_col8\" class=\"data row13 col8\" >0.0320</td>\n",
              "    </tr>\n",
              "    <tr>\n",
              "      <th id=\"T_9933b_level0_row14\" class=\"row_heading level0 row14\" >svm</th>\n",
              "      <td id=\"T_9933b_row14_col0\" class=\"data row14 col0\" >SVM - Linear Kernel</td>\n",
              "      <td id=\"T_9933b_row14_col1\" class=\"data row14 col1\" >0.7618</td>\n",
              "      <td id=\"T_9933b_row14_col2\" class=\"data row14 col2\" >0.0000</td>\n",
              "      <td id=\"T_9933b_row14_col3\" class=\"data row14 col3\" >0.7618</td>\n",
              "      <td id=\"T_9933b_row14_col4\" class=\"data row14 col4\" >0.6655</td>\n",
              "      <td id=\"T_9933b_row14_col5\" class=\"data row14 col5\" >0.6888</td>\n",
              "      <td id=\"T_9933b_row14_col6\" class=\"data row14 col6\" >0.6333</td>\n",
              "      <td id=\"T_9933b_row14_col7\" class=\"data row14 col7\" >0.7048</td>\n",
              "      <td id=\"T_9933b_row14_col8\" class=\"data row14 col8\" >0.0480</td>\n",
              "    </tr>\n",
              "    <tr>\n",
              "      <th id=\"T_9933b_level0_row15\" class=\"row_heading level0 row15\" >dummy</th>\n",
              "      <td id=\"T_9933b_row15_col0\" class=\"data row15 col0\" >Dummy Classifier</td>\n",
              "      <td id=\"T_9933b_row15_col1\" class=\"data row15 col1\" >0.2864</td>\n",
              "      <td id=\"T_9933b_row15_col2\" class=\"data row15 col2\" >0.5000</td>\n",
              "      <td id=\"T_9933b_row15_col3\" class=\"data row15 col3\" >0.2864</td>\n",
              "      <td id=\"T_9933b_row15_col4\" class=\"data row15 col4\" >0.0822</td>\n",
              "      <td id=\"T_9933b_row15_col5\" class=\"data row15 col5\" >0.1277</td>\n",
              "      <td id=\"T_9933b_row15_col6\" class=\"data row15 col6\" >0.0000</td>\n",
              "      <td id=\"T_9933b_row15_col7\" class=\"data row15 col7\" >0.0000</td>\n",
              "      <td id=\"T_9933b_row15_col8\" class=\"data row15 col8\" >0.0290</td>\n",
              "    </tr>\n",
              "  </tbody>\n",
              "</table>\n"
            ]
          },
          "metadata": {}
        },
        {
          "output_type": "display_data",
          "data": {
            "text/plain": [
              "Processing:   0%|          | 0/69 [00:00<?, ?it/s]"
            ],
            "application/vnd.jupyter.widget-view+json": {
              "version_major": 2,
              "version_minor": 0,
              "model_id": "fe12c58a8d8b4334a69555bd5f8f9b22"
            }
          },
          "metadata": {
            "application/vnd.jupyter.widget-view+json": {
              "colab": {
                "custom_widget_manager": {
                  "url": "https://ssl.gstatic.com/colaboratory-static/widgets/colab-cdn-widget-manager/2b70e893a8ba7c0f/manager.min.js"
                }
              }
            }
          }
        },
        {
          "output_type": "display_data",
          "data": {
            "text/plain": [
              "<IPython.core.display.HTML object>"
            ],
            "text/html": []
          },
          "metadata": {}
        },
        {
          "output_type": "execute_result",
          "data": {
            "text/plain": [
              "LogisticRegression(C=1.0, class_weight=None, dual=False, fit_intercept=True,\n",
              "                   intercept_scaling=1, l1_ratio=None, max_iter=1000,\n",
              "                   multi_class='auto', n_jobs=None, penalty='l2',\n",
              "                   random_state=123, solver='lbfgs', tol=0.0001, verbose=0,\n",
              "                   warm_start=False)"
            ],
            "text/html": [
              "<style>#sk-container-id-1 {\n",
              "  /* Definition of color scheme common for light and dark mode */\n",
              "  --sklearn-color-text: black;\n",
              "  --sklearn-color-line: gray;\n",
              "  /* Definition of color scheme for unfitted estimators */\n",
              "  --sklearn-color-unfitted-level-0: #fff5e6;\n",
              "  --sklearn-color-unfitted-level-1: #f6e4d2;\n",
              "  --sklearn-color-unfitted-level-2: #ffe0b3;\n",
              "  --sklearn-color-unfitted-level-3: chocolate;\n",
              "  /* Definition of color scheme for fitted estimators */\n",
              "  --sklearn-color-fitted-level-0: #f0f8ff;\n",
              "  --sklearn-color-fitted-level-1: #d4ebff;\n",
              "  --sklearn-color-fitted-level-2: #b3dbfd;\n",
              "  --sklearn-color-fitted-level-3: cornflowerblue;\n",
              "\n",
              "  /* Specific color for light theme */\n",
              "  --sklearn-color-text-on-default-background: var(--sg-text-color, var(--theme-code-foreground, var(--jp-content-font-color1, black)));\n",
              "  --sklearn-color-background: var(--sg-background-color, var(--theme-background, var(--jp-layout-color0, white)));\n",
              "  --sklearn-color-border-box: var(--sg-text-color, var(--theme-code-foreground, var(--jp-content-font-color1, black)));\n",
              "  --sklearn-color-icon: #696969;\n",
              "\n",
              "  @media (prefers-color-scheme: dark) {\n",
              "    /* Redefinition of color scheme for dark theme */\n",
              "    --sklearn-color-text-on-default-background: var(--sg-text-color, var(--theme-code-foreground, var(--jp-content-font-color1, white)));\n",
              "    --sklearn-color-background: var(--sg-background-color, var(--theme-background, var(--jp-layout-color0, #111)));\n",
              "    --sklearn-color-border-box: var(--sg-text-color, var(--theme-code-foreground, var(--jp-content-font-color1, white)));\n",
              "    --sklearn-color-icon: #878787;\n",
              "  }\n",
              "}\n",
              "\n",
              "#sk-container-id-1 {\n",
              "  color: var(--sklearn-color-text);\n",
              "}\n",
              "\n",
              "#sk-container-id-1 pre {\n",
              "  padding: 0;\n",
              "}\n",
              "\n",
              "#sk-container-id-1 input.sk-hidden--visually {\n",
              "  border: 0;\n",
              "  clip: rect(1px 1px 1px 1px);\n",
              "  clip: rect(1px, 1px, 1px, 1px);\n",
              "  height: 1px;\n",
              "  margin: -1px;\n",
              "  overflow: hidden;\n",
              "  padding: 0;\n",
              "  position: absolute;\n",
              "  width: 1px;\n",
              "}\n",
              "\n",
              "#sk-container-id-1 div.sk-dashed-wrapped {\n",
              "  border: 1px dashed var(--sklearn-color-line);\n",
              "  margin: 0 0.4em 0.5em 0.4em;\n",
              "  box-sizing: border-box;\n",
              "  padding-bottom: 0.4em;\n",
              "  background-color: var(--sklearn-color-background);\n",
              "}\n",
              "\n",
              "#sk-container-id-1 div.sk-container {\n",
              "  /* jupyter's `normalize.less` sets `[hidden] { display: none; }`\n",
              "     but bootstrap.min.css set `[hidden] { display: none !important; }`\n",
              "     so we also need the `!important` here to be able to override the\n",
              "     default hidden behavior on the sphinx rendered scikit-learn.org.\n",
              "     See: https://github.com/scikit-learn/scikit-learn/issues/21755 */\n",
              "  display: inline-block !important;\n",
              "  position: relative;\n",
              "}\n",
              "\n",
              "#sk-container-id-1 div.sk-text-repr-fallback {\n",
              "  display: none;\n",
              "}\n",
              "\n",
              "div.sk-parallel-item,\n",
              "div.sk-serial,\n",
              "div.sk-item {\n",
              "  /* draw centered vertical line to link estimators */\n",
              "  background-image: linear-gradient(var(--sklearn-color-text-on-default-background), var(--sklearn-color-text-on-default-background));\n",
              "  background-size: 2px 100%;\n",
              "  background-repeat: no-repeat;\n",
              "  background-position: center center;\n",
              "}\n",
              "\n",
              "/* Parallel-specific style estimator block */\n",
              "\n",
              "#sk-container-id-1 div.sk-parallel-item::after {\n",
              "  content: \"\";\n",
              "  width: 100%;\n",
              "  border-bottom: 2px solid var(--sklearn-color-text-on-default-background);\n",
              "  flex-grow: 1;\n",
              "}\n",
              "\n",
              "#sk-container-id-1 div.sk-parallel {\n",
              "  display: flex;\n",
              "  align-items: stretch;\n",
              "  justify-content: center;\n",
              "  background-color: var(--sklearn-color-background);\n",
              "  position: relative;\n",
              "}\n",
              "\n",
              "#sk-container-id-1 div.sk-parallel-item {\n",
              "  display: flex;\n",
              "  flex-direction: column;\n",
              "}\n",
              "\n",
              "#sk-container-id-1 div.sk-parallel-item:first-child::after {\n",
              "  align-self: flex-end;\n",
              "  width: 50%;\n",
              "}\n",
              "\n",
              "#sk-container-id-1 div.sk-parallel-item:last-child::after {\n",
              "  align-self: flex-start;\n",
              "  width: 50%;\n",
              "}\n",
              "\n",
              "#sk-container-id-1 div.sk-parallel-item:only-child::after {\n",
              "  width: 0;\n",
              "}\n",
              "\n",
              "/* Serial-specific style estimator block */\n",
              "\n",
              "#sk-container-id-1 div.sk-serial {\n",
              "  display: flex;\n",
              "  flex-direction: column;\n",
              "  align-items: center;\n",
              "  background-color: var(--sklearn-color-background);\n",
              "  padding-right: 1em;\n",
              "  padding-left: 1em;\n",
              "}\n",
              "\n",
              "\n",
              "/* Toggleable style: style used for estimator/Pipeline/ColumnTransformer box that is\n",
              "clickable and can be expanded/collapsed.\n",
              "- Pipeline and ColumnTransformer use this feature and define the default style\n",
              "- Estimators will overwrite some part of the style using the `sk-estimator` class\n",
              "*/\n",
              "\n",
              "/* Pipeline and ColumnTransformer style (default) */\n",
              "\n",
              "#sk-container-id-1 div.sk-toggleable {\n",
              "  /* Default theme specific background. It is overwritten whether we have a\n",
              "  specific estimator or a Pipeline/ColumnTransformer */\n",
              "  background-color: var(--sklearn-color-background);\n",
              "}\n",
              "\n",
              "/* Toggleable label */\n",
              "#sk-container-id-1 label.sk-toggleable__label {\n",
              "  cursor: pointer;\n",
              "  display: block;\n",
              "  width: 100%;\n",
              "  margin-bottom: 0;\n",
              "  padding: 0.5em;\n",
              "  box-sizing: border-box;\n",
              "  text-align: center;\n",
              "}\n",
              "\n",
              "#sk-container-id-1 label.sk-toggleable__label-arrow:before {\n",
              "  /* Arrow on the left of the label */\n",
              "  content: \"▸\";\n",
              "  float: left;\n",
              "  margin-right: 0.25em;\n",
              "  color: var(--sklearn-color-icon);\n",
              "}\n",
              "\n",
              "#sk-container-id-1 label.sk-toggleable__label-arrow:hover:before {\n",
              "  color: var(--sklearn-color-text);\n",
              "}\n",
              "\n",
              "/* Toggleable content - dropdown */\n",
              "\n",
              "#sk-container-id-1 div.sk-toggleable__content {\n",
              "  max-height: 0;\n",
              "  max-width: 0;\n",
              "  overflow: hidden;\n",
              "  text-align: left;\n",
              "  /* unfitted */\n",
              "  background-color: var(--sklearn-color-unfitted-level-0);\n",
              "}\n",
              "\n",
              "#sk-container-id-1 div.sk-toggleable__content.fitted {\n",
              "  /* fitted */\n",
              "  background-color: var(--sklearn-color-fitted-level-0);\n",
              "}\n",
              "\n",
              "#sk-container-id-1 div.sk-toggleable__content pre {\n",
              "  margin: 0.2em;\n",
              "  border-radius: 0.25em;\n",
              "  color: var(--sklearn-color-text);\n",
              "  /* unfitted */\n",
              "  background-color: var(--sklearn-color-unfitted-level-0);\n",
              "}\n",
              "\n",
              "#sk-container-id-1 div.sk-toggleable__content.fitted pre {\n",
              "  /* unfitted */\n",
              "  background-color: var(--sklearn-color-fitted-level-0);\n",
              "}\n",
              "\n",
              "#sk-container-id-1 input.sk-toggleable__control:checked~div.sk-toggleable__content {\n",
              "  /* Expand drop-down */\n",
              "  max-height: 200px;\n",
              "  max-width: 100%;\n",
              "  overflow: auto;\n",
              "}\n",
              "\n",
              "#sk-container-id-1 input.sk-toggleable__control:checked~label.sk-toggleable__label-arrow:before {\n",
              "  content: \"▾\";\n",
              "}\n",
              "\n",
              "/* Pipeline/ColumnTransformer-specific style */\n",
              "\n",
              "#sk-container-id-1 div.sk-label input.sk-toggleable__control:checked~label.sk-toggleable__label {\n",
              "  color: var(--sklearn-color-text);\n",
              "  background-color: var(--sklearn-color-unfitted-level-2);\n",
              "}\n",
              "\n",
              "#sk-container-id-1 div.sk-label.fitted input.sk-toggleable__control:checked~label.sk-toggleable__label {\n",
              "  background-color: var(--sklearn-color-fitted-level-2);\n",
              "}\n",
              "\n",
              "/* Estimator-specific style */\n",
              "\n",
              "/* Colorize estimator box */\n",
              "#sk-container-id-1 div.sk-estimator input.sk-toggleable__control:checked~label.sk-toggleable__label {\n",
              "  /* unfitted */\n",
              "  background-color: var(--sklearn-color-unfitted-level-2);\n",
              "}\n",
              "\n",
              "#sk-container-id-1 div.sk-estimator.fitted input.sk-toggleable__control:checked~label.sk-toggleable__label {\n",
              "  /* fitted */\n",
              "  background-color: var(--sklearn-color-fitted-level-2);\n",
              "}\n",
              "\n",
              "#sk-container-id-1 div.sk-label label.sk-toggleable__label,\n",
              "#sk-container-id-1 div.sk-label label {\n",
              "  /* The background is the default theme color */\n",
              "  color: var(--sklearn-color-text-on-default-background);\n",
              "}\n",
              "\n",
              "/* On hover, darken the color of the background */\n",
              "#sk-container-id-1 div.sk-label:hover label.sk-toggleable__label {\n",
              "  color: var(--sklearn-color-text);\n",
              "  background-color: var(--sklearn-color-unfitted-level-2);\n",
              "}\n",
              "\n",
              "/* Label box, darken color on hover, fitted */\n",
              "#sk-container-id-1 div.sk-label.fitted:hover label.sk-toggleable__label.fitted {\n",
              "  color: var(--sklearn-color-text);\n",
              "  background-color: var(--sklearn-color-fitted-level-2);\n",
              "}\n",
              "\n",
              "/* Estimator label */\n",
              "\n",
              "#sk-container-id-1 div.sk-label label {\n",
              "  font-family: monospace;\n",
              "  font-weight: bold;\n",
              "  display: inline-block;\n",
              "  line-height: 1.2em;\n",
              "}\n",
              "\n",
              "#sk-container-id-1 div.sk-label-container {\n",
              "  text-align: center;\n",
              "}\n",
              "\n",
              "/* Estimator-specific */\n",
              "#sk-container-id-1 div.sk-estimator {\n",
              "  font-family: monospace;\n",
              "  border: 1px dotted var(--sklearn-color-border-box);\n",
              "  border-radius: 0.25em;\n",
              "  box-sizing: border-box;\n",
              "  margin-bottom: 0.5em;\n",
              "  /* unfitted */\n",
              "  background-color: var(--sklearn-color-unfitted-level-0);\n",
              "}\n",
              "\n",
              "#sk-container-id-1 div.sk-estimator.fitted {\n",
              "  /* fitted */\n",
              "  background-color: var(--sklearn-color-fitted-level-0);\n",
              "}\n",
              "\n",
              "/* on hover */\n",
              "#sk-container-id-1 div.sk-estimator:hover {\n",
              "  /* unfitted */\n",
              "  background-color: var(--sklearn-color-unfitted-level-2);\n",
              "}\n",
              "\n",
              "#sk-container-id-1 div.sk-estimator.fitted:hover {\n",
              "  /* fitted */\n",
              "  background-color: var(--sklearn-color-fitted-level-2);\n",
              "}\n",
              "\n",
              "/* Specification for estimator info (e.g. \"i\" and \"?\") */\n",
              "\n",
              "/* Common style for \"i\" and \"?\" */\n",
              "\n",
              ".sk-estimator-doc-link,\n",
              "a:link.sk-estimator-doc-link,\n",
              "a:visited.sk-estimator-doc-link {\n",
              "  float: right;\n",
              "  font-size: smaller;\n",
              "  line-height: 1em;\n",
              "  font-family: monospace;\n",
              "  background-color: var(--sklearn-color-background);\n",
              "  border-radius: 1em;\n",
              "  height: 1em;\n",
              "  width: 1em;\n",
              "  text-decoration: none !important;\n",
              "  margin-left: 1ex;\n",
              "  /* unfitted */\n",
              "  border: var(--sklearn-color-unfitted-level-1) 1pt solid;\n",
              "  color: var(--sklearn-color-unfitted-level-1);\n",
              "}\n",
              "\n",
              ".sk-estimator-doc-link.fitted,\n",
              "a:link.sk-estimator-doc-link.fitted,\n",
              "a:visited.sk-estimator-doc-link.fitted {\n",
              "  /* fitted */\n",
              "  border: var(--sklearn-color-fitted-level-1) 1pt solid;\n",
              "  color: var(--sklearn-color-fitted-level-1);\n",
              "}\n",
              "\n",
              "/* On hover */\n",
              "div.sk-estimator:hover .sk-estimator-doc-link:hover,\n",
              ".sk-estimator-doc-link:hover,\n",
              "div.sk-label-container:hover .sk-estimator-doc-link:hover,\n",
              ".sk-estimator-doc-link:hover {\n",
              "  /* unfitted */\n",
              "  background-color: var(--sklearn-color-unfitted-level-3);\n",
              "  color: var(--sklearn-color-background);\n",
              "  text-decoration: none;\n",
              "}\n",
              "\n",
              "div.sk-estimator.fitted:hover .sk-estimator-doc-link.fitted:hover,\n",
              ".sk-estimator-doc-link.fitted:hover,\n",
              "div.sk-label-container:hover .sk-estimator-doc-link.fitted:hover,\n",
              ".sk-estimator-doc-link.fitted:hover {\n",
              "  /* fitted */\n",
              "  background-color: var(--sklearn-color-fitted-level-3);\n",
              "  color: var(--sklearn-color-background);\n",
              "  text-decoration: none;\n",
              "}\n",
              "\n",
              "/* Span, style for the box shown on hovering the info icon */\n",
              ".sk-estimator-doc-link span {\n",
              "  display: none;\n",
              "  z-index: 9999;\n",
              "  position: relative;\n",
              "  font-weight: normal;\n",
              "  right: .2ex;\n",
              "  padding: .5ex;\n",
              "  margin: .5ex;\n",
              "  width: min-content;\n",
              "  min-width: 20ex;\n",
              "  max-width: 50ex;\n",
              "  color: var(--sklearn-color-text);\n",
              "  box-shadow: 2pt 2pt 4pt #999;\n",
              "  /* unfitted */\n",
              "  background: var(--sklearn-color-unfitted-level-0);\n",
              "  border: .5pt solid var(--sklearn-color-unfitted-level-3);\n",
              "}\n",
              "\n",
              ".sk-estimator-doc-link.fitted span {\n",
              "  /* fitted */\n",
              "  background: var(--sklearn-color-fitted-level-0);\n",
              "  border: var(--sklearn-color-fitted-level-3);\n",
              "}\n",
              "\n",
              ".sk-estimator-doc-link:hover span {\n",
              "  display: block;\n",
              "}\n",
              "\n",
              "/* \"?\"-specific style due to the `<a>` HTML tag */\n",
              "\n",
              "#sk-container-id-1 a.estimator_doc_link {\n",
              "  float: right;\n",
              "  font-size: 1rem;\n",
              "  line-height: 1em;\n",
              "  font-family: monospace;\n",
              "  background-color: var(--sklearn-color-background);\n",
              "  border-radius: 1rem;\n",
              "  height: 1rem;\n",
              "  width: 1rem;\n",
              "  text-decoration: none;\n",
              "  /* unfitted */\n",
              "  color: var(--sklearn-color-unfitted-level-1);\n",
              "  border: var(--sklearn-color-unfitted-level-1) 1pt solid;\n",
              "}\n",
              "\n",
              "#sk-container-id-1 a.estimator_doc_link.fitted {\n",
              "  /* fitted */\n",
              "  border: var(--sklearn-color-fitted-level-1) 1pt solid;\n",
              "  color: var(--sklearn-color-fitted-level-1);\n",
              "}\n",
              "\n",
              "/* On hover */\n",
              "#sk-container-id-1 a.estimator_doc_link:hover {\n",
              "  /* unfitted */\n",
              "  background-color: var(--sklearn-color-unfitted-level-3);\n",
              "  color: var(--sklearn-color-background);\n",
              "  text-decoration: none;\n",
              "}\n",
              "\n",
              "#sk-container-id-1 a.estimator_doc_link.fitted:hover {\n",
              "  /* fitted */\n",
              "  background-color: var(--sklearn-color-fitted-level-3);\n",
              "}\n",
              "</style><div id=\"sk-container-id-1\" class=\"sk-top-container\"><div class=\"sk-text-repr-fallback\"><pre>LogisticRegression(C=1.0, class_weight=None, dual=False, fit_intercept=True,\n",
              "                   intercept_scaling=1, l1_ratio=None, max_iter=1000,\n",
              "                   multi_class=&#x27;auto&#x27;, n_jobs=None, penalty=&#x27;l2&#x27;,\n",
              "                   random_state=123, solver=&#x27;lbfgs&#x27;, tol=0.0001, verbose=0,\n",
              "                   warm_start=False)</pre><b>In a Jupyter environment, please rerun this cell to show the HTML representation or trust the notebook. <br />On GitHub, the HTML representation is unable to render, please try loading this page with nbviewer.org.</b></div><div class=\"sk-container\" hidden><div class=\"sk-item\"><div class=\"sk-estimator fitted sk-toggleable\"><input class=\"sk-toggleable__control sk-hidden--visually\" id=\"sk-estimator-id-1\" type=\"checkbox\" checked><label for=\"sk-estimator-id-1\" class=\"sk-toggleable__label fitted sk-toggleable__label-arrow fitted\">&nbsp;&nbsp;LogisticRegression<a class=\"sk-estimator-doc-link fitted\" rel=\"noreferrer\" target=\"_blank\" href=\"https://scikit-learn.org/1.4/modules/generated/sklearn.linear_model.LogisticRegression.html\">?<span>Documentation for LogisticRegression</span></a><span class=\"sk-estimator-doc-link fitted\">i<span>Fitted</span></span></label><div class=\"sk-toggleable__content fitted\"><pre>LogisticRegression(C=1.0, class_weight=None, dual=False, fit_intercept=True,\n",
              "                   intercept_scaling=1, l1_ratio=None, max_iter=1000,\n",
              "                   multi_class=&#x27;auto&#x27;, n_jobs=None, penalty=&#x27;l2&#x27;,\n",
              "                   random_state=123, solver=&#x27;lbfgs&#x27;, tol=0.0001, verbose=0,\n",
              "                   warm_start=False)</pre></div> </div></div></div></div>"
            ]
          },
          "metadata": {},
          "execution_count": 6
        }
      ]
    },
    {
      "cell_type": "code",
      "source": [
        "compare_models(sort = 'Recall')"
      ],
      "metadata": {
        "id": "CspHA1YY2TEk",
        "colab": {
          "base_uri": "https://localhost:8080/",
          "height": 1000,
          "referenced_widgets": [
            "736d961677af48459236cfc4a27c47e5",
            "780a00ac92ac4efcbe5fb5c873c8eb97",
            "ffaaac9c620d43139617b0dece1763d0",
            "4336bf10c14d4c94a2bd5380bc4c9acc",
            "419f396041754b18b4bf15fea8dc5d86",
            "e2f33375c26f4081adc660ddc87e0f44",
            "aca67b6208af4e14920d1794218c49c2",
            "e6d92ceb3db24b3d9e08544e3b7a0110",
            "b60cc5e2e49e449dbf67319bfddb2738",
            "f48ac55177684624baeae207e1fc83c5",
            "4b4a94b356d14d0384a74caf5db0f6de"
          ]
        },
        "outputId": "90e35947-66f6-4c7f-adee-81f2602f6b88"
      },
      "execution_count": null,
      "outputs": [
        {
          "output_type": "display_data",
          "data": {
            "text/plain": [
              "<IPython.core.display.HTML object>"
            ],
            "text/html": []
          },
          "metadata": {}
        },
        {
          "output_type": "display_data",
          "data": {
            "text/plain": [
              "<pandas.io.formats.style.Styler at 0x7da5d746f1d0>"
            ],
            "text/html": [
              "<style type=\"text/css\">\n",
              "#T_2a3e0 th {\n",
              "  text-align: left;\n",
              "}\n",
              "#T_2a3e0_row0_col0, #T_2a3e0_row0_col2, #T_2a3e0_row1_col0, #T_2a3e0_row1_col2, #T_2a3e0_row2_col0, #T_2a3e0_row2_col2, #T_2a3e0_row3_col0, #T_2a3e0_row3_col2, #T_2a3e0_row4_col0, #T_2a3e0_row4_col1, #T_2a3e0_row4_col3, #T_2a3e0_row4_col4, #T_2a3e0_row4_col5, #T_2a3e0_row4_col6, #T_2a3e0_row4_col7, #T_2a3e0_row5_col0, #T_2a3e0_row5_col1, #T_2a3e0_row5_col2, #T_2a3e0_row5_col3, #T_2a3e0_row5_col4, #T_2a3e0_row5_col5, #T_2a3e0_row5_col6, #T_2a3e0_row5_col7, #T_2a3e0_row6_col0, #T_2a3e0_row6_col1, #T_2a3e0_row6_col3, #T_2a3e0_row6_col4, #T_2a3e0_row6_col5, #T_2a3e0_row6_col6, #T_2a3e0_row6_col7, #T_2a3e0_row7_col0, #T_2a3e0_row7_col1, #T_2a3e0_row7_col2, #T_2a3e0_row7_col3, #T_2a3e0_row7_col4, #T_2a3e0_row7_col5, #T_2a3e0_row7_col6, #T_2a3e0_row7_col7, #T_2a3e0_row8_col0, #T_2a3e0_row8_col1, #T_2a3e0_row8_col2, #T_2a3e0_row8_col3, #T_2a3e0_row8_col4, #T_2a3e0_row8_col5, #T_2a3e0_row8_col6, #T_2a3e0_row8_col7, #T_2a3e0_row9_col0, #T_2a3e0_row9_col1, #T_2a3e0_row9_col2, #T_2a3e0_row9_col3, #T_2a3e0_row9_col4, #T_2a3e0_row9_col5, #T_2a3e0_row9_col6, #T_2a3e0_row9_col7, #T_2a3e0_row10_col0, #T_2a3e0_row10_col1, #T_2a3e0_row10_col2, #T_2a3e0_row10_col3, #T_2a3e0_row10_col4, #T_2a3e0_row10_col5, #T_2a3e0_row10_col6, #T_2a3e0_row10_col7, #T_2a3e0_row11_col0, #T_2a3e0_row11_col1, #T_2a3e0_row11_col2, #T_2a3e0_row11_col3, #T_2a3e0_row11_col4, #T_2a3e0_row11_col5, #T_2a3e0_row11_col6, #T_2a3e0_row11_col7, #T_2a3e0_row12_col0, #T_2a3e0_row12_col1, #T_2a3e0_row12_col2, #T_2a3e0_row12_col3, #T_2a3e0_row12_col4, #T_2a3e0_row12_col5, #T_2a3e0_row12_col6, #T_2a3e0_row12_col7, #T_2a3e0_row13_col0, #T_2a3e0_row13_col1, #T_2a3e0_row13_col2, #T_2a3e0_row13_col3, #T_2a3e0_row13_col4, #T_2a3e0_row13_col5, #T_2a3e0_row13_col6, #T_2a3e0_row13_col7, #T_2a3e0_row14_col0, #T_2a3e0_row14_col1, #T_2a3e0_row14_col2, #T_2a3e0_row14_col3, #T_2a3e0_row14_col4, #T_2a3e0_row14_col5, #T_2a3e0_row14_col6, #T_2a3e0_row14_col7, #T_2a3e0_row15_col0, #T_2a3e0_row15_col1, #T_2a3e0_row15_col2, #T_2a3e0_row15_col3, #T_2a3e0_row15_col4, #T_2a3e0_row15_col5, #T_2a3e0_row15_col6, #T_2a3e0_row15_col7 {\n",
              "  text-align: left;\n",
              "}\n",
              "#T_2a3e0_row0_col1, #T_2a3e0_row0_col3, #T_2a3e0_row0_col4, #T_2a3e0_row0_col5, #T_2a3e0_row0_col6, #T_2a3e0_row0_col7, #T_2a3e0_row1_col1, #T_2a3e0_row1_col3, #T_2a3e0_row1_col4, #T_2a3e0_row1_col5, #T_2a3e0_row1_col6, #T_2a3e0_row1_col7, #T_2a3e0_row2_col1, #T_2a3e0_row2_col3, #T_2a3e0_row2_col4, #T_2a3e0_row2_col5, #T_2a3e0_row2_col6, #T_2a3e0_row2_col7, #T_2a3e0_row3_col1, #T_2a3e0_row3_col3, #T_2a3e0_row3_col4, #T_2a3e0_row3_col5, #T_2a3e0_row3_col6, #T_2a3e0_row3_col7, #T_2a3e0_row4_col2, #T_2a3e0_row6_col2 {\n",
              "  text-align: left;\n",
              "  background-color: yellow;\n",
              "}\n",
              "#T_2a3e0_row0_col8, #T_2a3e0_row1_col8, #T_2a3e0_row2_col8, #T_2a3e0_row3_col8, #T_2a3e0_row4_col8, #T_2a3e0_row5_col8, #T_2a3e0_row6_col8, #T_2a3e0_row7_col8, #T_2a3e0_row8_col8, #T_2a3e0_row9_col8, #T_2a3e0_row10_col8, #T_2a3e0_row11_col8, #T_2a3e0_row12_col8, #T_2a3e0_row14_col8, #T_2a3e0_row15_col8 {\n",
              "  text-align: left;\n",
              "  background-color: lightgrey;\n",
              "}\n",
              "#T_2a3e0_row13_col8 {\n",
              "  text-align: left;\n",
              "  background-color: yellow;\n",
              "  background-color: lightgrey;\n",
              "}\n",
              "</style>\n",
              "<table id=\"T_2a3e0\" class=\"dataframe\">\n",
              "  <thead>\n",
              "    <tr>\n",
              "      <th class=\"blank level0\" >&nbsp;</th>\n",
              "      <th id=\"T_2a3e0_level0_col0\" class=\"col_heading level0 col0\" >Model</th>\n",
              "      <th id=\"T_2a3e0_level0_col1\" class=\"col_heading level0 col1\" >Accuracy</th>\n",
              "      <th id=\"T_2a3e0_level0_col2\" class=\"col_heading level0 col2\" >AUC</th>\n",
              "      <th id=\"T_2a3e0_level0_col3\" class=\"col_heading level0 col3\" >Recall</th>\n",
              "      <th id=\"T_2a3e0_level0_col4\" class=\"col_heading level0 col4\" >Prec.</th>\n",
              "      <th id=\"T_2a3e0_level0_col5\" class=\"col_heading level0 col5\" >F1</th>\n",
              "      <th id=\"T_2a3e0_level0_col6\" class=\"col_heading level0 col6\" >Kappa</th>\n",
              "      <th id=\"T_2a3e0_level0_col7\" class=\"col_heading level0 col7\" >MCC</th>\n",
              "      <th id=\"T_2a3e0_level0_col8\" class=\"col_heading level0 col8\" >TT (Sec)</th>\n",
              "    </tr>\n",
              "  </thead>\n",
              "  <tbody>\n",
              "    <tr>\n",
              "      <th id=\"T_2a3e0_level0_row0\" class=\"row_heading level0 row0\" >lr</th>\n",
              "      <td id=\"T_2a3e0_row0_col0\" class=\"data row0 col0\" >Logistic Regression</td>\n",
              "      <td id=\"T_2a3e0_row0_col1\" class=\"data row0 col1\" >0.9718</td>\n",
              "      <td id=\"T_2a3e0_row0_col2\" class=\"data row0 col2\" >0.0000</td>\n",
              "      <td id=\"T_2a3e0_row0_col3\" class=\"data row0 col3\" >0.9718</td>\n",
              "      <td id=\"T_2a3e0_row0_col4\" class=\"data row0 col4\" >0.9780</td>\n",
              "      <td id=\"T_2a3e0_row0_col5\" class=\"data row0 col5\" >0.9712</td>\n",
              "      <td id=\"T_2a3e0_row0_col6\" class=\"data row0 col6\" >0.9573</td>\n",
              "      <td id=\"T_2a3e0_row0_col7\" class=\"data row0 col7\" >0.9609</td>\n",
              "      <td id=\"T_2a3e0_row0_col8\" class=\"data row0 col8\" >0.8340</td>\n",
              "    </tr>\n",
              "    <tr>\n",
              "      <th id=\"T_2a3e0_level0_row1\" class=\"row_heading level0 row1\" >knn</th>\n",
              "      <td id=\"T_2a3e0_row1_col0\" class=\"data row1 col0\" >K Neighbors Classifier</td>\n",
              "      <td id=\"T_2a3e0_row1_col1\" class=\"data row1 col1\" >0.9718</td>\n",
              "      <td id=\"T_2a3e0_row1_col2\" class=\"data row1 col2\" >0.9830</td>\n",
              "      <td id=\"T_2a3e0_row1_col3\" class=\"data row1 col3\" >0.9718</td>\n",
              "      <td id=\"T_2a3e0_row1_col4\" class=\"data row1 col4\" >0.9780</td>\n",
              "      <td id=\"T_2a3e0_row1_col5\" class=\"data row1 col5\" >0.9712</td>\n",
              "      <td id=\"T_2a3e0_row1_col6\" class=\"data row1 col6\" >0.9573</td>\n",
              "      <td id=\"T_2a3e0_row1_col7\" class=\"data row1 col7\" >0.9609</td>\n",
              "      <td id=\"T_2a3e0_row1_col8\" class=\"data row1 col8\" >0.0440</td>\n",
              "    </tr>\n",
              "    <tr>\n",
              "      <th id=\"T_2a3e0_level0_row2\" class=\"row_heading level0 row2\" >qda</th>\n",
              "      <td id=\"T_2a3e0_row2_col0\" class=\"data row2 col0\" >Quadratic Discriminant Analysis</td>\n",
              "      <td id=\"T_2a3e0_row2_col1\" class=\"data row2 col1\" >0.9718</td>\n",
              "      <td id=\"T_2a3e0_row2_col2\" class=\"data row2 col2\" >0.0000</td>\n",
              "      <td id=\"T_2a3e0_row2_col3\" class=\"data row2 col3\" >0.9718</td>\n",
              "      <td id=\"T_2a3e0_row2_col4\" class=\"data row2 col4\" >0.9780</td>\n",
              "      <td id=\"T_2a3e0_row2_col5\" class=\"data row2 col5\" >0.9712</td>\n",
              "      <td id=\"T_2a3e0_row2_col6\" class=\"data row2 col6\" >0.9573</td>\n",
              "      <td id=\"T_2a3e0_row2_col7\" class=\"data row2 col7\" >0.9609</td>\n",
              "      <td id=\"T_2a3e0_row2_col8\" class=\"data row2 col8\" >0.0310</td>\n",
              "    </tr>\n",
              "    <tr>\n",
              "      <th id=\"T_2a3e0_level0_row3\" class=\"row_heading level0 row3\" >lda</th>\n",
              "      <td id=\"T_2a3e0_row3_col0\" class=\"data row3 col0\" >Linear Discriminant Analysis</td>\n",
              "      <td id=\"T_2a3e0_row3_col1\" class=\"data row3 col1\" >0.9718</td>\n",
              "      <td id=\"T_2a3e0_row3_col2\" class=\"data row3 col2\" >0.0000</td>\n",
              "      <td id=\"T_2a3e0_row3_col3\" class=\"data row3 col3\" >0.9718</td>\n",
              "      <td id=\"T_2a3e0_row3_col4\" class=\"data row3 col4\" >0.9780</td>\n",
              "      <td id=\"T_2a3e0_row3_col5\" class=\"data row3 col5\" >0.9712</td>\n",
              "      <td id=\"T_2a3e0_row3_col6\" class=\"data row3 col6\" >0.9573</td>\n",
              "      <td id=\"T_2a3e0_row3_col7\" class=\"data row3 col7\" >0.9609</td>\n",
              "      <td id=\"T_2a3e0_row3_col8\" class=\"data row3 col8\" >0.0290</td>\n",
              "    </tr>\n",
              "    <tr>\n",
              "      <th id=\"T_2a3e0_level0_row4\" class=\"row_heading level0 row4\" >lightgbm</th>\n",
              "      <td id=\"T_2a3e0_row4_col0\" class=\"data row4 col0\" >Light Gradient Boosting Machine</td>\n",
              "      <td id=\"T_2a3e0_row4_col1\" class=\"data row4 col1\" >0.9536</td>\n",
              "      <td id=\"T_2a3e0_row4_col2\" class=\"data row4 col2\" >0.9935</td>\n",
              "      <td id=\"T_2a3e0_row4_col3\" class=\"data row4 col3\" >0.9536</td>\n",
              "      <td id=\"T_2a3e0_row4_col4\" class=\"data row4 col4\" >0.9634</td>\n",
              "      <td id=\"T_2a3e0_row4_col5\" class=\"data row4 col5\" >0.9528</td>\n",
              "      <td id=\"T_2a3e0_row4_col6\" class=\"data row4 col6\" >0.9298</td>\n",
              "      <td id=\"T_2a3e0_row4_col7\" class=\"data row4 col7\" >0.9356</td>\n",
              "      <td id=\"T_2a3e0_row4_col8\" class=\"data row4 col8\" >0.7210</td>\n",
              "    </tr>\n",
              "    <tr>\n",
              "      <th id=\"T_2a3e0_level0_row5\" class=\"row_heading level0 row5\" >nb</th>\n",
              "      <td id=\"T_2a3e0_row5_col0\" class=\"data row5 col0\" >Naive Bayes</td>\n",
              "      <td id=\"T_2a3e0_row5_col1\" class=\"data row5 col1\" >0.9445</td>\n",
              "      <td id=\"T_2a3e0_row5_col2\" class=\"data row5 col2\" >0.9868</td>\n",
              "      <td id=\"T_2a3e0_row5_col3\" class=\"data row5 col3\" >0.9445</td>\n",
              "      <td id=\"T_2a3e0_row5_col4\" class=\"data row5 col4\" >0.9525</td>\n",
              "      <td id=\"T_2a3e0_row5_col5\" class=\"data row5 col5\" >0.9438</td>\n",
              "      <td id=\"T_2a3e0_row5_col6\" class=\"data row5 col6\" >0.9161</td>\n",
              "      <td id=\"T_2a3e0_row5_col7\" class=\"data row5 col7\" >0.9207</td>\n",
              "      <td id=\"T_2a3e0_row5_col8\" class=\"data row5 col8\" >0.0330</td>\n",
              "    </tr>\n",
              "    <tr>\n",
              "      <th id=\"T_2a3e0_level0_row6\" class=\"row_heading level0 row6\" >et</th>\n",
              "      <td id=\"T_2a3e0_row6_col0\" class=\"data row6 col0\" >Extra Trees Classifier</td>\n",
              "      <td id=\"T_2a3e0_row6_col1\" class=\"data row6 col1\" >0.9445</td>\n",
              "      <td id=\"T_2a3e0_row6_col2\" class=\"data row6 col2\" >0.9935</td>\n",
              "      <td id=\"T_2a3e0_row6_col3\" class=\"data row6 col3\" >0.9445</td>\n",
              "      <td id=\"T_2a3e0_row6_col4\" class=\"data row6 col4\" >0.9586</td>\n",
              "      <td id=\"T_2a3e0_row6_col5\" class=\"data row6 col5\" >0.9426</td>\n",
              "      <td id=\"T_2a3e0_row6_col6\" class=\"data row6 col6\" >0.9161</td>\n",
              "      <td id=\"T_2a3e0_row6_col7\" class=\"data row6 col7\" >0.9246</td>\n",
              "      <td id=\"T_2a3e0_row6_col8\" class=\"data row6 col8\" >0.1440</td>\n",
              "    </tr>\n",
              "    <tr>\n",
              "      <th id=\"T_2a3e0_level0_row7\" class=\"row_heading level0 row7\" >catboost</th>\n",
              "      <td id=\"T_2a3e0_row7_col0\" class=\"data row7 col0\" >CatBoost Classifier</td>\n",
              "      <td id=\"T_2a3e0_row7_col1\" class=\"data row7 col1\" >0.9445</td>\n",
              "      <td id=\"T_2a3e0_row7_col2\" class=\"data row7 col2\" >0.9922</td>\n",
              "      <td id=\"T_2a3e0_row7_col3\" class=\"data row7 col3\" >0.9445</td>\n",
              "      <td id=\"T_2a3e0_row7_col4\" class=\"data row7 col4\" >0.9586</td>\n",
              "      <td id=\"T_2a3e0_row7_col5\" class=\"data row7 col5\" >0.9426</td>\n",
              "      <td id=\"T_2a3e0_row7_col6\" class=\"data row7 col6\" >0.9161</td>\n",
              "      <td id=\"T_2a3e0_row7_col7\" class=\"data row7 col7\" >0.9246</td>\n",
              "      <td id=\"T_2a3e0_row7_col8\" class=\"data row7 col8\" >0.7160</td>\n",
              "    </tr>\n",
              "    <tr>\n",
              "      <th id=\"T_2a3e0_level0_row8\" class=\"row_heading level0 row8\" >gbc</th>\n",
              "      <td id=\"T_2a3e0_row8_col0\" class=\"data row8 col0\" >Gradient Boosting Classifier</td>\n",
              "      <td id=\"T_2a3e0_row8_col1\" class=\"data row8 col1\" >0.9355</td>\n",
              "      <td id=\"T_2a3e0_row8_col2\" class=\"data row8 col2\" >0.0000</td>\n",
              "      <td id=\"T_2a3e0_row8_col3\" class=\"data row8 col3\" >0.9355</td>\n",
              "      <td id=\"T_2a3e0_row8_col4\" class=\"data row8 col4\" >0.9416</td>\n",
              "      <td id=\"T_2a3e0_row8_col5\" class=\"data row8 col5\" >0.9325</td>\n",
              "      <td id=\"T_2a3e0_row8_col6\" class=\"data row8 col6\" >0.9023</td>\n",
              "      <td id=\"T_2a3e0_row8_col7\" class=\"data row8 col7\" >0.9083</td>\n",
              "      <td id=\"T_2a3e0_row8_col8\" class=\"data row8 col8\" >0.2610</td>\n",
              "    </tr>\n",
              "    <tr>\n",
              "      <th id=\"T_2a3e0_level0_row9\" class=\"row_heading level0 row9\" >dt</th>\n",
              "      <td id=\"T_2a3e0_row9_col0\" class=\"data row9 col0\" >Decision Tree Classifier</td>\n",
              "      <td id=\"T_2a3e0_row9_col1\" class=\"data row9 col1\" >0.9264</td>\n",
              "      <td id=\"T_2a3e0_row9_col2\" class=\"data row9 col2\" >0.9429</td>\n",
              "      <td id=\"T_2a3e0_row9_col3\" class=\"data row9 col3\" >0.9264</td>\n",
              "      <td id=\"T_2a3e0_row9_col4\" class=\"data row9 col4\" >0.9502</td>\n",
              "      <td id=\"T_2a3e0_row9_col5\" class=\"data row9 col5\" >0.9201</td>\n",
              "      <td id=\"T_2a3e0_row9_col6\" class=\"data row9 col6\" >0.8886</td>\n",
              "      <td id=\"T_2a3e0_row9_col7\" class=\"data row9 col7\" >0.9040</td>\n",
              "      <td id=\"T_2a3e0_row9_col8\" class=\"data row9 col8\" >0.0370</td>\n",
              "    </tr>\n",
              "    <tr>\n",
              "      <th id=\"T_2a3e0_level0_row10\" class=\"row_heading level0 row10\" >rf</th>\n",
              "      <td id=\"T_2a3e0_row10_col0\" class=\"data row10 col0\" >Random Forest Classifier</td>\n",
              "      <td id=\"T_2a3e0_row10_col1\" class=\"data row10 col1\" >0.9264</td>\n",
              "      <td id=\"T_2a3e0_row10_col2\" class=\"data row10 col2\" >0.9909</td>\n",
              "      <td id=\"T_2a3e0_row10_col3\" class=\"data row10 col3\" >0.9264</td>\n",
              "      <td id=\"T_2a3e0_row10_col4\" class=\"data row10 col4\" >0.9343</td>\n",
              "      <td id=\"T_2a3e0_row10_col5\" class=\"data row10 col5\" >0.9232</td>\n",
              "      <td id=\"T_2a3e0_row10_col6\" class=\"data row10 col6\" >0.8886</td>\n",
              "      <td id=\"T_2a3e0_row10_col7\" class=\"data row10 col7\" >0.8956</td>\n",
              "      <td id=\"T_2a3e0_row10_col8\" class=\"data row10 col8\" >0.3170</td>\n",
              "    </tr>\n",
              "    <tr>\n",
              "      <th id=\"T_2a3e0_level0_row11\" class=\"row_heading level0 row11\" >xgboost</th>\n",
              "      <td id=\"T_2a3e0_row11_col0\" class=\"data row11 col0\" >Extreme Gradient Boosting</td>\n",
              "      <td id=\"T_2a3e0_row11_col1\" class=\"data row11 col1\" >0.9255</td>\n",
              "      <td id=\"T_2a3e0_row11_col2\" class=\"data row11 col2\" >0.9710</td>\n",
              "      <td id=\"T_2a3e0_row11_col3\" class=\"data row11 col3\" >0.9255</td>\n",
              "      <td id=\"T_2a3e0_row11_col4\" class=\"data row11 col4\" >0.9360</td>\n",
              "      <td id=\"T_2a3e0_row11_col5\" class=\"data row11 col5\" >0.9239</td>\n",
              "      <td id=\"T_2a3e0_row11_col6\" class=\"data row11 col6\" >0.8870</td>\n",
              "      <td id=\"T_2a3e0_row11_col7\" class=\"data row11 col7\" >0.8937</td>\n",
              "      <td id=\"T_2a3e0_row11_col8\" class=\"data row11 col8\" >0.0580</td>\n",
              "    </tr>\n",
              "    <tr>\n",
              "      <th id=\"T_2a3e0_level0_row12\" class=\"row_heading level0 row12\" >ada</th>\n",
              "      <td id=\"T_2a3e0_row12_col0\" class=\"data row12 col0\" >Ada Boost Classifier</td>\n",
              "      <td id=\"T_2a3e0_row12_col1\" class=\"data row12 col1\" >0.9155</td>\n",
              "      <td id=\"T_2a3e0_row12_col2\" class=\"data row12 col2\" >0.0000</td>\n",
              "      <td id=\"T_2a3e0_row12_col3\" class=\"data row12 col3\" >0.9155</td>\n",
              "      <td id=\"T_2a3e0_row12_col4\" class=\"data row12 col4\" >0.9401</td>\n",
              "      <td id=\"T_2a3e0_row12_col5\" class=\"data row12 col5\" >0.9097</td>\n",
              "      <td id=\"T_2a3e0_row12_col6\" class=\"data row12 col6\" >0.8720</td>\n",
              "      <td id=\"T_2a3e0_row12_col7\" class=\"data row12 col7\" >0.8873</td>\n",
              "      <td id=\"T_2a3e0_row12_col8\" class=\"data row12 col8\" >0.1020</td>\n",
              "    </tr>\n",
              "    <tr>\n",
              "      <th id=\"T_2a3e0_level0_row13\" class=\"row_heading level0 row13\" >ridge</th>\n",
              "      <td id=\"T_2a3e0_row13_col0\" class=\"data row13 col0\" >Ridge Classifier</td>\n",
              "      <td id=\"T_2a3e0_row13_col1\" class=\"data row13 col1\" >0.8227</td>\n",
              "      <td id=\"T_2a3e0_row13_col2\" class=\"data row13 col2\" >0.0000</td>\n",
              "      <td id=\"T_2a3e0_row13_col3\" class=\"data row13 col3\" >0.8227</td>\n",
              "      <td id=\"T_2a3e0_row13_col4\" class=\"data row13 col4\" >0.8437</td>\n",
              "      <td id=\"T_2a3e0_row13_col5\" class=\"data row13 col5\" >0.8186</td>\n",
              "      <td id=\"T_2a3e0_row13_col6\" class=\"data row13 col6\" >0.7320</td>\n",
              "      <td id=\"T_2a3e0_row13_col7\" class=\"data row13 col7\" >0.7454</td>\n",
              "      <td id=\"T_2a3e0_row13_col8\" class=\"data row13 col8\" >0.0270</td>\n",
              "    </tr>\n",
              "    <tr>\n",
              "      <th id=\"T_2a3e0_level0_row14\" class=\"row_heading level0 row14\" >svm</th>\n",
              "      <td id=\"T_2a3e0_row14_col0\" class=\"data row14 col0\" >SVM - Linear Kernel</td>\n",
              "      <td id=\"T_2a3e0_row14_col1\" class=\"data row14 col1\" >0.7618</td>\n",
              "      <td id=\"T_2a3e0_row14_col2\" class=\"data row14 col2\" >0.0000</td>\n",
              "      <td id=\"T_2a3e0_row14_col3\" class=\"data row14 col3\" >0.7618</td>\n",
              "      <td id=\"T_2a3e0_row14_col4\" class=\"data row14 col4\" >0.6655</td>\n",
              "      <td id=\"T_2a3e0_row14_col5\" class=\"data row14 col5\" >0.6888</td>\n",
              "      <td id=\"T_2a3e0_row14_col6\" class=\"data row14 col6\" >0.6333</td>\n",
              "      <td id=\"T_2a3e0_row14_col7\" class=\"data row14 col7\" >0.7048</td>\n",
              "      <td id=\"T_2a3e0_row14_col8\" class=\"data row14 col8\" >0.0350</td>\n",
              "    </tr>\n",
              "    <tr>\n",
              "      <th id=\"T_2a3e0_level0_row15\" class=\"row_heading level0 row15\" >dummy</th>\n",
              "      <td id=\"T_2a3e0_row15_col0\" class=\"data row15 col0\" >Dummy Classifier</td>\n",
              "      <td id=\"T_2a3e0_row15_col1\" class=\"data row15 col1\" >0.2864</td>\n",
              "      <td id=\"T_2a3e0_row15_col2\" class=\"data row15 col2\" >0.5000</td>\n",
              "      <td id=\"T_2a3e0_row15_col3\" class=\"data row15 col3\" >0.2864</td>\n",
              "      <td id=\"T_2a3e0_row15_col4\" class=\"data row15 col4\" >0.0822</td>\n",
              "      <td id=\"T_2a3e0_row15_col5\" class=\"data row15 col5\" >0.1277</td>\n",
              "      <td id=\"T_2a3e0_row15_col6\" class=\"data row15 col6\" >0.0000</td>\n",
              "      <td id=\"T_2a3e0_row15_col7\" class=\"data row15 col7\" >0.0000</td>\n",
              "      <td id=\"T_2a3e0_row15_col8\" class=\"data row15 col8\" >0.0330</td>\n",
              "    </tr>\n",
              "  </tbody>\n",
              "</table>\n"
            ]
          },
          "metadata": {}
        },
        {
          "output_type": "display_data",
          "data": {
            "text/plain": [
              "Processing:   0%|          | 0/69 [00:00<?, ?it/s]"
            ],
            "application/vnd.jupyter.widget-view+json": {
              "version_major": 2,
              "version_minor": 0,
              "model_id": "736d961677af48459236cfc4a27c47e5"
            }
          },
          "metadata": {
            "application/vnd.jupyter.widget-view+json": {
              "colab": {
                "custom_widget_manager": {
                  "url": "https://ssl.gstatic.com/colaboratory-static/widgets/colab-cdn-widget-manager/2b70e893a8ba7c0f/manager.min.js"
                }
              }
            }
          }
        },
        {
          "output_type": "display_data",
          "data": {
            "text/plain": [
              "<IPython.core.display.HTML object>"
            ],
            "text/html": []
          },
          "metadata": {}
        },
        {
          "output_type": "execute_result",
          "data": {
            "text/plain": [
              "LogisticRegression(C=1.0, class_weight=None, dual=False, fit_intercept=True,\n",
              "                   intercept_scaling=1, l1_ratio=None, max_iter=1000,\n",
              "                   multi_class='auto', n_jobs=None, penalty='l2',\n",
              "                   random_state=123, solver='lbfgs', tol=0.0001, verbose=0,\n",
              "                   warm_start=False)"
            ],
            "text/html": [
              "<style>#sk-container-id-2 {\n",
              "  /* Definition of color scheme common for light and dark mode */\n",
              "  --sklearn-color-text: black;\n",
              "  --sklearn-color-line: gray;\n",
              "  /* Definition of color scheme for unfitted estimators */\n",
              "  --sklearn-color-unfitted-level-0: #fff5e6;\n",
              "  --sklearn-color-unfitted-level-1: #f6e4d2;\n",
              "  --sklearn-color-unfitted-level-2: #ffe0b3;\n",
              "  --sklearn-color-unfitted-level-3: chocolate;\n",
              "  /* Definition of color scheme for fitted estimators */\n",
              "  --sklearn-color-fitted-level-0: #f0f8ff;\n",
              "  --sklearn-color-fitted-level-1: #d4ebff;\n",
              "  --sklearn-color-fitted-level-2: #b3dbfd;\n",
              "  --sklearn-color-fitted-level-3: cornflowerblue;\n",
              "\n",
              "  /* Specific color for light theme */\n",
              "  --sklearn-color-text-on-default-background: var(--sg-text-color, var(--theme-code-foreground, var(--jp-content-font-color1, black)));\n",
              "  --sklearn-color-background: var(--sg-background-color, var(--theme-background, var(--jp-layout-color0, white)));\n",
              "  --sklearn-color-border-box: var(--sg-text-color, var(--theme-code-foreground, var(--jp-content-font-color1, black)));\n",
              "  --sklearn-color-icon: #696969;\n",
              "\n",
              "  @media (prefers-color-scheme: dark) {\n",
              "    /* Redefinition of color scheme for dark theme */\n",
              "    --sklearn-color-text-on-default-background: var(--sg-text-color, var(--theme-code-foreground, var(--jp-content-font-color1, white)));\n",
              "    --sklearn-color-background: var(--sg-background-color, var(--theme-background, var(--jp-layout-color0, #111)));\n",
              "    --sklearn-color-border-box: var(--sg-text-color, var(--theme-code-foreground, var(--jp-content-font-color1, white)));\n",
              "    --sklearn-color-icon: #878787;\n",
              "  }\n",
              "}\n",
              "\n",
              "#sk-container-id-2 {\n",
              "  color: var(--sklearn-color-text);\n",
              "}\n",
              "\n",
              "#sk-container-id-2 pre {\n",
              "  padding: 0;\n",
              "}\n",
              "\n",
              "#sk-container-id-2 input.sk-hidden--visually {\n",
              "  border: 0;\n",
              "  clip: rect(1px 1px 1px 1px);\n",
              "  clip: rect(1px, 1px, 1px, 1px);\n",
              "  height: 1px;\n",
              "  margin: -1px;\n",
              "  overflow: hidden;\n",
              "  padding: 0;\n",
              "  position: absolute;\n",
              "  width: 1px;\n",
              "}\n",
              "\n",
              "#sk-container-id-2 div.sk-dashed-wrapped {\n",
              "  border: 1px dashed var(--sklearn-color-line);\n",
              "  margin: 0 0.4em 0.5em 0.4em;\n",
              "  box-sizing: border-box;\n",
              "  padding-bottom: 0.4em;\n",
              "  background-color: var(--sklearn-color-background);\n",
              "}\n",
              "\n",
              "#sk-container-id-2 div.sk-container {\n",
              "  /* jupyter's `normalize.less` sets `[hidden] { display: none; }`\n",
              "     but bootstrap.min.css set `[hidden] { display: none !important; }`\n",
              "     so we also need the `!important` here to be able to override the\n",
              "     default hidden behavior on the sphinx rendered scikit-learn.org.\n",
              "     See: https://github.com/scikit-learn/scikit-learn/issues/21755 */\n",
              "  display: inline-block !important;\n",
              "  position: relative;\n",
              "}\n",
              "\n",
              "#sk-container-id-2 div.sk-text-repr-fallback {\n",
              "  display: none;\n",
              "}\n",
              "\n",
              "div.sk-parallel-item,\n",
              "div.sk-serial,\n",
              "div.sk-item {\n",
              "  /* draw centered vertical line to link estimators */\n",
              "  background-image: linear-gradient(var(--sklearn-color-text-on-default-background), var(--sklearn-color-text-on-default-background));\n",
              "  background-size: 2px 100%;\n",
              "  background-repeat: no-repeat;\n",
              "  background-position: center center;\n",
              "}\n",
              "\n",
              "/* Parallel-specific style estimator block */\n",
              "\n",
              "#sk-container-id-2 div.sk-parallel-item::after {\n",
              "  content: \"\";\n",
              "  width: 100%;\n",
              "  border-bottom: 2px solid var(--sklearn-color-text-on-default-background);\n",
              "  flex-grow: 1;\n",
              "}\n",
              "\n",
              "#sk-container-id-2 div.sk-parallel {\n",
              "  display: flex;\n",
              "  align-items: stretch;\n",
              "  justify-content: center;\n",
              "  background-color: var(--sklearn-color-background);\n",
              "  position: relative;\n",
              "}\n",
              "\n",
              "#sk-container-id-2 div.sk-parallel-item {\n",
              "  display: flex;\n",
              "  flex-direction: column;\n",
              "}\n",
              "\n",
              "#sk-container-id-2 div.sk-parallel-item:first-child::after {\n",
              "  align-self: flex-end;\n",
              "  width: 50%;\n",
              "}\n",
              "\n",
              "#sk-container-id-2 div.sk-parallel-item:last-child::after {\n",
              "  align-self: flex-start;\n",
              "  width: 50%;\n",
              "}\n",
              "\n",
              "#sk-container-id-2 div.sk-parallel-item:only-child::after {\n",
              "  width: 0;\n",
              "}\n",
              "\n",
              "/* Serial-specific style estimator block */\n",
              "\n",
              "#sk-container-id-2 div.sk-serial {\n",
              "  display: flex;\n",
              "  flex-direction: column;\n",
              "  align-items: center;\n",
              "  background-color: var(--sklearn-color-background);\n",
              "  padding-right: 1em;\n",
              "  padding-left: 1em;\n",
              "}\n",
              "\n",
              "\n",
              "/* Toggleable style: style used for estimator/Pipeline/ColumnTransformer box that is\n",
              "clickable and can be expanded/collapsed.\n",
              "- Pipeline and ColumnTransformer use this feature and define the default style\n",
              "- Estimators will overwrite some part of the style using the `sk-estimator` class\n",
              "*/\n",
              "\n",
              "/* Pipeline and ColumnTransformer style (default) */\n",
              "\n",
              "#sk-container-id-2 div.sk-toggleable {\n",
              "  /* Default theme specific background. It is overwritten whether we have a\n",
              "  specific estimator or a Pipeline/ColumnTransformer */\n",
              "  background-color: var(--sklearn-color-background);\n",
              "}\n",
              "\n",
              "/* Toggleable label */\n",
              "#sk-container-id-2 label.sk-toggleable__label {\n",
              "  cursor: pointer;\n",
              "  display: block;\n",
              "  width: 100%;\n",
              "  margin-bottom: 0;\n",
              "  padding: 0.5em;\n",
              "  box-sizing: border-box;\n",
              "  text-align: center;\n",
              "}\n",
              "\n",
              "#sk-container-id-2 label.sk-toggleable__label-arrow:before {\n",
              "  /* Arrow on the left of the label */\n",
              "  content: \"▸\";\n",
              "  float: left;\n",
              "  margin-right: 0.25em;\n",
              "  color: var(--sklearn-color-icon);\n",
              "}\n",
              "\n",
              "#sk-container-id-2 label.sk-toggleable__label-arrow:hover:before {\n",
              "  color: var(--sklearn-color-text);\n",
              "}\n",
              "\n",
              "/* Toggleable content - dropdown */\n",
              "\n",
              "#sk-container-id-2 div.sk-toggleable__content {\n",
              "  max-height: 0;\n",
              "  max-width: 0;\n",
              "  overflow: hidden;\n",
              "  text-align: left;\n",
              "  /* unfitted */\n",
              "  background-color: var(--sklearn-color-unfitted-level-0);\n",
              "}\n",
              "\n",
              "#sk-container-id-2 div.sk-toggleable__content.fitted {\n",
              "  /* fitted */\n",
              "  background-color: var(--sklearn-color-fitted-level-0);\n",
              "}\n",
              "\n",
              "#sk-container-id-2 div.sk-toggleable__content pre {\n",
              "  margin: 0.2em;\n",
              "  border-radius: 0.25em;\n",
              "  color: var(--sklearn-color-text);\n",
              "  /* unfitted */\n",
              "  background-color: var(--sklearn-color-unfitted-level-0);\n",
              "}\n",
              "\n",
              "#sk-container-id-2 div.sk-toggleable__content.fitted pre {\n",
              "  /* unfitted */\n",
              "  background-color: var(--sklearn-color-fitted-level-0);\n",
              "}\n",
              "\n",
              "#sk-container-id-2 input.sk-toggleable__control:checked~div.sk-toggleable__content {\n",
              "  /* Expand drop-down */\n",
              "  max-height: 200px;\n",
              "  max-width: 100%;\n",
              "  overflow: auto;\n",
              "}\n",
              "\n",
              "#sk-container-id-2 input.sk-toggleable__control:checked~label.sk-toggleable__label-arrow:before {\n",
              "  content: \"▾\";\n",
              "}\n",
              "\n",
              "/* Pipeline/ColumnTransformer-specific style */\n",
              "\n",
              "#sk-container-id-2 div.sk-label input.sk-toggleable__control:checked~label.sk-toggleable__label {\n",
              "  color: var(--sklearn-color-text);\n",
              "  background-color: var(--sklearn-color-unfitted-level-2);\n",
              "}\n",
              "\n",
              "#sk-container-id-2 div.sk-label.fitted input.sk-toggleable__control:checked~label.sk-toggleable__label {\n",
              "  background-color: var(--sklearn-color-fitted-level-2);\n",
              "}\n",
              "\n",
              "/* Estimator-specific style */\n",
              "\n",
              "/* Colorize estimator box */\n",
              "#sk-container-id-2 div.sk-estimator input.sk-toggleable__control:checked~label.sk-toggleable__label {\n",
              "  /* unfitted */\n",
              "  background-color: var(--sklearn-color-unfitted-level-2);\n",
              "}\n",
              "\n",
              "#sk-container-id-2 div.sk-estimator.fitted input.sk-toggleable__control:checked~label.sk-toggleable__label {\n",
              "  /* fitted */\n",
              "  background-color: var(--sklearn-color-fitted-level-2);\n",
              "}\n",
              "\n",
              "#sk-container-id-2 div.sk-label label.sk-toggleable__label,\n",
              "#sk-container-id-2 div.sk-label label {\n",
              "  /* The background is the default theme color */\n",
              "  color: var(--sklearn-color-text-on-default-background);\n",
              "}\n",
              "\n",
              "/* On hover, darken the color of the background */\n",
              "#sk-container-id-2 div.sk-label:hover label.sk-toggleable__label {\n",
              "  color: var(--sklearn-color-text);\n",
              "  background-color: var(--sklearn-color-unfitted-level-2);\n",
              "}\n",
              "\n",
              "/* Label box, darken color on hover, fitted */\n",
              "#sk-container-id-2 div.sk-label.fitted:hover label.sk-toggleable__label.fitted {\n",
              "  color: var(--sklearn-color-text);\n",
              "  background-color: var(--sklearn-color-fitted-level-2);\n",
              "}\n",
              "\n",
              "/* Estimator label */\n",
              "\n",
              "#sk-container-id-2 div.sk-label label {\n",
              "  font-family: monospace;\n",
              "  font-weight: bold;\n",
              "  display: inline-block;\n",
              "  line-height: 1.2em;\n",
              "}\n",
              "\n",
              "#sk-container-id-2 div.sk-label-container {\n",
              "  text-align: center;\n",
              "}\n",
              "\n",
              "/* Estimator-specific */\n",
              "#sk-container-id-2 div.sk-estimator {\n",
              "  font-family: monospace;\n",
              "  border: 1px dotted var(--sklearn-color-border-box);\n",
              "  border-radius: 0.25em;\n",
              "  box-sizing: border-box;\n",
              "  margin-bottom: 0.5em;\n",
              "  /* unfitted */\n",
              "  background-color: var(--sklearn-color-unfitted-level-0);\n",
              "}\n",
              "\n",
              "#sk-container-id-2 div.sk-estimator.fitted {\n",
              "  /* fitted */\n",
              "  background-color: var(--sklearn-color-fitted-level-0);\n",
              "}\n",
              "\n",
              "/* on hover */\n",
              "#sk-container-id-2 div.sk-estimator:hover {\n",
              "  /* unfitted */\n",
              "  background-color: var(--sklearn-color-unfitted-level-2);\n",
              "}\n",
              "\n",
              "#sk-container-id-2 div.sk-estimator.fitted:hover {\n",
              "  /* fitted */\n",
              "  background-color: var(--sklearn-color-fitted-level-2);\n",
              "}\n",
              "\n",
              "/* Specification for estimator info (e.g. \"i\" and \"?\") */\n",
              "\n",
              "/* Common style for \"i\" and \"?\" */\n",
              "\n",
              ".sk-estimator-doc-link,\n",
              "a:link.sk-estimator-doc-link,\n",
              "a:visited.sk-estimator-doc-link {\n",
              "  float: right;\n",
              "  font-size: smaller;\n",
              "  line-height: 1em;\n",
              "  font-family: monospace;\n",
              "  background-color: var(--sklearn-color-background);\n",
              "  border-radius: 1em;\n",
              "  height: 1em;\n",
              "  width: 1em;\n",
              "  text-decoration: none !important;\n",
              "  margin-left: 1ex;\n",
              "  /* unfitted */\n",
              "  border: var(--sklearn-color-unfitted-level-1) 1pt solid;\n",
              "  color: var(--sklearn-color-unfitted-level-1);\n",
              "}\n",
              "\n",
              ".sk-estimator-doc-link.fitted,\n",
              "a:link.sk-estimator-doc-link.fitted,\n",
              "a:visited.sk-estimator-doc-link.fitted {\n",
              "  /* fitted */\n",
              "  border: var(--sklearn-color-fitted-level-1) 1pt solid;\n",
              "  color: var(--sklearn-color-fitted-level-1);\n",
              "}\n",
              "\n",
              "/* On hover */\n",
              "div.sk-estimator:hover .sk-estimator-doc-link:hover,\n",
              ".sk-estimator-doc-link:hover,\n",
              "div.sk-label-container:hover .sk-estimator-doc-link:hover,\n",
              ".sk-estimator-doc-link:hover {\n",
              "  /* unfitted */\n",
              "  background-color: var(--sklearn-color-unfitted-level-3);\n",
              "  color: var(--sklearn-color-background);\n",
              "  text-decoration: none;\n",
              "}\n",
              "\n",
              "div.sk-estimator.fitted:hover .sk-estimator-doc-link.fitted:hover,\n",
              ".sk-estimator-doc-link.fitted:hover,\n",
              "div.sk-label-container:hover .sk-estimator-doc-link.fitted:hover,\n",
              ".sk-estimator-doc-link.fitted:hover {\n",
              "  /* fitted */\n",
              "  background-color: var(--sklearn-color-fitted-level-3);\n",
              "  color: var(--sklearn-color-background);\n",
              "  text-decoration: none;\n",
              "}\n",
              "\n",
              "/* Span, style for the box shown on hovering the info icon */\n",
              ".sk-estimator-doc-link span {\n",
              "  display: none;\n",
              "  z-index: 9999;\n",
              "  position: relative;\n",
              "  font-weight: normal;\n",
              "  right: .2ex;\n",
              "  padding: .5ex;\n",
              "  margin: .5ex;\n",
              "  width: min-content;\n",
              "  min-width: 20ex;\n",
              "  max-width: 50ex;\n",
              "  color: var(--sklearn-color-text);\n",
              "  box-shadow: 2pt 2pt 4pt #999;\n",
              "  /* unfitted */\n",
              "  background: var(--sklearn-color-unfitted-level-0);\n",
              "  border: .5pt solid var(--sklearn-color-unfitted-level-3);\n",
              "}\n",
              "\n",
              ".sk-estimator-doc-link.fitted span {\n",
              "  /* fitted */\n",
              "  background: var(--sklearn-color-fitted-level-0);\n",
              "  border: var(--sklearn-color-fitted-level-3);\n",
              "}\n",
              "\n",
              ".sk-estimator-doc-link:hover span {\n",
              "  display: block;\n",
              "}\n",
              "\n",
              "/* \"?\"-specific style due to the `<a>` HTML tag */\n",
              "\n",
              "#sk-container-id-2 a.estimator_doc_link {\n",
              "  float: right;\n",
              "  font-size: 1rem;\n",
              "  line-height: 1em;\n",
              "  font-family: monospace;\n",
              "  background-color: var(--sklearn-color-background);\n",
              "  border-radius: 1rem;\n",
              "  height: 1rem;\n",
              "  width: 1rem;\n",
              "  text-decoration: none;\n",
              "  /* unfitted */\n",
              "  color: var(--sklearn-color-unfitted-level-1);\n",
              "  border: var(--sklearn-color-unfitted-level-1) 1pt solid;\n",
              "}\n",
              "\n",
              "#sk-container-id-2 a.estimator_doc_link.fitted {\n",
              "  /* fitted */\n",
              "  border: var(--sklearn-color-fitted-level-1) 1pt solid;\n",
              "  color: var(--sklearn-color-fitted-level-1);\n",
              "}\n",
              "\n",
              "/* On hover */\n",
              "#sk-container-id-2 a.estimator_doc_link:hover {\n",
              "  /* unfitted */\n",
              "  background-color: var(--sklearn-color-unfitted-level-3);\n",
              "  color: var(--sklearn-color-background);\n",
              "  text-decoration: none;\n",
              "}\n",
              "\n",
              "#sk-container-id-2 a.estimator_doc_link.fitted:hover {\n",
              "  /* fitted */\n",
              "  background-color: var(--sklearn-color-fitted-level-3);\n",
              "}\n",
              "</style><div id=\"sk-container-id-2\" class=\"sk-top-container\"><div class=\"sk-text-repr-fallback\"><pre>LogisticRegression(C=1.0, class_weight=None, dual=False, fit_intercept=True,\n",
              "                   intercept_scaling=1, l1_ratio=None, max_iter=1000,\n",
              "                   multi_class=&#x27;auto&#x27;, n_jobs=None, penalty=&#x27;l2&#x27;,\n",
              "                   random_state=123, solver=&#x27;lbfgs&#x27;, tol=0.0001, verbose=0,\n",
              "                   warm_start=False)</pre><b>In a Jupyter environment, please rerun this cell to show the HTML representation or trust the notebook. <br />On GitHub, the HTML representation is unable to render, please try loading this page with nbviewer.org.</b></div><div class=\"sk-container\" hidden><div class=\"sk-item\"><div class=\"sk-estimator fitted sk-toggleable\"><input class=\"sk-toggleable__control sk-hidden--visually\" id=\"sk-estimator-id-2\" type=\"checkbox\" checked><label for=\"sk-estimator-id-2\" class=\"sk-toggleable__label fitted sk-toggleable__label-arrow fitted\">&nbsp;&nbsp;LogisticRegression<a class=\"sk-estimator-doc-link fitted\" rel=\"noreferrer\" target=\"_blank\" href=\"https://scikit-learn.org/1.4/modules/generated/sklearn.linear_model.LogisticRegression.html\">?<span>Documentation for LogisticRegression</span></a><span class=\"sk-estimator-doc-link fitted\">i<span>Fitted</span></span></label><div class=\"sk-toggleable__content fitted\"><pre>LogisticRegression(C=1.0, class_weight=None, dual=False, fit_intercept=True,\n",
              "                   intercept_scaling=1, l1_ratio=None, max_iter=1000,\n",
              "                   multi_class=&#x27;auto&#x27;, n_jobs=None, penalty=&#x27;l2&#x27;,\n",
              "                   random_state=123, solver=&#x27;lbfgs&#x27;, tol=0.0001, verbose=0,\n",
              "                   warm_start=False)</pre></div> </div></div></div></div>"
            ]
          },
          "metadata": {},
          "execution_count": 11
        }
      ]
    },
    {
      "cell_type": "code",
      "source": [
        "compare_models(fold = 5)"
      ],
      "metadata": {
        "id": "7e9zxxUe211z",
        "colab": {
          "base_uri": "https://localhost:8080/",
          "height": 1000,
          "referenced_widgets": [
            "d552ed22fa7d4bff9281e1db7186b5e7",
            "a9dcf9df647f4cd68a04650d7fa6e39d",
            "e40178ae092b403980a3de17f0534594",
            "1f1cf46fe27541e9a5952ba95afb8b23",
            "67c8b9714fb84ae281bfb1a0b979f350",
            "1a552384c9bb4dc7bdd22298b5c9bd75",
            "807c5a3bd4fb42bca02bf90531218120",
            "199914b070b64ce2b4cf3391e3707db1",
            "fe4cbc2bd50b4cf9ae96d48abd3b7c1a",
            "18eb6201e0aa4adf9832606b5ec27d68",
            "4ec1aed20fce490389a06e8d23f3d109"
          ]
        },
        "outputId": "1864651f-e8de-43c7-9329-16d1a99f01a5"
      },
      "execution_count": null,
      "outputs": [
        {
          "output_type": "display_data",
          "data": {
            "text/plain": [
              "<IPython.core.display.HTML object>"
            ],
            "text/html": []
          },
          "metadata": {}
        },
        {
          "output_type": "display_data",
          "data": {
            "text/plain": [
              "<pandas.io.formats.style.Styler at 0x7da5d737f750>"
            ],
            "text/html": [
              "<style type=\"text/css\">\n",
              "#T_947db th {\n",
              "  text-align: left;\n",
              "}\n",
              "#T_947db_row0_col0, #T_947db_row0_col2, #T_947db_row1_col0, #T_947db_row1_col2, #T_947db_row2_col0, #T_947db_row2_col2, #T_947db_row3_col0, #T_947db_row3_col1, #T_947db_row3_col2, #T_947db_row3_col3, #T_947db_row3_col4, #T_947db_row3_col5, #T_947db_row3_col6, #T_947db_row3_col7, #T_947db_row4_col0, #T_947db_row4_col1, #T_947db_row4_col3, #T_947db_row4_col4, #T_947db_row4_col5, #T_947db_row4_col6, #T_947db_row4_col7, #T_947db_row5_col0, #T_947db_row5_col1, #T_947db_row5_col2, #T_947db_row5_col3, #T_947db_row5_col4, #T_947db_row5_col5, #T_947db_row5_col6, #T_947db_row5_col7, #T_947db_row6_col0, #T_947db_row6_col1, #T_947db_row6_col2, #T_947db_row6_col3, #T_947db_row6_col4, #T_947db_row6_col5, #T_947db_row6_col6, #T_947db_row6_col7, #T_947db_row7_col0, #T_947db_row7_col1, #T_947db_row7_col3, #T_947db_row7_col4, #T_947db_row7_col5, #T_947db_row7_col6, #T_947db_row7_col7, #T_947db_row8_col0, #T_947db_row8_col1, #T_947db_row8_col3, #T_947db_row8_col4, #T_947db_row8_col5, #T_947db_row8_col6, #T_947db_row8_col7, #T_947db_row9_col0, #T_947db_row9_col1, #T_947db_row9_col2, #T_947db_row9_col3, #T_947db_row9_col4, #T_947db_row9_col5, #T_947db_row9_col6, #T_947db_row9_col7, #T_947db_row10_col0, #T_947db_row10_col1, #T_947db_row10_col2, #T_947db_row10_col3, #T_947db_row10_col4, #T_947db_row10_col5, #T_947db_row10_col6, #T_947db_row10_col7, #T_947db_row11_col0, #T_947db_row11_col1, #T_947db_row11_col2, #T_947db_row11_col3, #T_947db_row11_col4, #T_947db_row11_col5, #T_947db_row11_col6, #T_947db_row11_col7, #T_947db_row12_col0, #T_947db_row12_col1, #T_947db_row12_col2, #T_947db_row12_col3, #T_947db_row12_col4, #T_947db_row12_col5, #T_947db_row12_col6, #T_947db_row12_col7, #T_947db_row13_col0, #T_947db_row13_col1, #T_947db_row13_col2, #T_947db_row13_col3, #T_947db_row13_col4, #T_947db_row13_col5, #T_947db_row13_col6, #T_947db_row13_col7, #T_947db_row14_col0, #T_947db_row14_col1, #T_947db_row14_col2, #T_947db_row14_col3, #T_947db_row14_col4, #T_947db_row14_col5, #T_947db_row14_col6, #T_947db_row14_col7, #T_947db_row15_col0, #T_947db_row15_col1, #T_947db_row15_col2, #T_947db_row15_col3, #T_947db_row15_col4, #T_947db_row15_col5, #T_947db_row15_col6, #T_947db_row15_col7 {\n",
              "  text-align: left;\n",
              "}\n",
              "#T_947db_row0_col1, #T_947db_row0_col3, #T_947db_row0_col4, #T_947db_row0_col5, #T_947db_row0_col6, #T_947db_row0_col7, #T_947db_row1_col1, #T_947db_row1_col3, #T_947db_row1_col4, #T_947db_row1_col5, #T_947db_row1_col6, #T_947db_row1_col7, #T_947db_row2_col1, #T_947db_row2_col3, #T_947db_row2_col4, #T_947db_row2_col5, #T_947db_row2_col6, #T_947db_row2_col7, #T_947db_row4_col2, #T_947db_row7_col2, #T_947db_row8_col2 {\n",
              "  text-align: left;\n",
              "  background-color: yellow;\n",
              "}\n",
              "#T_947db_row0_col8, #T_947db_row2_col8, #T_947db_row3_col8, #T_947db_row4_col8, #T_947db_row5_col8, #T_947db_row6_col8, #T_947db_row7_col8, #T_947db_row8_col8, #T_947db_row9_col8, #T_947db_row10_col8, #T_947db_row11_col8, #T_947db_row12_col8, #T_947db_row14_col8 {\n",
              "  text-align: left;\n",
              "  background-color: lightgrey;\n",
              "}\n",
              "#T_947db_row1_col8, #T_947db_row13_col8, #T_947db_row15_col8 {\n",
              "  text-align: left;\n",
              "  background-color: yellow;\n",
              "  background-color: lightgrey;\n",
              "}\n",
              "</style>\n",
              "<table id=\"T_947db\" class=\"dataframe\">\n",
              "  <thead>\n",
              "    <tr>\n",
              "      <th class=\"blank level0\" >&nbsp;</th>\n",
              "      <th id=\"T_947db_level0_col0\" class=\"col_heading level0 col0\" >Model</th>\n",
              "      <th id=\"T_947db_level0_col1\" class=\"col_heading level0 col1\" >Accuracy</th>\n",
              "      <th id=\"T_947db_level0_col2\" class=\"col_heading level0 col2\" >AUC</th>\n",
              "      <th id=\"T_947db_level0_col3\" class=\"col_heading level0 col3\" >Recall</th>\n",
              "      <th id=\"T_947db_level0_col4\" class=\"col_heading level0 col4\" >Prec.</th>\n",
              "      <th id=\"T_947db_level0_col5\" class=\"col_heading level0 col5\" >F1</th>\n",
              "      <th id=\"T_947db_level0_col6\" class=\"col_heading level0 col6\" >Kappa</th>\n",
              "      <th id=\"T_947db_level0_col7\" class=\"col_heading level0 col7\" >MCC</th>\n",
              "      <th id=\"T_947db_level0_col8\" class=\"col_heading level0 col8\" >TT (Sec)</th>\n",
              "    </tr>\n",
              "  </thead>\n",
              "  <tbody>\n",
              "    <tr>\n",
              "      <th id=\"T_947db_level0_row0\" class=\"row_heading level0 row0\" >lr</th>\n",
              "      <td id=\"T_947db_row0_col0\" class=\"data row0 col0\" >Logistic Regression</td>\n",
              "      <td id=\"T_947db_row0_col1\" class=\"data row0 col1\" >0.9714</td>\n",
              "      <td id=\"T_947db_row0_col2\" class=\"data row0 col2\" >0.0000</td>\n",
              "      <td id=\"T_947db_row0_col3\" class=\"data row0 col3\" >0.9714</td>\n",
              "      <td id=\"T_947db_row0_col4\" class=\"data row0 col4\" >0.9750</td>\n",
              "      <td id=\"T_947db_row0_col5\" class=\"data row0 col5\" >0.9713</td>\n",
              "      <td id=\"T_947db_row0_col6\" class=\"data row0 col6\" >0.9571</td>\n",
              "      <td id=\"T_947db_row0_col7\" class=\"data row0 col7\" >0.9590</td>\n",
              "      <td id=\"T_947db_row0_col8\" class=\"data row0 col8\" >0.0420</td>\n",
              "    </tr>\n",
              "    <tr>\n",
              "      <th id=\"T_947db_level0_row1\" class=\"row_heading level0 row1\" >qda</th>\n",
              "      <td id=\"T_947db_row1_col0\" class=\"data row1 col0\" >Quadratic Discriminant Analysis</td>\n",
              "      <td id=\"T_947db_row1_col1\" class=\"data row1 col1\" >0.9714</td>\n",
              "      <td id=\"T_947db_row1_col2\" class=\"data row1 col2\" >0.0000</td>\n",
              "      <td id=\"T_947db_row1_col3\" class=\"data row1 col3\" >0.9714</td>\n",
              "      <td id=\"T_947db_row1_col4\" class=\"data row1 col4\" >0.9750</td>\n",
              "      <td id=\"T_947db_row1_col5\" class=\"data row1 col5\" >0.9713</td>\n",
              "      <td id=\"T_947db_row1_col6\" class=\"data row1 col6\" >0.9571</td>\n",
              "      <td id=\"T_947db_row1_col7\" class=\"data row1 col7\" >0.9590</td>\n",
              "      <td id=\"T_947db_row1_col8\" class=\"data row1 col8\" >0.0300</td>\n",
              "    </tr>\n",
              "    <tr>\n",
              "      <th id=\"T_947db_level0_row2\" class=\"row_heading level0 row2\" >lda</th>\n",
              "      <td id=\"T_947db_row2_col0\" class=\"data row2 col0\" >Linear Discriminant Analysis</td>\n",
              "      <td id=\"T_947db_row2_col1\" class=\"data row2 col1\" >0.9714</td>\n",
              "      <td id=\"T_947db_row2_col2\" class=\"data row2 col2\" >0.0000</td>\n",
              "      <td id=\"T_947db_row2_col3\" class=\"data row2 col3\" >0.9714</td>\n",
              "      <td id=\"T_947db_row2_col4\" class=\"data row2 col4\" >0.9750</td>\n",
              "      <td id=\"T_947db_row2_col5\" class=\"data row2 col5\" >0.9713</td>\n",
              "      <td id=\"T_947db_row2_col6\" class=\"data row2 col6\" >0.9571</td>\n",
              "      <td id=\"T_947db_row2_col7\" class=\"data row2 col7\" >0.9590</td>\n",
              "      <td id=\"T_947db_row2_col8\" class=\"data row2 col8\" >0.0320</td>\n",
              "    </tr>\n",
              "    <tr>\n",
              "      <th id=\"T_947db_level0_row3\" class=\"row_heading level0 row3\" >knn</th>\n",
              "      <td id=\"T_947db_row3_col0\" class=\"data row3 col0\" >K Neighbors Classifier</td>\n",
              "      <td id=\"T_947db_row3_col1\" class=\"data row3 col1\" >0.9619</td>\n",
              "      <td id=\"T_947db_row3_col2\" class=\"data row3 col2\" >0.9850</td>\n",
              "      <td id=\"T_947db_row3_col3\" class=\"data row3 col3\" >0.9619</td>\n",
              "      <td id=\"T_947db_row3_col4\" class=\"data row3 col4\" >0.9667</td>\n",
              "      <td id=\"T_947db_row3_col5\" class=\"data row3 col5\" >0.9617</td>\n",
              "      <td id=\"T_947db_row3_col6\" class=\"data row3 col6\" >0.9429</td>\n",
              "      <td id=\"T_947db_row3_col7\" class=\"data row3 col7\" >0.9454</td>\n",
              "      <td id=\"T_947db_row3_col8\" class=\"data row3 col8\" >0.0520</td>\n",
              "    </tr>\n",
              "    <tr>\n",
              "      <th id=\"T_947db_level0_row4\" class=\"row_heading level0 row4\" >et</th>\n",
              "      <td id=\"T_947db_row4_col0\" class=\"data row4 col0\" >Extra Trees Classifier</td>\n",
              "      <td id=\"T_947db_row4_col1\" class=\"data row4 col1\" >0.9619</td>\n",
              "      <td id=\"T_947db_row4_col2\" class=\"data row4 col2\" >0.9959</td>\n",
              "      <td id=\"T_947db_row4_col3\" class=\"data row4 col3\" >0.9619</td>\n",
              "      <td id=\"T_947db_row4_col4\" class=\"data row4 col4\" >0.9667</td>\n",
              "      <td id=\"T_947db_row4_col5\" class=\"data row4 col5\" >0.9617</td>\n",
              "      <td id=\"T_947db_row4_col6\" class=\"data row4 col6\" >0.9429</td>\n",
              "      <td id=\"T_947db_row4_col7\" class=\"data row4 col7\" >0.9454</td>\n",
              "      <td id=\"T_947db_row4_col8\" class=\"data row4 col8\" >0.1720</td>\n",
              "    </tr>\n",
              "    <tr>\n",
              "      <th id=\"T_947db_level0_row5\" class=\"row_heading level0 row5\" >lightgbm</th>\n",
              "      <td id=\"T_947db_row5_col0\" class=\"data row5 col0\" >Light Gradient Boosting Machine</td>\n",
              "      <td id=\"T_947db_row5_col1\" class=\"data row5 col1\" >0.9524</td>\n",
              "      <td id=\"T_947db_row5_col2\" class=\"data row5 col2\" >0.9912</td>\n",
              "      <td id=\"T_947db_row5_col3\" class=\"data row5 col3\" >0.9524</td>\n",
              "      <td id=\"T_947db_row5_col4\" class=\"data row5 col4\" >0.9560</td>\n",
              "      <td id=\"T_947db_row5_col5\" class=\"data row5 col5\" >0.9522</td>\n",
              "      <td id=\"T_947db_row5_col6\" class=\"data row5 col6\" >0.9286</td>\n",
              "      <td id=\"T_947db_row5_col7\" class=\"data row5 col7\" >0.9305</td>\n",
              "      <td id=\"T_947db_row5_col8\" class=\"data row5 col8\" >0.3200</td>\n",
              "    </tr>\n",
              "    <tr>\n",
              "      <th id=\"T_947db_level0_row6\" class=\"row_heading level0 row6\" >catboost</th>\n",
              "      <td id=\"T_947db_row6_col0\" class=\"data row6 col0\" >CatBoost Classifier</td>\n",
              "      <td id=\"T_947db_row6_col1\" class=\"data row6 col1\" >0.9524</td>\n",
              "      <td id=\"T_947db_row6_col2\" class=\"data row6 col2\" >0.9946</td>\n",
              "      <td id=\"T_947db_row6_col3\" class=\"data row6 col3\" >0.9524</td>\n",
              "      <td id=\"T_947db_row6_col4\" class=\"data row6 col4\" >0.9560</td>\n",
              "      <td id=\"T_947db_row6_col5\" class=\"data row6 col5\" >0.9522</td>\n",
              "      <td id=\"T_947db_row6_col6\" class=\"data row6 col6\" >0.9286</td>\n",
              "      <td id=\"T_947db_row6_col7\" class=\"data row6 col7\" >0.9305</td>\n",
              "      <td id=\"T_947db_row6_col8\" class=\"data row6 col8\" >0.6640</td>\n",
              "    </tr>\n",
              "    <tr>\n",
              "      <th id=\"T_947db_level0_row7\" class=\"row_heading level0 row7\" >nb</th>\n",
              "      <td id=\"T_947db_row7_col0\" class=\"data row7 col0\" >Naive Bayes</td>\n",
              "      <td id=\"T_947db_row7_col1\" class=\"data row7 col1\" >0.9429</td>\n",
              "      <td id=\"T_947db_row7_col2\" class=\"data row7 col2\" >0.9959</td>\n",
              "      <td id=\"T_947db_row7_col3\" class=\"data row7 col3\" >0.9429</td>\n",
              "      <td id=\"T_947db_row7_col4\" class=\"data row7 col4\" >0.9452</td>\n",
              "      <td id=\"T_947db_row7_col5\" class=\"data row7 col5\" >0.9428</td>\n",
              "      <td id=\"T_947db_row7_col6\" class=\"data row7 col6\" >0.9143</td>\n",
              "      <td id=\"T_947db_row7_col7\" class=\"data row7 col7\" >0.9156</td>\n",
              "      <td id=\"T_947db_row7_col8\" class=\"data row7 col8\" >0.0360</td>\n",
              "    </tr>\n",
              "    <tr>\n",
              "      <th id=\"T_947db_level0_row8\" class=\"row_heading level0 row8\" >rf</th>\n",
              "      <td id=\"T_947db_row8_col0\" class=\"data row8 col0\" >Random Forest Classifier</td>\n",
              "      <td id=\"T_947db_row8_col1\" class=\"data row8 col1\" >0.9429</td>\n",
              "      <td id=\"T_947db_row8_col2\" class=\"data row8 col2\" >0.9959</td>\n",
              "      <td id=\"T_947db_row8_col3\" class=\"data row8 col3\" >0.9429</td>\n",
              "      <td id=\"T_947db_row8_col4\" class=\"data row8 col4\" >0.9495</td>\n",
              "      <td id=\"T_947db_row8_col5\" class=\"data row8 col5\" >0.9424</td>\n",
              "      <td id=\"T_947db_row8_col6\" class=\"data row8 col6\" >0.9143</td>\n",
              "      <td id=\"T_947db_row8_col7\" class=\"data row8 col7\" >0.9179</td>\n",
              "      <td id=\"T_947db_row8_col8\" class=\"data row8 col8\" >0.2020</td>\n",
              "    </tr>\n",
              "    <tr>\n",
              "      <th id=\"T_947db_level0_row9\" class=\"row_heading level0 row9\" >xgboost</th>\n",
              "      <td id=\"T_947db_row9_col0\" class=\"data row9 col0\" >Extreme Gradient Boosting</td>\n",
              "      <td id=\"T_947db_row9_col1\" class=\"data row9 col1\" >0.9429</td>\n",
              "      <td id=\"T_947db_row9_col2\" class=\"data row9 col2\" >0.9810</td>\n",
              "      <td id=\"T_947db_row9_col3\" class=\"data row9 col3\" >0.9429</td>\n",
              "      <td id=\"T_947db_row9_col4\" class=\"data row9 col4\" >0.9476</td>\n",
              "      <td id=\"T_947db_row9_col5\" class=\"data row9 col5\" >0.9427</td>\n",
              "      <td id=\"T_947db_row9_col6\" class=\"data row9 col6\" >0.9143</td>\n",
              "      <td id=\"T_947db_row9_col7\" class=\"data row9 col7\" >0.9168</td>\n",
              "      <td id=\"T_947db_row9_col8\" class=\"data row9 col8\" >0.0660</td>\n",
              "    </tr>\n",
              "    <tr>\n",
              "      <th id=\"T_947db_level0_row10\" class=\"row_heading level0 row10\" >dt</th>\n",
              "      <td id=\"T_947db_row10_col0\" class=\"data row10 col0\" >Decision Tree Classifier</td>\n",
              "      <td id=\"T_947db_row10_col1\" class=\"data row10 col1\" >0.9333</td>\n",
              "      <td id=\"T_947db_row10_col2\" class=\"data row10 col2\" >0.9500</td>\n",
              "      <td id=\"T_947db_row10_col3\" class=\"data row10 col3\" >0.9333</td>\n",
              "      <td id=\"T_947db_row10_col4\" class=\"data row10 col4\" >0.9407</td>\n",
              "      <td id=\"T_947db_row10_col5\" class=\"data row10 col5\" >0.9327</td>\n",
              "      <td id=\"T_947db_row10_col6\" class=\"data row10 col6\" >0.9000</td>\n",
              "      <td id=\"T_947db_row10_col7\" class=\"data row10 col7\" >0.9042</td>\n",
              "      <td id=\"T_947db_row10_col8\" class=\"data row10 col8\" >0.1100</td>\n",
              "    </tr>\n",
              "    <tr>\n",
              "      <th id=\"T_947db_level0_row11\" class=\"row_heading level0 row11\" >ada</th>\n",
              "      <td id=\"T_947db_row11_col0\" class=\"data row11 col0\" >Ada Boost Classifier</td>\n",
              "      <td id=\"T_947db_row11_col1\" class=\"data row11 col1\" >0.9238</td>\n",
              "      <td id=\"T_947db_row11_col2\" class=\"data row11 col2\" >0.0000</td>\n",
              "      <td id=\"T_947db_row11_col3\" class=\"data row11 col3\" >0.9238</td>\n",
              "      <td id=\"T_947db_row11_col4\" class=\"data row11 col4\" >0.9347</td>\n",
              "      <td id=\"T_947db_row11_col5\" class=\"data row11 col5\" >0.9229</td>\n",
              "      <td id=\"T_947db_row11_col6\" class=\"data row11 col6\" >0.8857</td>\n",
              "      <td id=\"T_947db_row11_col7\" class=\"data row11 col7\" >0.8917</td>\n",
              "      <td id=\"T_947db_row11_col8\" class=\"data row11 col8\" >0.1840</td>\n",
              "    </tr>\n",
              "    <tr>\n",
              "      <th id=\"T_947db_level0_row12\" class=\"row_heading level0 row12\" >gbc</th>\n",
              "      <td id=\"T_947db_row12_col0\" class=\"data row12 col0\" >Gradient Boosting Classifier</td>\n",
              "      <td id=\"T_947db_row12_col1\" class=\"data row12 col1\" >0.9238</td>\n",
              "      <td id=\"T_947db_row12_col2\" class=\"data row12 col2\" >0.0000</td>\n",
              "      <td id=\"T_947db_row12_col3\" class=\"data row12 col3\" >0.9238</td>\n",
              "      <td id=\"T_947db_row12_col4\" class=\"data row12 col4\" >0.9300</td>\n",
              "      <td id=\"T_947db_row12_col5\" class=\"data row12 col5\" >0.9232</td>\n",
              "      <td id=\"T_947db_row12_col6\" class=\"data row12 col6\" >0.8857</td>\n",
              "      <td id=\"T_947db_row12_col7\" class=\"data row12 col7\" >0.8893</td>\n",
              "      <td id=\"T_947db_row12_col8\" class=\"data row12 col8\" >0.3720</td>\n",
              "    </tr>\n",
              "    <tr>\n",
              "      <th id=\"T_947db_level0_row13\" class=\"row_heading level0 row13\" >ridge</th>\n",
              "      <td id=\"T_947db_row13_col0\" class=\"data row13 col0\" >Ridge Classifier</td>\n",
              "      <td id=\"T_947db_row13_col1\" class=\"data row13 col1\" >0.8095</td>\n",
              "      <td id=\"T_947db_row13_col2\" class=\"data row13 col2\" >0.0000</td>\n",
              "      <td id=\"T_947db_row13_col3\" class=\"data row13 col3\" >0.8095</td>\n",
              "      <td id=\"T_947db_row13_col4\" class=\"data row13 col4\" >0.8205</td>\n",
              "      <td id=\"T_947db_row13_col5\" class=\"data row13 col5\" >0.8074</td>\n",
              "      <td id=\"T_947db_row13_col6\" class=\"data row13 col6\" >0.7143</td>\n",
              "      <td id=\"T_947db_row13_col7\" class=\"data row13 col7\" >0.7212</td>\n",
              "      <td id=\"T_947db_row13_col8\" class=\"data row13 col8\" >0.0300</td>\n",
              "    </tr>\n",
              "    <tr>\n",
              "      <th id=\"T_947db_level0_row14\" class=\"row_heading level0 row14\" >svm</th>\n",
              "      <td id=\"T_947db_row14_col0\" class=\"data row14 col0\" >SVM - Linear Kernel</td>\n",
              "      <td id=\"T_947db_row14_col1\" class=\"data row14 col1\" >0.7048</td>\n",
              "      <td id=\"T_947db_row14_col2\" class=\"data row14 col2\" >0.0000</td>\n",
              "      <td id=\"T_947db_row14_col3\" class=\"data row14 col3\" >0.7048</td>\n",
              "      <td id=\"T_947db_row14_col4\" class=\"data row14 col4\" >0.6357</td>\n",
              "      <td id=\"T_947db_row14_col5\" class=\"data row14 col5\" >0.6182</td>\n",
              "      <td id=\"T_947db_row14_col6\" class=\"data row14 col6\" >0.5571</td>\n",
              "      <td id=\"T_947db_row14_col7\" class=\"data row14 col7\" >0.6445</td>\n",
              "      <td id=\"T_947db_row14_col8\" class=\"data row14 col8\" >0.0400</td>\n",
              "    </tr>\n",
              "    <tr>\n",
              "      <th id=\"T_947db_level0_row15\" class=\"row_heading level0 row15\" >dummy</th>\n",
              "      <td id=\"T_947db_row15_col0\" class=\"data row15 col0\" >Dummy Classifier</td>\n",
              "      <td id=\"T_947db_row15_col1\" class=\"data row15 col1\" >0.3333</td>\n",
              "      <td id=\"T_947db_row15_col2\" class=\"data row15 col2\" >0.5000</td>\n",
              "      <td id=\"T_947db_row15_col3\" class=\"data row15 col3\" >0.3333</td>\n",
              "      <td id=\"T_947db_row15_col4\" class=\"data row15 col4\" >0.1111</td>\n",
              "      <td id=\"T_947db_row15_col5\" class=\"data row15 col5\" >0.1667</td>\n",
              "      <td id=\"T_947db_row15_col6\" class=\"data row15 col6\" >0.0000</td>\n",
              "      <td id=\"T_947db_row15_col7\" class=\"data row15 col7\" >0.0000</td>\n",
              "      <td id=\"T_947db_row15_col8\" class=\"data row15 col8\" >0.0300</td>\n",
              "    </tr>\n",
              "  </tbody>\n",
              "</table>\n"
            ]
          },
          "metadata": {}
        },
        {
          "output_type": "display_data",
          "data": {
            "text/plain": [
              "Processing:   0%|          | 0/69 [00:00<?, ?it/s]"
            ],
            "application/vnd.jupyter.widget-view+json": {
              "version_major": 2,
              "version_minor": 0,
              "model_id": "d552ed22fa7d4bff9281e1db7186b5e7"
            }
          },
          "metadata": {
            "application/vnd.jupyter.widget-view+json": {
              "colab": {
                "custom_widget_manager": {
                  "url": "https://ssl.gstatic.com/colaboratory-static/widgets/colab-cdn-widget-manager/2b70e893a8ba7c0f/manager.min.js"
                }
              }
            }
          }
        },
        {
          "output_type": "display_data",
          "data": {
            "text/plain": [
              "<IPython.core.display.HTML object>"
            ],
            "text/html": []
          },
          "metadata": {}
        },
        {
          "output_type": "execute_result",
          "data": {
            "text/plain": [
              "LogisticRegression(C=1.0, class_weight=None, dual=False, fit_intercept=True,\n",
              "                   intercept_scaling=1, l1_ratio=None, max_iter=1000,\n",
              "                   multi_class='auto', n_jobs=None, penalty='l2',\n",
              "                   random_state=123, solver='lbfgs', tol=0.0001, verbose=0,\n",
              "                   warm_start=False)"
            ],
            "text/html": [
              "<style>#sk-container-id-3 {\n",
              "  /* Definition of color scheme common for light and dark mode */\n",
              "  --sklearn-color-text: black;\n",
              "  --sklearn-color-line: gray;\n",
              "  /* Definition of color scheme for unfitted estimators */\n",
              "  --sklearn-color-unfitted-level-0: #fff5e6;\n",
              "  --sklearn-color-unfitted-level-1: #f6e4d2;\n",
              "  --sklearn-color-unfitted-level-2: #ffe0b3;\n",
              "  --sklearn-color-unfitted-level-3: chocolate;\n",
              "  /* Definition of color scheme for fitted estimators */\n",
              "  --sklearn-color-fitted-level-0: #f0f8ff;\n",
              "  --sklearn-color-fitted-level-1: #d4ebff;\n",
              "  --sklearn-color-fitted-level-2: #b3dbfd;\n",
              "  --sklearn-color-fitted-level-3: cornflowerblue;\n",
              "\n",
              "  /* Specific color for light theme */\n",
              "  --sklearn-color-text-on-default-background: var(--sg-text-color, var(--theme-code-foreground, var(--jp-content-font-color1, black)));\n",
              "  --sklearn-color-background: var(--sg-background-color, var(--theme-background, var(--jp-layout-color0, white)));\n",
              "  --sklearn-color-border-box: var(--sg-text-color, var(--theme-code-foreground, var(--jp-content-font-color1, black)));\n",
              "  --sklearn-color-icon: #696969;\n",
              "\n",
              "  @media (prefers-color-scheme: dark) {\n",
              "    /* Redefinition of color scheme for dark theme */\n",
              "    --sklearn-color-text-on-default-background: var(--sg-text-color, var(--theme-code-foreground, var(--jp-content-font-color1, white)));\n",
              "    --sklearn-color-background: var(--sg-background-color, var(--theme-background, var(--jp-layout-color0, #111)));\n",
              "    --sklearn-color-border-box: var(--sg-text-color, var(--theme-code-foreground, var(--jp-content-font-color1, white)));\n",
              "    --sklearn-color-icon: #878787;\n",
              "  }\n",
              "}\n",
              "\n",
              "#sk-container-id-3 {\n",
              "  color: var(--sklearn-color-text);\n",
              "}\n",
              "\n",
              "#sk-container-id-3 pre {\n",
              "  padding: 0;\n",
              "}\n",
              "\n",
              "#sk-container-id-3 input.sk-hidden--visually {\n",
              "  border: 0;\n",
              "  clip: rect(1px 1px 1px 1px);\n",
              "  clip: rect(1px, 1px, 1px, 1px);\n",
              "  height: 1px;\n",
              "  margin: -1px;\n",
              "  overflow: hidden;\n",
              "  padding: 0;\n",
              "  position: absolute;\n",
              "  width: 1px;\n",
              "}\n",
              "\n",
              "#sk-container-id-3 div.sk-dashed-wrapped {\n",
              "  border: 1px dashed var(--sklearn-color-line);\n",
              "  margin: 0 0.4em 0.5em 0.4em;\n",
              "  box-sizing: border-box;\n",
              "  padding-bottom: 0.4em;\n",
              "  background-color: var(--sklearn-color-background);\n",
              "}\n",
              "\n",
              "#sk-container-id-3 div.sk-container {\n",
              "  /* jupyter's `normalize.less` sets `[hidden] { display: none; }`\n",
              "     but bootstrap.min.css set `[hidden] { display: none !important; }`\n",
              "     so we also need the `!important` here to be able to override the\n",
              "     default hidden behavior on the sphinx rendered scikit-learn.org.\n",
              "     See: https://github.com/scikit-learn/scikit-learn/issues/21755 */\n",
              "  display: inline-block !important;\n",
              "  position: relative;\n",
              "}\n",
              "\n",
              "#sk-container-id-3 div.sk-text-repr-fallback {\n",
              "  display: none;\n",
              "}\n",
              "\n",
              "div.sk-parallel-item,\n",
              "div.sk-serial,\n",
              "div.sk-item {\n",
              "  /* draw centered vertical line to link estimators */\n",
              "  background-image: linear-gradient(var(--sklearn-color-text-on-default-background), var(--sklearn-color-text-on-default-background));\n",
              "  background-size: 2px 100%;\n",
              "  background-repeat: no-repeat;\n",
              "  background-position: center center;\n",
              "}\n",
              "\n",
              "/* Parallel-specific style estimator block */\n",
              "\n",
              "#sk-container-id-3 div.sk-parallel-item::after {\n",
              "  content: \"\";\n",
              "  width: 100%;\n",
              "  border-bottom: 2px solid var(--sklearn-color-text-on-default-background);\n",
              "  flex-grow: 1;\n",
              "}\n",
              "\n",
              "#sk-container-id-3 div.sk-parallel {\n",
              "  display: flex;\n",
              "  align-items: stretch;\n",
              "  justify-content: center;\n",
              "  background-color: var(--sklearn-color-background);\n",
              "  position: relative;\n",
              "}\n",
              "\n",
              "#sk-container-id-3 div.sk-parallel-item {\n",
              "  display: flex;\n",
              "  flex-direction: column;\n",
              "}\n",
              "\n",
              "#sk-container-id-3 div.sk-parallel-item:first-child::after {\n",
              "  align-self: flex-end;\n",
              "  width: 50%;\n",
              "}\n",
              "\n",
              "#sk-container-id-3 div.sk-parallel-item:last-child::after {\n",
              "  align-self: flex-start;\n",
              "  width: 50%;\n",
              "}\n",
              "\n",
              "#sk-container-id-3 div.sk-parallel-item:only-child::after {\n",
              "  width: 0;\n",
              "}\n",
              "\n",
              "/* Serial-specific style estimator block */\n",
              "\n",
              "#sk-container-id-3 div.sk-serial {\n",
              "  display: flex;\n",
              "  flex-direction: column;\n",
              "  align-items: center;\n",
              "  background-color: var(--sklearn-color-background);\n",
              "  padding-right: 1em;\n",
              "  padding-left: 1em;\n",
              "}\n",
              "\n",
              "\n",
              "/* Toggleable style: style used for estimator/Pipeline/ColumnTransformer box that is\n",
              "clickable and can be expanded/collapsed.\n",
              "- Pipeline and ColumnTransformer use this feature and define the default style\n",
              "- Estimators will overwrite some part of the style using the `sk-estimator` class\n",
              "*/\n",
              "\n",
              "/* Pipeline and ColumnTransformer style (default) */\n",
              "\n",
              "#sk-container-id-3 div.sk-toggleable {\n",
              "  /* Default theme specific background. It is overwritten whether we have a\n",
              "  specific estimator or a Pipeline/ColumnTransformer */\n",
              "  background-color: var(--sklearn-color-background);\n",
              "}\n",
              "\n",
              "/* Toggleable label */\n",
              "#sk-container-id-3 label.sk-toggleable__label {\n",
              "  cursor: pointer;\n",
              "  display: block;\n",
              "  width: 100%;\n",
              "  margin-bottom: 0;\n",
              "  padding: 0.5em;\n",
              "  box-sizing: border-box;\n",
              "  text-align: center;\n",
              "}\n",
              "\n",
              "#sk-container-id-3 label.sk-toggleable__label-arrow:before {\n",
              "  /* Arrow on the left of the label */\n",
              "  content: \"▸\";\n",
              "  float: left;\n",
              "  margin-right: 0.25em;\n",
              "  color: var(--sklearn-color-icon);\n",
              "}\n",
              "\n",
              "#sk-container-id-3 label.sk-toggleable__label-arrow:hover:before {\n",
              "  color: var(--sklearn-color-text);\n",
              "}\n",
              "\n",
              "/* Toggleable content - dropdown */\n",
              "\n",
              "#sk-container-id-3 div.sk-toggleable__content {\n",
              "  max-height: 0;\n",
              "  max-width: 0;\n",
              "  overflow: hidden;\n",
              "  text-align: left;\n",
              "  /* unfitted */\n",
              "  background-color: var(--sklearn-color-unfitted-level-0);\n",
              "}\n",
              "\n",
              "#sk-container-id-3 div.sk-toggleable__content.fitted {\n",
              "  /* fitted */\n",
              "  background-color: var(--sklearn-color-fitted-level-0);\n",
              "}\n",
              "\n",
              "#sk-container-id-3 div.sk-toggleable__content pre {\n",
              "  margin: 0.2em;\n",
              "  border-radius: 0.25em;\n",
              "  color: var(--sklearn-color-text);\n",
              "  /* unfitted */\n",
              "  background-color: var(--sklearn-color-unfitted-level-0);\n",
              "}\n",
              "\n",
              "#sk-container-id-3 div.sk-toggleable__content.fitted pre {\n",
              "  /* unfitted */\n",
              "  background-color: var(--sklearn-color-fitted-level-0);\n",
              "}\n",
              "\n",
              "#sk-container-id-3 input.sk-toggleable__control:checked~div.sk-toggleable__content {\n",
              "  /* Expand drop-down */\n",
              "  max-height: 200px;\n",
              "  max-width: 100%;\n",
              "  overflow: auto;\n",
              "}\n",
              "\n",
              "#sk-container-id-3 input.sk-toggleable__control:checked~label.sk-toggleable__label-arrow:before {\n",
              "  content: \"▾\";\n",
              "}\n",
              "\n",
              "/* Pipeline/ColumnTransformer-specific style */\n",
              "\n",
              "#sk-container-id-3 div.sk-label input.sk-toggleable__control:checked~label.sk-toggleable__label {\n",
              "  color: var(--sklearn-color-text);\n",
              "  background-color: var(--sklearn-color-unfitted-level-2);\n",
              "}\n",
              "\n",
              "#sk-container-id-3 div.sk-label.fitted input.sk-toggleable__control:checked~label.sk-toggleable__label {\n",
              "  background-color: var(--sklearn-color-fitted-level-2);\n",
              "}\n",
              "\n",
              "/* Estimator-specific style */\n",
              "\n",
              "/* Colorize estimator box */\n",
              "#sk-container-id-3 div.sk-estimator input.sk-toggleable__control:checked~label.sk-toggleable__label {\n",
              "  /* unfitted */\n",
              "  background-color: var(--sklearn-color-unfitted-level-2);\n",
              "}\n",
              "\n",
              "#sk-container-id-3 div.sk-estimator.fitted input.sk-toggleable__control:checked~label.sk-toggleable__label {\n",
              "  /* fitted */\n",
              "  background-color: var(--sklearn-color-fitted-level-2);\n",
              "}\n",
              "\n",
              "#sk-container-id-3 div.sk-label label.sk-toggleable__label,\n",
              "#sk-container-id-3 div.sk-label label {\n",
              "  /* The background is the default theme color */\n",
              "  color: var(--sklearn-color-text-on-default-background);\n",
              "}\n",
              "\n",
              "/* On hover, darken the color of the background */\n",
              "#sk-container-id-3 div.sk-label:hover label.sk-toggleable__label {\n",
              "  color: var(--sklearn-color-text);\n",
              "  background-color: var(--sklearn-color-unfitted-level-2);\n",
              "}\n",
              "\n",
              "/* Label box, darken color on hover, fitted */\n",
              "#sk-container-id-3 div.sk-label.fitted:hover label.sk-toggleable__label.fitted {\n",
              "  color: var(--sklearn-color-text);\n",
              "  background-color: var(--sklearn-color-fitted-level-2);\n",
              "}\n",
              "\n",
              "/* Estimator label */\n",
              "\n",
              "#sk-container-id-3 div.sk-label label {\n",
              "  font-family: monospace;\n",
              "  font-weight: bold;\n",
              "  display: inline-block;\n",
              "  line-height: 1.2em;\n",
              "}\n",
              "\n",
              "#sk-container-id-3 div.sk-label-container {\n",
              "  text-align: center;\n",
              "}\n",
              "\n",
              "/* Estimator-specific */\n",
              "#sk-container-id-3 div.sk-estimator {\n",
              "  font-family: monospace;\n",
              "  border: 1px dotted var(--sklearn-color-border-box);\n",
              "  border-radius: 0.25em;\n",
              "  box-sizing: border-box;\n",
              "  margin-bottom: 0.5em;\n",
              "  /* unfitted */\n",
              "  background-color: var(--sklearn-color-unfitted-level-0);\n",
              "}\n",
              "\n",
              "#sk-container-id-3 div.sk-estimator.fitted {\n",
              "  /* fitted */\n",
              "  background-color: var(--sklearn-color-fitted-level-0);\n",
              "}\n",
              "\n",
              "/* on hover */\n",
              "#sk-container-id-3 div.sk-estimator:hover {\n",
              "  /* unfitted */\n",
              "  background-color: var(--sklearn-color-unfitted-level-2);\n",
              "}\n",
              "\n",
              "#sk-container-id-3 div.sk-estimator.fitted:hover {\n",
              "  /* fitted */\n",
              "  background-color: var(--sklearn-color-fitted-level-2);\n",
              "}\n",
              "\n",
              "/* Specification for estimator info (e.g. \"i\" and \"?\") */\n",
              "\n",
              "/* Common style for \"i\" and \"?\" */\n",
              "\n",
              ".sk-estimator-doc-link,\n",
              "a:link.sk-estimator-doc-link,\n",
              "a:visited.sk-estimator-doc-link {\n",
              "  float: right;\n",
              "  font-size: smaller;\n",
              "  line-height: 1em;\n",
              "  font-family: monospace;\n",
              "  background-color: var(--sklearn-color-background);\n",
              "  border-radius: 1em;\n",
              "  height: 1em;\n",
              "  width: 1em;\n",
              "  text-decoration: none !important;\n",
              "  margin-left: 1ex;\n",
              "  /* unfitted */\n",
              "  border: var(--sklearn-color-unfitted-level-1) 1pt solid;\n",
              "  color: var(--sklearn-color-unfitted-level-1);\n",
              "}\n",
              "\n",
              ".sk-estimator-doc-link.fitted,\n",
              "a:link.sk-estimator-doc-link.fitted,\n",
              "a:visited.sk-estimator-doc-link.fitted {\n",
              "  /* fitted */\n",
              "  border: var(--sklearn-color-fitted-level-1) 1pt solid;\n",
              "  color: var(--sklearn-color-fitted-level-1);\n",
              "}\n",
              "\n",
              "/* On hover */\n",
              "div.sk-estimator:hover .sk-estimator-doc-link:hover,\n",
              ".sk-estimator-doc-link:hover,\n",
              "div.sk-label-container:hover .sk-estimator-doc-link:hover,\n",
              ".sk-estimator-doc-link:hover {\n",
              "  /* unfitted */\n",
              "  background-color: var(--sklearn-color-unfitted-level-3);\n",
              "  color: var(--sklearn-color-background);\n",
              "  text-decoration: none;\n",
              "}\n",
              "\n",
              "div.sk-estimator.fitted:hover .sk-estimator-doc-link.fitted:hover,\n",
              ".sk-estimator-doc-link.fitted:hover,\n",
              "div.sk-label-container:hover .sk-estimator-doc-link.fitted:hover,\n",
              ".sk-estimator-doc-link.fitted:hover {\n",
              "  /* fitted */\n",
              "  background-color: var(--sklearn-color-fitted-level-3);\n",
              "  color: var(--sklearn-color-background);\n",
              "  text-decoration: none;\n",
              "}\n",
              "\n",
              "/* Span, style for the box shown on hovering the info icon */\n",
              ".sk-estimator-doc-link span {\n",
              "  display: none;\n",
              "  z-index: 9999;\n",
              "  position: relative;\n",
              "  font-weight: normal;\n",
              "  right: .2ex;\n",
              "  padding: .5ex;\n",
              "  margin: .5ex;\n",
              "  width: min-content;\n",
              "  min-width: 20ex;\n",
              "  max-width: 50ex;\n",
              "  color: var(--sklearn-color-text);\n",
              "  box-shadow: 2pt 2pt 4pt #999;\n",
              "  /* unfitted */\n",
              "  background: var(--sklearn-color-unfitted-level-0);\n",
              "  border: .5pt solid var(--sklearn-color-unfitted-level-3);\n",
              "}\n",
              "\n",
              ".sk-estimator-doc-link.fitted span {\n",
              "  /* fitted */\n",
              "  background: var(--sklearn-color-fitted-level-0);\n",
              "  border: var(--sklearn-color-fitted-level-3);\n",
              "}\n",
              "\n",
              ".sk-estimator-doc-link:hover span {\n",
              "  display: block;\n",
              "}\n",
              "\n",
              "/* \"?\"-specific style due to the `<a>` HTML tag */\n",
              "\n",
              "#sk-container-id-3 a.estimator_doc_link {\n",
              "  float: right;\n",
              "  font-size: 1rem;\n",
              "  line-height: 1em;\n",
              "  font-family: monospace;\n",
              "  background-color: var(--sklearn-color-background);\n",
              "  border-radius: 1rem;\n",
              "  height: 1rem;\n",
              "  width: 1rem;\n",
              "  text-decoration: none;\n",
              "  /* unfitted */\n",
              "  color: var(--sklearn-color-unfitted-level-1);\n",
              "  border: var(--sklearn-color-unfitted-level-1) 1pt solid;\n",
              "}\n",
              "\n",
              "#sk-container-id-3 a.estimator_doc_link.fitted {\n",
              "  /* fitted */\n",
              "  border: var(--sklearn-color-fitted-level-1) 1pt solid;\n",
              "  color: var(--sklearn-color-fitted-level-1);\n",
              "}\n",
              "\n",
              "/* On hover */\n",
              "#sk-container-id-3 a.estimator_doc_link:hover {\n",
              "  /* unfitted */\n",
              "  background-color: var(--sklearn-color-unfitted-level-3);\n",
              "  color: var(--sklearn-color-background);\n",
              "  text-decoration: none;\n",
              "}\n",
              "\n",
              "#sk-container-id-3 a.estimator_doc_link.fitted:hover {\n",
              "  /* fitted */\n",
              "  background-color: var(--sklearn-color-fitted-level-3);\n",
              "}\n",
              "</style><div id=\"sk-container-id-3\" class=\"sk-top-container\"><div class=\"sk-text-repr-fallback\"><pre>LogisticRegression(C=1.0, class_weight=None, dual=False, fit_intercept=True,\n",
              "                   intercept_scaling=1, l1_ratio=None, max_iter=1000,\n",
              "                   multi_class=&#x27;auto&#x27;, n_jobs=None, penalty=&#x27;l2&#x27;,\n",
              "                   random_state=123, solver=&#x27;lbfgs&#x27;, tol=0.0001, verbose=0,\n",
              "                   warm_start=False)</pre><b>In a Jupyter environment, please rerun this cell to show the HTML representation or trust the notebook. <br />On GitHub, the HTML representation is unable to render, please try loading this page with nbviewer.org.</b></div><div class=\"sk-container\" hidden><div class=\"sk-item\"><div class=\"sk-estimator fitted sk-toggleable\"><input class=\"sk-toggleable__control sk-hidden--visually\" id=\"sk-estimator-id-3\" type=\"checkbox\" checked><label for=\"sk-estimator-id-3\" class=\"sk-toggleable__label fitted sk-toggleable__label-arrow fitted\">&nbsp;&nbsp;LogisticRegression<a class=\"sk-estimator-doc-link fitted\" rel=\"noreferrer\" target=\"_blank\" href=\"https://scikit-learn.org/1.4/modules/generated/sklearn.linear_model.LogisticRegression.html\">?<span>Documentation for LogisticRegression</span></a><span class=\"sk-estimator-doc-link fitted\">i<span>Fitted</span></span></label><div class=\"sk-toggleable__content fitted\"><pre>LogisticRegression(C=1.0, class_weight=None, dual=False, fit_intercept=True,\n",
              "                   intercept_scaling=1, l1_ratio=None, max_iter=1000,\n",
              "                   multi_class=&#x27;auto&#x27;, n_jobs=None, penalty=&#x27;l2&#x27;,\n",
              "                   random_state=123, solver=&#x27;lbfgs&#x27;, tol=0.0001, verbose=0,\n",
              "                   warm_start=False)</pre></div> </div></div></div></div>"
            ]
          },
          "metadata": {},
          "execution_count": 12
        }
      ]
    },
    {
      "cell_type": "markdown",
      "source": [
        "\n",
        "##<p style=\"font-family:JetBrains Mono; font-weight:normal; letter-spacing: 1px; color:#207d06; font-size:100%; text-align:left;padding: 0px; border-bottom: 3px solid #207d06;\">**2- Select Best Model**</p>"
      ],
      "metadata": {
        "id": "OAhMkMv1r-pB"
      }
    },
    {
      "cell_type": "code",
      "metadata": {
        "id": "gZfLqgVsuBXP",
        "colab": {
          "base_uri": "https://localhost:8080/",
          "height": 551,
          "referenced_widgets": [
            "b5060a53419c4af3b8e9e29f264382d1",
            "95214e15316349498e233119a96078c9",
            "7fceae272a634494b1abf17fa2ecc530",
            "f086b10a652d40559104c508c71b0548",
            "236ebdabe666429cb2d238266bffa5ab",
            "e25079bea25a452ca447696a91b230d2",
            "cfde94bcf49b4a22ae83795d5e206d3b",
            "3cb5942890ef456fb14f113f5395248d",
            "f0558c812cc14ea4b30dec2048ad516e",
            "1559bb6df224465f858dca4f1117609b",
            "7d9d7d0028714e85a78b0936ad9df162"
          ]
        },
        "outputId": "ed3d57dd-a5dc-4808-c11f-b0de45576932"
      },
      "source": [
        "best= compare_models(n_select = 2, sort= 'Accuracy')"
      ],
      "execution_count": 7,
      "outputs": [
        {
          "output_type": "display_data",
          "data": {
            "text/plain": [
              "<IPython.core.display.HTML object>"
            ],
            "text/html": []
          },
          "metadata": {}
        },
        {
          "output_type": "display_data",
          "data": {
            "text/plain": [
              "<pandas.io.formats.style.Styler at 0x7e0ea1e8e5d0>"
            ],
            "text/html": [
              "<style type=\"text/css\">\n",
              "#T_7e6e2 th {\n",
              "  text-align: left;\n",
              "}\n",
              "#T_7e6e2_row0_col0, #T_7e6e2_row0_col2, #T_7e6e2_row1_col0, #T_7e6e2_row1_col2, #T_7e6e2_row2_col0, #T_7e6e2_row2_col2, #T_7e6e2_row3_col0, #T_7e6e2_row3_col2, #T_7e6e2_row4_col0, #T_7e6e2_row4_col1, #T_7e6e2_row4_col3, #T_7e6e2_row4_col4, #T_7e6e2_row4_col5, #T_7e6e2_row4_col6, #T_7e6e2_row4_col7, #T_7e6e2_row5_col0, #T_7e6e2_row5_col1, #T_7e6e2_row5_col2, #T_7e6e2_row5_col3, #T_7e6e2_row5_col4, #T_7e6e2_row5_col5, #T_7e6e2_row5_col6, #T_7e6e2_row5_col7, #T_7e6e2_row6_col0, #T_7e6e2_row6_col1, #T_7e6e2_row6_col3, #T_7e6e2_row6_col4, #T_7e6e2_row6_col5, #T_7e6e2_row6_col6, #T_7e6e2_row6_col7, #T_7e6e2_row7_col0, #T_7e6e2_row7_col1, #T_7e6e2_row7_col2, #T_7e6e2_row7_col3, #T_7e6e2_row7_col4, #T_7e6e2_row7_col5, #T_7e6e2_row7_col6, #T_7e6e2_row7_col7, #T_7e6e2_row8_col0, #T_7e6e2_row8_col1, #T_7e6e2_row8_col2, #T_7e6e2_row8_col3, #T_7e6e2_row8_col4, #T_7e6e2_row8_col5, #T_7e6e2_row8_col6, #T_7e6e2_row8_col7, #T_7e6e2_row9_col0, #T_7e6e2_row9_col1, #T_7e6e2_row9_col2, #T_7e6e2_row9_col3, #T_7e6e2_row9_col4, #T_7e6e2_row9_col5, #T_7e6e2_row9_col6, #T_7e6e2_row9_col7, #T_7e6e2_row10_col0, #T_7e6e2_row10_col1, #T_7e6e2_row10_col2, #T_7e6e2_row10_col3, #T_7e6e2_row10_col4, #T_7e6e2_row10_col5, #T_7e6e2_row10_col6, #T_7e6e2_row10_col7, #T_7e6e2_row11_col0, #T_7e6e2_row11_col1, #T_7e6e2_row11_col2, #T_7e6e2_row11_col3, #T_7e6e2_row11_col4, #T_7e6e2_row11_col5, #T_7e6e2_row11_col6, #T_7e6e2_row11_col7, #T_7e6e2_row12_col0, #T_7e6e2_row12_col1, #T_7e6e2_row12_col2, #T_7e6e2_row12_col3, #T_7e6e2_row12_col4, #T_7e6e2_row12_col5, #T_7e6e2_row12_col6, #T_7e6e2_row12_col7, #T_7e6e2_row13_col0, #T_7e6e2_row13_col1, #T_7e6e2_row13_col2, #T_7e6e2_row13_col3, #T_7e6e2_row13_col4, #T_7e6e2_row13_col5, #T_7e6e2_row13_col6, #T_7e6e2_row13_col7, #T_7e6e2_row14_col0, #T_7e6e2_row14_col1, #T_7e6e2_row14_col2, #T_7e6e2_row14_col3, #T_7e6e2_row14_col4, #T_7e6e2_row14_col5, #T_7e6e2_row14_col6, #T_7e6e2_row14_col7, #T_7e6e2_row15_col0, #T_7e6e2_row15_col1, #T_7e6e2_row15_col2, #T_7e6e2_row15_col3, #T_7e6e2_row15_col4, #T_7e6e2_row15_col5, #T_7e6e2_row15_col6, #T_7e6e2_row15_col7 {\n",
              "  text-align: left;\n",
              "}\n",
              "#T_7e6e2_row0_col1, #T_7e6e2_row0_col3, #T_7e6e2_row0_col4, #T_7e6e2_row0_col5, #T_7e6e2_row0_col6, #T_7e6e2_row0_col7, #T_7e6e2_row1_col1, #T_7e6e2_row1_col3, #T_7e6e2_row1_col4, #T_7e6e2_row1_col5, #T_7e6e2_row1_col6, #T_7e6e2_row1_col7, #T_7e6e2_row2_col1, #T_7e6e2_row2_col3, #T_7e6e2_row2_col4, #T_7e6e2_row2_col5, #T_7e6e2_row2_col6, #T_7e6e2_row2_col7, #T_7e6e2_row3_col1, #T_7e6e2_row3_col3, #T_7e6e2_row3_col4, #T_7e6e2_row3_col5, #T_7e6e2_row3_col6, #T_7e6e2_row3_col7, #T_7e6e2_row4_col2, #T_7e6e2_row6_col2 {\n",
              "  text-align: left;\n",
              "  background-color: yellow;\n",
              "}\n",
              "#T_7e6e2_row0_col8, #T_7e6e2_row1_col8, #T_7e6e2_row3_col8, #T_7e6e2_row4_col8, #T_7e6e2_row5_col8, #T_7e6e2_row6_col8, #T_7e6e2_row7_col8, #T_7e6e2_row8_col8, #T_7e6e2_row9_col8, #T_7e6e2_row10_col8, #T_7e6e2_row11_col8, #T_7e6e2_row12_col8, #T_7e6e2_row13_col8, #T_7e6e2_row14_col8, #T_7e6e2_row15_col8 {\n",
              "  text-align: left;\n",
              "  background-color: lightgrey;\n",
              "}\n",
              "#T_7e6e2_row2_col8 {\n",
              "  text-align: left;\n",
              "  background-color: yellow;\n",
              "  background-color: lightgrey;\n",
              "}\n",
              "</style>\n",
              "<table id=\"T_7e6e2\" class=\"dataframe\">\n",
              "  <thead>\n",
              "    <tr>\n",
              "      <th class=\"blank level0\" >&nbsp;</th>\n",
              "      <th id=\"T_7e6e2_level0_col0\" class=\"col_heading level0 col0\" >Model</th>\n",
              "      <th id=\"T_7e6e2_level0_col1\" class=\"col_heading level0 col1\" >Accuracy</th>\n",
              "      <th id=\"T_7e6e2_level0_col2\" class=\"col_heading level0 col2\" >AUC</th>\n",
              "      <th id=\"T_7e6e2_level0_col3\" class=\"col_heading level0 col3\" >Recall</th>\n",
              "      <th id=\"T_7e6e2_level0_col4\" class=\"col_heading level0 col4\" >Prec.</th>\n",
              "      <th id=\"T_7e6e2_level0_col5\" class=\"col_heading level0 col5\" >F1</th>\n",
              "      <th id=\"T_7e6e2_level0_col6\" class=\"col_heading level0 col6\" >Kappa</th>\n",
              "      <th id=\"T_7e6e2_level0_col7\" class=\"col_heading level0 col7\" >MCC</th>\n",
              "      <th id=\"T_7e6e2_level0_col8\" class=\"col_heading level0 col8\" >TT (Sec)</th>\n",
              "    </tr>\n",
              "  </thead>\n",
              "  <tbody>\n",
              "    <tr>\n",
              "      <th id=\"T_7e6e2_level0_row0\" class=\"row_heading level0 row0\" >lr</th>\n",
              "      <td id=\"T_7e6e2_row0_col0\" class=\"data row0 col0\" >Logistic Regression</td>\n",
              "      <td id=\"T_7e6e2_row0_col1\" class=\"data row0 col1\" >0.9718</td>\n",
              "      <td id=\"T_7e6e2_row0_col2\" class=\"data row0 col2\" >0.0000</td>\n",
              "      <td id=\"T_7e6e2_row0_col3\" class=\"data row0 col3\" >0.9718</td>\n",
              "      <td id=\"T_7e6e2_row0_col4\" class=\"data row0 col4\" >0.9780</td>\n",
              "      <td id=\"T_7e6e2_row0_col5\" class=\"data row0 col5\" >0.9712</td>\n",
              "      <td id=\"T_7e6e2_row0_col6\" class=\"data row0 col6\" >0.9573</td>\n",
              "      <td id=\"T_7e6e2_row0_col7\" class=\"data row0 col7\" >0.9609</td>\n",
              "      <td id=\"T_7e6e2_row0_col8\" class=\"data row0 col8\" >0.0430</td>\n",
              "    </tr>\n",
              "    <tr>\n",
              "      <th id=\"T_7e6e2_level0_row1\" class=\"row_heading level0 row1\" >knn</th>\n",
              "      <td id=\"T_7e6e2_row1_col0\" class=\"data row1 col0\" >K Neighbors Classifier</td>\n",
              "      <td id=\"T_7e6e2_row1_col1\" class=\"data row1 col1\" >0.9718</td>\n",
              "      <td id=\"T_7e6e2_row1_col2\" class=\"data row1 col2\" >0.9830</td>\n",
              "      <td id=\"T_7e6e2_row1_col3\" class=\"data row1 col3\" >0.9718</td>\n",
              "      <td id=\"T_7e6e2_row1_col4\" class=\"data row1 col4\" >0.9780</td>\n",
              "      <td id=\"T_7e6e2_row1_col5\" class=\"data row1 col5\" >0.9712</td>\n",
              "      <td id=\"T_7e6e2_row1_col6\" class=\"data row1 col6\" >0.9573</td>\n",
              "      <td id=\"T_7e6e2_row1_col7\" class=\"data row1 col7\" >0.9609</td>\n",
              "      <td id=\"T_7e6e2_row1_col8\" class=\"data row1 col8\" >0.0460</td>\n",
              "    </tr>\n",
              "    <tr>\n",
              "      <th id=\"T_7e6e2_level0_row2\" class=\"row_heading level0 row2\" >qda</th>\n",
              "      <td id=\"T_7e6e2_row2_col0\" class=\"data row2 col0\" >Quadratic Discriminant Analysis</td>\n",
              "      <td id=\"T_7e6e2_row2_col1\" class=\"data row2 col1\" >0.9718</td>\n",
              "      <td id=\"T_7e6e2_row2_col2\" class=\"data row2 col2\" >0.0000</td>\n",
              "      <td id=\"T_7e6e2_row2_col3\" class=\"data row2 col3\" >0.9718</td>\n",
              "      <td id=\"T_7e6e2_row2_col4\" class=\"data row2 col4\" >0.9780</td>\n",
              "      <td id=\"T_7e6e2_row2_col5\" class=\"data row2 col5\" >0.9712</td>\n",
              "      <td id=\"T_7e6e2_row2_col6\" class=\"data row2 col6\" >0.9573</td>\n",
              "      <td id=\"T_7e6e2_row2_col7\" class=\"data row2 col7\" >0.9609</td>\n",
              "      <td id=\"T_7e6e2_row2_col8\" class=\"data row2 col8\" >0.0270</td>\n",
              "    </tr>\n",
              "    <tr>\n",
              "      <th id=\"T_7e6e2_level0_row3\" class=\"row_heading level0 row3\" >lda</th>\n",
              "      <td id=\"T_7e6e2_row3_col0\" class=\"data row3 col0\" >Linear Discriminant Analysis</td>\n",
              "      <td id=\"T_7e6e2_row3_col1\" class=\"data row3 col1\" >0.9718</td>\n",
              "      <td id=\"T_7e6e2_row3_col2\" class=\"data row3 col2\" >0.0000</td>\n",
              "      <td id=\"T_7e6e2_row3_col3\" class=\"data row3 col3\" >0.9718</td>\n",
              "      <td id=\"T_7e6e2_row3_col4\" class=\"data row3 col4\" >0.9780</td>\n",
              "      <td id=\"T_7e6e2_row3_col5\" class=\"data row3 col5\" >0.9712</td>\n",
              "      <td id=\"T_7e6e2_row3_col6\" class=\"data row3 col6\" >0.9573</td>\n",
              "      <td id=\"T_7e6e2_row3_col7\" class=\"data row3 col7\" >0.9609</td>\n",
              "      <td id=\"T_7e6e2_row3_col8\" class=\"data row3 col8\" >0.0290</td>\n",
              "    </tr>\n",
              "    <tr>\n",
              "      <th id=\"T_7e6e2_level0_row4\" class=\"row_heading level0 row4\" >lightgbm</th>\n",
              "      <td id=\"T_7e6e2_row4_col0\" class=\"data row4 col0\" >Light Gradient Boosting Machine</td>\n",
              "      <td id=\"T_7e6e2_row4_col1\" class=\"data row4 col1\" >0.9536</td>\n",
              "      <td id=\"T_7e6e2_row4_col2\" class=\"data row4 col2\" >0.9935</td>\n",
              "      <td id=\"T_7e6e2_row4_col3\" class=\"data row4 col3\" >0.9536</td>\n",
              "      <td id=\"T_7e6e2_row4_col4\" class=\"data row4 col4\" >0.9634</td>\n",
              "      <td id=\"T_7e6e2_row4_col5\" class=\"data row4 col5\" >0.9528</td>\n",
              "      <td id=\"T_7e6e2_row4_col6\" class=\"data row4 col6\" >0.9298</td>\n",
              "      <td id=\"T_7e6e2_row4_col7\" class=\"data row4 col7\" >0.9356</td>\n",
              "      <td id=\"T_7e6e2_row4_col8\" class=\"data row4 col8\" >0.1870</td>\n",
              "    </tr>\n",
              "    <tr>\n",
              "      <th id=\"T_7e6e2_level0_row5\" class=\"row_heading level0 row5\" >nb</th>\n",
              "      <td id=\"T_7e6e2_row5_col0\" class=\"data row5 col0\" >Naive Bayes</td>\n",
              "      <td id=\"T_7e6e2_row5_col1\" class=\"data row5 col1\" >0.9445</td>\n",
              "      <td id=\"T_7e6e2_row5_col2\" class=\"data row5 col2\" >0.9868</td>\n",
              "      <td id=\"T_7e6e2_row5_col3\" class=\"data row5 col3\" >0.9445</td>\n",
              "      <td id=\"T_7e6e2_row5_col4\" class=\"data row5 col4\" >0.9525</td>\n",
              "      <td id=\"T_7e6e2_row5_col5\" class=\"data row5 col5\" >0.9438</td>\n",
              "      <td id=\"T_7e6e2_row5_col6\" class=\"data row5 col6\" >0.9161</td>\n",
              "      <td id=\"T_7e6e2_row5_col7\" class=\"data row5 col7\" >0.9207</td>\n",
              "      <td id=\"T_7e6e2_row5_col8\" class=\"data row5 col8\" >0.0310</td>\n",
              "    </tr>\n",
              "    <tr>\n",
              "      <th id=\"T_7e6e2_level0_row6\" class=\"row_heading level0 row6\" >et</th>\n",
              "      <td id=\"T_7e6e2_row6_col0\" class=\"data row6 col0\" >Extra Trees Classifier</td>\n",
              "      <td id=\"T_7e6e2_row6_col1\" class=\"data row6 col1\" >0.9445</td>\n",
              "      <td id=\"T_7e6e2_row6_col2\" class=\"data row6 col2\" >0.9935</td>\n",
              "      <td id=\"T_7e6e2_row6_col3\" class=\"data row6 col3\" >0.9445</td>\n",
              "      <td id=\"T_7e6e2_row6_col4\" class=\"data row6 col4\" >0.9586</td>\n",
              "      <td id=\"T_7e6e2_row6_col5\" class=\"data row6 col5\" >0.9426</td>\n",
              "      <td id=\"T_7e6e2_row6_col6\" class=\"data row6 col6\" >0.9161</td>\n",
              "      <td id=\"T_7e6e2_row6_col7\" class=\"data row6 col7\" >0.9246</td>\n",
              "      <td id=\"T_7e6e2_row6_col8\" class=\"data row6 col8\" >0.2120</td>\n",
              "    </tr>\n",
              "    <tr>\n",
              "      <th id=\"T_7e6e2_level0_row7\" class=\"row_heading level0 row7\" >catboost</th>\n",
              "      <td id=\"T_7e6e2_row7_col0\" class=\"data row7 col0\" >CatBoost Classifier</td>\n",
              "      <td id=\"T_7e6e2_row7_col1\" class=\"data row7 col1\" >0.9445</td>\n",
              "      <td id=\"T_7e6e2_row7_col2\" class=\"data row7 col2\" >0.9922</td>\n",
              "      <td id=\"T_7e6e2_row7_col3\" class=\"data row7 col3\" >0.9445</td>\n",
              "      <td id=\"T_7e6e2_row7_col4\" class=\"data row7 col4\" >0.9586</td>\n",
              "      <td id=\"T_7e6e2_row7_col5\" class=\"data row7 col5\" >0.9426</td>\n",
              "      <td id=\"T_7e6e2_row7_col6\" class=\"data row7 col6\" >0.9161</td>\n",
              "      <td id=\"T_7e6e2_row7_col7\" class=\"data row7 col7\" >0.9246</td>\n",
              "      <td id=\"T_7e6e2_row7_col8\" class=\"data row7 col8\" >0.9190</td>\n",
              "    </tr>\n",
              "    <tr>\n",
              "      <th id=\"T_7e6e2_level0_row8\" class=\"row_heading level0 row8\" >gbc</th>\n",
              "      <td id=\"T_7e6e2_row8_col0\" class=\"data row8 col0\" >Gradient Boosting Classifier</td>\n",
              "      <td id=\"T_7e6e2_row8_col1\" class=\"data row8 col1\" >0.9355</td>\n",
              "      <td id=\"T_7e6e2_row8_col2\" class=\"data row8 col2\" >0.0000</td>\n",
              "      <td id=\"T_7e6e2_row8_col3\" class=\"data row8 col3\" >0.9355</td>\n",
              "      <td id=\"T_7e6e2_row8_col4\" class=\"data row8 col4\" >0.9416</td>\n",
              "      <td id=\"T_7e6e2_row8_col5\" class=\"data row8 col5\" >0.9325</td>\n",
              "      <td id=\"T_7e6e2_row8_col6\" class=\"data row8 col6\" >0.9023</td>\n",
              "      <td id=\"T_7e6e2_row8_col7\" class=\"data row8 col7\" >0.9083</td>\n",
              "      <td id=\"T_7e6e2_row8_col8\" class=\"data row8 col8\" >0.2650</td>\n",
              "    </tr>\n",
              "    <tr>\n",
              "      <th id=\"T_7e6e2_level0_row9\" class=\"row_heading level0 row9\" >dt</th>\n",
              "      <td id=\"T_7e6e2_row9_col0\" class=\"data row9 col0\" >Decision Tree Classifier</td>\n",
              "      <td id=\"T_7e6e2_row9_col1\" class=\"data row9 col1\" >0.9264</td>\n",
              "      <td id=\"T_7e6e2_row9_col2\" class=\"data row9 col2\" >0.9429</td>\n",
              "      <td id=\"T_7e6e2_row9_col3\" class=\"data row9 col3\" >0.9264</td>\n",
              "      <td id=\"T_7e6e2_row9_col4\" class=\"data row9 col4\" >0.9502</td>\n",
              "      <td id=\"T_7e6e2_row9_col5\" class=\"data row9 col5\" >0.9201</td>\n",
              "      <td id=\"T_7e6e2_row9_col6\" class=\"data row9 col6\" >0.8886</td>\n",
              "      <td id=\"T_7e6e2_row9_col7\" class=\"data row9 col7\" >0.9040</td>\n",
              "      <td id=\"T_7e6e2_row9_col8\" class=\"data row9 col8\" >0.0310</td>\n",
              "    </tr>\n",
              "    <tr>\n",
              "      <th id=\"T_7e6e2_level0_row10\" class=\"row_heading level0 row10\" >rf</th>\n",
              "      <td id=\"T_7e6e2_row10_col0\" class=\"data row10 col0\" >Random Forest Classifier</td>\n",
              "      <td id=\"T_7e6e2_row10_col1\" class=\"data row10 col1\" >0.9264</td>\n",
              "      <td id=\"T_7e6e2_row10_col2\" class=\"data row10 col2\" >0.9909</td>\n",
              "      <td id=\"T_7e6e2_row10_col3\" class=\"data row10 col3\" >0.9264</td>\n",
              "      <td id=\"T_7e6e2_row10_col4\" class=\"data row10 col4\" >0.9343</td>\n",
              "      <td id=\"T_7e6e2_row10_col5\" class=\"data row10 col5\" >0.9232</td>\n",
              "      <td id=\"T_7e6e2_row10_col6\" class=\"data row10 col6\" >0.8886</td>\n",
              "      <td id=\"T_7e6e2_row10_col7\" class=\"data row10 col7\" >0.8956</td>\n",
              "      <td id=\"T_7e6e2_row10_col8\" class=\"data row10 col8\" >0.2200</td>\n",
              "    </tr>\n",
              "    <tr>\n",
              "      <th id=\"T_7e6e2_level0_row11\" class=\"row_heading level0 row11\" >xgboost</th>\n",
              "      <td id=\"T_7e6e2_row11_col0\" class=\"data row11 col0\" >Extreme Gradient Boosting</td>\n",
              "      <td id=\"T_7e6e2_row11_col1\" class=\"data row11 col1\" >0.9255</td>\n",
              "      <td id=\"T_7e6e2_row11_col2\" class=\"data row11 col2\" >0.9710</td>\n",
              "      <td id=\"T_7e6e2_row11_col3\" class=\"data row11 col3\" >0.9255</td>\n",
              "      <td id=\"T_7e6e2_row11_col4\" class=\"data row11 col4\" >0.9360</td>\n",
              "      <td id=\"T_7e6e2_row11_col5\" class=\"data row11 col5\" >0.9239</td>\n",
              "      <td id=\"T_7e6e2_row11_col6\" class=\"data row11 col6\" >0.8870</td>\n",
              "      <td id=\"T_7e6e2_row11_col7\" class=\"data row11 col7\" >0.8937</td>\n",
              "      <td id=\"T_7e6e2_row11_col8\" class=\"data row11 col8\" >0.1030</td>\n",
              "    </tr>\n",
              "    <tr>\n",
              "      <th id=\"T_7e6e2_level0_row12\" class=\"row_heading level0 row12\" >ada</th>\n",
              "      <td id=\"T_7e6e2_row12_col0\" class=\"data row12 col0\" >Ada Boost Classifier</td>\n",
              "      <td id=\"T_7e6e2_row12_col1\" class=\"data row12 col1\" >0.9155</td>\n",
              "      <td id=\"T_7e6e2_row12_col2\" class=\"data row12 col2\" >0.0000</td>\n",
              "      <td id=\"T_7e6e2_row12_col3\" class=\"data row12 col3\" >0.9155</td>\n",
              "      <td id=\"T_7e6e2_row12_col4\" class=\"data row12 col4\" >0.9401</td>\n",
              "      <td id=\"T_7e6e2_row12_col5\" class=\"data row12 col5\" >0.9097</td>\n",
              "      <td id=\"T_7e6e2_row12_col6\" class=\"data row12 col6\" >0.8720</td>\n",
              "      <td id=\"T_7e6e2_row12_col7\" class=\"data row12 col7\" >0.8873</td>\n",
              "      <td id=\"T_7e6e2_row12_col8\" class=\"data row12 col8\" >0.1060</td>\n",
              "    </tr>\n",
              "    <tr>\n",
              "      <th id=\"T_7e6e2_level0_row13\" class=\"row_heading level0 row13\" >ridge</th>\n",
              "      <td id=\"T_7e6e2_row13_col0\" class=\"data row13 col0\" >Ridge Classifier</td>\n",
              "      <td id=\"T_7e6e2_row13_col1\" class=\"data row13 col1\" >0.8227</td>\n",
              "      <td id=\"T_7e6e2_row13_col2\" class=\"data row13 col2\" >0.0000</td>\n",
              "      <td id=\"T_7e6e2_row13_col3\" class=\"data row13 col3\" >0.8227</td>\n",
              "      <td id=\"T_7e6e2_row13_col4\" class=\"data row13 col4\" >0.8437</td>\n",
              "      <td id=\"T_7e6e2_row13_col5\" class=\"data row13 col5\" >0.8186</td>\n",
              "      <td id=\"T_7e6e2_row13_col6\" class=\"data row13 col6\" >0.7320</td>\n",
              "      <td id=\"T_7e6e2_row13_col7\" class=\"data row13 col7\" >0.7454</td>\n",
              "      <td id=\"T_7e6e2_row13_col8\" class=\"data row13 col8\" >0.0500</td>\n",
              "    </tr>\n",
              "    <tr>\n",
              "      <th id=\"T_7e6e2_level0_row14\" class=\"row_heading level0 row14\" >svm</th>\n",
              "      <td id=\"T_7e6e2_row14_col0\" class=\"data row14 col0\" >SVM - Linear Kernel</td>\n",
              "      <td id=\"T_7e6e2_row14_col1\" class=\"data row14 col1\" >0.7618</td>\n",
              "      <td id=\"T_7e6e2_row14_col2\" class=\"data row14 col2\" >0.0000</td>\n",
              "      <td id=\"T_7e6e2_row14_col3\" class=\"data row14 col3\" >0.7618</td>\n",
              "      <td id=\"T_7e6e2_row14_col4\" class=\"data row14 col4\" >0.6655</td>\n",
              "      <td id=\"T_7e6e2_row14_col5\" class=\"data row14 col5\" >0.6888</td>\n",
              "      <td id=\"T_7e6e2_row14_col6\" class=\"data row14 col6\" >0.6333</td>\n",
              "      <td id=\"T_7e6e2_row14_col7\" class=\"data row14 col7\" >0.7048</td>\n",
              "      <td id=\"T_7e6e2_row14_col8\" class=\"data row14 col8\" >0.0660</td>\n",
              "    </tr>\n",
              "    <tr>\n",
              "      <th id=\"T_7e6e2_level0_row15\" class=\"row_heading level0 row15\" >dummy</th>\n",
              "      <td id=\"T_7e6e2_row15_col0\" class=\"data row15 col0\" >Dummy Classifier</td>\n",
              "      <td id=\"T_7e6e2_row15_col1\" class=\"data row15 col1\" >0.2864</td>\n",
              "      <td id=\"T_7e6e2_row15_col2\" class=\"data row15 col2\" >0.5000</td>\n",
              "      <td id=\"T_7e6e2_row15_col3\" class=\"data row15 col3\" >0.2864</td>\n",
              "      <td id=\"T_7e6e2_row15_col4\" class=\"data row15 col4\" >0.0822</td>\n",
              "      <td id=\"T_7e6e2_row15_col5\" class=\"data row15 col5\" >0.1277</td>\n",
              "      <td id=\"T_7e6e2_row15_col6\" class=\"data row15 col6\" >0.0000</td>\n",
              "      <td id=\"T_7e6e2_row15_col7\" class=\"data row15 col7\" >0.0000</td>\n",
              "      <td id=\"T_7e6e2_row15_col8\" class=\"data row15 col8\" >0.0690</td>\n",
              "    </tr>\n",
              "  </tbody>\n",
              "</table>\n"
            ]
          },
          "metadata": {}
        },
        {
          "output_type": "display_data",
          "data": {
            "text/plain": [
              "Processing:   0%|          | 0/70 [00:00<?, ?it/s]"
            ],
            "application/vnd.jupyter.widget-view+json": {
              "version_major": 2,
              "version_minor": 0,
              "model_id": "b5060a53419c4af3b8e9e29f264382d1"
            }
          },
          "metadata": {
            "application/vnd.jupyter.widget-view+json": {
              "colab": {
                "custom_widget_manager": {
                  "url": "https://ssl.gstatic.com/colaboratory-static/widgets/colab-cdn-widget-manager/2b70e893a8ba7c0f/manager.min.js"
                }
              }
            }
          }
        },
        {
          "output_type": "display_data",
          "data": {
            "text/plain": [
              "<IPython.core.display.HTML object>"
            ],
            "text/html": []
          },
          "metadata": {}
        }
      ]
    },
    {
      "cell_type": "code",
      "metadata": {
        "id": "QWV1Yz6Vx-oH"
      },
      "source": [
        "compare_model_result = pull()\n",
        "\n"
      ],
      "execution_count": null,
      "outputs": []
    },
    {
      "cell_type": "markdown",
      "metadata": {
        "id": "2CyvW0n6yt2U"
      },
      "source": [
        "since the RandomForestregressor was evaluated to have a comparatively better Accuracy, let us build the model using RandomForestregressor"
      ]
    },
    {
      "cell_type": "markdown",
      "source": [
        "##<p style=\"font-family:JetBrains Mono; font-weight:normal; letter-spacing: 1px; color:#207d06; font-size:100%; text-align:left;padding: 0px; border-bottom: 3px solid #207d06;\">**3- Create a model**</p>\n"
      ],
      "metadata": {
        "id": "3EUl9Lcn3R7H"
      }
    },
    {
      "cell_type": "code",
      "metadata": {
        "id": "tTTkN03zAsnv",
        "colab": {
          "base_uri": "https://localhost:8080/",
          "height": 457,
          "referenced_widgets": [
            "5eddcf2ca6694774a0d590220dc6cf02",
            "1905609a80544e579941712f6420761e",
            "cc8d80d570a541e6ad0211721f5a5c3c",
            "560a9df2bfba4176819bfce61d475cae",
            "60f9dd8ba7e84cccb6dd9f010e9a0059",
            "c7ff12f5968a4feebdffd07dc23cd063",
            "f739af95a6e040ea9f24d9cdd9a43b37",
            "2e89b948f0d34ac48d0989b35f17ec20",
            "8c3d830d01ad4e6584ac9222fcc9cd45",
            "0a9afc85966a474e8badf65716db37cf",
            "e17ef2b06265473d8f7e6a3474ae5a48"
          ]
        },
        "outputId": "877885d9-705a-48aa-94c7-fb17277bc081"
      },
      "source": [
        "lr = create_model('lr')"
      ],
      "execution_count": 8,
      "outputs": [
        {
          "output_type": "display_data",
          "data": {
            "text/plain": [
              "<IPython.core.display.HTML object>"
            ],
            "text/html": []
          },
          "metadata": {}
        },
        {
          "output_type": "display_data",
          "data": {
            "text/plain": [
              "<pandas.io.formats.style.Styler at 0x7e0ea28dc8d0>"
            ],
            "text/html": [
              "<style type=\"text/css\">\n",
              "#T_84063_row10_col0, #T_84063_row10_col1, #T_84063_row10_col2, #T_84063_row10_col3, #T_84063_row10_col4, #T_84063_row10_col5, #T_84063_row10_col6 {\n",
              "  background: yellow;\n",
              "}\n",
              "</style>\n",
              "<table id=\"T_84063\" class=\"dataframe\">\n",
              "  <thead>\n",
              "    <tr>\n",
              "      <th class=\"blank level0\" >&nbsp;</th>\n",
              "      <th id=\"T_84063_level0_col0\" class=\"col_heading level0 col0\" >Accuracy</th>\n",
              "      <th id=\"T_84063_level0_col1\" class=\"col_heading level0 col1\" >AUC</th>\n",
              "      <th id=\"T_84063_level0_col2\" class=\"col_heading level0 col2\" >Recall</th>\n",
              "      <th id=\"T_84063_level0_col3\" class=\"col_heading level0 col3\" >Prec.</th>\n",
              "      <th id=\"T_84063_level0_col4\" class=\"col_heading level0 col4\" >F1</th>\n",
              "      <th id=\"T_84063_level0_col5\" class=\"col_heading level0 col5\" >Kappa</th>\n",
              "      <th id=\"T_84063_level0_col6\" class=\"col_heading level0 col6\" >MCC</th>\n",
              "    </tr>\n",
              "    <tr>\n",
              "      <th class=\"index_name level0\" >Fold</th>\n",
              "      <th class=\"blank col0\" >&nbsp;</th>\n",
              "      <th class=\"blank col1\" >&nbsp;</th>\n",
              "      <th class=\"blank col2\" >&nbsp;</th>\n",
              "      <th class=\"blank col3\" >&nbsp;</th>\n",
              "      <th class=\"blank col4\" >&nbsp;</th>\n",
              "      <th class=\"blank col5\" >&nbsp;</th>\n",
              "      <th class=\"blank col6\" >&nbsp;</th>\n",
              "    </tr>\n",
              "  </thead>\n",
              "  <tbody>\n",
              "    <tr>\n",
              "      <th id=\"T_84063_level0_row0\" class=\"row_heading level0 row0\" >0</th>\n",
              "      <td id=\"T_84063_row0_col0\" class=\"data row0 col0\" >0.9091</td>\n",
              "      <td id=\"T_84063_row0_col1\" class=\"data row0 col1\" >0.0000</td>\n",
              "      <td id=\"T_84063_row0_col2\" class=\"data row0 col2\" >0.9091</td>\n",
              "      <td id=\"T_84063_row0_col3\" class=\"data row0 col3\" >0.9273</td>\n",
              "      <td id=\"T_84063_row0_col4\" class=\"data row0 col4\" >0.9076</td>\n",
              "      <td id=\"T_84063_row0_col5\" class=\"data row0 col5\" >0.8625</td>\n",
              "      <td id=\"T_84063_row0_col6\" class=\"data row0 col6\" >0.8735</td>\n",
              "    </tr>\n",
              "    <tr>\n",
              "      <th id=\"T_84063_level0_row1\" class=\"row_heading level0 row1\" >1</th>\n",
              "      <td id=\"T_84063_row1_col0\" class=\"data row1 col0\" >1.0000</td>\n",
              "      <td id=\"T_84063_row1_col1\" class=\"data row1 col1\" >0.0000</td>\n",
              "      <td id=\"T_84063_row1_col2\" class=\"data row1 col2\" >1.0000</td>\n",
              "      <td id=\"T_84063_row1_col3\" class=\"data row1 col3\" >1.0000</td>\n",
              "      <td id=\"T_84063_row1_col4\" class=\"data row1 col4\" >1.0000</td>\n",
              "      <td id=\"T_84063_row1_col5\" class=\"data row1 col5\" >1.0000</td>\n",
              "      <td id=\"T_84063_row1_col6\" class=\"data row1 col6\" >1.0000</td>\n",
              "    </tr>\n",
              "    <tr>\n",
              "      <th id=\"T_84063_level0_row2\" class=\"row_heading level0 row2\" >2</th>\n",
              "      <td id=\"T_84063_row2_col0\" class=\"data row2 col0\" >0.9091</td>\n",
              "      <td id=\"T_84063_row2_col1\" class=\"data row2 col1\" >0.0000</td>\n",
              "      <td id=\"T_84063_row2_col2\" class=\"data row2 col2\" >0.9091</td>\n",
              "      <td id=\"T_84063_row2_col3\" class=\"data row2 col3\" >0.9273</td>\n",
              "      <td id=\"T_84063_row2_col4\" class=\"data row2 col4\" >0.9076</td>\n",
              "      <td id=\"T_84063_row2_col5\" class=\"data row2 col5\" >0.8625</td>\n",
              "      <td id=\"T_84063_row2_col6\" class=\"data row2 col6\" >0.8735</td>\n",
              "    </tr>\n",
              "    <tr>\n",
              "      <th id=\"T_84063_level0_row3\" class=\"row_heading level0 row3\" >3</th>\n",
              "      <td id=\"T_84063_row3_col0\" class=\"data row3 col0\" >1.0000</td>\n",
              "      <td id=\"T_84063_row3_col1\" class=\"data row3 col1\" >0.0000</td>\n",
              "      <td id=\"T_84063_row3_col2\" class=\"data row3 col2\" >1.0000</td>\n",
              "      <td id=\"T_84063_row3_col3\" class=\"data row3 col3\" >1.0000</td>\n",
              "      <td id=\"T_84063_row3_col4\" class=\"data row3 col4\" >1.0000</td>\n",
              "      <td id=\"T_84063_row3_col5\" class=\"data row3 col5\" >1.0000</td>\n",
              "      <td id=\"T_84063_row3_col6\" class=\"data row3 col6\" >1.0000</td>\n",
              "    </tr>\n",
              "    <tr>\n",
              "      <th id=\"T_84063_level0_row4\" class=\"row_heading level0 row4\" >4</th>\n",
              "      <td id=\"T_84063_row4_col0\" class=\"data row4 col0\" >1.0000</td>\n",
              "      <td id=\"T_84063_row4_col1\" class=\"data row4 col1\" >0.0000</td>\n",
              "      <td id=\"T_84063_row4_col2\" class=\"data row4 col2\" >1.0000</td>\n",
              "      <td id=\"T_84063_row4_col3\" class=\"data row4 col3\" >1.0000</td>\n",
              "      <td id=\"T_84063_row4_col4\" class=\"data row4 col4\" >1.0000</td>\n",
              "      <td id=\"T_84063_row4_col5\" class=\"data row4 col5\" >1.0000</td>\n",
              "      <td id=\"T_84063_row4_col6\" class=\"data row4 col6\" >1.0000</td>\n",
              "    </tr>\n",
              "    <tr>\n",
              "      <th id=\"T_84063_level0_row5\" class=\"row_heading level0 row5\" >5</th>\n",
              "      <td id=\"T_84063_row5_col0\" class=\"data row5 col0\" >0.9000</td>\n",
              "      <td id=\"T_84063_row5_col1\" class=\"data row5 col1\" >0.0000</td>\n",
              "      <td id=\"T_84063_row5_col2\" class=\"data row5 col2\" >0.9000</td>\n",
              "      <td id=\"T_84063_row5_col3\" class=\"data row5 col3\" >0.9250</td>\n",
              "      <td id=\"T_84063_row5_col4\" class=\"data row5 col4\" >0.8971</td>\n",
              "      <td id=\"T_84063_row5_col5\" class=\"data row5 col5\" >0.8485</td>\n",
              "      <td id=\"T_84063_row5_col6\" class=\"data row5 col6\" >0.8616</td>\n",
              "    </tr>\n",
              "    <tr>\n",
              "      <th id=\"T_84063_level0_row6\" class=\"row_heading level0 row6\" >6</th>\n",
              "      <td id=\"T_84063_row6_col0\" class=\"data row6 col0\" >1.0000</td>\n",
              "      <td id=\"T_84063_row6_col1\" class=\"data row6 col1\" >0.0000</td>\n",
              "      <td id=\"T_84063_row6_col2\" class=\"data row6 col2\" >1.0000</td>\n",
              "      <td id=\"T_84063_row6_col3\" class=\"data row6 col3\" >1.0000</td>\n",
              "      <td id=\"T_84063_row6_col4\" class=\"data row6 col4\" >1.0000</td>\n",
              "      <td id=\"T_84063_row6_col5\" class=\"data row6 col5\" >1.0000</td>\n",
              "      <td id=\"T_84063_row6_col6\" class=\"data row6 col6\" >1.0000</td>\n",
              "    </tr>\n",
              "    <tr>\n",
              "      <th id=\"T_84063_level0_row7\" class=\"row_heading level0 row7\" >7</th>\n",
              "      <td id=\"T_84063_row7_col0\" class=\"data row7 col0\" >1.0000</td>\n",
              "      <td id=\"T_84063_row7_col1\" class=\"data row7 col1\" >0.0000</td>\n",
              "      <td id=\"T_84063_row7_col2\" class=\"data row7 col2\" >1.0000</td>\n",
              "      <td id=\"T_84063_row7_col3\" class=\"data row7 col3\" >1.0000</td>\n",
              "      <td id=\"T_84063_row7_col4\" class=\"data row7 col4\" >1.0000</td>\n",
              "      <td id=\"T_84063_row7_col5\" class=\"data row7 col5\" >1.0000</td>\n",
              "      <td id=\"T_84063_row7_col6\" class=\"data row7 col6\" >1.0000</td>\n",
              "    </tr>\n",
              "    <tr>\n",
              "      <th id=\"T_84063_level0_row8\" class=\"row_heading level0 row8\" >8</th>\n",
              "      <td id=\"T_84063_row8_col0\" class=\"data row8 col0\" >1.0000</td>\n",
              "      <td id=\"T_84063_row8_col1\" class=\"data row8 col1\" >0.0000</td>\n",
              "      <td id=\"T_84063_row8_col2\" class=\"data row8 col2\" >1.0000</td>\n",
              "      <td id=\"T_84063_row8_col3\" class=\"data row8 col3\" >1.0000</td>\n",
              "      <td id=\"T_84063_row8_col4\" class=\"data row8 col4\" >1.0000</td>\n",
              "      <td id=\"T_84063_row8_col5\" class=\"data row8 col5\" >1.0000</td>\n",
              "      <td id=\"T_84063_row8_col6\" class=\"data row8 col6\" >1.0000</td>\n",
              "    </tr>\n",
              "    <tr>\n",
              "      <th id=\"T_84063_level0_row9\" class=\"row_heading level0 row9\" >9</th>\n",
              "      <td id=\"T_84063_row9_col0\" class=\"data row9 col0\" >1.0000</td>\n",
              "      <td id=\"T_84063_row9_col1\" class=\"data row9 col1\" >0.0000</td>\n",
              "      <td id=\"T_84063_row9_col2\" class=\"data row9 col2\" >1.0000</td>\n",
              "      <td id=\"T_84063_row9_col3\" class=\"data row9 col3\" >1.0000</td>\n",
              "      <td id=\"T_84063_row9_col4\" class=\"data row9 col4\" >1.0000</td>\n",
              "      <td id=\"T_84063_row9_col5\" class=\"data row9 col5\" >1.0000</td>\n",
              "      <td id=\"T_84063_row9_col6\" class=\"data row9 col6\" >1.0000</td>\n",
              "    </tr>\n",
              "    <tr>\n",
              "      <th id=\"T_84063_level0_row10\" class=\"row_heading level0 row10\" >Mean</th>\n",
              "      <td id=\"T_84063_row10_col0\" class=\"data row10 col0\" >0.9718</td>\n",
              "      <td id=\"T_84063_row10_col1\" class=\"data row10 col1\" >0.0000</td>\n",
              "      <td id=\"T_84063_row10_col2\" class=\"data row10 col2\" >0.9718</td>\n",
              "      <td id=\"T_84063_row10_col3\" class=\"data row10 col3\" >0.9780</td>\n",
              "      <td id=\"T_84063_row10_col4\" class=\"data row10 col4\" >0.9712</td>\n",
              "      <td id=\"T_84063_row10_col5\" class=\"data row10 col5\" >0.9573</td>\n",
              "      <td id=\"T_84063_row10_col6\" class=\"data row10 col6\" >0.9609</td>\n",
              "    </tr>\n",
              "    <tr>\n",
              "      <th id=\"T_84063_level0_row11\" class=\"row_heading level0 row11\" >Std</th>\n",
              "      <td id=\"T_84063_row11_col0\" class=\"data row11 col0\" >0.0431</td>\n",
              "      <td id=\"T_84063_row11_col1\" class=\"data row11 col1\" >0.0000</td>\n",
              "      <td id=\"T_84063_row11_col2\" class=\"data row11 col2\" >0.0431</td>\n",
              "      <td id=\"T_84063_row11_col3\" class=\"data row11 col3\" >0.0337</td>\n",
              "      <td id=\"T_84063_row11_col4\" class=\"data row11 col4\" >0.0440</td>\n",
              "      <td id=\"T_84063_row11_col5\" class=\"data row11 col5\" >0.0653</td>\n",
              "      <td id=\"T_84063_row11_col6\" class=\"data row11 col6\" >0.0599</td>\n",
              "    </tr>\n",
              "  </tbody>\n",
              "</table>\n"
            ]
          },
          "metadata": {}
        },
        {
          "output_type": "display_data",
          "data": {
            "text/plain": [
              "Processing:   0%|          | 0/4 [00:00<?, ?it/s]"
            ],
            "application/vnd.jupyter.widget-view+json": {
              "version_major": 2,
              "version_minor": 0,
              "model_id": "5eddcf2ca6694774a0d590220dc6cf02"
            }
          },
          "metadata": {
            "application/vnd.jupyter.widget-view+json": {
              "colab": {
                "custom_widget_manager": {
                  "url": "https://ssl.gstatic.com/colaboratory-static/widgets/colab-cdn-widget-manager/2b70e893a8ba7c0f/manager.min.js"
                }
              }
            }
          }
        },
        {
          "output_type": "display_data",
          "data": {
            "text/plain": [
              "<IPython.core.display.HTML object>"
            ],
            "text/html": []
          },
          "metadata": {}
        }
      ]
    },
    {
      "cell_type": "markdown",
      "source": [
        "##<p style=\"font-family:JetBrains Mono; font-weight:normal; letter-spacing: 1px; color:#207d06; font-size:100%; text-align:left;padding: 0px; border-bottom: 3px solid #207d06;\">**4- Fune Tune models**</p>\n"
      ],
      "metadata": {
        "id": "1ETq9k5vsKKp"
      }
    },
    {
      "cell_type": "code",
      "source": [],
      "metadata": {
        "id": "WvIuHIdnl3LS"
      },
      "execution_count": null,
      "outputs": []
    },
    {
      "cell_type": "code",
      "source": [
        "tuned_lr = tune_model(lr)"
      ],
      "metadata": {
        "id": "BWqkQTC69Ps6",
        "colab": {
          "base_uri": "https://localhost:8080/",
          "height": 512,
          "referenced_widgets": [
            "bfa59bdea60e416b8afd543fb54376a0",
            "0cc2080657bc42f6802ade5eebc54715",
            "96f2f713b5ae4494b1a181743003b9de",
            "4e96dbbe73c54a6f86af1104c9c51195",
            "530ca4060154410891d7c26f5d6c919a",
            "e240c2a0817e4a10b8220a1fbbe46cdc",
            "581d880bbddd4c048db9c0b7d3dc3ecc",
            "f4e3267e86f04ffa9dacdf35c0ba0335",
            "0a7241334c314ecd9b66fd1620b7587e",
            "a197de60da7b4988894b6e282f63fbc1",
            "1b078964b6b94be4b12476a5eba44725"
          ]
        },
        "outputId": "5d50e859-27c2-4717-f912-b6944612e92e"
      },
      "execution_count": 10,
      "outputs": [
        {
          "output_type": "display_data",
          "data": {
            "text/plain": [
              "<IPython.core.display.HTML object>"
            ],
            "text/html": []
          },
          "metadata": {}
        },
        {
          "output_type": "display_data",
          "data": {
            "text/plain": [
              "<pandas.io.formats.style.Styler at 0x7e0ea1634f90>"
            ],
            "text/html": [
              "<style type=\"text/css\">\n",
              "#T_bad79_row10_col0, #T_bad79_row10_col1, #T_bad79_row10_col2, #T_bad79_row10_col3, #T_bad79_row10_col4, #T_bad79_row10_col5, #T_bad79_row10_col6 {\n",
              "  background: yellow;\n",
              "}\n",
              "</style>\n",
              "<table id=\"T_bad79\" class=\"dataframe\">\n",
              "  <thead>\n",
              "    <tr>\n",
              "      <th class=\"blank level0\" >&nbsp;</th>\n",
              "      <th id=\"T_bad79_level0_col0\" class=\"col_heading level0 col0\" >Accuracy</th>\n",
              "      <th id=\"T_bad79_level0_col1\" class=\"col_heading level0 col1\" >AUC</th>\n",
              "      <th id=\"T_bad79_level0_col2\" class=\"col_heading level0 col2\" >Recall</th>\n",
              "      <th id=\"T_bad79_level0_col3\" class=\"col_heading level0 col3\" >Prec.</th>\n",
              "      <th id=\"T_bad79_level0_col4\" class=\"col_heading level0 col4\" >F1</th>\n",
              "      <th id=\"T_bad79_level0_col5\" class=\"col_heading level0 col5\" >Kappa</th>\n",
              "      <th id=\"T_bad79_level0_col6\" class=\"col_heading level0 col6\" >MCC</th>\n",
              "    </tr>\n",
              "    <tr>\n",
              "      <th class=\"index_name level0\" >Fold</th>\n",
              "      <th class=\"blank col0\" >&nbsp;</th>\n",
              "      <th class=\"blank col1\" >&nbsp;</th>\n",
              "      <th class=\"blank col2\" >&nbsp;</th>\n",
              "      <th class=\"blank col3\" >&nbsp;</th>\n",
              "      <th class=\"blank col4\" >&nbsp;</th>\n",
              "      <th class=\"blank col5\" >&nbsp;</th>\n",
              "      <th class=\"blank col6\" >&nbsp;</th>\n",
              "    </tr>\n",
              "  </thead>\n",
              "  <tbody>\n",
              "    <tr>\n",
              "      <th id=\"T_bad79_level0_row0\" class=\"row_heading level0 row0\" >0</th>\n",
              "      <td id=\"T_bad79_row0_col0\" class=\"data row0 col0\" >0.9091</td>\n",
              "      <td id=\"T_bad79_row0_col1\" class=\"data row0 col1\" >0.0000</td>\n",
              "      <td id=\"T_bad79_row0_col2\" class=\"data row0 col2\" >0.9091</td>\n",
              "      <td id=\"T_bad79_row0_col3\" class=\"data row0 col3\" >0.9273</td>\n",
              "      <td id=\"T_bad79_row0_col4\" class=\"data row0 col4\" >0.9076</td>\n",
              "      <td id=\"T_bad79_row0_col5\" class=\"data row0 col5\" >0.8625</td>\n",
              "      <td id=\"T_bad79_row0_col6\" class=\"data row0 col6\" >0.8735</td>\n",
              "    </tr>\n",
              "    <tr>\n",
              "      <th id=\"T_bad79_level0_row1\" class=\"row_heading level0 row1\" >1</th>\n",
              "      <td id=\"T_bad79_row1_col0\" class=\"data row1 col0\" >1.0000</td>\n",
              "      <td id=\"T_bad79_row1_col1\" class=\"data row1 col1\" >0.0000</td>\n",
              "      <td id=\"T_bad79_row1_col2\" class=\"data row1 col2\" >1.0000</td>\n",
              "      <td id=\"T_bad79_row1_col3\" class=\"data row1 col3\" >1.0000</td>\n",
              "      <td id=\"T_bad79_row1_col4\" class=\"data row1 col4\" >1.0000</td>\n",
              "      <td id=\"T_bad79_row1_col5\" class=\"data row1 col5\" >1.0000</td>\n",
              "      <td id=\"T_bad79_row1_col6\" class=\"data row1 col6\" >1.0000</td>\n",
              "    </tr>\n",
              "    <tr>\n",
              "      <th id=\"T_bad79_level0_row2\" class=\"row_heading level0 row2\" >2</th>\n",
              "      <td id=\"T_bad79_row2_col0\" class=\"data row2 col0\" >0.9091</td>\n",
              "      <td id=\"T_bad79_row2_col1\" class=\"data row2 col1\" >0.0000</td>\n",
              "      <td id=\"T_bad79_row2_col2\" class=\"data row2 col2\" >0.9091</td>\n",
              "      <td id=\"T_bad79_row2_col3\" class=\"data row2 col3\" >0.9273</td>\n",
              "      <td id=\"T_bad79_row2_col4\" class=\"data row2 col4\" >0.9076</td>\n",
              "      <td id=\"T_bad79_row2_col5\" class=\"data row2 col5\" >0.8625</td>\n",
              "      <td id=\"T_bad79_row2_col6\" class=\"data row2 col6\" >0.8735</td>\n",
              "    </tr>\n",
              "    <tr>\n",
              "      <th id=\"T_bad79_level0_row3\" class=\"row_heading level0 row3\" >3</th>\n",
              "      <td id=\"T_bad79_row3_col0\" class=\"data row3 col0\" >1.0000</td>\n",
              "      <td id=\"T_bad79_row3_col1\" class=\"data row3 col1\" >0.0000</td>\n",
              "      <td id=\"T_bad79_row3_col2\" class=\"data row3 col2\" >1.0000</td>\n",
              "      <td id=\"T_bad79_row3_col3\" class=\"data row3 col3\" >1.0000</td>\n",
              "      <td id=\"T_bad79_row3_col4\" class=\"data row3 col4\" >1.0000</td>\n",
              "      <td id=\"T_bad79_row3_col5\" class=\"data row3 col5\" >1.0000</td>\n",
              "      <td id=\"T_bad79_row3_col6\" class=\"data row3 col6\" >1.0000</td>\n",
              "    </tr>\n",
              "    <tr>\n",
              "      <th id=\"T_bad79_level0_row4\" class=\"row_heading level0 row4\" >4</th>\n",
              "      <td id=\"T_bad79_row4_col0\" class=\"data row4 col0\" >1.0000</td>\n",
              "      <td id=\"T_bad79_row4_col1\" class=\"data row4 col1\" >0.0000</td>\n",
              "      <td id=\"T_bad79_row4_col2\" class=\"data row4 col2\" >1.0000</td>\n",
              "      <td id=\"T_bad79_row4_col3\" class=\"data row4 col3\" >1.0000</td>\n",
              "      <td id=\"T_bad79_row4_col4\" class=\"data row4 col4\" >1.0000</td>\n",
              "      <td id=\"T_bad79_row4_col5\" class=\"data row4 col5\" >1.0000</td>\n",
              "      <td id=\"T_bad79_row4_col6\" class=\"data row4 col6\" >1.0000</td>\n",
              "    </tr>\n",
              "    <tr>\n",
              "      <th id=\"T_bad79_level0_row5\" class=\"row_heading level0 row5\" >5</th>\n",
              "      <td id=\"T_bad79_row5_col0\" class=\"data row5 col0\" >0.9000</td>\n",
              "      <td id=\"T_bad79_row5_col1\" class=\"data row5 col1\" >0.0000</td>\n",
              "      <td id=\"T_bad79_row5_col2\" class=\"data row5 col2\" >0.9000</td>\n",
              "      <td id=\"T_bad79_row5_col3\" class=\"data row5 col3\" >0.9250</td>\n",
              "      <td id=\"T_bad79_row5_col4\" class=\"data row5 col4\" >0.8971</td>\n",
              "      <td id=\"T_bad79_row5_col5\" class=\"data row5 col5\" >0.8485</td>\n",
              "      <td id=\"T_bad79_row5_col6\" class=\"data row5 col6\" >0.8616</td>\n",
              "    </tr>\n",
              "    <tr>\n",
              "      <th id=\"T_bad79_level0_row6\" class=\"row_heading level0 row6\" >6</th>\n",
              "      <td id=\"T_bad79_row6_col0\" class=\"data row6 col0\" >1.0000</td>\n",
              "      <td id=\"T_bad79_row6_col1\" class=\"data row6 col1\" >0.0000</td>\n",
              "      <td id=\"T_bad79_row6_col2\" class=\"data row6 col2\" >1.0000</td>\n",
              "      <td id=\"T_bad79_row6_col3\" class=\"data row6 col3\" >1.0000</td>\n",
              "      <td id=\"T_bad79_row6_col4\" class=\"data row6 col4\" >1.0000</td>\n",
              "      <td id=\"T_bad79_row6_col5\" class=\"data row6 col5\" >1.0000</td>\n",
              "      <td id=\"T_bad79_row6_col6\" class=\"data row6 col6\" >1.0000</td>\n",
              "    </tr>\n",
              "    <tr>\n",
              "      <th id=\"T_bad79_level0_row7\" class=\"row_heading level0 row7\" >7</th>\n",
              "      <td id=\"T_bad79_row7_col0\" class=\"data row7 col0\" >1.0000</td>\n",
              "      <td id=\"T_bad79_row7_col1\" class=\"data row7 col1\" >0.0000</td>\n",
              "      <td id=\"T_bad79_row7_col2\" class=\"data row7 col2\" >1.0000</td>\n",
              "      <td id=\"T_bad79_row7_col3\" class=\"data row7 col3\" >1.0000</td>\n",
              "      <td id=\"T_bad79_row7_col4\" class=\"data row7 col4\" >1.0000</td>\n",
              "      <td id=\"T_bad79_row7_col5\" class=\"data row7 col5\" >1.0000</td>\n",
              "      <td id=\"T_bad79_row7_col6\" class=\"data row7 col6\" >1.0000</td>\n",
              "    </tr>\n",
              "    <tr>\n",
              "      <th id=\"T_bad79_level0_row8\" class=\"row_heading level0 row8\" >8</th>\n",
              "      <td id=\"T_bad79_row8_col0\" class=\"data row8 col0\" >1.0000</td>\n",
              "      <td id=\"T_bad79_row8_col1\" class=\"data row8 col1\" >0.0000</td>\n",
              "      <td id=\"T_bad79_row8_col2\" class=\"data row8 col2\" >1.0000</td>\n",
              "      <td id=\"T_bad79_row8_col3\" class=\"data row8 col3\" >1.0000</td>\n",
              "      <td id=\"T_bad79_row8_col4\" class=\"data row8 col4\" >1.0000</td>\n",
              "      <td id=\"T_bad79_row8_col5\" class=\"data row8 col5\" >1.0000</td>\n",
              "      <td id=\"T_bad79_row8_col6\" class=\"data row8 col6\" >1.0000</td>\n",
              "    </tr>\n",
              "    <tr>\n",
              "      <th id=\"T_bad79_level0_row9\" class=\"row_heading level0 row9\" >9</th>\n",
              "      <td id=\"T_bad79_row9_col0\" class=\"data row9 col0\" >1.0000</td>\n",
              "      <td id=\"T_bad79_row9_col1\" class=\"data row9 col1\" >0.0000</td>\n",
              "      <td id=\"T_bad79_row9_col2\" class=\"data row9 col2\" >1.0000</td>\n",
              "      <td id=\"T_bad79_row9_col3\" class=\"data row9 col3\" >1.0000</td>\n",
              "      <td id=\"T_bad79_row9_col4\" class=\"data row9 col4\" >1.0000</td>\n",
              "      <td id=\"T_bad79_row9_col5\" class=\"data row9 col5\" >1.0000</td>\n",
              "      <td id=\"T_bad79_row9_col6\" class=\"data row9 col6\" >1.0000</td>\n",
              "    </tr>\n",
              "    <tr>\n",
              "      <th id=\"T_bad79_level0_row10\" class=\"row_heading level0 row10\" >Mean</th>\n",
              "      <td id=\"T_bad79_row10_col0\" class=\"data row10 col0\" >0.9718</td>\n",
              "      <td id=\"T_bad79_row10_col1\" class=\"data row10 col1\" >0.0000</td>\n",
              "      <td id=\"T_bad79_row10_col2\" class=\"data row10 col2\" >0.9718</td>\n",
              "      <td id=\"T_bad79_row10_col3\" class=\"data row10 col3\" >0.9780</td>\n",
              "      <td id=\"T_bad79_row10_col4\" class=\"data row10 col4\" >0.9712</td>\n",
              "      <td id=\"T_bad79_row10_col5\" class=\"data row10 col5\" >0.9573</td>\n",
              "      <td id=\"T_bad79_row10_col6\" class=\"data row10 col6\" >0.9609</td>\n",
              "    </tr>\n",
              "    <tr>\n",
              "      <th id=\"T_bad79_level0_row11\" class=\"row_heading level0 row11\" >Std</th>\n",
              "      <td id=\"T_bad79_row11_col0\" class=\"data row11 col0\" >0.0431</td>\n",
              "      <td id=\"T_bad79_row11_col1\" class=\"data row11 col1\" >0.0000</td>\n",
              "      <td id=\"T_bad79_row11_col2\" class=\"data row11 col2\" >0.0431</td>\n",
              "      <td id=\"T_bad79_row11_col3\" class=\"data row11 col3\" >0.0337</td>\n",
              "      <td id=\"T_bad79_row11_col4\" class=\"data row11 col4\" >0.0440</td>\n",
              "      <td id=\"T_bad79_row11_col5\" class=\"data row11 col5\" >0.0653</td>\n",
              "      <td id=\"T_bad79_row11_col6\" class=\"data row11 col6\" >0.0599</td>\n",
              "    </tr>\n",
              "  </tbody>\n",
              "</table>\n"
            ]
          },
          "metadata": {}
        },
        {
          "output_type": "display_data",
          "data": {
            "text/plain": [
              "Processing:   0%|          | 0/7 [00:00<?, ?it/s]"
            ],
            "application/vnd.jupyter.widget-view+json": {
              "version_major": 2,
              "version_minor": 0,
              "model_id": "bfa59bdea60e416b8afd543fb54376a0"
            }
          },
          "metadata": {
            "application/vnd.jupyter.widget-view+json": {
              "colab": {
                "custom_widget_manager": {
                  "url": "https://ssl.gstatic.com/colaboratory-static/widgets/colab-cdn-widget-manager/2b70e893a8ba7c0f/manager.min.js"
                }
              }
            }
          }
        },
        {
          "output_type": "stream",
          "name": "stdout",
          "text": [
            "Fitting 10 folds for each of 10 candidates, totalling 100 fits\n"
          ]
        },
        {
          "output_type": "display_data",
          "data": {
            "text/plain": [
              "<IPython.core.display.HTML object>"
            ],
            "text/html": []
          },
          "metadata": {}
        },
        {
          "output_type": "stream",
          "name": "stdout",
          "text": [
            "Original model was better than the tuned model, hence it will be returned. NOTE: The display metrics are for the tuned model (not the original one).\n"
          ]
        }
      ]
    },
    {
      "cell_type": "markdown",
      "source": [
        "\n",
        "##<p style=\"font-family:JetBrains Mono; font-weight:normal; letter-spacing: 1px; color:#207d06; font-size:100%; text-align:left;padding: 0px; border-bottom: 3px solid #207d06;\">**5- Plot a Model**</p>\n"
      ],
      "metadata": {
        "id": "vUp7JD9d9x7_"
      }
    },
    {
      "cell_type": "code",
      "source": [
        "evaluate_model(lr)"
      ],
      "metadata": {
        "id": "Ht_cNwfy4vLD",
        "colab": {
          "base_uri": "https://localhost:8080/",
          "height": 620,
          "referenced_widgets": [
            "f98d15710a314fd488fe926f7eff6c42",
            "a58f5466f5fa4765b39b0b802a41fb0c",
            "e4c02345ba44410f95c506bf17eb5198",
            "e35ee408320f40018d56d2971883f2d4",
            "9aede8dbf11a4c62a24c09a71d4a85aa",
            "2d7e559b3b4c4d96b415c2e84930f551",
            "ab91a7e928d149d69eb90b6a86bedec8"
          ]
        },
        "outputId": "28e73334-d841-467f-d940-dac40db6ffd5"
      },
      "execution_count": 12,
      "outputs": [
        {
          "output_type": "display_data",
          "data": {
            "text/plain": [
              "interactive(children=(ToggleButtons(description='Plot Type:', icons=('',), options=(('Pipeline Plot', 'pipelin…"
            ],
            "application/vnd.jupyter.widget-view+json": {
              "version_major": 2,
              "version_minor": 0,
              "model_id": "f98d15710a314fd488fe926f7eff6c42"
            }
          },
          "metadata": {
            "application/vnd.jupyter.widget-view+json": {
              "colab": {
                "custom_widget_manager": {
                  "url": "https://ssl.gstatic.com/colaboratory-static/widgets/colab-cdn-widget-manager/2b70e893a8ba7c0f/manager.min.js"
                }
              }
            }
          }
        }
      ]
    },
    {
      "cell_type": "markdown",
      "source": [
        "\n",
        "##<p style=\"font-family:JetBrains Mono; font-weight:normal; letter-spacing: 1px; color:#207d06; font-size:100%; text-align:left;padding: 0px; border-bottom: 3px solid #207d06;\">**6- Predict on new Data**</p>"
      ],
      "metadata": {
        "id": "NAUhIb4K574X"
      }
    },
    {
      "cell_type": "code",
      "source": [
        "predictions =predict_model(lr,data=data_unseen);\n"
      ],
      "metadata": {
        "id": "0JpC6p2I6Rnr",
        "colab": {
          "base_uri": "https://localhost:8080/",
          "height": 81
        },
        "outputId": "6c17d08a-34d9-4373-ae30-14549cdd4326"
      },
      "execution_count": 16,
      "outputs": [
        {
          "output_type": "display_data",
          "data": {
            "text/plain": [
              "<pandas.io.formats.style.Styler at 0x7e0ea1541310>"
            ],
            "text/html": [
              "<style type=\"text/css\">\n",
              "</style>\n",
              "<table id=\"T_1eff4\" class=\"dataframe\">\n",
              "  <thead>\n",
              "    <tr>\n",
              "      <th class=\"blank level0\" >&nbsp;</th>\n",
              "      <th id=\"T_1eff4_level0_col0\" class=\"col_heading level0 col0\" >Model</th>\n",
              "      <th id=\"T_1eff4_level0_col1\" class=\"col_heading level0 col1\" >Accuracy</th>\n",
              "      <th id=\"T_1eff4_level0_col2\" class=\"col_heading level0 col2\" >AUC</th>\n",
              "      <th id=\"T_1eff4_level0_col3\" class=\"col_heading level0 col3\" >Recall</th>\n",
              "      <th id=\"T_1eff4_level0_col4\" class=\"col_heading level0 col4\" >Prec.</th>\n",
              "      <th id=\"T_1eff4_level0_col5\" class=\"col_heading level0 col5\" >F1</th>\n",
              "      <th id=\"T_1eff4_level0_col6\" class=\"col_heading level0 col6\" >Kappa</th>\n",
              "      <th id=\"T_1eff4_level0_col7\" class=\"col_heading level0 col7\" >MCC</th>\n",
              "    </tr>\n",
              "  </thead>\n",
              "  <tbody>\n",
              "    <tr>\n",
              "      <th id=\"T_1eff4_level0_row0\" class=\"row_heading level0 row0\" >0</th>\n",
              "      <td id=\"T_1eff4_row0_col0\" class=\"data row0 col0\" >Logistic Regression</td>\n",
              "      <td id=\"T_1eff4_row0_col1\" class=\"data row0 col1\" >1.0000</td>\n",
              "      <td id=\"T_1eff4_row0_col2\" class=\"data row0 col2\" >0</td>\n",
              "      <td id=\"T_1eff4_row0_col3\" class=\"data row0 col3\" >1.0000</td>\n",
              "      <td id=\"T_1eff4_row0_col4\" class=\"data row0 col4\" >1.0000</td>\n",
              "      <td id=\"T_1eff4_row0_col5\" class=\"data row0 col5\" >1.0000</td>\n",
              "      <td id=\"T_1eff4_row0_col6\" class=\"data row0 col6\" >nan</td>\n",
              "      <td id=\"T_1eff4_row0_col7\" class=\"data row0 col7\" >0.0000</td>\n",
              "    </tr>\n",
              "  </tbody>\n",
              "</table>\n"
            ]
          },
          "metadata": {}
        }
      ]
    },
    {
      "cell_type": "code",
      "source": [
        "predictions.head()"
      ],
      "metadata": {
        "colab": {
          "base_uri": "https://localhost:8080/",
          "height": 206
        },
        "id": "fHWeqFg8MMBo",
        "outputId": "9f5e3288-5ae7-4c62-eb76-9cfc1601f078"
      },
      "execution_count": 19,
      "outputs": [
        {
          "output_type": "execute_result",
          "data": {
            "text/plain": [
              "   sepal_length  sepal_width  petal_length  petal_width         species  \\\n",
              "0           5.8          2.7           5.1          1.9  Iris-virginica   \n",
              "1           6.8          3.2           5.9          2.3  Iris-virginica   \n",
              "2           6.7          3.3           5.7          2.5  Iris-virginica   \n",
              "3           6.7          3.0           5.2          2.3  Iris-virginica   \n",
              "4           6.3          2.5           5.0          1.9  Iris-virginica   \n",
              "\n",
              "  prediction_label  prediction_score  \n",
              "0   Iris-virginica            0.8141  \n",
              "1   Iris-virginica            0.9827  \n",
              "2   Iris-virginica            0.9817  \n",
              "3   Iris-virginica            0.9104  \n",
              "4   Iris-virginica            0.7621  "
            ],
            "text/html": [
              "\n",
              "  <div id=\"df-1ec19464-4be6-4607-9d51-2853b0524661\" class=\"colab-df-container\">\n",
              "    <div>\n",
              "<style scoped>\n",
              "    .dataframe tbody tr th:only-of-type {\n",
              "        vertical-align: middle;\n",
              "    }\n",
              "\n",
              "    .dataframe tbody tr th {\n",
              "        vertical-align: top;\n",
              "    }\n",
              "\n",
              "    .dataframe thead th {\n",
              "        text-align: right;\n",
              "    }\n",
              "</style>\n",
              "<table border=\"1\" class=\"dataframe\">\n",
              "  <thead>\n",
              "    <tr style=\"text-align: right;\">\n",
              "      <th></th>\n",
              "      <th>sepal_length</th>\n",
              "      <th>sepal_width</th>\n",
              "      <th>petal_length</th>\n",
              "      <th>petal_width</th>\n",
              "      <th>species</th>\n",
              "      <th>prediction_label</th>\n",
              "      <th>prediction_score</th>\n",
              "    </tr>\n",
              "  </thead>\n",
              "  <tbody>\n",
              "    <tr>\n",
              "      <th>0</th>\n",
              "      <td>5.8</td>\n",
              "      <td>2.7</td>\n",
              "      <td>5.1</td>\n",
              "      <td>1.9</td>\n",
              "      <td>Iris-virginica</td>\n",
              "      <td>Iris-virginica</td>\n",
              "      <td>0.8141</td>\n",
              "    </tr>\n",
              "    <tr>\n",
              "      <th>1</th>\n",
              "      <td>6.8</td>\n",
              "      <td>3.2</td>\n",
              "      <td>5.9</td>\n",
              "      <td>2.3</td>\n",
              "      <td>Iris-virginica</td>\n",
              "      <td>Iris-virginica</td>\n",
              "      <td>0.9827</td>\n",
              "    </tr>\n",
              "    <tr>\n",
              "      <th>2</th>\n",
              "      <td>6.7</td>\n",
              "      <td>3.3</td>\n",
              "      <td>5.7</td>\n",
              "      <td>2.5</td>\n",
              "      <td>Iris-virginica</td>\n",
              "      <td>Iris-virginica</td>\n",
              "      <td>0.9817</td>\n",
              "    </tr>\n",
              "    <tr>\n",
              "      <th>3</th>\n",
              "      <td>6.7</td>\n",
              "      <td>3.0</td>\n",
              "      <td>5.2</td>\n",
              "      <td>2.3</td>\n",
              "      <td>Iris-virginica</td>\n",
              "      <td>Iris-virginica</td>\n",
              "      <td>0.9104</td>\n",
              "    </tr>\n",
              "    <tr>\n",
              "      <th>4</th>\n",
              "      <td>6.3</td>\n",
              "      <td>2.5</td>\n",
              "      <td>5.0</td>\n",
              "      <td>1.9</td>\n",
              "      <td>Iris-virginica</td>\n",
              "      <td>Iris-virginica</td>\n",
              "      <td>0.7621</td>\n",
              "    </tr>\n",
              "  </tbody>\n",
              "</table>\n",
              "</div>\n",
              "    <div class=\"colab-df-buttons\">\n",
              "\n",
              "  <div class=\"colab-df-container\">\n",
              "    <button class=\"colab-df-convert\" onclick=\"convertToInteractive('df-1ec19464-4be6-4607-9d51-2853b0524661')\"\n",
              "            title=\"Convert this dataframe to an interactive table.\"\n",
              "            style=\"display:none;\">\n",
              "\n",
              "  <svg xmlns=\"http://www.w3.org/2000/svg\" height=\"24px\" viewBox=\"0 -960 960 960\">\n",
              "    <path d=\"M120-120v-720h720v720H120Zm60-500h600v-160H180v160Zm220 220h160v-160H400v160Zm0 220h160v-160H400v160ZM180-400h160v-160H180v160Zm440 0h160v-160H620v160ZM180-180h160v-160H180v160Zm440 0h160v-160H620v160Z\"/>\n",
              "  </svg>\n",
              "    </button>\n",
              "\n",
              "  <style>\n",
              "    .colab-df-container {\n",
              "      display:flex;\n",
              "      gap: 12px;\n",
              "    }\n",
              "\n",
              "    .colab-df-convert {\n",
              "      background-color: #E8F0FE;\n",
              "      border: none;\n",
              "      border-radius: 50%;\n",
              "      cursor: pointer;\n",
              "      display: none;\n",
              "      fill: #1967D2;\n",
              "      height: 32px;\n",
              "      padding: 0 0 0 0;\n",
              "      width: 32px;\n",
              "    }\n",
              "\n",
              "    .colab-df-convert:hover {\n",
              "      background-color: #E2EBFA;\n",
              "      box-shadow: 0px 1px 2px rgba(60, 64, 67, 0.3), 0px 1px 3px 1px rgba(60, 64, 67, 0.15);\n",
              "      fill: #174EA6;\n",
              "    }\n",
              "\n",
              "    .colab-df-buttons div {\n",
              "      margin-bottom: 4px;\n",
              "    }\n",
              "\n",
              "    [theme=dark] .colab-df-convert {\n",
              "      background-color: #3B4455;\n",
              "      fill: #D2E3FC;\n",
              "    }\n",
              "\n",
              "    [theme=dark] .colab-df-convert:hover {\n",
              "      background-color: #434B5C;\n",
              "      box-shadow: 0px 1px 3px 1px rgba(0, 0, 0, 0.15);\n",
              "      filter: drop-shadow(0px 1px 2px rgba(0, 0, 0, 0.3));\n",
              "      fill: #FFFFFF;\n",
              "    }\n",
              "  </style>\n",
              "\n",
              "    <script>\n",
              "      const buttonEl =\n",
              "        document.querySelector('#df-1ec19464-4be6-4607-9d51-2853b0524661 button.colab-df-convert');\n",
              "      buttonEl.style.display =\n",
              "        google.colab.kernel.accessAllowed ? 'block' : 'none';\n",
              "\n",
              "      async function convertToInteractive(key) {\n",
              "        const element = document.querySelector('#df-1ec19464-4be6-4607-9d51-2853b0524661');\n",
              "        const dataTable =\n",
              "          await google.colab.kernel.invokeFunction('convertToInteractive',\n",
              "                                                    [key], {});\n",
              "        if (!dataTable) return;\n",
              "\n",
              "        const docLinkHtml = 'Like what you see? Visit the ' +\n",
              "          '<a target=\"_blank\" href=https://colab.research.google.com/notebooks/data_table.ipynb>data table notebook</a>'\n",
              "          + ' to learn more about interactive tables.';\n",
              "        element.innerHTML = '';\n",
              "        dataTable['output_type'] = 'display_data';\n",
              "        await google.colab.output.renderOutput(dataTable, element);\n",
              "        const docLink = document.createElement('div');\n",
              "        docLink.innerHTML = docLinkHtml;\n",
              "        element.appendChild(docLink);\n",
              "      }\n",
              "    </script>\n",
              "  </div>\n",
              "\n",
              "\n",
              "<div id=\"df-486df547-d93d-4e3a-b64c-fcc059d4424b\">\n",
              "  <button class=\"colab-df-quickchart\" onclick=\"quickchart('df-486df547-d93d-4e3a-b64c-fcc059d4424b')\"\n",
              "            title=\"Suggest charts\"\n",
              "            style=\"display:none;\">\n",
              "\n",
              "<svg xmlns=\"http://www.w3.org/2000/svg\" height=\"24px\"viewBox=\"0 0 24 24\"\n",
              "     width=\"24px\">\n",
              "    <g>\n",
              "        <path d=\"M19 3H5c-1.1 0-2 .9-2 2v14c0 1.1.9 2 2 2h14c1.1 0 2-.9 2-2V5c0-1.1-.9-2-2-2zM9 17H7v-7h2v7zm4 0h-2V7h2v10zm4 0h-2v-4h2v4z\"/>\n",
              "    </g>\n",
              "</svg>\n",
              "  </button>\n",
              "\n",
              "<style>\n",
              "  .colab-df-quickchart {\n",
              "      --bg-color: #E8F0FE;\n",
              "      --fill-color: #1967D2;\n",
              "      --hover-bg-color: #E2EBFA;\n",
              "      --hover-fill-color: #174EA6;\n",
              "      --disabled-fill-color: #AAA;\n",
              "      --disabled-bg-color: #DDD;\n",
              "  }\n",
              "\n",
              "  [theme=dark] .colab-df-quickchart {\n",
              "      --bg-color: #3B4455;\n",
              "      --fill-color: #D2E3FC;\n",
              "      --hover-bg-color: #434B5C;\n",
              "      --hover-fill-color: #FFFFFF;\n",
              "      --disabled-bg-color: #3B4455;\n",
              "      --disabled-fill-color: #666;\n",
              "  }\n",
              "\n",
              "  .colab-df-quickchart {\n",
              "    background-color: var(--bg-color);\n",
              "    border: none;\n",
              "    border-radius: 50%;\n",
              "    cursor: pointer;\n",
              "    display: none;\n",
              "    fill: var(--fill-color);\n",
              "    height: 32px;\n",
              "    padding: 0;\n",
              "    width: 32px;\n",
              "  }\n",
              "\n",
              "  .colab-df-quickchart:hover {\n",
              "    background-color: var(--hover-bg-color);\n",
              "    box-shadow: 0 1px 2px rgba(60, 64, 67, 0.3), 0 1px 3px 1px rgba(60, 64, 67, 0.15);\n",
              "    fill: var(--button-hover-fill-color);\n",
              "  }\n",
              "\n",
              "  .colab-df-quickchart-complete:disabled,\n",
              "  .colab-df-quickchart-complete:disabled:hover {\n",
              "    background-color: var(--disabled-bg-color);\n",
              "    fill: var(--disabled-fill-color);\n",
              "    box-shadow: none;\n",
              "  }\n",
              "\n",
              "  .colab-df-spinner {\n",
              "    border: 2px solid var(--fill-color);\n",
              "    border-color: transparent;\n",
              "    border-bottom-color: var(--fill-color);\n",
              "    animation:\n",
              "      spin 1s steps(1) infinite;\n",
              "  }\n",
              "\n",
              "  @keyframes spin {\n",
              "    0% {\n",
              "      border-color: transparent;\n",
              "      border-bottom-color: var(--fill-color);\n",
              "      border-left-color: var(--fill-color);\n",
              "    }\n",
              "    20% {\n",
              "      border-color: transparent;\n",
              "      border-left-color: var(--fill-color);\n",
              "      border-top-color: var(--fill-color);\n",
              "    }\n",
              "    30% {\n",
              "      border-color: transparent;\n",
              "      border-left-color: var(--fill-color);\n",
              "      border-top-color: var(--fill-color);\n",
              "      border-right-color: var(--fill-color);\n",
              "    }\n",
              "    40% {\n",
              "      border-color: transparent;\n",
              "      border-right-color: var(--fill-color);\n",
              "      border-top-color: var(--fill-color);\n",
              "    }\n",
              "    60% {\n",
              "      border-color: transparent;\n",
              "      border-right-color: var(--fill-color);\n",
              "    }\n",
              "    80% {\n",
              "      border-color: transparent;\n",
              "      border-right-color: var(--fill-color);\n",
              "      border-bottom-color: var(--fill-color);\n",
              "    }\n",
              "    90% {\n",
              "      border-color: transparent;\n",
              "      border-bottom-color: var(--fill-color);\n",
              "    }\n",
              "  }\n",
              "</style>\n",
              "\n",
              "  <script>\n",
              "    async function quickchart(key) {\n",
              "      const quickchartButtonEl =\n",
              "        document.querySelector('#' + key + ' button');\n",
              "      quickchartButtonEl.disabled = true;  // To prevent multiple clicks.\n",
              "      quickchartButtonEl.classList.add('colab-df-spinner');\n",
              "      try {\n",
              "        const charts = await google.colab.kernel.invokeFunction(\n",
              "            'suggestCharts', [key], {});\n",
              "      } catch (error) {\n",
              "        console.error('Error during call to suggestCharts:', error);\n",
              "      }\n",
              "      quickchartButtonEl.classList.remove('colab-df-spinner');\n",
              "      quickchartButtonEl.classList.add('colab-df-quickchart-complete');\n",
              "    }\n",
              "    (() => {\n",
              "      let quickchartButtonEl =\n",
              "        document.querySelector('#df-486df547-d93d-4e3a-b64c-fcc059d4424b button');\n",
              "      quickchartButtonEl.style.display =\n",
              "        google.colab.kernel.accessAllowed ? 'block' : 'none';\n",
              "    })();\n",
              "  </script>\n",
              "</div>\n",
              "\n",
              "    </div>\n",
              "  </div>\n"
            ],
            "application/vnd.google.colaboratory.intrinsic+json": {
              "type": "dataframe",
              "variable_name": "predictions",
              "summary": "{\n  \"name\": \"predictions\",\n  \"rows\": 8,\n  \"fields\": [\n    {\n      \"column\": \"sepal_length\",\n      \"properties\": {\n        \"dtype\": \"float32\",\n        \"num_unique_values\": 7,\n        \"samples\": [\n          5.800000190734863,\n          6.800000190734863,\n          6.199999809265137\n        ],\n        \"semantic_type\": \"\",\n        \"description\": \"\"\n      }\n    },\n    {\n      \"column\": \"sepal_width\",\n      \"properties\": {\n        \"dtype\": \"float32\",\n        \"num_unique_values\": 6,\n        \"samples\": [\n          2.700000047683716,\n          3.200000047683716,\n          3.4000000953674316\n        ],\n        \"semantic_type\": \"\",\n        \"description\": \"\"\n      }\n    },\n    {\n      \"column\": \"petal_length\",\n      \"properties\": {\n        \"dtype\": \"float32\",\n        \"num_unique_values\": 6,\n        \"samples\": [\n          5.099999904632568,\n          5.900000095367432,\n          5.400000095367432\n        ],\n        \"semantic_type\": \"\",\n        \"description\": \"\"\n      }\n    },\n    {\n      \"column\": \"petal_width\",\n      \"properties\": {\n        \"dtype\": \"float32\",\n        \"num_unique_values\": 5,\n        \"samples\": [\n          2.299999952316284,\n          1.7999999523162842,\n          2.5\n        ],\n        \"semantic_type\": \"\",\n        \"description\": \"\"\n      }\n    },\n    {\n      \"column\": \"species\",\n      \"properties\": {\n        \"dtype\": \"category\",\n        \"num_unique_values\": 1,\n        \"samples\": [\n          \"Iris-virginica\"\n        ],\n        \"semantic_type\": \"\",\n        \"description\": \"\"\n      }\n    },\n    {\n      \"column\": \"prediction_label\",\n      \"properties\": {\n        \"dtype\": \"category\",\n        \"num_unique_values\": 1,\n        \"samples\": [\n          \"Iris-virginica\"\n        ],\n        \"semantic_type\": \"\",\n        \"description\": \"\"\n      }\n    },\n    {\n      \"column\": \"prediction_score\",\n      \"properties\": {\n        \"dtype\": \"number\",\n        \"std\": 0.09587160684999495,\n        \"min\": 0.7418,\n        \"max\": 0.9827,\n        \"num_unique_values\": 8,\n        \"samples\": [\n          0.9827\n        ],\n        \"semantic_type\": \"\",\n        \"description\": \"\"\n      }\n    }\n  ]\n}"
            }
          },
          "metadata": {},
          "execution_count": 19
        }
      ]
    },
    {
      "cell_type": "markdown",
      "source": [
        "\n",
        "##<p style=\"font-family:JetBrains Mono; font-weight:normal; letter-spacing: 1px; color:#207d06; font-size:100%; text-align:left;padding: 0px; border-bottom: 3px solid #207d06;\">**7-Check the residuals of trained model**</p>"
      ],
      "metadata": {
        "id": "KxzPcegptWzy"
      }
    },
    {
      "cell_type": "code",
      "source": [
        "plot_model(lr, plot = 'auc')  # Example: Plotting confusion matrix\n"
      ],
      "metadata": {
        "id": "DNG_IlN3tgOU",
        "colab": {
          "base_uri": "https://localhost:8080/",
          "height": 524
        },
        "outputId": "1a6e86b0-e3fb-4b42-9523-6a9e4f52b4d1"
      },
      "execution_count": 22,
      "outputs": [
        {
          "output_type": "display_data",
          "data": {
            "text/plain": [
              "<IPython.core.display.HTML object>"
            ],
            "text/html": []
          },
          "metadata": {}
        },
        {
          "output_type": "display_data",
          "data": {
            "text/plain": [
              "<Figure size 800x550 with 1 Axes>"
            ],
            "image/png": "[encoded data removed]"
          },
          "metadata": {}
        }
      ]
    },
    {
      "cell_type": "markdown",
      "source": [
        "\n",
        "##<p style=\"font-family:JetBrains Mono; font-weight:normal; letter-spacing: 1px; color:#207d06; font-size:100%; text-align:left;padding: 0px; border-bottom: 3px solid #207d06;\">**8-Check feature importance**</p>"
      ],
      "metadata": {
        "id": "qr31GBqNvFzr"
      }
    },
    {
      "cell_type": "code",
      "source": [
        "plot_model(lr, plot = 'feature')"
      ],
      "metadata": {
        "id": "41PDE7NsugDN"
      },
      "execution_count": null,
      "outputs": []
    },
    {
      "cell_type": "code",
      "source": [
        "# finalize the model\n",
        "final_best = finalize_model(lr)# save model to disk\n",
        "save_model(final_best, 'diamond-pipeline')"
      ],
      "metadata": {
        "id": "0hdS7dQIyZWC",
        "colab": {
          "base_uri": "https://localhost:8080/"
        },
        "outputId": "abfe40c5-a6e9-4a3b-9349-270e998c77b6"
      },
      "execution_count": 24,
      "outputs": [
        {
          "output_type": "stream",
          "name": "stdout",
          "text": [
            "Transformation Pipeline and Model Successfully Saved\n"
          ]
        },
        {
          "output_type": "execute_result",
          "data": {
            "text/plain": [
              "(Pipeline(memory=Memory(location=None),\n",
              "          steps=[('label_encoding',\n",
              "                  TransformerWrapperWithInverse(exclude=None, include=None,\n",
              "                                                transformer=LabelEncoder())),\n",
              "                 ('numerical_imputer',\n",
              "                  TransformerWrapper(exclude=None,\n",
              "                                     include=['sepal_length', 'sepal_width',\n",
              "                                              'petal_length', 'petal_width'],\n",
              "                                     transformer=SimpleImputer(add_indicator=False,\n",
              "                                                               copy=True,\n",
              "                                                               fill_value=None,\n",
              "                                                               keep_empt...\n",
              "                                                               fill_value=None,\n",
              "                                                               keep_empty_features=False,\n",
              "                                                               missing_values=nan,\n",
              "                                                               strategy='most_frequent'))),\n",
              "                 ('actual_estimator',\n",
              "                  LogisticRegression(C=1.0, class_weight=None, dual=False,\n",
              "                                     fit_intercept=True, intercept_scaling=1,\n",
              "                                     l1_ratio=None, max_iter=1000,\n",
              "                                     multi_class='auto', n_jobs=None,\n",
              "                                     penalty='l2', random_state=123,\n",
              "                                     solver='lbfgs', tol=0.0001, verbose=0,\n",
              "                                     warm_start=False))],\n",
              "          verbose=False),\n",
              " 'diamond-pipeline.pkl')"
            ]
          },
          "metadata": {},
          "execution_count": 24
        }
      ]
    },
    {
      "cell_type": "markdown",
      "source": [
        "\n",
        "##<p style=\"font-family:JetBrains Mono; font-weight:normal; letter-spacing: 1px; color:#207d06; font-size:100%; text-align:left;padding: 0px; border-bottom: 3px solid #207d06;\">**9-Dashboard**</p>"
      ],
      "metadata": {
        "id": "gFJM4kkuDvY9"
      }
    },
    {
      "cell_type": "code",
      "source": [
        "dashboard(lr, display_format='inline') # Change right to align_end and pass False\n"
      ],
      "metadata": {
        "id": "P5AUCzFYxPd0"
      },
      "execution_count": null,
      "outputs": []
    },
    {
      "cell_type": "markdown",
      "source": [
        "\n",
        "##<p style=\"font-family:JetBrains Mono; font-weight:normal; letter-spacing: 1px; color:#207d06; font-size:100%; text-align:left;padding: 0px; border-bottom: 3px solid #207d06;\">**10-ROC Curve**</p>"
      ],
      "metadata": {
        "id": "oFlgqb9wtGCN"
      }
    },
    {
      "cell_type": "markdown",
      "source": [
        "After we make it, let’s create charts for analyzing the model."
      ],
      "metadata": {
        "id": "MBba6kCmKS5c"
      }
    },
    {
      "cell_type": "code",
      "metadata": {
        "id": "sydjGLFn2l9q",
        "colab": {
          "base_uri": "https://localhost:8080/",
          "height": 524
        },
        "outputId": "3a00bffd-b946-404d-b49d-6c71460f5807"
      },
      "source": [
        "plot_model(tuned_lr)"
      ],
      "execution_count": 31,
      "outputs": [
        {
          "output_type": "display_data",
          "data": {
            "text/plain": [
              "<IPython.core.display.HTML object>"
            ],
            "text/html": []
          },
          "metadata": {}
        },
        {
          "output_type": "display_data",
          "data": {
            "text/plain": [
              "<Figure size 800x550 with 1 Axes>"
            ],
            "image/png": "[encoded data removed]"
          },
          "metadata": {}
        }
      ]
    },
    {
      "cell_type": "markdown",
      "metadata": {
        "id": "nqovv2Qo2uAD"
      },
      "source": [
        "\n",
        "##<p style=\"font-family:JetBrains Mono; font-weight:normal; letter-spacing: 1px; color:#207d06; font-size:100%; text-align:left;padding: 0px; border-bottom: 3px solid #207d06;\">**11-Interpret the results**</p>\n"
      ]
    },
    {
      "cell_type": "markdown",
      "metadata": {
        "id": "Lqx_HXzP2zfW"
      },
      "source": [
        "In PyCaret, we can interpret the model by SHAP values and correlation plot with just one line of code"
      ]
    },
    {
      "cell_type": "code",
      "metadata": {
        "id": "jGJ1m7LB21Kl",
        "colab": {
          "base_uri": "https://localhost:8080/",
          "height": 339
        },
        "outputId": "34bae177-d3aa-491b-b846-420a6b86088b"
      },
      "source": [
        "interpret_model(tuned_lr)"
      ],
      "execution_count": 32,
      "outputs": [
        {
          "output_type": "error",
          "ename": "TypeError",
          "evalue": "This function only supports tree based models for binary classification: dt, rf, catboost, xgboost, lightgbm, et.",
          "traceback": [
            "\u001b[0;31m---------------------------------------------------------------------------\u001b[0m",
            "\u001b[0;31mTypeError\u001b[0m                                 Traceback (most recent call last)",
            "\u001b[0;32m<ipython-input-32-9a5330975f1f>\u001b[0m in \u001b[0;36m<cell line: 0>\u001b[0;34m()\u001b[0m\n\u001b[0;32m----> 1\u001b[0;31m \u001b[0minterpret_model\u001b[0m\u001b[0;34m(\u001b[0m\u001b[0mtuned_lr\u001b[0m\u001b[0;34m)\u001b[0m\u001b[0;34m\u001b[0m\u001b[0;34m\u001b[0m\u001b[0m\n\u001b[0m",
            "\u001b[0;32m/usr/local/lib/python3.11/dist-packages/pycaret/utils/generic.py\u001b[0m in \u001b[0;36mwrapper\u001b[0;34m(*args, **kwargs)\u001b[0m\n\u001b[1;32m    962\u001b[0m                 \u001b[0;32mif\u001b[0m \u001b[0mglobals_d\u001b[0m\u001b[0;34m[\u001b[0m\u001b[0mname\u001b[0m\u001b[0;34m]\u001b[0m \u001b[0;32mis\u001b[0m \u001b[0;32mNone\u001b[0m\u001b[0;34m:\u001b[0m\u001b[0;34m\u001b[0m\u001b[0;34m\u001b[0m\u001b[0m\n\u001b[1;32m    963\u001b[0m                     \u001b[0;32mraise\u001b[0m \u001b[0mValueError\u001b[0m\u001b[0;34m(\u001b[0m\u001b[0mmessage\u001b[0m\u001b[0;34m)\u001b[0m\u001b[0;34m\u001b[0m\u001b[0;34m\u001b[0m\u001b[0m\n\u001b[0;32m--> 964\u001b[0;31m             \u001b[0;32mreturn\u001b[0m \u001b[0mfunc\u001b[0m\u001b[0;34m(\u001b[0m\u001b[0;34m*\u001b[0m\u001b[0margs\u001b[0m\u001b[0;34m,\u001b[0m \u001b[0;34m**\u001b[0m\u001b[0mkwargs\u001b[0m\u001b[0;34m)\u001b[0m\u001b[0;34m\u001b[0m\u001b[0;34m\u001b[0m\u001b[0m\n\u001b[0m\u001b[1;32m    965\u001b[0m \u001b[0;34m\u001b[0m\u001b[0m\n\u001b[1;32m    966\u001b[0m         \u001b[0;32mreturn\u001b[0m \u001b[0mwrapper\u001b[0m\u001b[0;34m\u001b[0m\u001b[0;34m\u001b[0m\u001b[0m\n",
            "\u001b[0;32m/usr/local/lib/python3.11/dist-packages/pycaret/classification/functional.py\u001b[0m in \u001b[0;36minterpret_model\u001b[0;34m(estimator, plot, feature, observation, use_train_data, X_new_sample, y_new_sample, save, **kwargs)\u001b[0m\n\u001b[1;32m   1903\u001b[0m     \"\"\"\n\u001b[1;32m   1904\u001b[0m \u001b[0;34m\u001b[0m\u001b[0m\n\u001b[0;32m-> 1905\u001b[0;31m     return _CURRENT_EXPERIMENT.interpret_model(\n\u001b[0m\u001b[1;32m   1906\u001b[0m         \u001b[0mestimator\u001b[0m\u001b[0;34m=\u001b[0m\u001b[0mestimator\u001b[0m\u001b[0;34m,\u001b[0m\u001b[0;34m\u001b[0m\u001b[0;34m\u001b[0m\u001b[0m\n\u001b[1;32m   1907\u001b[0m         \u001b[0mplot\u001b[0m\u001b[0;34m=\u001b[0m\u001b[0mplot\u001b[0m\u001b[0;34m,\u001b[0m\u001b[0;34m\u001b[0m\u001b[0;34m\u001b[0m\u001b[0m\n",
            "\u001b[0;32m/usr/local/lib/python3.11/dist-packages/pycaret/classification/oop.py\u001b[0m in \u001b[0;36minterpret_model\u001b[0;34m(self, estimator, plot, feature, observation, use_train_data, X_new_sample, y_new_sample, save, **kwargs)\u001b[0m\n\u001b[1;32m   2247\u001b[0m         \"\"\"\n\u001b[1;32m   2248\u001b[0m \u001b[0;34m\u001b[0m\u001b[0m\n\u001b[0;32m-> 2249\u001b[0;31m         return super().interpret_model(\n\u001b[0m\u001b[1;32m   2250\u001b[0m             \u001b[0mestimator\u001b[0m\u001b[0;34m=\u001b[0m\u001b[0mestimator\u001b[0m\u001b[0;34m,\u001b[0m\u001b[0;34m\u001b[0m\u001b[0;34m\u001b[0m\u001b[0m\n\u001b[1;32m   2251\u001b[0m             \u001b[0mplot\u001b[0m\u001b[0;34m=\u001b[0m\u001b[0mplot\u001b[0m\u001b[0;34m,\u001b[0m\u001b[0;34m\u001b[0m\u001b[0;34m\u001b[0m\u001b[0m\n",
            "\u001b[0;32m/usr/local/lib/python3.11/dist-packages/pycaret/internal/pycaret_experiment/supervised_experiment.py\u001b[0m in \u001b[0;36minterpret_model\u001b[0;34m(self, estimator, plot, feature, observation, use_train_data, X_new_sample, y_new_sample, save, **kwargs)\u001b[0m\n\u001b[1;32m   4081\u001b[0m             \u001b[0mmodel_id\u001b[0m \u001b[0;32mnot\u001b[0m \u001b[0;32min\u001b[0m \u001b[0mshap_models_ids\u001b[0m\u001b[0;34m\u001b[0m\u001b[0;34m\u001b[0m\u001b[0m\n\u001b[1;32m   4082\u001b[0m         ):\n\u001b[0;32m-> 4083\u001b[0;31m             raise TypeError(\n\u001b[0m\u001b[1;32m   4084\u001b[0m                 \u001b[0;34mf\"This function only supports tree based models for binary classification: {', '.join(shap_models_ids)}.\"\u001b[0m\u001b[0;34m\u001b[0m\u001b[0;34m\u001b[0m\u001b[0m\n\u001b[1;32m   4085\u001b[0m             )\n",
            "\u001b[0;31mTypeError\u001b[0m: This function only supports tree based models for binary classification: dt, rf, catboost, xgboost, lightgbm, et."
          ]
        }
      ]
    },
    {
      "cell_type": "markdown",
      "source": [
        "##<p style=\"font-family:JetBrains Mono; font-weight:normal; letter-spacing: 1px; color:#207d06; font-size:100%; text-align:left;padding: 0px; border-bottom: 3px solid #207d06;\">**12-AUC Plot**</p>"
      ],
      "metadata": {
        "id": "yWcwMLxoISnO"
      }
    },
    {
      "cell_type": "code",
      "metadata": {
        "id": "59PQJ7gD887c",
        "colab": {
          "base_uri": "https://localhost:8080/",
          "height": 524
        },
        "outputId": "d6130b55-ab3c-4c58-dbd7-006387fd1633"
      },
      "source": [
        "plot_model(tuned_lr, plot = 'auc')"
      ],
      "execution_count": 34,
      "outputs": [
        {
          "output_type": "display_data",
          "data": {
            "text/plain": [
              "<IPython.core.display.HTML object>"
            ],
            "text/html": []
          },
          "metadata": {}
        },
        {
          "output_type": "display_data",
          "data": {
            "text/plain": [
              "<Figure size 800x550 with 1 Axes>"
            ],
            "image/png": "[encoded data removed]"
          },
          "metadata": {}
        }
      ]
    },
    {
      "cell_type": "markdown",
      "source": [
        "\n",
        "##<p style=\"font-family:JetBrains Mono; font-weight:normal; letter-spacing: 1px; color:#207d06; font-size:100%; text-align:left;padding: 0px; border-bottom: 3px solid #207d06;\">**12-Precision-Recall Curve**</p>"
      ],
      "metadata": {
        "id": "1v-qrZHHIocm"
      }
    },
    {
      "cell_type": "code",
      "metadata": {
        "id": "LCQGhPFRBIIN",
        "colab": {
          "base_uri": "https://localhost:8080/",
          "height": 524
        },
        "outputId": "481f2ff1-bcd8-4025-8e95-09e4012aec6d"
      },
      "source": [
        "plot_model(tuned_lr, plot = 'pr')"
      ],
      "execution_count": 35,
      "outputs": [
        {
          "output_type": "display_data",
          "data": {
            "text/plain": [
              "<IPython.core.display.HTML object>"
            ],
            "text/html": []
          },
          "metadata": {}
        },
        {
          "output_type": "display_data",
          "data": {
            "text/plain": [
              "<Figure size 800x550 with 1 Axes>"
            ],
            "image/png": "[encoded data removed]"
          },
          "metadata": {}
        }
      ]
    },
    {
      "cell_type": "markdown",
      "metadata": {
        "id": "WIFL9s6BCShq"
      },
      "source": [
        "\n",
        "##<p style=\"font-family:JetBrains Mono; font-weight:normal; letter-spacing: 1px; color:#207d06; font-size:100%; text-align:left;padding: 0px; border-bottom: 3px solid #207d06;\">**13-Confusion Matrix**</p>"
      ]
    },
    {
      "cell_type": "code",
      "metadata": {
        "id": "Jrox--iDCUsq",
        "colab": {
          "base_uri": "https://localhost:8080/",
          "height": 551
        },
        "outputId": "16d4155c-ba41-4a98-d7dc-f9d9b2649c5d"
      },
      "source": [
        "plot_model(lr, plot = 'confusion_matrix')"
      ],
      "execution_count": 36,
      "outputs": [
        {
          "output_type": "display_data",
          "data": {
            "text/plain": [
              "<IPython.core.display.HTML object>"
            ],
            "text/html": []
          },
          "metadata": {}
        },
        {
          "output_type": "display_data",
          "data": {
            "text/plain": [
              "<Figure size 800x550 with 1 Axes>"
            ],
            "image/png": "[encoded data removed]"
          },
          "metadata": {}
        }
      ]
    },
    {
      "cell_type": "markdown",
      "source": [
        "##<p style=\"font-family:JetBrains Mono; font-weight:normal; letter-spacing: 1px; color:#207d06; font-size:100%; text-align:left;padding: 0px; border-bottom: 3px solid #207d06;\">**14-Cross Validation**</p>"
      ],
      "metadata": {
        "id": "3v-EZ0PoJwoN"
      }
    },
    {
      "cell_type": "markdown",
      "metadata": {
        "id": "8X4dVnJJ7Fnv"
      },
      "source": [
        "\n",
        "\n",
        "Evaluate the model on the holdout set used for validation\n"
      ]
    },
    {
      "cell_type": "code",
      "metadata": {
        "id": "vGeJgsxK7Hd_",
        "colab": {
          "base_uri": "https://localhost:8080/",
          "height": 81
        },
        "outputId": "2c312cb9-c0b6-4ed6-e4ed-240c8e0e3c6f"
      },
      "source": [
        "val_rf_pred = predict_model(tuned_lr)"
      ],
      "execution_count": 37,
      "outputs": [
        {
          "output_type": "display_data",
          "data": {
            "text/plain": [
              "<pandas.io.formats.style.Styler at 0x7e0e0f92ef90>"
            ],
            "text/html": [
              "<style type=\"text/css\">\n",
              "</style>\n",
              "<table id=\"T_c318d\" class=\"dataframe\">\n",
              "  <thead>\n",
              "    <tr>\n",
              "      <th class=\"blank level0\" >&nbsp;</th>\n",
              "      <th id=\"T_c318d_level0_col0\" class=\"col_heading level0 col0\" >Model</th>\n",
              "      <th id=\"T_c318d_level0_col1\" class=\"col_heading level0 col1\" >Accuracy</th>\n",
              "      <th id=\"T_c318d_level0_col2\" class=\"col_heading level0 col2\" >AUC</th>\n",
              "      <th id=\"T_c318d_level0_col3\" class=\"col_heading level0 col3\" >Recall</th>\n",
              "      <th id=\"T_c318d_level0_col4\" class=\"col_heading level0 col4\" >Prec.</th>\n",
              "      <th id=\"T_c318d_level0_col5\" class=\"col_heading level0 col5\" >F1</th>\n",
              "      <th id=\"T_c318d_level0_col6\" class=\"col_heading level0 col6\" >Kappa</th>\n",
              "      <th id=\"T_c318d_level0_col7\" class=\"col_heading level0 col7\" >MCC</th>\n",
              "    </tr>\n",
              "  </thead>\n",
              "  <tbody>\n",
              "    <tr>\n",
              "      <th id=\"T_c318d_level0_row0\" class=\"row_heading level0 row0\" >0</th>\n",
              "      <td id=\"T_c318d_row0_col0\" class=\"data row0 col0\" >Logistic Regression</td>\n",
              "      <td id=\"T_c318d_row0_col1\" class=\"data row0 col1\" >0.9778</td>\n",
              "      <td id=\"T_c318d_row0_col2\" class=\"data row0 col2\" >0.9985</td>\n",
              "      <td id=\"T_c318d_row0_col3\" class=\"data row0 col3\" >0.9778</td>\n",
              "      <td id=\"T_c318d_row0_col4\" class=\"data row0 col4\" >0.9792</td>\n",
              "      <td id=\"T_c318d_row0_col5\" class=\"data row0 col5\" >0.9778</td>\n",
              "      <td id=\"T_c318d_row0_col6\" class=\"data row0 col6\" >0.9667</td>\n",
              "      <td id=\"T_c318d_row0_col7\" class=\"data row0 col7\" >0.9674</td>\n",
              "    </tr>\n",
              "  </tbody>\n",
              "</table>\n"
            ]
          },
          "metadata": {}
        }
      ]
    },
    {
      "cell_type": "markdown",
      "metadata": {
        "id": "z2jHuRce4ZyJ"
      },
      "source": [
        "The predictions (Label) made is as follows:-\n"
      ]
    },
    {
      "cell_type": "code",
      "metadata": {
        "id": "jPpVAqui4dXa"
      },
      "source": [
        "val_rf_pred"
      ],
      "execution_count": null,
      "outputs": []
    },
    {
      "cell_type": "code",
      "metadata": {
        "id": "DHqgTlqP4u5_"
      },
      "source": [
        "y_test"
      ],
      "execution_count": null,
      "outputs": []
    },
    {
      "cell_type": "markdown",
      "source": [
        "\n",
        "##<p style=\"font-family:JetBrains Mono; font-weight:normal; letter-spacing: 1px; color:#207d06; font-size:100%; text-align:left;padding: 0px; border-bottom: 3px solid #207d06;\">**14-Make Predictions on Test Data**</p>"
      ],
      "metadata": {
        "id": "yX0mFC1Kt41j"
      }
    },
    {
      "cell_type": "markdown",
      "source": [
        "We are almost done! We finalize the model and predict it with the original dataset. Let’s read the final dataset. As we can see, it has added labels and scores."
      ],
      "metadata": {
        "id": "OtyC7sc1M8c6"
      }
    },
    {
      "cell_type": "code",
      "metadata": {
        "id": "9NLEEGb04mXt",
        "colab": {
          "base_uri": "https://localhost:8080/",
          "height": 364
        },
        "outputId": "899ee950-9678-4ca0-b671-75535e9a6538"
      },
      "source": [
        "# predictions on new datasetRESULT_TEXT\n",
        "pred_new_rf = predict_model(tuned_lr, data = data_unseen) #new_data is pd dataframe\n",
        "#pred_new_rf = pred_new_rf.rename(columns={‘RESULT_TEXT’:’prediction’})\n",
        "pred_new_rf = pred_new_rf.rename(columns={'RESULT_TEXT':'Prediction'})\n",
        "pred_new_rf"
      ],
      "execution_count": 38,
      "outputs": [
        {
          "output_type": "display_data",
          "data": {
            "text/plain": [
              "<pandas.io.formats.style.Styler at 0x7e0e1bc4c7d0>"
            ],
            "text/html": [
              "<style type=\"text/css\">\n",
              "</style>\n",
              "<table id=\"T_4ccc4\" class=\"dataframe\">\n",
              "  <thead>\n",
              "    <tr>\n",
              "      <th class=\"blank level0\" >&nbsp;</th>\n",
              "      <th id=\"T_4ccc4_level0_col0\" class=\"col_heading level0 col0\" >Model</th>\n",
              "      <th id=\"T_4ccc4_level0_col1\" class=\"col_heading level0 col1\" >Accuracy</th>\n",
              "      <th id=\"T_4ccc4_level0_col2\" class=\"col_heading level0 col2\" >AUC</th>\n",
              "      <th id=\"T_4ccc4_level0_col3\" class=\"col_heading level0 col3\" >Recall</th>\n",
              "      <th id=\"T_4ccc4_level0_col4\" class=\"col_heading level0 col4\" >Prec.</th>\n",
              "      <th id=\"T_4ccc4_level0_col5\" class=\"col_heading level0 col5\" >F1</th>\n",
              "      <th id=\"T_4ccc4_level0_col6\" class=\"col_heading level0 col6\" >Kappa</th>\n",
              "      <th id=\"T_4ccc4_level0_col7\" class=\"col_heading level0 col7\" >MCC</th>\n",
              "    </tr>\n",
              "  </thead>\n",
              "  <tbody>\n",
              "    <tr>\n",
              "      <th id=\"T_4ccc4_level0_row0\" class=\"row_heading level0 row0\" >0</th>\n",
              "      <td id=\"T_4ccc4_row0_col0\" class=\"data row0 col0\" >Logistic Regression</td>\n",
              "      <td id=\"T_4ccc4_row0_col1\" class=\"data row0 col1\" >1.0000</td>\n",
              "      <td id=\"T_4ccc4_row0_col2\" class=\"data row0 col2\" >0</td>\n",
              "      <td id=\"T_4ccc4_row0_col3\" class=\"data row0 col3\" >1.0000</td>\n",
              "      <td id=\"T_4ccc4_row0_col4\" class=\"data row0 col4\" >1.0000</td>\n",
              "      <td id=\"T_4ccc4_row0_col5\" class=\"data row0 col5\" >1.0000</td>\n",
              "      <td id=\"T_4ccc4_row0_col6\" class=\"data row0 col6\" >nan</td>\n",
              "      <td id=\"T_4ccc4_row0_col7\" class=\"data row0 col7\" >0.0000</td>\n",
              "    </tr>\n",
              "  </tbody>\n",
              "</table>\n"
            ]
          },
          "metadata": {}
        },
        {
          "output_type": "execute_result",
          "data": {
            "text/plain": [
              "   sepal_length  sepal_width  petal_length  petal_width         species  \\\n",
              "0           5.8          2.7           5.1          1.9  Iris-virginica   \n",
              "1           6.8          3.2           5.9          2.3  Iris-virginica   \n",
              "2           6.7          3.3           5.7          2.5  Iris-virginica   \n",
              "3           6.7          3.0           5.2          2.3  Iris-virginica   \n",
              "4           6.3          2.5           5.0          1.9  Iris-virginica   \n",
              "5           6.5          3.0           5.2          2.0  Iris-virginica   \n",
              "6           6.2          3.4           5.4          2.3  Iris-virginica   \n",
              "7           5.9          3.0           5.1          1.8  Iris-virginica   \n",
              "\n",
              "  prediction_label  prediction_score  \n",
              "0   Iris-virginica            0.8141  \n",
              "1   Iris-virginica            0.9827  \n",
              "2   Iris-virginica            0.9817  \n",
              "3   Iris-virginica            0.9104  \n",
              "4   Iris-virginica            0.7621  \n",
              "5   Iris-virginica            0.8372  \n",
              "6   Iris-virginica            0.9426  \n",
              "7   Iris-virginica            0.7418  "
            ],
            "text/html": [
              "\n",
              "  <div id=\"df-fa984a44-51fa-4861-adc2-03898d8688a2\" class=\"colab-df-container\">\n",
              "    <div>\n",
              "<style scoped>\n",
              "    .dataframe tbody tr th:only-of-type {\n",
              "        vertical-align: middle;\n",
              "    }\n",
              "\n",
              "    .dataframe tbody tr th {\n",
              "        vertical-align: top;\n",
              "    }\n",
              "\n",
              "    .dataframe thead th {\n",
              "        text-align: right;\n",
              "    }\n",
              "</style>\n",
              "<table border=\"1\" class=\"dataframe\">\n",
              "  <thead>\n",
              "    <tr style=\"text-align: right;\">\n",
              "      <th></th>\n",
              "      <th>sepal_length</th>\n",
              "      <th>sepal_width</th>\n",
              "      <th>petal_length</th>\n",
              "      <th>petal_width</th>\n",
              "      <th>species</th>\n",
              "      <th>prediction_label</th>\n",
              "      <th>prediction_score</th>\n",
              "    </tr>\n",
              "  </thead>\n",
              "  <tbody>\n",
              "    <tr>\n",
              "      <th>0</th>\n",
              "      <td>5.8</td>\n",
              "      <td>2.7</td>\n",
              "      <td>5.1</td>\n",
              "      <td>1.9</td>\n",
              "      <td>Iris-virginica</td>\n",
              "      <td>Iris-virginica</td>\n",
              "      <td>0.8141</td>\n",
              "    </tr>\n",
              "    <tr>\n",
              "      <th>1</th>\n",
              "      <td>6.8</td>\n",
              "      <td>3.2</td>\n",
              "      <td>5.9</td>\n",
              "      <td>2.3</td>\n",
              "      <td>Iris-virginica</td>\n",
              "      <td>Iris-virginica</td>\n",
              "      <td>0.9827</td>\n",
              "    </tr>\n",
              "    <tr>\n",
              "      <th>2</th>\n",
              "      <td>6.7</td>\n",
              "      <td>3.3</td>\n",
              "      <td>5.7</td>\n",
              "      <td>2.5</td>\n",
              "      <td>Iris-virginica</td>\n",
              "      <td>Iris-virginica</td>\n",
              "      <td>0.9817</td>\n",
              "    </tr>\n",
              "    <tr>\n",
              "      <th>3</th>\n",
              "      <td>6.7</td>\n",
              "      <td>3.0</td>\n",
              "      <td>5.2</td>\n",
              "      <td>2.3</td>\n",
              "      <td>Iris-virginica</td>\n",
              "      <td>Iris-virginica</td>\n",
              "      <td>0.9104</td>\n",
              "    </tr>\n",
              "    <tr>\n",
              "      <th>4</th>\n",
              "      <td>6.3</td>\n",
              "      <td>2.5</td>\n",
              "      <td>5.0</td>\n",
              "      <td>1.9</td>\n",
              "      <td>Iris-virginica</td>\n",
              "      <td>Iris-virginica</td>\n",
              "      <td>0.7621</td>\n",
              "    </tr>\n",
              "    <tr>\n",
              "      <th>5</th>\n",
              "      <td>6.5</td>\n",
              "      <td>3.0</td>\n",
              "      <td>5.2</td>\n",
              "      <td>2.0</td>\n",
              "      <td>Iris-virginica</td>\n",
              "      <td>Iris-virginica</td>\n",
              "      <td>0.8372</td>\n",
              "    </tr>\n",
              "    <tr>\n",
              "      <th>6</th>\n",
              "      <td>6.2</td>\n",
              "      <td>3.4</td>\n",
              "      <td>5.4</td>\n",
              "      <td>2.3</td>\n",
              "      <td>Iris-virginica</td>\n",
              "      <td>Iris-virginica</td>\n",
              "      <td>0.9426</td>\n",
              "    </tr>\n",
              "    <tr>\n",
              "      <th>7</th>\n",
              "      <td>5.9</td>\n",
              "      <td>3.0</td>\n",
              "      <td>5.1</td>\n",
              "      <td>1.8</td>\n",
              "      <td>Iris-virginica</td>\n",
              "      <td>Iris-virginica</td>\n",
              "      <td>0.7418</td>\n",
              "    </tr>\n",
              "  </tbody>\n",
              "</table>\n",
              "</div>\n",
              "    <div class=\"colab-df-buttons\">\n",
              "\n",
              "  <div class=\"colab-df-container\">\n",
              "    <button class=\"colab-df-convert\" onclick=\"convertToInteractive('df-fa984a44-51fa-4861-adc2-03898d8688a2')\"\n",
              "            title=\"Convert this dataframe to an interactive table.\"\n",
              "            style=\"display:none;\">\n",
              "\n",
              "  <svg xmlns=\"http://www.w3.org/2000/svg\" height=\"24px\" viewBox=\"0 -960 960 960\">\n",
              "    <path d=\"M120-120v-720h720v720H120Zm60-500h600v-160H180v160Zm220 220h160v-160H400v160Zm0 220h160v-160H400v160ZM180-400h160v-160H180v160Zm440 0h160v-160H620v160ZM180-180h160v-160H180v160Zm440 0h160v-160H620v160Z\"/>\n",
              "  </svg>\n",
              "    </button>\n",
              "\n",
              "  <style>\n",
              "    .colab-df-container {\n",
              "      display:flex;\n",
              "      gap: 12px;\n",
              "    }\n",
              "\n",
              "    .colab-df-convert {\n",
              "      background-color: #E8F0FE;\n",
              "      border: none;\n",
              "      border-radius: 50%;\n",
              "      cursor: pointer;\n",
              "      display: none;\n",
              "      fill: #1967D2;\n",
              "      height: 32px;\n",
              "      padding: 0 0 0 0;\n",
              "      width: 32px;\n",
              "    }\n",
              "\n",
              "    .colab-df-convert:hover {\n",
              "      background-color: #E2EBFA;\n",
              "      box-shadow: 0px 1px 2px rgba(60, 64, 67, 0.3), 0px 1px 3px 1px rgba(60, 64, 67, 0.15);\n",
              "      fill: #174EA6;\n",
              "    }\n",
              "\n",
              "    .colab-df-buttons div {\n",
              "      margin-bottom: 4px;\n",
              "    }\n",
              "\n",
              "    [theme=dark] .colab-df-convert {\n",
              "      background-color: #3B4455;\n",
              "      fill: #D2E3FC;\n",
              "    }\n",
              "\n",
              "    [theme=dark] .colab-df-convert:hover {\n",
              "      background-color: #434B5C;\n",
              "      box-shadow: 0px 1px 3px 1px rgba(0, 0, 0, 0.15);\n",
              "      filter: drop-shadow(0px 1px 2px rgba(0, 0, 0, 0.3));\n",
              "      fill: #FFFFFF;\n",
              "    }\n",
              "  </style>\n",
              "\n",
              "    <script>\n",
              "      const buttonEl =\n",
              "        document.querySelector('#df-fa984a44-51fa-4861-adc2-03898d8688a2 button.colab-df-convert');\n",
              "      buttonEl.style.display =\n",
              "        google.colab.kernel.accessAllowed ? 'block' : 'none';\n",
              "\n",
              "      async function convertToInteractive(key) {\n",
              "        const element = document.querySelector('#df-fa984a44-51fa-4861-adc2-03898d8688a2');\n",
              "        const dataTable =\n",
              "          await google.colab.kernel.invokeFunction('convertToInteractive',\n",
              "                                                    [key], {});\n",
              "        if (!dataTable) return;\n",
              "\n",
              "        const docLinkHtml = 'Like what you see? Visit the ' +\n",
              "          '<a target=\"_blank\" href=https://colab.research.google.com/notebooks/data_table.ipynb>data table notebook</a>'\n",
              "          + ' to learn more about interactive tables.';\n",
              "        element.innerHTML = '';\n",
              "        dataTable['output_type'] = 'display_data';\n",
              "        await google.colab.output.renderOutput(dataTable, element);\n",
              "        const docLink = document.createElement('div');\n",
              "        docLink.innerHTML = docLinkHtml;\n",
              "        element.appendChild(docLink);\n",
              "      }\n",
              "    </script>\n",
              "  </div>\n",
              "\n",
              "\n",
              "<div id=\"df-98d835c8-1e1e-4f5f-8e85-b7bf381486a5\">\n",
              "  <button class=\"colab-df-quickchart\" onclick=\"quickchart('df-98d835c8-1e1e-4f5f-8e85-b7bf381486a5')\"\n",
              "            title=\"Suggest charts\"\n",
              "            style=\"display:none;\">\n",
              "\n",
              "<svg xmlns=\"http://www.w3.org/2000/svg\" height=\"24px\"viewBox=\"0 0 24 24\"\n",
              "     width=\"24px\">\n",
              "    <g>\n",
              "        <path d=\"M19 3H5c-1.1 0-2 .9-2 2v14c0 1.1.9 2 2 2h14c1.1 0 2-.9 2-2V5c0-1.1-.9-2-2-2zM9 17H7v-7h2v7zm4 0h-2V7h2v10zm4 0h-2v-4h2v4z\"/>\n",
              "    </g>\n",
              "</svg>\n",
              "  </button>\n",
              "\n",
              "<style>\n",
              "  .colab-df-quickchart {\n",
              "      --bg-color: #E8F0FE;\n",
              "      --fill-color: #1967D2;\n",
              "      --hover-bg-color: #E2EBFA;\n",
              "      --hover-fill-color: #174EA6;\n",
              "      --disabled-fill-color: #AAA;\n",
              "      --disabled-bg-color: #DDD;\n",
              "  }\n",
              "\n",
              "  [theme=dark] .colab-df-quickchart {\n",
              "      --bg-color: #3B4455;\n",
              "      --fill-color: #D2E3FC;\n",
              "      --hover-bg-color: #434B5C;\n",
              "      --hover-fill-color: #FFFFFF;\n",
              "      --disabled-bg-color: #3B4455;\n",
              "      --disabled-fill-color: #666;\n",
              "  }\n",
              "\n",
              "  .colab-df-quickchart {\n",
              "    background-color: var(--bg-color);\n",
              "    border: none;\n",
              "    border-radius: 50%;\n",
              "    cursor: pointer;\n",
              "    display: none;\n",
              "    fill: var(--fill-color);\n",
              "    height: 32px;\n",
              "    padding: 0;\n",
              "    width: 32px;\n",
              "  }\n",
              "\n",
              "  .colab-df-quickchart:hover {\n",
              "    background-color: var(--hover-bg-color);\n",
              "    box-shadow: 0 1px 2px rgba(60, 64, 67, 0.3), 0 1px 3px 1px rgba(60, 64, 67, 0.15);\n",
              "    fill: var(--button-hover-fill-color);\n",
              "  }\n",
              "\n",
              "  .colab-df-quickchart-complete:disabled,\n",
              "  .colab-df-quickchart-complete:disabled:hover {\n",
              "    background-color: var(--disabled-bg-color);\n",
              "    fill: var(--disabled-fill-color);\n",
              "    box-shadow: none;\n",
              "  }\n",
              "\n",
              "  .colab-df-spinner {\n",
              "    border: 2px solid var(--fill-color);\n",
              "    border-color: transparent;\n",
              "    border-bottom-color: var(--fill-color);\n",
              "    animation:\n",
              "      spin 1s steps(1) infinite;\n",
              "  }\n",
              "\n",
              "  @keyframes spin {\n",
              "    0% {\n",
              "      border-color: transparent;\n",
              "      border-bottom-color: var(--fill-color);\n",
              "      border-left-color: var(--fill-color);\n",
              "    }\n",
              "    20% {\n",
              "      border-color: transparent;\n",
              "      border-left-color: var(--fill-color);\n",
              "      border-top-color: var(--fill-color);\n",
              "    }\n",
              "    30% {\n",
              "      border-color: transparent;\n",
              "      border-left-color: var(--fill-color);\n",
              "      border-top-color: var(--fill-color);\n",
              "      border-right-color: var(--fill-color);\n",
              "    }\n",
              "    40% {\n",
              "      border-color: transparent;\n",
              "      border-right-color: var(--fill-color);\n",
              "      border-top-color: var(--fill-color);\n",
              "    }\n",
              "    60% {\n",
              "      border-color: transparent;\n",
              "      border-right-color: var(--fill-color);\n",
              "    }\n",
              "    80% {\n",
              "      border-color: transparent;\n",
              "      border-right-color: var(--fill-color);\n",
              "      border-bottom-color: var(--fill-color);\n",
              "    }\n",
              "    90% {\n",
              "      border-color: transparent;\n",
              "      border-bottom-color: var(--fill-color);\n",
              "    }\n",
              "  }\n",
              "</style>\n",
              "\n",
              "  <script>\n",
              "    async function quickchart(key) {\n",
              "      const quickchartButtonEl =\n",
              "        document.querySelector('#' + key + ' button');\n",
              "      quickchartButtonEl.disabled = true;  // To prevent multiple clicks.\n",
              "      quickchartButtonEl.classList.add('colab-df-spinner');\n",
              "      try {\n",
              "        const charts = await google.colab.kernel.invokeFunction(\n",
              "            'suggestCharts', [key], {});\n",
              "      } catch (error) {\n",
              "        console.error('Error during call to suggestCharts:', error);\n",
              "      }\n",
              "      quickchartButtonEl.classList.remove('colab-df-spinner');\n",
              "      quickchartButtonEl.classList.add('colab-df-quickchart-complete');\n",
              "    }\n",
              "    (() => {\n",
              "      let quickchartButtonEl =\n",
              "        document.querySelector('#df-98d835c8-1e1e-4f5f-8e85-b7bf381486a5 button');\n",
              "      quickchartButtonEl.style.display =\n",
              "        google.colab.kernel.accessAllowed ? 'block' : 'none';\n",
              "    })();\n",
              "  </script>\n",
              "</div>\n",
              "\n",
              "  <div id=\"id_0b6d9af4-6bfd-4887-aca5-f559033450d3\">\n",
              "    <style>\n",
              "      .colab-df-generate {\n",
              "        background-color: #E8F0FE;\n",
              "        border: none;\n",
              "        border-radius: 50%;\n",
              "        cursor: pointer;\n",
              "        display: none;\n",
              "        fill: #1967D2;\n",
              "        height: 32px;\n",
              "        padding: 0 0 0 0;\n",
              "        width: 32px;\n",
              "      }\n",
              "\n",
              "      .colab-df-generate:hover {\n",
              "        background-color: #E2EBFA;\n",
              "        box-shadow: 0px 1px 2px rgba(60, 64, 67, 0.3), 0px 1px 3px 1px rgba(60, 64, 67, 0.15);\n",
              "        fill: #174EA6;\n",
              "      }\n",
              "\n",
              "      [theme=dark] .colab-df-generate {\n",
              "        background-color: #3B4455;\n",
              "        fill: #D2E3FC;\n",
              "      }\n",
              "\n",
              "      [theme=dark] .colab-df-generate:hover {\n",
              "        background-color: #434B5C;\n",
              "        box-shadow: 0px 1px 3px 1px rgba(0, 0, 0, 0.15);\n",
              "        filter: drop-shadow(0px 1px 2px rgba(0, 0, 0, 0.3));\n",
              "        fill: #FFFFFF;\n",
              "      }\n",
              "    </style>\n",
              "    <button class=\"colab-df-generate\" onclick=\"generateWithVariable('pred_new_rf')\"\n",
              "            title=\"Generate code using this dataframe.\"\n",
              "            style=\"display:none;\">\n",
              "\n",
              "  <svg xmlns=\"http://www.w3.org/2000/svg\" height=\"24px\"viewBox=\"0 0 24 24\"\n",
              "       width=\"24px\">\n",
              "    <path d=\"M7,19H8.4L18.45,9,17,7.55,7,17.6ZM5,21V16.75L18.45,3.32a2,2,0,0,1,2.83,0l1.4,1.43a1.91,1.91,0,0,1,.58,1.4,1.91,1.91,0,0,1-.58,1.4L9.25,21ZM18.45,9,17,7.55Zm-12,3A5.31,5.31,0,0,0,4.9,8.1,5.31,5.31,0,0,0,1,6.5,5.31,5.31,0,0,0,4.9,4.9,5.31,5.31,0,0,0,6.5,1,5.31,5.31,0,0,0,8.1,4.9,5.31,5.31,0,0,0,12,6.5,5.46,5.46,0,0,0,6.5,12Z\"/>\n",
              "  </svg>\n",
              "    </button>\n",
              "    <script>\n",
              "      (() => {\n",
              "      const buttonEl =\n",
              "        document.querySelector('#id_0b6d9af4-6bfd-4887-aca5-f559033450d3 button.colab-df-generate');\n",
              "      buttonEl.style.display =\n",
              "        google.colab.kernel.accessAllowed ? 'block' : 'none';\n",
              "\n",
              "      buttonEl.onclick = () => {\n",
              "        google.colab.notebook.generateWithVariable('pred_new_rf');\n",
              "      }\n",
              "      })();\n",
              "    </script>\n",
              "  </div>\n",
              "\n",
              "    </div>\n",
              "  </div>\n"
            ],
            "application/vnd.google.colaboratory.intrinsic+json": {
              "type": "dataframe",
              "variable_name": "pred_new_rf",
              "summary": "{\n  \"name\": \"pred_new_rf\",\n  \"rows\": 8,\n  \"fields\": [\n    {\n      \"column\": \"sepal_length\",\n      \"properties\": {\n        \"dtype\": \"float32\",\n        \"num_unique_values\": 7,\n        \"samples\": [\n          5.800000190734863,\n          6.800000190734863,\n          6.199999809265137\n        ],\n        \"semantic_type\": \"\",\n        \"description\": \"\"\n      }\n    },\n    {\n      \"column\": \"sepal_width\",\n      \"properties\": {\n        \"dtype\": \"float32\",\n        \"num_unique_values\": 6,\n        \"samples\": [\n          2.700000047683716,\n          3.200000047683716,\n          3.4000000953674316\n        ],\n        \"semantic_type\": \"\",\n        \"description\": \"\"\n      }\n    },\n    {\n      \"column\": \"petal_length\",\n      \"properties\": {\n        \"dtype\": \"float32\",\n        \"num_unique_values\": 6,\n        \"samples\": [\n          5.099999904632568,\n          5.900000095367432,\n          5.400000095367432\n        ],\n        \"semantic_type\": \"\",\n        \"description\": \"\"\n      }\n    },\n    {\n      \"column\": \"petal_width\",\n      \"properties\": {\n        \"dtype\": \"float32\",\n        \"num_unique_values\": 5,\n        \"samples\": [\n          2.299999952316284,\n          1.7999999523162842,\n          2.5\n        ],\n        \"semantic_type\": \"\",\n        \"description\": \"\"\n      }\n    },\n    {\n      \"column\": \"species\",\n      \"properties\": {\n        \"dtype\": \"category\",\n        \"num_unique_values\": 1,\n        \"samples\": [\n          \"Iris-virginica\"\n        ],\n        \"semantic_type\": \"\",\n        \"description\": \"\"\n      }\n    },\n    {\n      \"column\": \"prediction_label\",\n      \"properties\": {\n        \"dtype\": \"category\",\n        \"num_unique_values\": 1,\n        \"samples\": [\n          \"Iris-virginica\"\n        ],\n        \"semantic_type\": \"\",\n        \"description\": \"\"\n      }\n    },\n    {\n      \"column\": \"prediction_score\",\n      \"properties\": {\n        \"dtype\": \"number\",\n        \"std\": 0.09587160684999495,\n        \"min\": 0.7418,\n        \"max\": 0.9827,\n        \"num_unique_values\": 8,\n        \"samples\": [\n          0.9827\n        ],\n        \"semantic_type\": \"\",\n        \"description\": \"\"\n      }\n    }\n  ]\n}"
            }
          },
          "metadata": {},
          "execution_count": 38
        }
      ]
    },
    {
      "cell_type": "code",
      "source": [
        "rf_final = finalize_model(lr)\n",
        "predict_rf = predict_model(rf_final,data)\n",
        "\n",
        "predict_rf.head()"
      ],
      "metadata": {
        "id": "ju5COIRoNAOg",
        "colab": {
          "base_uri": "https://localhost:8080/",
          "height": 270
        },
        "outputId": "e19ae1d8-d0e1-4435-8057-536e06c62626"
      },
      "execution_count": 39,
      "outputs": [
        {
          "output_type": "display_data",
          "data": {
            "text/plain": [
              "<pandas.io.formats.style.Styler at 0x7e0e1cc15490>"
            ],
            "text/html": [
              "<style type=\"text/css\">\n",
              "</style>\n",
              "<table id=\"T_1a3d6\" class=\"dataframe\">\n",
              "  <thead>\n",
              "    <tr>\n",
              "      <th class=\"blank level0\" >&nbsp;</th>\n",
              "      <th id=\"T_1a3d6_level0_col0\" class=\"col_heading level0 col0\" >Model</th>\n",
              "      <th id=\"T_1a3d6_level0_col1\" class=\"col_heading level0 col1\" >Accuracy</th>\n",
              "      <th id=\"T_1a3d6_level0_col2\" class=\"col_heading level0 col2\" >AUC</th>\n",
              "      <th id=\"T_1a3d6_level0_col3\" class=\"col_heading level0 col3\" >Recall</th>\n",
              "      <th id=\"T_1a3d6_level0_col4\" class=\"col_heading level0 col4\" >Prec.</th>\n",
              "      <th id=\"T_1a3d6_level0_col5\" class=\"col_heading level0 col5\" >F1</th>\n",
              "      <th id=\"T_1a3d6_level0_col6\" class=\"col_heading level0 col6\" >Kappa</th>\n",
              "      <th id=\"T_1a3d6_level0_col7\" class=\"col_heading level0 col7\" >MCC</th>\n",
              "    </tr>\n",
              "  </thead>\n",
              "  <tbody>\n",
              "    <tr>\n",
              "      <th id=\"T_1a3d6_level0_row0\" class=\"row_heading level0 row0\" >0</th>\n",
              "      <td id=\"T_1a3d6_row0_col0\" class=\"data row0 col0\" >Logistic Regression</td>\n",
              "      <td id=\"T_1a3d6_row0_col1\" class=\"data row0 col1\" >0.9718</td>\n",
              "      <td id=\"T_1a3d6_row0_col2\" class=\"data row0 col2\" >0.9981</td>\n",
              "      <td id=\"T_1a3d6_row0_col3\" class=\"data row0 col3\" >0.9718</td>\n",
              "      <td id=\"T_1a3d6_row0_col4\" class=\"data row0 col4\" >0.9724</td>\n",
              "      <td id=\"T_1a3d6_row0_col5\" class=\"data row0 col5\" >0.9718</td>\n",
              "      <td id=\"T_1a3d6_row0_col6\" class=\"data row0 col6\" >0.9577</td>\n",
              "      <td id=\"T_1a3d6_row0_col7\" class=\"data row0 col7\" >0.9580</td>\n",
              "    </tr>\n",
              "  </tbody>\n",
              "</table>\n"
            ]
          },
          "metadata": {}
        },
        {
          "output_type": "execute_result",
          "data": {
            "text/plain": [
              "   sepal_length  sepal_width  petal_length  petal_width          species  \\\n",
              "0           5.8          2.7           3.9          1.2  Iris-versicolor   \n",
              "1           5.7          2.8           4.5          1.3  Iris-versicolor   \n",
              "2           7.7          3.0           6.1          2.3   Iris-virginica   \n",
              "3           5.8          2.6           4.0          1.2  Iris-versicolor   \n",
              "4           7.0          3.2           4.7          1.4  Iris-versicolor   \n",
              "\n",
              "  prediction_label  prediction_score  \n",
              "0  Iris-versicolor            0.9565  \n",
              "1  Iris-versicolor            0.8601  \n",
              "2   Iris-virginica            0.9883  \n",
              "3  Iris-versicolor            0.9570  \n",
              "4  Iris-versicolor            0.8740  "
            ],
            "text/html": [
              "\n",
              "  <div id=\"df-6d07f81b-b96c-42da-8b76-3c3e2f60e9bf\" class=\"colab-df-container\">\n",
              "    <div>\n",
              "<style scoped>\n",
              "    .dataframe tbody tr th:only-of-type {\n",
              "        vertical-align: middle;\n",
              "    }\n",
              "\n",
              "    .dataframe tbody tr th {\n",
              "        vertical-align: top;\n",
              "    }\n",
              "\n",
              "    .dataframe thead th {\n",
              "        text-align: right;\n",
              "    }\n",
              "</style>\n",
              "<table border=\"1\" class=\"dataframe\">\n",
              "  <thead>\n",
              "    <tr style=\"text-align: right;\">\n",
              "      <th></th>\n",
              "      <th>sepal_length</th>\n",
              "      <th>sepal_width</th>\n",
              "      <th>petal_length</th>\n",
              "      <th>petal_width</th>\n",
              "      <th>species</th>\n",
              "      <th>prediction_label</th>\n",
              "      <th>prediction_score</th>\n",
              "    </tr>\n",
              "  </thead>\n",
              "  <tbody>\n",
              "    <tr>\n",
              "      <th>0</th>\n",
              "      <td>5.8</td>\n",
              "      <td>2.7</td>\n",
              "      <td>3.9</td>\n",
              "      <td>1.2</td>\n",
              "      <td>Iris-versicolor</td>\n",
              "      <td>Iris-versicolor</td>\n",
              "      <td>0.9565</td>\n",
              "    </tr>\n",
              "    <tr>\n",
              "      <th>1</th>\n",
              "      <td>5.7</td>\n",
              "      <td>2.8</td>\n",
              "      <td>4.5</td>\n",
              "      <td>1.3</td>\n",
              "      <td>Iris-versicolor</td>\n",
              "      <td>Iris-versicolor</td>\n",
              "      <td>0.8601</td>\n",
              "    </tr>\n",
              "    <tr>\n",
              "      <th>2</th>\n",
              "      <td>7.7</td>\n",
              "      <td>3.0</td>\n",
              "      <td>6.1</td>\n",
              "      <td>2.3</td>\n",
              "      <td>Iris-virginica</td>\n",
              "      <td>Iris-virginica</td>\n",
              "      <td>0.9883</td>\n",
              "    </tr>\n",
              "    <tr>\n",
              "      <th>3</th>\n",
              "      <td>5.8</td>\n",
              "      <td>2.6</td>\n",
              "      <td>4.0</td>\n",
              "      <td>1.2</td>\n",
              "      <td>Iris-versicolor</td>\n",
              "      <td>Iris-versicolor</td>\n",
              "      <td>0.9570</td>\n",
              "    </tr>\n",
              "    <tr>\n",
              "      <th>4</th>\n",
              "      <td>7.0</td>\n",
              "      <td>3.2</td>\n",
              "      <td>4.7</td>\n",
              "      <td>1.4</td>\n",
              "      <td>Iris-versicolor</td>\n",
              "      <td>Iris-versicolor</td>\n",
              "      <td>0.8740</td>\n",
              "    </tr>\n",
              "  </tbody>\n",
              "</table>\n",
              "</div>\n",
              "    <div class=\"colab-df-buttons\">\n",
              "\n",
              "  <div class=\"colab-df-container\">\n",
              "    <button class=\"colab-df-convert\" onclick=\"convertToInteractive('df-6d07f81b-b96c-42da-8b76-3c3e2f60e9bf')\"\n",
              "            title=\"Convert this dataframe to an interactive table.\"\n",
              "            style=\"display:none;\">\n",
              "\n",
              "  <svg xmlns=\"http://www.w3.org/2000/svg\" height=\"24px\" viewBox=\"0 -960 960 960\">\n",
              "    <path d=\"M120-120v-720h720v720H120Zm60-500h600v-160H180v160Zm220 220h160v-160H400v160Zm0 220h160v-160H400v160ZM180-400h160v-160H180v160Zm440 0h160v-160H620v160ZM180-180h160v-160H180v160Zm440 0h160v-160H620v160Z\"/>\n",
              "  </svg>\n",
              "    </button>\n",
              "\n",
              "  <style>\n",
              "    .colab-df-container {\n",
              "      display:flex;\n",
              "      gap: 12px;\n",
              "    }\n",
              "\n",
              "    .colab-df-convert {\n",
              "      background-color: #E8F0FE;\n",
              "      border: none;\n",
              "      border-radius: 50%;\n",
              "      cursor: pointer;\n",
              "      display: none;\n",
              "      fill: #1967D2;\n",
              "      height: 32px;\n",
              "      padding: 0 0 0 0;\n",
              "      width: 32px;\n",
              "    }\n",
              "\n",
              "    .colab-df-convert:hover {\n",
              "      background-color: #E2EBFA;\n",
              "      box-shadow: 0px 1px 2px rgba(60, 64, 67, 0.3), 0px 1px 3px 1px rgba(60, 64, 67, 0.15);\n",
              "      fill: #174EA6;\n",
              "    }\n",
              "\n",
              "    .colab-df-buttons div {\n",
              "      margin-bottom: 4px;\n",
              "    }\n",
              "\n",
              "    [theme=dark] .colab-df-convert {\n",
              "      background-color: #3B4455;\n",
              "      fill: #D2E3FC;\n",
              "    }\n",
              "\n",
              "    [theme=dark] .colab-df-convert:hover {\n",
              "      background-color: #434B5C;\n",
              "      box-shadow: 0px 1px 3px 1px rgba(0, 0, 0, 0.15);\n",
              "      filter: drop-shadow(0px 1px 2px rgba(0, 0, 0, 0.3));\n",
              "      fill: #FFFFFF;\n",
              "    }\n",
              "  </style>\n",
              "\n",
              "    <script>\n",
              "      const buttonEl =\n",
              "        document.querySelector('#df-6d07f81b-b96c-42da-8b76-3c3e2f60e9bf button.colab-df-convert');\n",
              "      buttonEl.style.display =\n",
              "        google.colab.kernel.accessAllowed ? 'block' : 'none';\n",
              "\n",
              "      async function convertToInteractive(key) {\n",
              "        const element = document.querySelector('#df-6d07f81b-b96c-42da-8b76-3c3e2f60e9bf');\n",
              "        const dataTable =\n",
              "          await google.colab.kernel.invokeFunction('convertToInteractive',\n",
              "                                                    [key], {});\n",
              "        if (!dataTable) return;\n",
              "\n",
              "        const docLinkHtml = 'Like what you see? Visit the ' +\n",
              "          '<a target=\"_blank\" href=https://colab.research.google.com/notebooks/data_table.ipynb>data table notebook</a>'\n",
              "          + ' to learn more about interactive tables.';\n",
              "        element.innerHTML = '';\n",
              "        dataTable['output_type'] = 'display_data';\n",
              "        await google.colab.output.renderOutput(dataTable, element);\n",
              "        const docLink = document.createElement('div');\n",
              "        docLink.innerHTML = docLinkHtml;\n",
              "        element.appendChild(docLink);\n",
              "      }\n",
              "    </script>\n",
              "  </div>\n",
              "\n",
              "\n",
              "<div id=\"df-1d13b0a4-5483-42c3-bf08-6701f8c884cd\">\n",
              "  <button class=\"colab-df-quickchart\" onclick=\"quickchart('df-1d13b0a4-5483-42c3-bf08-6701f8c884cd')\"\n",
              "            title=\"Suggest charts\"\n",
              "            style=\"display:none;\">\n",
              "\n",
              "<svg xmlns=\"http://www.w3.org/2000/svg\" height=\"24px\"viewBox=\"0 0 24 24\"\n",
              "     width=\"24px\">\n",
              "    <g>\n",
              "        <path d=\"M19 3H5c-1.1 0-2 .9-2 2v14c0 1.1.9 2 2 2h14c1.1 0 2-.9 2-2V5c0-1.1-.9-2-2-2zM9 17H7v-7h2v7zm4 0h-2V7h2v10zm4 0h-2v-4h2v4z\"/>\n",
              "    </g>\n",
              "</svg>\n",
              "  </button>\n",
              "\n",
              "<style>\n",
              "  .colab-df-quickchart {\n",
              "      --bg-color: #E8F0FE;\n",
              "      --fill-color: #1967D2;\n",
              "      --hover-bg-color: #E2EBFA;\n",
              "      --hover-fill-color: #174EA6;\n",
              "      --disabled-fill-color: #AAA;\n",
              "      --disabled-bg-color: #DDD;\n",
              "  }\n",
              "\n",
              "  [theme=dark] .colab-df-quickchart {\n",
              "      --bg-color: #3B4455;\n",
              "      --fill-color: #D2E3FC;\n",
              "      --hover-bg-color: #434B5C;\n",
              "      --hover-fill-color: #FFFFFF;\n",
              "      --disabled-bg-color: #3B4455;\n",
              "      --disabled-fill-color: #666;\n",
              "  }\n",
              "\n",
              "  .colab-df-quickchart {\n",
              "    background-color: var(--bg-color);\n",
              "    border: none;\n",
              "    border-radius: 50%;\n",
              "    cursor: pointer;\n",
              "    display: none;\n",
              "    fill: var(--fill-color);\n",
              "    height: 32px;\n",
              "    padding: 0;\n",
              "    width: 32px;\n",
              "  }\n",
              "\n",
              "  .colab-df-quickchart:hover {\n",
              "    background-color: var(--hover-bg-color);\n",
              "    box-shadow: 0 1px 2px rgba(60, 64, 67, 0.3), 0 1px 3px 1px rgba(60, 64, 67, 0.15);\n",
              "    fill: var(--button-hover-fill-color);\n",
              "  }\n",
              "\n",
              "  .colab-df-quickchart-complete:disabled,\n",
              "  .colab-df-quickchart-complete:disabled:hover {\n",
              "    background-color: var(--disabled-bg-color);\n",
              "    fill: var(--disabled-fill-color);\n",
              "    box-shadow: none;\n",
              "  }\n",
              "\n",
              "  .colab-df-spinner {\n",
              "    border: 2px solid var(--fill-color);\n",
              "    border-color: transparent;\n",
              "    border-bottom-color: var(--fill-color);\n",
              "    animation:\n",
              "      spin 1s steps(1) infinite;\n",
              "  }\n",
              "\n",
              "  @keyframes spin {\n",
              "    0% {\n",
              "      border-color: transparent;\n",
              "      border-bottom-color: var(--fill-color);\n",
              "      border-left-color: var(--fill-color);\n",
              "    }\n",
              "    20% {\n",
              "      border-color: transparent;\n",
              "      border-left-color: var(--fill-color);\n",
              "      border-top-color: var(--fill-color);\n",
              "    }\n",
              "    30% {\n",
              "      border-color: transparent;\n",
              "      border-left-color: var(--fill-color);\n",
              "      border-top-color: var(--fill-color);\n",
              "      border-right-color: var(--fill-color);\n",
              "    }\n",
              "    40% {\n",
              "      border-color: transparent;\n",
              "      border-right-color: var(--fill-color);\n",
              "      border-top-color: var(--fill-color);\n",
              "    }\n",
              "    60% {\n",
              "      border-color: transparent;\n",
              "      border-right-color: var(--fill-color);\n",
              "    }\n",
              "    80% {\n",
              "      border-color: transparent;\n",
              "      border-right-color: var(--fill-color);\n",
              "      border-bottom-color: var(--fill-color);\n",
              "    }\n",
              "    90% {\n",
              "      border-color: transparent;\n",
              "      border-bottom-color: var(--fill-color);\n",
              "    }\n",
              "  }\n",
              "</style>\n",
              "\n",
              "  <script>\n",
              "    async function quickchart(key) {\n",
              "      const quickchartButtonEl =\n",
              "        document.querySelector('#' + key + ' button');\n",
              "      quickchartButtonEl.disabled = true;  // To prevent multiple clicks.\n",
              "      quickchartButtonEl.classList.add('colab-df-spinner');\n",
              "      try {\n",
              "        const charts = await google.colab.kernel.invokeFunction(\n",
              "            'suggestCharts', [key], {});\n",
              "      } catch (error) {\n",
              "        console.error('Error during call to suggestCharts:', error);\n",
              "      }\n",
              "      quickchartButtonEl.classList.remove('colab-df-spinner');\n",
              "      quickchartButtonEl.classList.add('colab-df-quickchart-complete');\n",
              "    }\n",
              "    (() => {\n",
              "      let quickchartButtonEl =\n",
              "        document.querySelector('#df-1d13b0a4-5483-42c3-bf08-6701f8c884cd button');\n",
              "      quickchartButtonEl.style.display =\n",
              "        google.colab.kernel.accessAllowed ? 'block' : 'none';\n",
              "    })();\n",
              "  </script>\n",
              "</div>\n",
              "\n",
              "    </div>\n",
              "  </div>\n"
            ],
            "application/vnd.google.colaboratory.intrinsic+json": {
              "type": "dataframe",
              "variable_name": "predict_rf",
              "summary": "{\n  \"name\": \"predict_rf\",\n  \"rows\": 142,\n  \"fields\": [\n    {\n      \"column\": \"sepal_length\",\n      \"properties\": {\n        \"dtype\": \"float32\",\n        \"num_unique_values\": 34,\n        \"samples\": [\n          7.199999809265137,\n          6.0,\n          4.300000190734863\n        ],\n        \"semantic_type\": \"\",\n        \"description\": \"\"\n      }\n    },\n    {\n      \"column\": \"sepal_width\",\n      \"properties\": {\n        \"dtype\": \"float32\",\n        \"num_unique_values\": 23,\n        \"samples\": [\n          2.9000000953674316,\n          2.4000000953674316,\n          2.700000047683716\n        ],\n        \"semantic_type\": \"\",\n        \"description\": \"\"\n      }\n    },\n    {\n      \"column\": \"petal_length\",\n      \"properties\": {\n        \"dtype\": \"float32\",\n        \"num_unique_values\": 40,\n        \"samples\": [\n          4.900000095367432,\n          4.599999904632568,\n          5.800000190734863\n        ],\n        \"semantic_type\": \"\",\n        \"description\": \"\"\n      }\n    },\n    {\n      \"column\": \"petal_width\",\n      \"properties\": {\n        \"dtype\": \"float32\",\n        \"num_unique_values\": 22,\n        \"samples\": [\n          1.2000000476837158,\n          2.5,\n          1.7000000476837158\n        ],\n        \"semantic_type\": \"\",\n        \"description\": \"\"\n      }\n    },\n    {\n      \"column\": \"species\",\n      \"properties\": {\n        \"dtype\": \"category\",\n        \"num_unique_values\": 3,\n        \"samples\": [\n          \"Iris-versicolor\",\n          \"Iris-virginica\",\n          \"Iris-setosa\"\n        ],\n        \"semantic_type\": \"\",\n        \"description\": \"\"\n      }\n    },\n    {\n      \"column\": \"prediction_label\",\n      \"properties\": {\n        \"dtype\": \"category\",\n        \"num_unique_values\": 3,\n        \"samples\": [\n          \"Iris-versicolor\",\n          \"Iris-virginica\",\n          \"Iris-setosa\"\n        ],\n        \"semantic_type\": \"\",\n        \"description\": \"\"\n      }\n    },\n    {\n      \"column\": \"prediction_score\",\n      \"properties\": {\n        \"dtype\": \"number\",\n        \"std\": 0.11914241536642907,\n        \"min\": 0.5136,\n        \"max\": 0.999,\n        \"num_unique_values\": 131,\n        \"samples\": [\n          0.5482,\n          0.9881,\n          0.9961\n        ],\n        \"semantic_type\": \"\",\n        \"description\": \"\"\n      }\n    }\n  ]\n}"
            }
          },
          "metadata": {},
          "execution_count": 39
        }
      ]
    },
    {
      "cell_type": "markdown",
      "metadata": {
        "id": "f6gWngOp5nVV"
      },
      "source": [
        "RandomForestRegressor submission Scores(RMSE) : 4234.403588306586.\n"
      ]
    },
    {
      "cell_type": "markdown",
      "source": [
        "\n",
        "##<p style=\"font-family:JetBrains Mono; font-weight:normal; letter-spacing: 1px; color:#207d06; font-size:100%; text-align:left;padding: 0px; border-bottom: 3px solid #207d06;\">**15-Finalize and Save pipline**</p>"
      ],
      "metadata": {
        "id": "SB6bb_FAuCny"
      }
    },
    {
      "cell_type": "markdown",
      "metadata": {
        "id": "pdn3dsRUEpgV"
      },
      "source": [
        "**Finalize and Save Pipeline**\n",
        "\n",
        "Let’s now finalize the best model i.e. train the best model on the entire dataset including the test set and then save the pipeline as a pickle file.\n",
        "\n",
        "Caution: One final word of caution. Once the model is finalized using finalize_model(), the entire dataset including the test/hold-out set is used for training. As such, if the model is used for predictions on the hold-out set after finalize_model() is used, the information grid printed will be misleading as you are trying to predict on the same data that was used for modeling. In order to demonstrate this point only, we will use final_rf under predict_model() to compare the information grid with the one above in section 11\n"
      ]
    },
    {
      "cell_type": "code",
      "metadata": {
        "id": "OlF9n42bEsLY"
      },
      "source": [
        "# finalize the model\n",
        "final_best = finalize_model(lr)"
      ],
      "execution_count": 40,
      "outputs": []
    },
    {
      "cell_type": "code",
      "metadata": {
        "id": "t6NFnz7vFUXP",
        "colab": {
          "base_uri": "https://localhost:8080/"
        },
        "outputId": "476306b8-feef-4a18-a81c-874d62af51c7"
      },
      "source": [
        "# save model to disk\n",
        "save_model(final_best, 'diamond-pipeline')"
      ],
      "execution_count": 41,
      "outputs": [
        {
          "output_type": "stream",
          "name": "stdout",
          "text": [
            "Transformation Pipeline and Model Successfully Saved\n"
          ]
        },
        {
          "output_type": "execute_result",
          "data": {
            "text/plain": [
              "(Pipeline(memory=Memory(location=None),\n",
              "          steps=[('label_encoding',\n",
              "                  TransformerWrapperWithInverse(exclude=None, include=None,\n",
              "                                                transformer=LabelEncoder())),\n",
              "                 ('numerical_imputer',\n",
              "                  TransformerWrapper(exclude=None,\n",
              "                                     include=['sepal_length', 'sepal_width',\n",
              "                                              'petal_length', 'petal_width'],\n",
              "                                     transformer=SimpleImputer(add_indicator=False,\n",
              "                                                               copy=True,\n",
              "                                                               fill_value=None,\n",
              "                                                               keep_empt...\n",
              "                                                               fill_value=None,\n",
              "                                                               keep_empty_features=False,\n",
              "                                                               missing_values=nan,\n",
              "                                                               strategy='most_frequent'))),\n",
              "                 ('actual_estimator',\n",
              "                  LogisticRegression(C=1.0, class_weight=None, dual=False,\n",
              "                                     fit_intercept=True, intercept_scaling=1,\n",
              "                                     l1_ratio=None, max_iter=1000,\n",
              "                                     multi_class='auto', n_jobs=None,\n",
              "                                     penalty='l2', random_state=123,\n",
              "                                     solver='lbfgs', tol=0.0001, verbose=0,\n",
              "                                     warm_start=False))],\n",
              "          verbose=False),\n",
              " 'diamond-pipeline.pkl')"
            ]
          },
          "metadata": {},
          "execution_count": 41
        }
      ]
    },
    {
      "cell_type": "markdown",
      "metadata": {
        "id": "RAvAJItdFe13"
      },
      "source": [
        "save_model function will save the entire pipeline (including the model) as a pickle file on your local disk. By default, it will save the file in the same folder as your Notebook or script is in but you can pass the complete path as well if you would like:"
      ]
    },
    {
      "cell_type": "code",
      "metadata": {
        "id": "vzC0_ZK7FoxU"
      },
      "source": [
        "save_model(final_best, 'E:/Major Revision/finarf'"
      ],
      "execution_count": null,
      "outputs": []
    },
    {
      "cell_type": "code",
      "source": [
        "predict_model(final_best);"
      ],
      "metadata": {
        "id": "QZEDn6CXLLUV"
      },
      "execution_count": null,
      "outputs": []
    },
    {
      "cell_type": "markdown",
      "source": [
        "\n",
        "##<p style=\"font-family:JetBrains Mono; font-weight:normal; letter-spacing: 1px; color:#207d06; font-size:100%; text-align:left;padding: 0px; border-bottom: 3px solid #207d06;\">**16-Load the save model**</p>"
      ],
      "metadata": {
        "id": "50HWSabbVtcw"
      }
    },
    {
      "cell_type": "code",
      "source": [
        "saved_final_lr = load_model('diamond-pipeline')"
      ],
      "metadata": {
        "id": "4D2iRcy7V6qO",
        "colab": {
          "base_uri": "https://localhost:8080/"
        },
        "outputId": "fac03e62-fd1f-4f42-d4a7-54efde365750"
      },
      "execution_count": 44,
      "outputs": [
        {
          "output_type": "stream",
          "name": "stdout",
          "text": [
            "Transformation Pipeline and Model Successfully Loaded\n"
          ]
        }
      ]
    },
    {
      "cell_type": "markdown",
      "metadata": {
        "id": "UQgWLzcm4s3i"
      },
      "source": [
        "\n",
        "#<p style=\"font-family:JetBrains Mono; font-weight:normal; letter-spacing: 1px; color:#207d06; font-size:100%; text-align:left;padding: 0px; border-bottom: 3px solid #207d06;\">**2-Regression**</p>"
      ]
    },
    {
      "cell_type": "markdown",
      "metadata": {
        "id": "yOAzkBRN50XG"
      },
      "source": [
        "**Model Training & Selection**"
      ]
    },
    {
      "cell_type": "code",
      "metadata": {
        "id": "2mvTuTmv5n16"
      },
      "source": [
        "from pycaret.regression import *\n",
        "s = setup(MiceImputed, target = 'RESULT_TEXT', transform_target = True, log_experiment = True, experiment_name = 'diamond')"
      ],
      "execution_count": null,
      "outputs": []
    },
    {
      "cell_type": "code",
      "metadata": {
        "id": "kZhVEC_V5-6D"
      },
      "source": [
        "compare_models()\n"
      ],
      "execution_count": null,
      "outputs": []
    },
    {
      "cell_type": "markdown",
      "metadata": {
        "id": "wVcEsi-46IHU"
      },
      "source": [
        "**Select Best Model**\n",
        "\n"
      ]
    },
    {
      "cell_type": "code",
      "metadata": {
        "id": "eaC_BlJo6Kq-"
      },
      "source": [
        "best= compare_models(n_select = 2, sort= 'RMSE')\n"
      ],
      "execution_count": null,
      "outputs": []
    },
    {
      "cell_type": "markdown",
      "metadata": {
        "id": "FG82tHJ464jf"
      },
      "source": [
        "### **Building Ensemble Models using PyCaret**"
      ]
    },
    {
      "cell_type": "markdown",
      "metadata": {
        "id": "ZOmJHj0E5wNf"
      },
      "source": [
        "Ensemble models in machine learning combine the decisions from multiple models to improve the overall performance. In PyCaret, we can create bagging, boosting, blending, and stacking ensemble models with just one line of code. Here we will try with blending.\n",
        "Blending models is a method of ensembling which uses consensus among estimators to generate final predictions. The idea behind blending is to combine different machine learning algorithms and use a majority vote or the average predicted probabilities in case of classification to predict the final outcome."
      ]
    },
    {
      "cell_type": "code",
      "source": [
        "bagged_dt = ensemble_model(dt, method = 'Bagging')"
      ],
      "metadata": {
        "id": "ykv0j3HS5Ju5"
      },
      "execution_count": null,
      "outputs": []
    },
    {
      "cell_type": "code",
      "metadata": {
        "id": "NXVYs8LA9tnG"
      },
      "source": [
        "# train a voting regressor dynamically\n",
        "blender_specific = blend_models(estimator_list = compare_models(n_select = 5))"
      ],
      "execution_count": null,
      "outputs": []
    },
    {
      "cell_type": "markdown",
      "metadata": {
        "id": "Q67_AV2v6G_k"
      },
      "source": [
        "The calibrated blending model is as follows:-\n"
      ]
    },
    {
      "cell_type": "code",
      "metadata": {
        "id": "Cj8GY31cd_ie"
      },
      "source": [
        "blender_specific"
      ],
      "execution_count": null,
      "outputs": []
    },
    {
      "cell_type": "markdown",
      "metadata": {
        "id": "qtPrJpWDeJJD"
      },
      "source": [
        "**Analyzing model performance in PyCaret**"
      ]
    },
    {
      "cell_type": "code",
      "metadata": {
        "id": "0HNLexbneNx2"
      },
      "source": [
        "plot_model(blender_specific)"
      ],
      "execution_count": null,
      "outputs": []
    },
    {
      "cell_type": "markdown",
      "metadata": {
        "id": "jI2a_yYOgk2s"
      },
      "source": [
        "**Evaluate the model performance**\n"
      ]
    },
    {
      "cell_type": "code",
      "metadata": {
        "id": "4kcPnISignRz"
      },
      "source": [
        "evaluate_model(blender_specific)"
      ],
      "execution_count": null,
      "outputs": []
    },
    {
      "cell_type": "markdown",
      "metadata": {
        "id": "93Vb0BLfg1Wc"
      },
      "source": [
        "**Make predictions on the validation set**\n"
      ]
    },
    {
      "cell_type": "code",
      "metadata": {
        "id": "TnlApCWHg30U"
      },
      "source": [
        "val_pred = predict_model(blender_specific)"
      ],
      "execution_count": null,
      "outputs": []
    },
    {
      "cell_type": "markdown",
      "metadata": {
        "id": "I644BH0ghBGE"
      },
      "source": [
        "**Make Predictions on unseen data**\n"
      ]
    },
    {
      "cell_type": "code",
      "metadata": {
        "id": "sl5vGADphDja"
      },
      "source": [
        "# predictions on new dataset\n",
        "pred_new = predict_model(blender_specific, data = X_train) #new_data is pd dataframe\n",
        "pred_new = pred_new.rename(columns={‘RESULT_VALUE’:'prediction'})\n",
        "pred_new"
      ],
      "execution_count": null,
      "outputs": []
    },
    {
      "cell_type": "markdown",
      "metadata": {
        "id": "bx_ALQazhrLc"
      },
      "source": [
        "**Save and Load the Model**\n"
      ]
    },
    {
      "cell_type": "code",
      "metadata": {
        "id": "4R7TJ9PPhuPD"
      },
      "source": [
        "save_model(blender_specific , ‘/content/drive/MyDrive/blender_specific_saved_06142021’)\n",
        "# Loading the saved model\n",
        "blend_saved = load_model(‘/content/drive/MyDrive/blender_specific_saved_06142021’)\n",
        "pred = blend_saved.predict(test)\n",
        "pred[:5]"
      ],
      "execution_count": null,
      "outputs": []
    },
    {
      "cell_type": "markdown",
      "source": [
        "## **Clustering**"
      ],
      "metadata": {
        "id": "M_3HqZgVywDT"
      }
    },
    {
      "cell_type": "markdown",
      "source": [
        "### **Dataset**"
      ],
      "metadata": {
        "id": "ljJJ_o0ek8r7"
      }
    },
    {
      "cell_type": "code",
      "source": [
        "from pycaret.datasets import get_data\n",
        "data = get_data('mice')"
      ],
      "metadata": {
        "id": "LhrR3H_wlJn8"
      },
      "execution_count": null,
      "outputs": []
    },
    {
      "cell_type": "code",
      "source": [
        "data = dataset.sample(frac=0.95, random_state=786)\n",
        "data_unseen = dataset.drop(data.index)"
      ],
      "metadata": {
        "id": "hUakoch1vzS9"
      },
      "execution_count": null,
      "outputs": []
    },
    {
      "cell_type": "code",
      "source": [
        "data.reset_index(drop=True, inplace=True)\n",
        "data_unseen.reset_index(drop=True, inplace=True)"
      ],
      "metadata": {
        "id": "Lilw4l-Dv42X"
      },
      "execution_count": null,
      "outputs": []
    },
    {
      "cell_type": "markdown",
      "source": [
        "### **Setting up Environment in PyCaret**"
      ],
      "metadata": {
        "id": "ieFEDaBLmY8D"
      }
    },
    {
      "cell_type": "code",
      "source": [
        "from pycaret.clustering import *\n",
        "exp_clu101 = setup(data, normalize = True,\n",
        "                   ignore_features = ['MouseID'],\n",
        "                   session_id = 123)"
      ],
      "metadata": {
        "id": "zpFB9y0DmhZF"
      },
      "execution_count": null,
      "outputs": []
    },
    {
      "cell_type": "markdown",
      "source": [
        "The setup function in PyCaret initializes the environment and creates the transformation pipeline for modeling and deployment. setup must be called before executing any other function in pycaret. It takes only one mandatory parameter: a pandas dataframe. All other parameters are optional can be used to customize the preprocessing pipeline[15]"
      ],
      "metadata": {
        "id": "KpBTJ9mlm6H8"
      }
    },
    {
      "cell_type": "markdown",
      "source": [
        "When setup is executed, PyCaret's inference algorithm will automatically infer the data types for all features based on certain properties. The data type should be inferred correctly but this is not always the case. To handle this, PyCaret displays a prompt, asking for data types confirmation, once you execute the setup. You can press enter if all data types are correct or type quit to exit the setup[14]"
      ],
      "metadata": {
        "id": "GfWAjS-SnDy-"
      }
    },
    {
      "cell_type": "markdown",
      "source": [
        "Ensuring that the data types are correct is really important in PyCaret as it automatically performs multiple type-specific preprocessing tasks which are imperative for machine learning models[15]"
      ],
      "metadata": {
        "id": "pQuFPPZonJrd"
      }
    },
    {
      "cell_type": "markdown",
      "source": [
        "Alternatively, you can also use numeric_features and categorical_features parameters in the setup to pre-define the data types."
      ],
      "metadata": {
        "id": "sfKYOrbznQBR"
      }
    },
    {
      "cell_type": "markdown",
      "source": [
        "Once the setup has been successfully executed it displays the information grid which contains some important information about the experiment. Most of the information is related to the pre-processing pipeline which is constructed when setup is executed. The majority of these features are out of scope for this tutorial, however, a few important things to note are [15]"
      ],
      "metadata": {
        "id": "2m4xTwCUnZt3"
      }
    },
    {
      "cell_type": "markdown",
      "source": [
        "**session_id:** A pseduo-random number distributed as a seed in all functions for later reproducibility. If no session_id is passed, a random number is automatically generated that is distributed to all functions. In this experiment, the session_id is set as 123 for later reproducibility."
      ],
      "metadata": {
        "id": "r57In012pljq"
      }
    },
    {
      "cell_type": "markdown",
      "source": [
        "**Missing Values:** When there are missing values in original data this will show as True. Notice that Missing Values in the information grid above is Trueas the data contains missing values which are automatically imputed using mean for the numeric features and constant for the categorical features in the dataset. The method of imputation can be changed using the numeric_imputation and categorical_imputation parameters in the setup"
      ],
      "metadata": {
        "id": "LyQmgddAptG5"
      }
    },
    {
      "cell_type": "markdown",
      "source": [
        "**Original Data:** Displays the original shape of the dataset. In this experiment (1026, 82) means 1026 samples and 82 features."
      ],
      "metadata": {
        "id": "MTYtou8Ep2Hx"
      }
    },
    {
      "cell_type": "markdown",
      "source": [
        "**Transformed Data:** Displays the shape of the transformed dataset. Notice that the shape of the original dataset (1026, 82) is transformed into (1026, 91). The number of features has increased due to the encoding of categorical features in the dataset."
      ],
      "metadata": {
        "id": "ZckK5PEep4hZ"
      }
    },
    {
      "cell_type": "markdown",
      "source": [
        "**Numeric Features:** The number of features inferred as numeric. In this dataset, 77 out of 82 features are inferred as numeric."
      ],
      "metadata": {
        "id": "yu4BpHTkqEa6"
      }
    },
    {
      "cell_type": "markdown",
      "source": [
        "**Categorical Features:** The number of features inferred as categorical. In this dataset, 5 out of 82 features are inferred as categorical. Also notice that we have ignored one categorical feature MouseID using the ignore_feature parameter since it's a unique identifier for each sample and we don’t want it to be considered during model training."
      ],
      "metadata": {
        "id": "wdUZ7nj3qLHk"
      }
    },
    {
      "cell_type": "markdown",
      "source": [
        "Notice how a few tasks that are imperative to perform modeling are automatically handled such as missing value imputation, categorical encoding, etc. Most of the parameters in the setup function are optional and used for customizing the pre-processing pipeline. These parameters are out of scope for this tutorial but I will write more about them later."
      ],
      "metadata": {
        "id": "GvUL7h3EqNZE"
      }
    },
    {
      "cell_type": "markdown",
      "source": [
        "### **Create a Model**"
      ],
      "metadata": {
        "id": "xU3lqtcP2q-3"
      }
    },
    {
      "cell_type": "markdown",
      "source": [
        "Training a clustering model in PyCaret is simple and similar to how you would create a model in the supervised learning modules of PyCaret. A clustering model is created using the create_model function. This function returns a trained model object and a few unsupervised metrics. See an example below:"
      ],
      "metadata": {
        "id": "f5ZLHVx4qZE3"
      }
    },
    {
      "cell_type": "code",
      "source": [
        "kmeans = create_model('kmeans')"
      ],
      "metadata": {
        "id": "Yti4gJHxqet3"
      },
      "execution_count": null,
      "outputs": []
    },
    {
      "cell_type": "code",
      "source": [
        "print(kmeans)\n"
      ],
      "metadata": {
        "id": "TUkJGParqkkf"
      },
      "execution_count": null,
      "outputs": []
    },
    {
      "cell_type": "markdown",
      "source": [
        "We have trained an unsupervised K-Means model using the create_model. Notice the n_clusters parameter is set to 4 which is the default when you do not pass a value to the num_clusters parameter. In the below example we will create a kmodes model with 6 clusters."
      ],
      "metadata": {
        "id": "wiyPQxggqv_N"
      }
    },
    {
      "cell_type": "code",
      "source": [
        "kmodes = create_model('kmodes', num_clusters = 6)"
      ],
      "metadata": {
        "id": "aFbyd_sLq1UA"
      },
      "execution_count": null,
      "outputs": []
    },
    {
      "cell_type": "markdown",
      "source": [
        "To see the complete list of models available in the model library, please check the documentation or use the models function."
      ],
      "metadata": {
        "id": "HnRfXWT7q_pp"
      }
    },
    {
      "cell_type": "code",
      "source": [
        "models()"
      ],
      "metadata": {
        "id": "GFZy4Rp-rC9A"
      },
      "execution_count": null,
      "outputs": []
    },
    {
      "cell_type": "markdown",
      "source": [
        "### **Assign a Model**"
      ],
      "metadata": {
        "id": "xkmlue6DrMta"
      }
    },
    {
      "cell_type": "markdown",
      "source": [
        "Now that we have trained a model, we can assign the cluster labels to our training dataset (1026 samples) by using the assign_model function."
      ],
      "metadata": {
        "id": "kXkWu16brSdy"
      }
    },
    {
      "cell_type": "code",
      "source": [
        "kmean_results = assign_model(kmeans)\n",
        "kmean_results.head()"
      ],
      "metadata": {
        "id": "S8kkCZARrYjq"
      },
      "execution_count": null,
      "outputs": []
    },
    {
      "cell_type": "markdown",
      "source": [
        "Notice that a new column called Cluster has been added to the original dataset.\n",
        "Note that the results also include the MouseID column that we actually dropped during the setup. Don’t worry, it is not used for the model training, rather is only appended to the dataset only when assign_model is called."
      ],
      "metadata": {
        "id": "rsnpWIdhri81"
      }
    },
    {
      "cell_type": "markdown",
      "source": [
        "### **Plot a Model**"
      ],
      "metadata": {
        "id": "4_9A4ZBarozY"
      }
    },
    {
      "cell_type": "markdown",
      "source": [
        "The plot_model function is used to analyze clustering models. This function takes a trained model object and returns a plot."
      ],
      "metadata": {
        "id": "NmFvwJTBrw4K"
      }
    },
    {
      "cell_type": "markdown",
      "source": [
        "**Cluster PCA Plot**"
      ],
      "metadata": {
        "id": "Akt4BdDsrz6S"
      }
    },
    {
      "cell_type": "code",
      "source": [
        "plot_model(kmeans)"
      ],
      "metadata": {
        "id": "4SV8fl5DrtzD"
      },
      "execution_count": null,
      "outputs": []
    },
    {
      "cell_type": "markdown",
      "source": [
        "The cluster labels are automatically colored and shown in a legend. When you hover over the data points you will see additional features which by default use the first column of the dataset (in this case MouseID). You can change this by passing the feature parameter and you may also set label to True if you want labels to be printed on the plot."
      ],
      "metadata": {
        "id": "Wp-hSDOjsAma"
      }
    },
    {
      "cell_type": "code",
      "source": [
        "plot_model(kmeans, plot = 'cluster')\n"
      ],
      "metadata": {
        "id": "hNfRlLjhs8It"
      },
      "execution_count": null,
      "outputs": []
    },
    {
      "cell_type": "markdown",
      "source": [
        "**Elbow Plot**"
      ],
      "metadata": {
        "id": "KUKg2IQRuBmr"
      }
    },
    {
      "cell_type": "code",
      "source": [
        "plot_model(kmeans, plot = 'elbow')"
      ],
      "metadata": {
        "id": "BIVdUiH_sQVE"
      },
      "execution_count": null,
      "outputs": []
    },
    {
      "cell_type": "code",
      "source": [
        "plot_model(kmeans, plot= 'elbow')\n"
      ],
      "metadata": {
        "id": "CrL9u4UpuZiF"
      },
      "execution_count": null,
      "outputs": []
    },
    {
      "cell_type": "markdown",
      "source": [
        "### **Model Evaulation**"
      ],
      "metadata": {
        "id": "OYZqAuk1tOkY"
      }
    },
    {
      "cell_type": "code",
      "source": [
        "evaluate_model(kmeans)"
      ],
      "metadata": {
        "id": "QxsPXOMvtWIr"
      },
      "execution_count": null,
      "outputs": []
    },
    {
      "cell_type": "markdown",
      "source": [
        "### **Predict on unseen data**"
      ],
      "metadata": {
        "id": "f_8DGVPwvaEf"
      }
    },
    {
      "cell_type": "markdown",
      "source": [
        "The predict_model function is used to assign cluster labels to a new unseen dataset. We will now use our trained kmeans model to predict the data stored in data_unseen. This variable was created at the beginning of the tutorial and contains 54 samples from the original dataset that were never exposed to PyCaret."
      ],
      "metadata": {
        "id": "en5_DHkNvegP"
      }
    },
    {
      "cell_type": "code",
      "source": [
        "unseen_predictions = predict_model(kmeans, data=data_unseen)\n",
        "unseen_predictions.head()"
      ],
      "metadata": {
        "id": "_eTuUOfkvinP"
      },
      "execution_count": null,
      "outputs": []
    },
    {
      "cell_type": "markdown",
      "source": [
        "### **Saving the model**"
      ],
      "metadata": {
        "id": "5zok3w4JwGtL"
      }
    },
    {
      "cell_type": "markdown",
      "source": [
        "We have now finished the experiment by using our kmeans model to predict labels on unseen data.\n",
        "This brings us to the end of our experiment, but one question is still to be asked: What happens when you have more new data to predict? Do you have to go through the entire experiment again? The answer is no, PyCaret’s inbuilt function save_model allows you to save the model along with the entire transformation pipeline for later use."
      ],
      "metadata": {
        "id": "IuwgcAiDwKt6"
      }
    },
    {
      "cell_type": "code",
      "source": [
        "save_model(kmeans,’Final KMeans Model 25Nov2020')"
      ],
      "metadata": {
        "id": "r-5Eewe3wPTT"
      },
      "execution_count": null,
      "outputs": []
    },
    {
      "cell_type": "code",
      "source": [
        "save_model(lr, 'saved_kmeans_model')"
      ],
      "metadata": {
        "id": "s0frrcRxwrZp"
      },
      "execution_count": null,
      "outputs": []
    },
    {
      "cell_type": "markdown",
      "source": [
        "### **Method 2**"
      ],
      "metadata": {
        "id": "zOSmWAx7wX-B"
      }
    },
    {
      "cell_type": "code",
      "source": [
        "from pycaret.clustering import *"
      ],
      "metadata": {
        "id": "NSHT2vZty-G6"
      },
      "execution_count": null,
      "outputs": []
    },
    {
      "cell_type": "code",
      "source": [
        "dataset = get_clusters(Train_data, model = 'kmodes', num_clusters = 3)"
      ],
      "metadata": {
        "id": "-f8QOXrizFVy"
      },
      "execution_count": null,
      "outputs": []
    },
    {
      "cell_type": "code",
      "source": [
        "dataset"
      ],
      "metadata": {
        "id": "kvNdCcTUzXoy"
      },
      "execution_count": null,
      "outputs": []
    },
    {
      "cell_type": "markdown",
      "source": [
        "## **Anomaly Detection**"
      ],
      "metadata": {
        "id": "7mPw1xdUZ5q5"
      }
    },
    {
      "cell_type": "markdown",
      "source": [
        "Anomaly Detection is a machine learning technique used for identifying rare items, events, or observations by checking for rows in the table that differ significantly from the majority of the rows. Typically, the anomalous items will translate to some kind of problem such as bank fraud, a structural defect, medical problem or error. Some common business use cases for anomaly detection are:\n",
        "✔ Fraud detection (credit cards, insurance, etc.) using financial data.\n",
        "✔ Intrusion detection (system security, malware) or monitoring for network traffic surges and drops.\n",
        "✔ Identifying multivariate outliers in the dataset.\n",
        "[13]"
      ],
      "metadata": {
        "id": "onFY8NGpaH8g"
      }
    },
    {
      "cell_type": "code",
      "source": [
        "import pandas as pd\n",
        "data = pd.read_csv(\"/content/drive/MyDrive/Datasets/Anomaly Detection/anomaly.csv\")"
      ],
      "metadata": {
        "id": "pPXT8o46alkH"
      },
      "execution_count": null,
      "outputs": []
    },
    {
      "cell_type": "markdown",
      "source": [
        "### **Model Creation**"
      ],
      "metadata": {
        "id": "k_fwgDyZstcQ"
      }
    },
    {
      "cell_type": "markdown",
      "source": [
        "Choose the optimal model from the model library and create models for anomaly detection. We can display the list of models by using the model() function.[14]"
      ],
      "metadata": {
        "id": "VfySs8gRsx3Z"
      }
    },
    {
      "cell_type": "code",
      "source": [
        "from pycaret.anomaly import *\n",
        "setup = setup(df, session_id = 123)"
      ],
      "metadata": {
        "id": "nxbaHfv-sTDT"
      },
      "execution_count": null,
      "outputs": []
    },
    {
      "cell_type": "markdown",
      "source": [
        "Specify the session id, this results in processing after execution. It interprets numerous types of variables automatically and allows us to confirm by pressing ENTER to continue.\n",
        "\n",
        "Observe that our dataset consists of 10 features, 1000 rows each. We can perform various imputations- numeric and categorical or normalize the data. But we don’t require such transformations in our dataset so let us continue!\n",
        "\n",
        "Performing all these computations with a few lines of code presents the beauty of the PyCaret library[14]"
      ],
      "metadata": {
        "id": "ZOIsZIRcsfvq"
      }
    },
    {
      "cell_type": "code",
      "source": [
        "models()"
      ],
      "metadata": {
        "id": "JpcF70ljs5iR"
      },
      "execution_count": null,
      "outputs": []
    },
    {
      "cell_type": "code",
      "source": [
        "! pip install scikit-learn==0.23.2"
      ],
      "metadata": {
        "id": "CH6ui8UebHMH"
      },
      "execution_count": null,
      "outputs": []
    },
    {
      "cell_type": "code",
      "source": [
        "from pycaret.anomaly import *\n",
        "dataset = get_outliers(data = data)"
      ],
      "metadata": {
        "id": "175xmGqSa4V3"
      },
      "execution_count": null,
      "outputs": []
    },
    {
      "cell_type": "code",
      "source": [
        "dataset"
      ],
      "metadata": {
        "id": "tIYDC1pMbrsE"
      },
      "execution_count": null,
      "outputs": []
    },
    {
      "cell_type": "markdown",
      "source": [
        "Two new columns are attached to the original table. Label (1 = outlier, 0 = inlier) and Score (data points with high scores are categorized as outlier)."
      ],
      "metadata": {
        "id": "DLMGPIbBb9D8"
      }
    },
    {
      "cell_type": "markdown",
      "source": [
        "By default, PyCaret trains a K-Nearest Neighbors Anomaly Detector with 5% fraction (i.e. 5% of the total number of rows in the table will be flagged as outlier). Default values can be changed easily:\n",
        "\n",
        "To change the fraction value you can use fraction parameter within get_outliers( ) function.\n",
        "To change model type use model parameter within get_outliers( ).\n",
        "See the following code for training an Isolation Forest model with 0.1 fraction:[13]"
      ],
      "metadata": {
        "id": "cWHGemcKcLli"
      }
    },
    {
      "cell_type": "code",
      "source": [
        "from pycaret.anomaly import *\n",
        "dataset = get_outliers(dataset, model = 'iforest', fraction = 0.1)"
      ],
      "metadata": {
        "id": "tmdQ539fcVLz"
      },
      "execution_count": null,
      "outputs": []
    },
    {
      "cell_type": "code",
      "source": [
        "dataset"
      ],
      "metadata": {
        "id": "E9iaXbxqcYhs"
      },
      "execution_count": null,
      "outputs": []
    },
    {
      "cell_type": "markdown",
      "source": [
        "There are over 10 ready-to-use anomaly detection algorithms in PyCaret:"
      ],
      "metadata": {
        "id": "FyWrwFjZcpbE"
      }
    },
    {
      "cell_type": "markdown",
      "source": [
        "![](https://drive.google.com/uc?export=view&id=11lZ2xTuK4X7u5NlMxQ23hZgTo53pDZ1D)"
      ],
      "metadata": {
        "id": "5LGdIYxDn5Lk"
      }
    },
    {
      "cell_type": "markdown",
      "source": [
        "All the preprocessing tasks necessary to train an anomaly detection model such as missing value imputation (if table has any missing or null values), or normalization, or one-hot-encoding, they all are automatically performed before training an anomaly detection model. Click here to learn more about PyCaret’s preprocessing capabilities.\n",
        "\n",
        "💡 In this example we have used the **get_outliers( )** function to assign outlier label and score for analysis. Every time the query is refreshed, outliers are recalculated. An alternate way to implement this would be to use the predict_model( ) function to predict outliers using a pre-trained model in Python [13]"
      ],
      "metadata": {
        "id": "LJdK2lQdc52L"
      }
    },
    {
      "cell_type": "markdown",
      "source": [
        "#### **Isolation Forest**"
      ],
      "metadata": {
        "id": "nputVV5uuDc1"
      }
    },
    {
      "cell_type": "markdown",
      "source": [
        "Create the isolation Forest model by using the create_model() function. The isolation Forest algorithm differentiates observations by randomly selecting a feature and then randomly selecting split values between the maximum and minimum values.[14]"
      ],
      "metadata": {
        "id": "-euFWPe0uIFm"
      }
    },
    {
      "cell_type": "code",
      "source": [
        "iforest = create_model('iforest')\n",
        "print(iforest)"
      ],
      "metadata": {
        "id": "2kUAATYQuSKe"
      },
      "execution_count": null,
      "outputs": []
    },
    {
      "cell_type": "markdown",
      "source": [
        "Thus an anomaly score is determined as the number of conditions required to separate given observations.\n",
        "\n"
      ],
      "metadata": {
        "id": "Dim2QHE8ueFn"
      }
    },
    {
      "cell_type": "markdown",
      "source": [
        "#### **Local Outlier Factor**\n"
      ],
      "metadata": {
        "id": "Jq_OmS0Ruktc"
      }
    },
    {
      "cell_type": "markdown",
      "source": [
        "It is an algorithm of the unsupervised anomaly detection method and computes the local density deviation of a data point with respect to its neighbor"
      ],
      "metadata": {
        "id": "Ezb8n0l1upt9"
      }
    },
    {
      "cell_type": "code",
      "source": [
        "lof = create_model('lof')\n",
        "print(lof)"
      ],
      "metadata": {
        "id": "3mSZZ1BiuuhV"
      },
      "execution_count": null,
      "outputs": []
    },
    {
      "cell_type": "markdown",
      "source": [
        "#### **K Nearest Neighbors**\n"
      ],
      "metadata": {
        "id": "b2jJtdaSvKF1"
      }
    },
    {
      "cell_type": "markdown",
      "source": [
        "KNN is a non-parametric lazy learning algorithm used to classify data based on similarities and various distance metrics. It provides a simple yet firm approach to detecting anomalies"
      ],
      "metadata": {
        "id": "WdILErhevO19"
      }
    },
    {
      "cell_type": "code",
      "source": [
        "knn = create_model('knn')\n"
      ],
      "metadata": {
        "id": "pzFpCCthvU4w"
      },
      "execution_count": null,
      "outputs": []
    },
    {
      "cell_type": "markdown",
      "source": [
        "#### **Comparing anomalies in models**"
      ],
      "metadata": {
        "id": "P0zLF7Plvb3j"
      }
    },
    {
      "cell_type": "markdown",
      "source": [
        "Moving on with our task we can now observe the anomalies determined by the models. Traditionally, we have to manually set up different parameters.\n",
        "\n",
        "But with the use of PyCaret, we can just assign results via the assigned model function. We’ll start with the isolation forest model.[14]"
      ],
      "metadata": {
        "id": "Imwlvluhvgz8"
      }
    },
    {
      "cell_type": "code",
      "source": [
        "iforest_results = assign_model(iforest)\n",
        "iforest_results.head()"
      ],
      "metadata": {
        "id": "3k-gQQOnvtrF"
      },
      "execution_count": null,
      "outputs": []
    },
    {
      "cell_type": "markdown",
      "source": [
        "assign_model() function returns a data frame with detection of anomalies, the presence of outliers are marked as 1 and non-outliers as 0, along with anomaly scores."
      ],
      "metadata": {
        "id": "WVM1-1Sjv56N"
      }
    },
    {
      "cell_type": "markdown",
      "source": [
        "Filter the anomalies by each model, this shows that there are 50 rows out of 1000 considered as anomalies by iforest model."
      ],
      "metadata": {
        "id": "2OCdhiY0wJ0k"
      }
    },
    {
      "cell_type": "code",
      "source": [
        "iforest_anomaly=iforest_results[iforest_results['Anomaly']==1]\n",
        "iforest_anomaly.shape"
      ],
      "metadata": {
        "id": "zoSDoyVswNlT"
      },
      "execution_count": null,
      "outputs": []
    },
    {
      "cell_type": "code",
      "source": [
        "lof_anomaly=lof_results[lof_results['Anomaly']==1]\n",
        "lof_anomaly.shape"
      ],
      "metadata": {
        "id": "Kr-gF8zkxoyD"
      },
      "execution_count": null,
      "outputs": []
    },
    {
      "cell_type": "code",
      "source": [
        "knn_anomaly=knn_results[knn_results['Anomaly']==1]\n",
        "knn_anomaly.shape"
      ],
      "metadata": {
        "id": "t3TwBSW9xt4j"
      },
      "execution_count": null,
      "outputs": []
    },
    {
      "cell_type": "markdown",
      "source": [
        "#### **Interpretation and visualization**\n"
      ],
      "metadata": {
        "id": "ghn94YjKx3Ph"
      }
    },
    {
      "cell_type": "markdown",
      "source": [
        "Visualization is the most convenient way to interpret the information at hand in a creative and independent manner.\n",
        "\n",
        "Let us start by creating visuals from outside the PyCaret library which will highlight the benefits of the PyCaret library and enable us to understand how the plot_model function is much more interactive.[14]"
      ],
      "metadata": {
        "id": "BmEaF8rtx-YW"
      }
    },
    {
      "cell_type": "code",
      "source": [
        "from yellowbrick.features import Manifold\n",
        "dfr = iforest_results['Anomaly']\n",
        "viz = Manifold(manifold=\"tsne\")\n",
        "viz.fit_transform(df, dfr)\n",
        "viz.show()"
      ],
      "metadata": {
        "id": "exkK6bTCyD56"
      },
      "execution_count": null,
      "outputs": []
    },
    {
      "cell_type": "markdown",
      "source": [
        "As we can see most of the anomalies determined by the isolation forest in multiple dimensions are usually out of different clusters.\n",
        "\n",
        "Now use the plot_model() function for KNN within PyCaret that will create a 3D plot for outliers, in which we can see why certain features are considered as an anomaly."
      ],
      "metadata": {
        "id": "_7ICl522yKQV"
      }
    },
    {
      "cell_type": "code",
      "source": [
        "plot_model(knn)"
      ],
      "metadata": {
        "id": "RkPucs0CyOV6"
      },
      "execution_count": null,
      "outputs": []
    },
    {
      "cell_type": "markdown",
      "source": [
        "We can move it in any dimension to see and point out the anomalies. This 3D plot helps us to view it better. The KNN plot shows that most of the outliers are those which were not part of any clusters. So that’s good to go!\n",
        "\n",
        "The same can be done for the other two models."
      ],
      "metadata": {
        "id": "VmKNwUTxya6k"
      }
    },
    {
      "cell_type": "code",
      "source": [
        "plot_model(iforest)"
      ],
      "metadata": {
        "id": "b53dVh2uymKv"
      },
      "execution_count": null,
      "outputs": []
    },
    {
      "cell_type": "markdown",
      "source": [
        "It is clearly visible that the data set is divided into four different clusters, So anything out of these groups will surely be an anomaly.\n",
        "\n",
        "Anomalies are not always a bad sign! Sometimes they can be very useful in interpreting results or data analysis. These can be used to solve distinct data science usecases.\n",
        "\n",
        "Moving on to the third model ie. linear outlier factor we can experiment with a different plot that creates a 2D plot."
      ],
      "metadata": {
        "id": "063hjjNmysOI"
      }
    },
    {
      "cell_type": "markdown",
      "source": [
        "We can zoom this 2D plot to view which points were considered as outliers.\n",
        "\n",
        "Another visual can be created for pair plot again, now with the anomalies\n",
        "to see which points will count as anomalies."
      ],
      "metadata": {
        "id": "7h0PGRc5ywA_"
      }
    },
    {
      "cell_type": "code",
      "source": [
        "sns.pairplot(lof_results, hue = \"Anomaly\")"
      ],
      "metadata": {
        "id": "ORFwrVlry1P5"
      },
      "execution_count": null,
      "outputs": []
    },
    {
      "cell_type": "code",
      "source": [
        "save_model(iforest,'IForest_Model')"
      ],
      "metadata": {
        "id": "raH2iht-y6Q6"
      },
      "execution_count": null,
      "outputs": []
    },
    {
      "cell_type": "markdown",
      "source": [
        "## **Natural Language Processing**"
      ],
      "metadata": {
        "id": "aIZ9Fd06kn-n"
      }
    },
    {
      "cell_type": "markdown",
      "source": [
        "Several techniques are used to analyze text data among which Topic Modeling is a popular one. A topic model is a type of statistical model for discovering the abstract topics in a collection of documents. Topic modeling is a frequently used text-mining tool for the discovery of hidden semantic structures in a text data[13]"
      ],
      "metadata": {
        "id": "bPcGou14lBzQ"
      }
    },
    {
      "cell_type": "code",
      "source": [
        "import pandas as pd\n",
        "dataset = pd.read_csv(\"/content/drive/MyDrive/Datasets/NLP/kiva.csv\")"
      ],
      "metadata": {
        "id": "cci_zG_RlKO1"
      },
      "execution_count": null,
      "outputs": []
    },
    {
      "cell_type": "code",
      "source": [
        "from pycaret.nlp import *\n",
        "dataset = get_topics(data = dataset, text = 'en')"
      ],
      "metadata": {
        "id": "C1FIrGvvlZ5b"
      },
      "execution_count": null,
      "outputs": []
    },
    {
      "cell_type": "code",
      "source": [
        "dataset"
      ],
      "metadata": {
        "id": "JI2oANfmmKrU"
      },
      "execution_count": null,
      "outputs": []
    },
    {
      "cell_type": "markdown",
      "source": [
        "‘en’ is the name of the column containing text in the table ‘kiva’."
      ],
      "metadata": {
        "id": "bWNPFF6blk6r"
      }
    },
    {
      "cell_type": "markdown",
      "source": [
        "Once the code is executed, new columns with weight of topics and dominant topic are attached to the original table. There are many ways to visualize the output of Topic Mod"
      ],
      "metadata": {
        "id": "9oNhK9SzlvFg"
      }
    },
    {
      "cell_type": "markdown",
      "source": [
        "By default, PyCaret trains a Latent Dirichlet Allocation model with 4 topics. Default values can be changed easily:\n",
        "\n",
        "To change the number of topics you can use the num_topics parameter within get_topics( ) function.\n",
        "To change model type use the model parameter within the get_topics( ).\n",
        "See the example code for training a Non-Negative Matrix Factorization Model with 10 topics:[13]"
      ],
      "metadata": {
        "id": "gxhTa3N6mB19"
      }
    },
    {
      "cell_type": "code",
      "source": [
        "from pycaret.nlp import *\n",
        "dataset = get_topics(dataset, 'en', model = 'nmf', num_topics = 10)"
      ],
      "metadata": {
        "id": "52kZtJwTmBBt"
      },
      "execution_count": null,
      "outputs": []
    },
    {
      "cell_type": "code",
      "source": [
        "dataset"
      ],
      "metadata": {
        "id": "96kDmtBom2wU"
      },
      "execution_count": null,
      "outputs": []
    },
    {
      "cell_type": "markdown",
      "source": [
        "PyCaret has following ready-to-use algorithms for topic modeling:\n",
        "\n"
      ],
      "metadata": {
        "id": "Eo_TFKLhma1q"
      }
    },
    {
      "cell_type": "markdown",
      "source": [
        "![](\n",
        "https://drive.google.com/uc?export=view&id=1zKKxIIy1O8ZGDeg01ZuEitf8KRXNTag4)"
      ],
      "metadata": {
        "id": "MDV9kcX4nZOQ"
      }
    },
    {
      "cell_type": "markdown",
      "source": [
        "## **Association Rule Mining**"
      ],
      "metadata": {
        "id": "psATXe5xoLNa"
      }
    },
    {
      "cell_type": "markdown",
      "source": [
        "Association Rule Mining is a rule-based machine learning technique for discovering interesting relations between variables in a database. It is intended to identify strong rules using measures of interestingness. Some common business use cases for association rule mining are:\n",
        "\n",
        "✔ Market Basket Analysis to understand items frequently bought together.\n",
        "\n",
        "✔ Medical Diagnosis to assist physicians in determining occurrence probability of illness given factors and symptoms.\n",
        "[13]"
      ],
      "metadata": {
        "id": "07e_74u1oSyK"
      }
    },
    {
      "cell_type": "code",
      "source": [
        "import pandas as pd\n",
        "dataset = pd.read_csv(\"/content/drive/MyDrive/Datasets/Association Rule Mining/france.csv\")"
      ],
      "metadata": {
        "id": "JDmMr3kmotbe"
      },
      "execution_count": null,
      "outputs": []
    },
    {
      "cell_type": "markdown",
      "source": [
        "**Apriori Algorithm**"
      ],
      "metadata": {
        "id": "KxY5UmxQpSwl"
      }
    },
    {
      "cell_type": "code",
      "source": [
        "from pycaret.arules import *\n",
        "dataset = get_rules(dataset, transaction_id = 'InvoiceNo', item_id = 'Description')"
      ],
      "metadata": {
        "id": "h5cPWG5tpgVU"
      },
      "execution_count": null,
      "outputs": []
    },
    {
      "cell_type": "code",
      "source": [
        "dataset"
      ],
      "metadata": {
        "id": "yyJH4AI7pjQD"
      },
      "execution_count": null,
      "outputs": []
    },
    {
      "cell_type": "markdown",
      "source": [
        "## **Time Series**"
      ],
      "metadata": {
        "id": "8-LZFroEyc2l"
      }
    },
    {
      "cell_type": "markdown",
      "source": [
        "### **Dataset**"
      ],
      "metadata": {
        "id": "EAXf6jvMymAJ"
      }
    },
    {
      "cell_type": "code",
      "source": [
        "import pandas as pd\n",
        "!pip install pycaret-ts-alpha"
      ],
      "metadata": {
        "id": "e9yDbquo0niD"
      },
      "execution_count": null,
      "outputs": []
    },
    {
      "cell_type": "code",
      "source": [
        "from pprint import pprint\n",
        "from pycaret.internal.pycaret_experiment import TimeSeriesExperiment\n",
        "from sktime.utils.plotting import plot_series"
      ],
      "metadata": {
        "id": "4mI7D_Mu1FZO"
      },
      "execution_count": null,
      "outputs": []
    },
    {
      "cell_type": "code",
      "source": [
        "from pycaret.datasets import get_data"
      ],
      "metadata": {
        "id": "QR45Af9Iyq-Y"
      },
      "execution_count": null,
      "outputs": []
    },
    {
      "cell_type": "code",
      "source": [
        "all_datasets = get_data()"
      ],
      "metadata": {
        "id": "XdHYKmnty_jg"
      },
      "execution_count": null,
      "outputs": []
    },
    {
      "cell_type": "code",
      "source": [
        "from pycaret.datasets import get_data\n",
        "data=get_data('airline')\n"
      ],
      "metadata": {
        "id": "Qi-D8uj4yxuy"
      },
      "execution_count": null,
      "outputs": []
    },
    {
      "cell_type": "markdown",
      "metadata": {
        "id": "LMe-AMlnitQ8"
      },
      "source": [
        "# **AutoML-Gs**"
      ]
    },
    {
      "cell_type": "markdown",
      "metadata": {
        "id": "Wlijuc-di5QR"
      },
      "source": [
        "**Installing required libraries**\n"
      ]
    },
    {
      "cell_type": "code",
      "metadata": {
        "id": "VwpdRorQi8WK"
      },
      "source": [
        "!pip install automl-gs\n"
      ],
      "execution_count": null,
      "outputs": []
    },
    {
      "cell_type": "markdown",
      "metadata": {
        "id": "lJJzKmNFjGTX"
      },
      "source": [
        "**Importing required libraries**\n"
      ]
    },
    {
      "cell_type": "code",
      "metadata": {
        "id": "3ZCsXFHljIkj"
      },
      "source": [
        "import automl_gs\n",
        "from automl_gs import automl_grid_search\n"
      ],
      "execution_count": null,
      "outputs": []
    },
    {
      "cell_type": "markdown",
      "metadata": {
        "id": "MvMRJnLQjSTg"
      },
      "source": [
        "**Creating the Model**\n"
      ]
    },
    {
      "cell_type": "code",
      "metadata": {
        "id": "FfzVTAMRjeOn"
      },
      "source": [
        "automl_grid_search(MiceImputed, 'RESULT_TEXT')\n"
      ],
      "execution_count": null,
      "outputs": []
    },
    {
      "cell_type": "markdown",
      "metadata": {
        "id": "Oz8BPvW3P8Hx"
      },
      "source": [
        "# **MLflow**[8]\n",
        "\n",
        "MLflow provides a convenient way to build end-to-end Machine Learning pipelines in production and in this guide\n",
        "\n",
        "MLflow is an open-source platform for managing the end-to-end machine learning lifecycle or pipeline. It supports multiple Machine Learning libraries, algorithms, deployment tools, and programming languages."
      ]
    },
    {
      "cell_type": "markdown",
      "metadata": {
        "id": "n8cWDBKtQ-ep"
      },
      "source": [
        "The platform was created by Databricks has over 10,000 stars on GitHub with over 300+ contributors updating the platform on a daily basis."
      ]
    },
    {
      "cell_type": "markdown",
      "metadata": {
        "id": "0QC66c-SRDqi"
      },
      "source": [
        "The MLflow platform provides four major components:\n"
      ]
    },
    {
      "cell_type": "markdown",
      "metadata": {
        "id": "q15NbkkNRFYi"
      },
      "source": [
        "- **MLflow Tracking** — This component is perfect for users looking to select the right hyper-parameters for their model as well as for recording model performance over time. You can record and query model experiments which include your code, data, config, and results.\n",
        "- **MLflow Projects** — This component is mostly used when trying to reproduce your Machine Learning project on a different machine (similar to Docker images and containers). You can package your data science code in a given format to reproduce model runs on any platform.\n",
        "- **MLflow Models** — This component is for you if you are looking to deploy Machine Learning models in the real world. With this component, you can deploy machine learning models in diverse serving environments.\n",
        "- **MLflow Model Registry**— This component is great for you if you are looking to manage multiple Machine Learning models. Using this component, you can store, annotate, discover, and manage Machine Learning models in a central repository."
      ]
    },
    {
      "cell_type": "markdown",
      "metadata": {
        "id": "zXa4xmVSSGsv"
      },
      "source": [
        "![](https://drive.google.com/uc?export=view&id=1BoZqaCplUEEJ8fDpk3k167WGi_GmJI_f)"
      ]
    },
    {
      "cell_type": "markdown",
      "metadata": {
        "id": "nJYWowyzSSXf"
      },
      "source": [
        "- Individual Data Scientists can use MLflow to track experiments locally, organize code in projects for future reuse, and deploy models using MLflow’s deployment tools.\n",
        "- Large Organizations can share projects, models, and results with any teams using MLflow.\n",
        "- Data Science Teams can log metrics and compare results across multiple users working on the same problem\n",
        "- Production Engineers can deploy models from diverse ML libraries, store the models as files in a management system, and track which run a model came from."
      ]
    },
    {
      "cell_type": "markdown",
      "metadata": {
        "id": "pEVSTGhmSg8r"
      },
      "source": [
        "Based on these components, MLflow is designed to be useful for an individual to a large range of people working as a team. Some of its applications are as follows:"
      ]
    },
    {
      "cell_type": "markdown",
      "metadata": {
        "id": "fzmmT8ZKStGt"
      },
      "source": [
        "If you’re still undecided about learning how to use the platform, you can go over the MLflow components again and figure out if the platform is for you or not."
      ]
    },
    {
      "cell_type": "markdown",
      "metadata": {
        "id": "NllAK6hmUAUH"
      },
      "source": [
        "**Installing MLflow to use with Python**\n"
      ]
    },
    {
      "cell_type": "markdown",
      "metadata": {
        "id": "PKriiariUFCc"
      },
      "source": [
        "**Using with Python [4]**\n",
        "\n",
        "Remember we passed log_experiment = True in the setup function along with experiment_name = 'diamond' . Let’s see the magic PyCaret has done with the help of MLflow behind the scene. To see the magic let’s initiate the MLflow server:"
      ]
    },
    {
      "cell_type": "code",
      "metadata": {
        "id": "Jiwt9i9LUXCH"
      },
      "source": [
        "# within notebook (notice ! sign infront)\n",
        "!mlflow ui\n",
        "# on command line in the same folder\n",
        "#mlflow ui"
      ],
      "execution_count": null,
      "outputs": []
    },
    {
      "cell_type": "code",
      "metadata": {
        "id": "XvzazsunYIof"
      },
      "source": [
        "!mlflow ui --host 0.0.0.0"
      ],
      "execution_count": null,
      "outputs": []
    },
    {
      "cell_type": "markdown",
      "metadata": {
        "id": "JSyTRCPjUahe"
      },
      "source": [
        "Now open your browser and type “localhost:5000”. It will open a UI like this:"
      ]
    },
    {
      "cell_type": "markdown",
      "metadata": {
        "id": "0rofMGBlUuWl"
      },
      "source": [
        "Remember that MLflow supports multiple programming languages and tools such as R-programming language or Python. It also comes with a graphical user interface that you can access from your browser once you successfully install MLflow.[8]"
      ]
    },
    {
      "cell_type": "markdown",
      "metadata": {
        "id": "WaMK4Ca5U06l"
      },
      "source": [
        "To keep this guide concise and easy to digest, we’ll show you how you can install MLflow to use with Python. To install MLflow, open up your command line/terminal and write the following command:"
      ]
    },
    {
      "cell_type": "code",
      "metadata": {
        "id": "dMQfIK-RU2hl"
      },
      "source": [
        "!pip install mlflow"
      ],
      "execution_count": null,
      "outputs": []
    },
    {
      "cell_type": "markdown",
      "metadata": {
        "id": "X5ScuZwPVIAO"
      },
      "source": [
        "Note: You must have Python installed in your system to use pip which is Python’s package manager."
      ]
    },
    {
      "cell_type": "markdown",
      "metadata": {
        "id": "AWq_TXcoVMrF"
      },
      "source": [
        "Once you execute the command, MLflow will get installed in your system. You can check if the installation is successful or not by importing MLflow in Python using the following line of code:"
      ]
    },
    {
      "cell_type": "code",
      "metadata": {
        "id": "kcgo8jZiVQ_l"
      },
      "source": [
        "import mlflow"
      ],
      "execution_count": null,
      "outputs": []
    },
    {
      "cell_type": "markdown",
      "metadata": {
        "id": "Ml198OF5Vbju"
      },
      "source": [
        "If this line of Python code doesn’t give you an error, then, you’ve successfully installed MLflow to use with Python."
      ]
    },
    {
      "cell_type": "markdown",
      "metadata": {
        "id": "utD3ulx-VfVc"
      },
      "source": [
        "**Component 1: MLflow Tracking**\n"
      ]
    },
    {
      "cell_type": "code",
      "metadata": {
        "id": "NdrXTWuAZbtV"
      },
      "source": [
        "# Importing the os library to work with operating system functionalities\n",
        "import os\n",
        "\n",
        "# Importing tracking functions from MLflow\n",
        "from mlflow import log_metric, log_param, log_artifacts\n",
        "\n",
        "# Logging a parameter (key-value pair)\n",
        "log_param(\"param1\", 0)\n",
        "\n",
        "# Logging a metric; metrics can be updated throughout the run\n",
        "log_metric(\"foo\", 100)\n",
        "log_metric(\"foo\", 200)\n",
        "log_metric(\"foo\", 300)\n",
        "\n",
        "# Create a file called test.text in outputs directory\n",
        "if not os.path.exists(\"outputs\"):\n",
        "    os.makedirs(\"outputs\")\n",
        "with open(\"outputs/test.txt\", \"w\") as f:\n",
        "    f.write(\"hello world!\")\n",
        "\n",
        "# Logging an artifact (output file)\n",
        "log_artifacts(\"outputs\")"
      ],
      "execution_count": null,
      "outputs": []
    },
    {
      "cell_type": "code",
      "metadata": {
        "id": "RZBaq1dGZgFZ"
      },
      "source": [
        "!mlflow ui"
      ],
      "execution_count": null,
      "outputs": []
    },
    {
      "cell_type": "markdown",
      "source": [
        "# **AutoML**[9]"
      ],
      "metadata": {
        "id": "oLv0-wNq1s7Z"
      }
    },
    {
      "cell_type": "markdown",
      "source": [
        "An AutoML pipeline includes data preprocessing, feature engineering, feature selection, model training, hyperparameter tuning, and algorithm selection"
      ],
      "metadata": {
        "id": "M47_UJN44vVW"
      }
    },
    {
      "cell_type": "markdown",
      "source": [
        "What if there was an open-source Python package that could do all of the above and automatically determine the best model? A package that would explain to you exactly how each ML model is built & also provide you with a detailed report!\n",
        "The answer to the question is the Python package ‘mjlar supervised’. It was developed by MJLAR with the goal of helping software developers and data analysts that do not have classical ML training."
      ],
      "metadata": {
        "id": "IH1AGUwd43_f"
      }
    },
    {
      "cell_type": "markdown",
      "source": [
        "The package ‘mjlar supervised’allows you to select machine learning algorithms, preprocess dataset, train & tune the model, and finally explain and evaluate the model."
      ],
      "metadata": {
        "id": "tC1OBZWT5Azz"
      }
    },
    {
      "cell_type": "markdown",
      "source": [
        "The idea behind AutoML is to continuously build and test machine learning models using a neural network. As a new set of data is added, the neural network will automatically determine whether it needs to create a new specialized model by training and executing its own algorithm or simply improve an existing one. Essentially, AutoML creates sophisticated machine learning programs that can be accessed via APIs where the output is returned in the form of API calls.\n",
        "AutoML is clearly a very powerful tool for automating much of this process using machine learning algorithms. But you’re still going to need programmers to define heuristics for machines or identify how they should make decisions and also learn about various data science concepts.[10]"
      ],
      "metadata": {
        "id": "vBmvXFF2AV5d"
      }
    },
    {
      "cell_type": "markdown",
      "source": [
        "**Why AutoML?**"
      ],
      "metadata": {
        "id": "RBeDpR9IApqA"
      }
    },
    {
      "cell_type": "markdown",
      "source": [
        "AutoML would continuously build models based on new data sets provided by an enterprise and improve them when better ones are discovered by the AutoML algorithm. The idea of applying neural networks to this process is not new — it’s been around for a long time and several companies have experimented with it in their own ways. AutoML has tremendous implications for non-technical people who want to leverage insights from data, but don’t have the programming chops or the resources to implement ML solutions. All they need now is an API call where they can get data back in the form of “recommendations”, such as which products are ideal for each customer based on his purchasing history, demographics, and other aspects. The other possibility is that they will get an alert if a certain event happens and the solution to prevent it.[10]"
      ],
      "metadata": {
        "id": "Di9HmVU4AsyD"
      }
    },
    {
      "cell_type": "markdown",
      "source": [
        "**What Does AutoML Do?**[10]\n"
      ],
      "metadata": {
        "id": "t_TDvqdSA0CC"
      }
    },
    {
      "cell_type": "markdown",
      "source": [
        "AutoML can be used for solving three primary problems: Model Building, Hyperparameter Tuning & Selection, and Model Optimization.\n",
        "Model Building — This refers to setting up the model based on parameters in your data set (such as predicting the probability of customers churning) so that machine learning algorithms can compare them with labels (actual instances) and then feedback their “correctness” or explain how inaccurate they are. Once modeled, results can be analyzed using tools like TensorBoard. The process of refining these models is known as Hyperparameter tuning & selection — this refers to setting up the appropriate parameters in a model so that it learns data efficiently. When you’re using AutoML, this is done by providing an algorithm with lots of examples and letting it come up with its own metrics for measuring what makes sense. For example, if you want a model that recognizes images — you’ll need to provide it with hundreds of thousands of images so it can identify patterns between them. Model Optimization refers to improving your existing models after training them on large datasets provided by an enterprise; AutoML helps optimize your models based on computation speed and accuracy.\n",
        "AutoML has two powerful components — Abalone and Ranker (which have been open-sourced).\n",
        "Abalone: This component takes care of creating a simple model of your data set, by using AutoML’s cloud platform that uses Tensorflow. It also helps you to build more advanced models with the help of human experts in machine learning.\n",
        "Ranker: This component recommends which models (created via Abalone) are the best for a particular enterprise based on their usage requirements and results."
      ],
      "metadata": {
        "id": "_7rgwwFsA5OJ"
      }
    },
    {
      "cell_type": "markdown",
      "source": [
        "**Algorithm Selection**[9]"
      ],
      "metadata": {
        "id": "gxnNxyQx-Ai-"
      }
    },
    {
      "cell_type": "markdown",
      "source": [
        "This package allows the user to check their model with various algorithms: Baseline, Linear, Random Forest, Extra Trees, LightGBM, Xgboost, CatBoost, Neural Networks, Ensemble, and Nearest Neighbors. Once you run the code, the output will show you how much time each model took to train the dataset and the root mean squared error of the trained model. The package will select the algorithm with the lowest root mean squared error."
      ],
      "metadata": {
        "id": "m8JpFjNa-Cvt"
      }
    },
    {
      "cell_type": "markdown",
      "source": [
        "**Available Modes**[9]\n",
        "\n",
        "The available modes allow the user to explain and optimize the ML model according to the audience. It has four modes — Explain, Perform, Compete and Optuna."
      ],
      "metadata": {
        "id": "wvIqOBI8-IeV"
      }
    },
    {
      "cell_type": "code",
      "source": [
        "automl = AutoML(mode=”Explain”)"
      ],
      "metadata": {
        "id": "hhFo7stm-aJz"
      },
      "execution_count": null,
      "outputs": []
    },
    {
      "cell_type": "markdown",
      "source": [
        "The Explain mode allows the user to explain the model including making learning curves, feature plots, and SHAP plots."
      ],
      "metadata": {
        "id": "yovifnr4-VuZ"
      }
    },
    {
      "cell_type": "code",
      "source": [
        "automl = AutoML(mode=”Perform”)\n"
      ],
      "metadata": {
        "id": "bCVROikv-cXX"
      },
      "execution_count": null,
      "outputs": []
    },
    {
      "cell_type": "markdown",
      "source": [
        "The Perform mode allows the user to train a model that will be used in real-life use cases."
      ],
      "metadata": {
        "id": "2TNinMbH-luU"
      }
    },
    {
      "cell_type": "code",
      "source": [
        "automl = AutoML(mode=”Compete”)"
      ],
      "metadata": {
        "id": "LIwp9nIl-syk"
      },
      "execution_count": null,
      "outputs": []
    },
    {
      "cell_type": "markdown",
      "source": [
        "The Compete mode will allow the user to adapt a validation strategy depending on the size of the dataset and can be used for entering into machine learning competitions."
      ],
      "metadata": {
        "id": "093rG7oN-wmn"
      }
    },
    {
      "cell_type": "code",
      "source": [
        "automl = AutoML(mode=”Optuna”)\n"
      ],
      "metadata": {
        "id": "_VtvlDJr--C6"
      },
      "execution_count": null,
      "outputs": []
    },
    {
      "cell_type": "markdown",
      "source": [
        "The Optuna mode should be used when the priority is the performance of the model instead of time."
      ],
      "metadata": {
        "id": "TAw42Tzz_EgM"
      }
    },
    {
      "cell_type": "code",
      "source": [
        "!pip install mljar-supervised\n"
      ],
      "metadata": {
        "id": "77kJpRoK2mp5"
      },
      "execution_count": null,
      "outputs": []
    },
    {
      "cell_type": "code",
      "source": [
        "data=Train_data\n"
      ],
      "metadata": {
        "id": "gOXDgk4F59Ue"
      },
      "execution_count": null,
      "outputs": []
    },
    {
      "cell_type": "code",
      "source": [
        "data['gender'] = data['gender'].fillna(data['gender'].mode()[0])\n",
        "data['ssc_b'] = data['ssc_b'].fillna(data['ssc_b'].mode()[0])\n",
        "data['hsc_b'] = data['hsc_b'].fillna(data['hsc_b'].mode()[0])\n",
        "data['hsc_s'] = data['hsc_s'].fillna(data['hsc_s'].mode()[0])\n",
        "data['degree_t'] = data['degree_t'].fillna(data['degree_t'].mode()[0])\n",
        "data['workex'] = data['workex'].fillna(data['workex'].mode()[0])\n",
        "data['specialisation'] = data['specialisation'].fillna(data['specialisation'].mode()[0])\n",
        "data['status'] = data['status'].fillna(data['status'].mode()[0])"
      ],
      "metadata": {
        "id": "tg_SRR6z4aH-"
      },
      "execution_count": null,
      "outputs": []
    },
    {
      "cell_type": "code",
      "source": [
        "# Convert categorical features to continuous features with Label Encoding\n",
        "from sklearn.preprocessing import LabelEncoder\n",
        "lencoders = {}\n",
        "for col in data.select_dtypes(include=['object']).columns:\n",
        "    lencoders[col] = LabelEncoder()\n",
        "    data[col] = lencoders[col].fit_transform(data[col])"
      ],
      "metadata": {
        "id": "s4AiZ8KF6HC0"
      },
      "execution_count": null,
      "outputs": []
    },
    {
      "cell_type": "code",
      "source": [
        "X=data.drop('specialisation',axis=1)\n"
      ],
      "metadata": {
        "id": "nxHrMYRg6Nmy"
      },
      "execution_count": null,
      "outputs": []
    },
    {
      "cell_type": "code",
      "source": [
        "y=data[['specialisation']]\n"
      ],
      "metadata": {
        "id": "sN-xP3Mq6TRT"
      },
      "execution_count": null,
      "outputs": []
    },
    {
      "cell_type": "code",
      "source": [
        "from sklearn.model_selection import train_test_split\n",
        "X_train, X_test, y_train, y_test = train_test_split(X, y, test_size=0.30, random_state=100)"
      ],
      "metadata": {
        "id": "SkGM-w5V6dPK"
      },
      "execution_count": null,
      "outputs": []
    },
    {
      "cell_type": "code",
      "source": [
        "!pip uninstall scikit-learn -y\n",
        "!pip install scikit-learn==0.24"
      ],
      "metadata": {
        "id": "w94F0cMx77VT"
      },
      "execution_count": null,
      "outputs": []
    },
    {
      "cell_type": "code",
      "source": [
        "import pandas as pd\n",
        "from sklearn.model_selection import train_test_split\n",
        "from supervised.automl import AutoML\n",
        "from sklearn.metrics import accuracy_score\n"
      ],
      "metadata": {
        "id": "lmXH4S1k288e"
      },
      "execution_count": null,
      "outputs": []
    },
    {
      "cell_type": "code",
      "source": [
        "automl = AutoML()\n",
        "automl.fit(X_train, y_train)"
      ],
      "metadata": {
        "id": "Xs0g9q4o8Mv5"
      },
      "execution_count": null,
      "outputs": []
    },
    {
      "cell_type": "code",
      "source": [
        "predictions = automl.predict_all(X_test)\n",
        "print(predictions.head())\n",
        "print(\"Test accuracy:\", accuracy_score(y_test, predictions[\"label\"].astype(int)))"
      ],
      "metadata": {
        "id": "NhhRUuYY80Da"
      },
      "execution_count": null,
      "outputs": []
    },
    {
      "cell_type": "code",
      "source": [
        "automl = AutoML(mode=\"Perform\")\n",
        "automl.fit(X_train, y_train)"
      ],
      "metadata": {
        "id": "fB-AVcvW9KcW"
      },
      "execution_count": null,
      "outputs": []
    },
    {
      "cell_type": "code",
      "source": [
        "# compute the accuracy on test data\n",
        "predictions = automl.predict_all(X_test)\n",
        "print(predictions.head())\n",
        "print(\"Test accuracy:\", accuracy_score(y_test, predictions[\"label\"].astype(int)))"
      ],
      "metadata": {
        "id": "l9Ypog-w9kap"
      },
      "execution_count": null,
      "outputs": []
    },
    {
      "cell_type": "code",
      "source": [
        "!pip3 install autokeras\n"
      ],
      "metadata": {
        "id": "KKokCjLTDINa"
      },
      "execution_count": null,
      "outputs": []
    },
    {
      "cell_type": "code",
      "source": [
        "from autokeras import StructuredDataClassifier"
      ],
      "metadata": {
        "id": "CbsbsjnEFRvc"
      },
      "execution_count": null,
      "outputs": []
    },
    {
      "cell_type": "code",
      "source": [
        "search = StructuredDataClassifier(max_trials = 20)\n"
      ],
      "metadata": {
        "id": "Tgx_0ex2FzPO"
      },
      "execution_count": null,
      "outputs": []
    },
    {
      "cell_type": "code",
      "source": [
        "search.fit(x=X_train, y=y_train)\n"
      ],
      "metadata": {
        "id": "iJg2GSchGAeM"
      },
      "execution_count": null,
      "outputs": []
    },
    {
      "cell_type": "code",
      "source": [
        "loss, acc = search.evaluate(X_train, y_train, verbose=0)\n",
        "print('Accuracy is {}'.format(acc))"
      ],
      "metadata": {
        "id": "cEFLDUE6GNxD"
      },
      "execution_count": null,
      "outputs": []
    },
    {
      "cell_type": "code",
      "source": [
        "loss, acc = search.evaluate(X_test, y_test, verbose=0)\n",
        "print('Accuracy is {}'.format(acc))"
      ],
      "metadata": {
        "id": "otLKcCn-GSsD"
      },
      "execution_count": null,
      "outputs": []
    },
    {
      "cell_type": "markdown",
      "source": [
        "# **MLBox**"
      ],
      "metadata": {
        "id": "EKVHEHumRF45"
      }
    },
    {
      "cell_type": "markdown",
      "source": [
        "Creating a Machine Learning model is not a difficult task because Python provides ample libraries which can help in creating models related to problems like Regression, Classification, etc. Python packages like Sklearn Statsmodel can be used for creating these models but the difficult part is optimizing and generalizing these models so that they work on unseen data also **[16]**.In other words, creating a Machine Learning model alone does not solve the problem, we should also be able to tune the hyperparameter of these models to make it generalized and achieve higher performance and accuracy. There are a large number of Machine Learning models from which we can select a model which works best for our dataset, but it is a time-consuming process because we need to write the code and train the model for every algorithm. Similarly, if we are able to select a model then we need to select the best hyperparameter of the model which again is a time-consuming process **[16]**."
      ],
      "metadata": {
        "id": "c0MfiFTaRLJx"
      }
    },
    {
      "cell_type": "markdown",
      "source": [
        "So, in order to bring down the efforts and time taken in these processes, we can automate it using **MLBox**. It is an open-source python library that is used for automating the Machine Learning process which includes feature selection, Hyperparameter Optimization, Creating the model, and generating predictions using that model **[16]**"
      ],
      "metadata": {
        "id": "ggpqtGv6Rrn3"
      }
    },
    {
      "cell_type": "markdown",
      "source": [
        "**Installing required libraries**\n"
      ],
      "metadata": {
        "id": "iRYpzbGBRzgI"
      }
    },
    {
      "cell_type": "code",
      "source": [
        "!pip install mlbox"
      ],
      "metadata": {
        "id": "fVNvxwbuR3BQ"
      },
      "execution_count": null,
      "outputs": []
    },
    {
      "cell_type": "markdown",
      "source": [
        "**Importing required libraries**"
      ],
      "metadata": {
        "id": "9LBjYBw4SEkp"
      }
    },
    {
      "cell_type": "code",
      "source": [
        "from mlbox.preprocessing import *\n",
        "from mlbox.optimisation import *\n",
        "from mlbox.prediction import*"
      ],
      "metadata": {
        "id": "JmirXZ3ESOrI"
      },
      "execution_count": null,
      "outputs": []
    },
    {
      "cell_type": "markdown",
      "source": [
        "**Loading dataset**"
      ],
      "metadata": {
        "id": "YNk_ozY4TBMF"
      }
    },
    {
      "cell_type": "code",
      "source": [
        "import pandas as pd\n",
        "Train_data = pd.read_csv(\"/content/drive/MyDrive/Datasets/Student field Recommendation /Placement_Data_Full_Class.csv\")"
      ],
      "metadata": {
        "id": "-_CUwS-UUPPu"
      },
      "execution_count": null,
      "outputs": []
    },
    {
      "cell_type": "code",
      "source": [
        "paths = [\"/content/drive/MyDrive/Datasets/Student field Recommendation /Train.csv\",\"/content/drive/MyDrive/Datasets/Student field Recommendation /Test.csv\"]\n",
        "target_name = \"specialisation\""
      ],
      "metadata": {
        "id": "90ZZFwwyTIMz"
      },
      "execution_count": null,
      "outputs": []
    },
    {
      "cell_type": "code",
      "source": [
        "rd = Reader(sep = \",\")\n",
        "df = rd.train_test_split(paths, target_name)"
      ],
      "metadata": {
        "id": "SUJdmgUoTML1"
      },
      "execution_count": null,
      "outputs": []
    },
    {
      "cell_type": "markdown",
      "source": [
        "**Creating the Models**"
      ],
      "metadata": {
        "id": "SFmiEq4rdGNJ"
      }
    },
    {
      "cell_type": "code",
      "source": [
        "#Defining Optimiser\n",
        "opt = Optimiser(scoring = \"accuracy\", n_folds = 5)\n",
        "#Defining the model\n",
        "space = {\n",
        "'est__strategy':{\"search\":\"choice\",\n",
        "\"space\":[\"LightGBM\"]},\n",
        "'est__n_estimators':{\"search\":\"choice\",\n",
        "\"space\":[150]},\n",
        "'est__colsample_bytree':{\"search\":\"uniform\",\n",
        "\"space\":[0.8,0.95]},\n",
        "'est__subsample':{\"search\":\"uniform\",\n",
        "\"space\":[0.8,0.95]},\n",
        "'est__max_depth':{\"search\":\"choice\",\n",
        "\"space\":[5,6,7,8,9]},\n",
        "'est__learning_rate':{\"search\":\"choice\",\n",
        "\"space\":[0.07]}\n",
        "}\n",
        "params = opt.optimise(space, df,15)"
      ],
      "metadata": {
        "id": "yrCeMPNocERL"
      },
      "execution_count": null,
      "outputs": []
    },
    {
      "cell_type": "markdown",
      "source": [
        "**Feature Importance**\n"
      ],
      "metadata": {
        "id": "82u9Ugi3dNt_"
      }
    },
    {
      "cell_type": "code",
      "source": [
        "prd = Predictor()\n",
        "prd.fit_predict(params, df)"
      ],
      "metadata": {
        "id": "nS4Fh-YGcMfx"
      },
      "execution_count": null,
      "outputs": []
    },
    {
      "cell_type": "markdown",
      "metadata": {
        "id": "CF7dADqbc8c4"
      },
      "source": [
        "# **References**\n",
        "\n",
        "[1-Build a machine learning model with PyCaret and corresponding user interface with Gradio](https://medium.com/nerd-for-tech/build-a-machine-learning-model-with-pycaret-and-corresponding-user-interface-with-gradio-57ff09b7d262)\n",
        "\n",
        "[2-PyCaret in Machine Learning](https://thecleverprogrammer.com/2021/03/07/pycaret-in-machine-learning/)\n",
        "\n",
        "[3-PyCaret 101: An introduction for beginners](https://www.kdnuggets.com/2021/06/pycaret-101-introduction-beginners.html?fbclid=IwAR29t4C5QplspexoIyAd4eYfUjlZSOFL5wVmxc9sU5qXr_mMqIPfaJVmP6Y)\n",
        "\n",
        "[4-Easy MLOps with PyCaret + MLflow](https://towardsdatascience.com/easy-mlops-with-pycaret-mlflow-7fbcbf1e38c6)\n",
        "\n",
        "[5-Binary Classification Tutorial Level Beginner](https://colab.research.google.com/drive/1GqQ3XAIzg4krBbnOpKyeRqT0qBQhdwYL#scrollTo=GM-nQ7LqEQma)\n",
        "\n",
        "[6-Create Clusters](https://pycaret.org/create-clusters/)\n",
        "\n",
        "[7-Plot Model](https://pycaret.org/plot-model/)\n",
        "\n",
        "[8-MLflow For Machine Learning Pipelines [Ultimate Guide]](https://medium.com/@theclickreader/mlflow-for-machine-learning-pipelines-ultimate-guide-821e55370034)\n",
        "\n",
        "[9-Gentle Introduction to New AutoML Package by MJLAR!](https://medium.com/mlearning-ai/gentle-introduction-to-new-automl-package-by-mjlar-bc51a99ba53c)\n",
        "\n",
        "[10-AutoML: The future of Data Science and Machine Learning](https://protonautoml.medium.com/automl-the-future-of-data-science-and-machine-learning-45abb8f5ebcf)\n",
        "\n",
        "[11- Predicting Machine Maintenance using Machine Learning](https://medium.com/analytics-vidhya/predicting-machine-maintenance-using-machine-learning-ee694c7fa0f0)\n",
        "\n",
        "\n",
        "[12- 7 Top AutoML Tools](https://victorzhou.com/posts/tools-for-auto-ml/)\n",
        "\n",
        "[13-Machine Learning in Power BI using PyCaret](https://www.kdnuggets.com/2020/05/machine-learning-power-bi-pycaret.html)\n",
        "\n",
        "[14- Getting familiar with PyCaret for anomaly detection](https://www.analyticsvidhya.com/blog/2021/05/getting-familiar-with-pycaret-for-anomaly-detection/)\n",
        "\n",
        "[15- Introduction to Clustering in Python with PyCaret](https://towardsdatascience.com/introduction-to-clustering-in-python-with-pycaret-5d869b9714a3)\n",
        "\n",
        "[16-Automating Machine Learning Modelling](https://towardsdatascience.com/automating-machine-learning-modelling-62aac2081e3f)\n",
        "\n",
        "\n",
        "[Introduction to Anomaly Detection in Python with PyCaret](https://towardsdatascience.com/introduction-to-anomaly-detection-in-python-with-pycaret-2fecd7144f87)\n",
        "\n",
        "[How to Use pyGAM to Fit More Flexible Functions to Your Data](https://tech-at-kraftheinz.medium.com/how-to-use-pygam-to-fit-more-flexible-functions-to-your-data-5de16e7d913a)\n",
        "\n",
        "[Automating Machine Learning Modelling](https://towardsdatascience.com/automating-machine-learning-modelling-62aac2081e3f)\n",
        "\n",
        "[What Are Baseline Models and Benchmarking For Machine Learning, Why We Need Them? Part 1 Classification](https://pub.towardsai.net/what-are-baseline-models-and-benchmarking-for-machine-learning-why-we-need-them-affe0714cd07)\n",
        "\n",
        "\n",
        "[Time Series](https://pycaret.readthedocs.io/en/time_series/api/time_series.html)\n"
      ]
    }
  ]
}